{
  "nbformat": 4,
  "nbformat_minor": 0,
  "metadata": {
    "colab": {
      "name": "Study Week3",
      "provenance": [],
      "collapsed_sections": [],
      "mount_file_id": "1mVSBGR279HYV0rVQe0y0aBPnkykftuyv",
      "authorship_tag": "ABX9TyPk+7VsZsgyqV6g4VNsLOtX",
      "include_colab_link": true
    },
    "kernelspec": {
      "name": "python3",
      "display_name": "Python 3"
    },
    "language_info": {
      "name": "python"
    }
  },
  "cells": [
    {
      "cell_type": "markdown",
      "metadata": {
        "id": "view-in-github",
        "colab_type": "text"
      },
      "source": [
        "<a href=\"https://colab.research.google.com/github/hida0/ESAA/blob/2022-1-Study/Study_Week3.ipynb\" target=\"_parent\"><img src=\"https://colab.research.google.com/assets/colab-badge.svg\" alt=\"Open In Colab\"/></a>"
      ]
    },
    {
      "cell_type": "markdown",
      "source": [
        "## [주차수요 예측 AI 경진대회]\n",
        "아파트 단지 내 필요한 주차대수는 ①법정주차대수 ②장래주차수요 중 큰 값에 따라 결정하게되어 있어, 정확한 ②장래주차수요의 산정을 필요로 합니다.\n",
        "\n",
        "현재 ②장래주차수요는 ‘주차원단위’와 ‘건축연면적’을 기초로하여 산출되고 있으며, ‘주차원단위’는 신규 건축예정 부지 인근의 유사 단지를 피크 시간대 방문하여 주차된 차량대수를 세는 방법으로 조사하고 있습니다.\n",
        "\n",
        "- 평가산식 : MAE(Mean Absolute Error)\n",
        "- Public 평가 : 전체 Test 데이터 중 무작위 33% (50단지)\n",
        "- Private 평가 : 전체 Test 데이터 중 나머지 67% (100단지)\n"
      ],
      "metadata": {
        "id": "JSsVyJV6Kawm"
      }
    },
    {
      "cell_type": "markdown",
      "source": [
        "### 1. 라이브러리 및 데이터 로드"
      ],
      "metadata": {
        "id": "EztLu_QyLnH1"
      }
    },
    {
      "cell_type": "code",
      "source": [
        "import os \n",
        "import glob\n",
        "import pandas as pd\n",
        "import numpy as np\n",
        "\n",
        "import plotly \n",
        "import plotly.express as px\n",
        "import seaborn as sns\n",
        "import matplotlib\n",
        "import matplotlib.pyplot as plt\n",
        "from matplotlib import font_manager, rc\n",
        "%matplotlib inline\n",
        "import warnings\n",
        "warnings.filterwarnings(action='ignore')"
      ],
      "metadata": {
        "id": "fpEJh16pKhKa"
      },
      "execution_count": null,
      "outputs": []
    },
    {
      "cell_type": "code",
      "source": [
        "#한글 폰트 설치\n",
        "!sudo apt-get install -y fonts-nanum\n",
        "!sudo fc-cache -fv\n",
        "!rm ~/.cache/matplotlib -rf"
      ],
      "metadata": {
        "id": "ibstjKp5aait"
      },
      "execution_count": null,
      "outputs": []
    },
    {
      "cell_type": "code",
      "source": [
        "import matplotlib.pyplot as plt\n",
        "\n",
        "plt.rc('font', family='NanumBarunGothic') "
      ],
      "metadata": {
        "id": "JKs8sdcibjaG"
      },
      "execution_count": null,
      "outputs": []
    },
    {
      "cell_type": "code",
      "source": [
        "# plotly 그래프 업로드\n",
        "pd.options.plotting.backend = 'plotly'\n",
        "import plotly.io as pio\n",
        "pio.renderers.default = 'notebook_connected'\n",
        "\n",
        "# 옵션 설정\n",
        "pd.set_option('display.max_columns', None)\n",
        "matplotlib.rcParams['axes.unicode_minus'] = False"
      ],
      "metadata": {
        "id": "zwn1B1a1Lkzg"
      },
      "execution_count": null,
      "outputs": []
    },
    {
      "cell_type": "code",
      "source": [
        "train = pd.read_csv(\"/content/drive/MyDrive/ESAA/2022-1 Study/Week3/train.csv\")\n",
        "print(train.shape)\n",
        "train.head(3)"
      ],
      "metadata": {
        "colab": {
          "base_uri": "https://localhost:8080/",
          "height": 274
        },
        "id": "AQmXJppoLxZc",
        "outputId": "203b302e-c844-4e33-90ad-aec7f22a1615"
      },
      "execution_count": null,
      "outputs": [
        {
          "output_type": "stream",
          "name": "stdout",
          "text": [
            "(2952, 15)\n"
          ]
        },
        {
          "output_type": "execute_result",
          "data": {
            "text/plain": [
              "    단지코드  총세대수 임대건물구분    지역  공급유형   전용면적  전용면적별세대수   공가수 자격유형     임대보증금  \\\n",
              "0  C2483   900    아파트  경상북도  국민임대  39.72       134  38.0    A  15667000   \n",
              "1  C2483   900    아파트  경상북도  국민임대  39.72        15  38.0    A  15667000   \n",
              "2  C2483   900    아파트  경상북도  국민임대  51.93       385  38.0    A  27304000   \n",
              "\n",
              "      임대료  도보 10분거리 내 지하철역 수(환승노선 수 반영)  도보 10분거리 내 버스정류장 수  단지내주차면수   등록차량수  \n",
              "0  103680                           0.0                 3.0   1425.0  1015.0  \n",
              "1  103680                           0.0                 3.0   1425.0  1015.0  \n",
              "2  184330                           0.0                 3.0   1425.0  1015.0  "
            ],
            "text/html": [
              "\n",
              "  <div id=\"df-fd29ce73-351e-4c35-afa1-3d3cbc6c7c23\">\n",
              "    <div class=\"colab-df-container\">\n",
              "      <div>\n",
              "<style scoped>\n",
              "    .dataframe tbody tr th:only-of-type {\n",
              "        vertical-align: middle;\n",
              "    }\n",
              "\n",
              "    .dataframe tbody tr th {\n",
              "        vertical-align: top;\n",
              "    }\n",
              "\n",
              "    .dataframe thead th {\n",
              "        text-align: right;\n",
              "    }\n",
              "</style>\n",
              "<table border=\"1\" class=\"dataframe\">\n",
              "  <thead>\n",
              "    <tr style=\"text-align: right;\">\n",
              "      <th></th>\n",
              "      <th>단지코드</th>\n",
              "      <th>총세대수</th>\n",
              "      <th>임대건물구분</th>\n",
              "      <th>지역</th>\n",
              "      <th>공급유형</th>\n",
              "      <th>전용면적</th>\n",
              "      <th>전용면적별세대수</th>\n",
              "      <th>공가수</th>\n",
              "      <th>자격유형</th>\n",
              "      <th>임대보증금</th>\n",
              "      <th>임대료</th>\n",
              "      <th>도보 10분거리 내 지하철역 수(환승노선 수 반영)</th>\n",
              "      <th>도보 10분거리 내 버스정류장 수</th>\n",
              "      <th>단지내주차면수</th>\n",
              "      <th>등록차량수</th>\n",
              "    </tr>\n",
              "  </thead>\n",
              "  <tbody>\n",
              "    <tr>\n",
              "      <th>0</th>\n",
              "      <td>C2483</td>\n",
              "      <td>900</td>\n",
              "      <td>아파트</td>\n",
              "      <td>경상북도</td>\n",
              "      <td>국민임대</td>\n",
              "      <td>39.72</td>\n",
              "      <td>134</td>\n",
              "      <td>38.0</td>\n",
              "      <td>A</td>\n",
              "      <td>15667000</td>\n",
              "      <td>103680</td>\n",
              "      <td>0.0</td>\n",
              "      <td>3.0</td>\n",
              "      <td>1425.0</td>\n",
              "      <td>1015.0</td>\n",
              "    </tr>\n",
              "    <tr>\n",
              "      <th>1</th>\n",
              "      <td>C2483</td>\n",
              "      <td>900</td>\n",
              "      <td>아파트</td>\n",
              "      <td>경상북도</td>\n",
              "      <td>국민임대</td>\n",
              "      <td>39.72</td>\n",
              "      <td>15</td>\n",
              "      <td>38.0</td>\n",
              "      <td>A</td>\n",
              "      <td>15667000</td>\n",
              "      <td>103680</td>\n",
              "      <td>0.0</td>\n",
              "      <td>3.0</td>\n",
              "      <td>1425.0</td>\n",
              "      <td>1015.0</td>\n",
              "    </tr>\n",
              "    <tr>\n",
              "      <th>2</th>\n",
              "      <td>C2483</td>\n",
              "      <td>900</td>\n",
              "      <td>아파트</td>\n",
              "      <td>경상북도</td>\n",
              "      <td>국민임대</td>\n",
              "      <td>51.93</td>\n",
              "      <td>385</td>\n",
              "      <td>38.0</td>\n",
              "      <td>A</td>\n",
              "      <td>27304000</td>\n",
              "      <td>184330</td>\n",
              "      <td>0.0</td>\n",
              "      <td>3.0</td>\n",
              "      <td>1425.0</td>\n",
              "      <td>1015.0</td>\n",
              "    </tr>\n",
              "  </tbody>\n",
              "</table>\n",
              "</div>\n",
              "      <button class=\"colab-df-convert\" onclick=\"convertToInteractive('df-fd29ce73-351e-4c35-afa1-3d3cbc6c7c23')\"\n",
              "              title=\"Convert this dataframe to an interactive table.\"\n",
              "              style=\"display:none;\">\n",
              "        \n",
              "  <svg xmlns=\"http://www.w3.org/2000/svg\" height=\"24px\"viewBox=\"0 0 24 24\"\n",
              "       width=\"24px\">\n",
              "    <path d=\"M0 0h24v24H0V0z\" fill=\"none\"/>\n",
              "    <path d=\"M18.56 5.44l.94 2.06.94-2.06 2.06-.94-2.06-.94-.94-2.06-.94 2.06-2.06.94zm-11 1L8.5 8.5l.94-2.06 2.06-.94-2.06-.94L8.5 2.5l-.94 2.06-2.06.94zm10 10l.94 2.06.94-2.06 2.06-.94-2.06-.94-.94-2.06-.94 2.06-2.06.94z\"/><path d=\"M17.41 7.96l-1.37-1.37c-.4-.4-.92-.59-1.43-.59-.52 0-1.04.2-1.43.59L10.3 9.45l-7.72 7.72c-.78.78-.78 2.05 0 2.83L4 21.41c.39.39.9.59 1.41.59.51 0 1.02-.2 1.41-.59l7.78-7.78 2.81-2.81c.8-.78.8-2.07 0-2.86zM5.41 20L4 18.59l7.72-7.72 1.47 1.35L5.41 20z\"/>\n",
              "  </svg>\n",
              "      </button>\n",
              "      \n",
              "  <style>\n",
              "    .colab-df-container {\n",
              "      display:flex;\n",
              "      flex-wrap:wrap;\n",
              "      gap: 12px;\n",
              "    }\n",
              "\n",
              "    .colab-df-convert {\n",
              "      background-color: #E8F0FE;\n",
              "      border: none;\n",
              "      border-radius: 50%;\n",
              "      cursor: pointer;\n",
              "      display: none;\n",
              "      fill: #1967D2;\n",
              "      height: 32px;\n",
              "      padding: 0 0 0 0;\n",
              "      width: 32px;\n",
              "    }\n",
              "\n",
              "    .colab-df-convert:hover {\n",
              "      background-color: #E2EBFA;\n",
              "      box-shadow: 0px 1px 2px rgba(60, 64, 67, 0.3), 0px 1px 3px 1px rgba(60, 64, 67, 0.15);\n",
              "      fill: #174EA6;\n",
              "    }\n",
              "\n",
              "    [theme=dark] .colab-df-convert {\n",
              "      background-color: #3B4455;\n",
              "      fill: #D2E3FC;\n",
              "    }\n",
              "\n",
              "    [theme=dark] .colab-df-convert:hover {\n",
              "      background-color: #434B5C;\n",
              "      box-shadow: 0px 1px 3px 1px rgba(0, 0, 0, 0.15);\n",
              "      filter: drop-shadow(0px 1px 2px rgba(0, 0, 0, 0.3));\n",
              "      fill: #FFFFFF;\n",
              "    }\n",
              "  </style>\n",
              "\n",
              "      <script>\n",
              "        const buttonEl =\n",
              "          document.querySelector('#df-fd29ce73-351e-4c35-afa1-3d3cbc6c7c23 button.colab-df-convert');\n",
              "        buttonEl.style.display =\n",
              "          google.colab.kernel.accessAllowed ? 'block' : 'none';\n",
              "\n",
              "        async function convertToInteractive(key) {\n",
              "          const element = document.querySelector('#df-fd29ce73-351e-4c35-afa1-3d3cbc6c7c23');\n",
              "          const dataTable =\n",
              "            await google.colab.kernel.invokeFunction('convertToInteractive',\n",
              "                                                     [key], {});\n",
              "          if (!dataTable) return;\n",
              "\n",
              "          const docLinkHtml = 'Like what you see? Visit the ' +\n",
              "            '<a target=\"_blank\" href=https://colab.research.google.com/notebooks/data_table.ipynb>data table notebook</a>'\n",
              "            + ' to learn more about interactive tables.';\n",
              "          element.innerHTML = '';\n",
              "          dataTable['output_type'] = 'display_data';\n",
              "          await google.colab.output.renderOutput(dataTable, element);\n",
              "          const docLink = document.createElement('div');\n",
              "          docLink.innerHTML = docLinkHtml;\n",
              "          element.appendChild(docLink);\n",
              "        }\n",
              "      </script>\n",
              "    </div>\n",
              "  </div>\n",
              "  "
            ]
          },
          "metadata": {},
          "execution_count": 5
        }
      ]
    },
    {
      "cell_type": "code",
      "source": [
        "test = pd.read_csv(\"/content/drive/MyDrive/ESAA/2022-1 Study/Week3/test.csv\")\n",
        "print(test.shape)\n",
        "test.head(3)"
      ],
      "metadata": {
        "colab": {
          "base_uri": "https://localhost:8080/",
          "height": 274
        },
        "id": "5LO_GoppMGD2",
        "outputId": "345c3449-0b61-46e7-979e-75291d91355b"
      },
      "execution_count": null,
      "outputs": [
        {
          "output_type": "stream",
          "name": "stdout",
          "text": [
            "(1022, 14)\n"
          ]
        },
        {
          "output_type": "execute_result",
          "data": {
            "text/plain": [
              "    단지코드  총세대수 임대건물구분   지역  공급유형   전용면적  전용면적별세대수   공가수 자격유형     임대보증금  \\\n",
              "0  C1072   754    아파트  경기도  국민임대  39.79       116  14.0    H  22830000   \n",
              "1  C1072   754    아파트  경기도  국민임대  46.81        30  14.0    A  36048000   \n",
              "2  C1072   754    아파트  경기도  국민임대  46.90       112  14.0    H  36048000   \n",
              "\n",
              "      임대료  도보 10분거리 내 지하철역 수(환승노선 수 반영)  도보 10분거리 내 버스정류장 수  단지내주차면수  \n",
              "0  189840                           0.0                 2.0    683.0  \n",
              "1  249930                           0.0                 2.0    683.0  \n",
              "2  249930                           0.0                 2.0    683.0  "
            ],
            "text/html": [
              "\n",
              "  <div id=\"df-88077deb-fcb8-44ca-b8a3-88763e470a0a\">\n",
              "    <div class=\"colab-df-container\">\n",
              "      <div>\n",
              "<style scoped>\n",
              "    .dataframe tbody tr th:only-of-type {\n",
              "        vertical-align: middle;\n",
              "    }\n",
              "\n",
              "    .dataframe tbody tr th {\n",
              "        vertical-align: top;\n",
              "    }\n",
              "\n",
              "    .dataframe thead th {\n",
              "        text-align: right;\n",
              "    }\n",
              "</style>\n",
              "<table border=\"1\" class=\"dataframe\">\n",
              "  <thead>\n",
              "    <tr style=\"text-align: right;\">\n",
              "      <th></th>\n",
              "      <th>단지코드</th>\n",
              "      <th>총세대수</th>\n",
              "      <th>임대건물구분</th>\n",
              "      <th>지역</th>\n",
              "      <th>공급유형</th>\n",
              "      <th>전용면적</th>\n",
              "      <th>전용면적별세대수</th>\n",
              "      <th>공가수</th>\n",
              "      <th>자격유형</th>\n",
              "      <th>임대보증금</th>\n",
              "      <th>임대료</th>\n",
              "      <th>도보 10분거리 내 지하철역 수(환승노선 수 반영)</th>\n",
              "      <th>도보 10분거리 내 버스정류장 수</th>\n",
              "      <th>단지내주차면수</th>\n",
              "    </tr>\n",
              "  </thead>\n",
              "  <tbody>\n",
              "    <tr>\n",
              "      <th>0</th>\n",
              "      <td>C1072</td>\n",
              "      <td>754</td>\n",
              "      <td>아파트</td>\n",
              "      <td>경기도</td>\n",
              "      <td>국민임대</td>\n",
              "      <td>39.79</td>\n",
              "      <td>116</td>\n",
              "      <td>14.0</td>\n",
              "      <td>H</td>\n",
              "      <td>22830000</td>\n",
              "      <td>189840</td>\n",
              "      <td>0.0</td>\n",
              "      <td>2.0</td>\n",
              "      <td>683.0</td>\n",
              "    </tr>\n",
              "    <tr>\n",
              "      <th>1</th>\n",
              "      <td>C1072</td>\n",
              "      <td>754</td>\n",
              "      <td>아파트</td>\n",
              "      <td>경기도</td>\n",
              "      <td>국민임대</td>\n",
              "      <td>46.81</td>\n",
              "      <td>30</td>\n",
              "      <td>14.0</td>\n",
              "      <td>A</td>\n",
              "      <td>36048000</td>\n",
              "      <td>249930</td>\n",
              "      <td>0.0</td>\n",
              "      <td>2.0</td>\n",
              "      <td>683.0</td>\n",
              "    </tr>\n",
              "    <tr>\n",
              "      <th>2</th>\n",
              "      <td>C1072</td>\n",
              "      <td>754</td>\n",
              "      <td>아파트</td>\n",
              "      <td>경기도</td>\n",
              "      <td>국민임대</td>\n",
              "      <td>46.90</td>\n",
              "      <td>112</td>\n",
              "      <td>14.0</td>\n",
              "      <td>H</td>\n",
              "      <td>36048000</td>\n",
              "      <td>249930</td>\n",
              "      <td>0.0</td>\n",
              "      <td>2.0</td>\n",
              "      <td>683.0</td>\n",
              "    </tr>\n",
              "  </tbody>\n",
              "</table>\n",
              "</div>\n",
              "      <button class=\"colab-df-convert\" onclick=\"convertToInteractive('df-88077deb-fcb8-44ca-b8a3-88763e470a0a')\"\n",
              "              title=\"Convert this dataframe to an interactive table.\"\n",
              "              style=\"display:none;\">\n",
              "        \n",
              "  <svg xmlns=\"http://www.w3.org/2000/svg\" height=\"24px\"viewBox=\"0 0 24 24\"\n",
              "       width=\"24px\">\n",
              "    <path d=\"M0 0h24v24H0V0z\" fill=\"none\"/>\n",
              "    <path d=\"M18.56 5.44l.94 2.06.94-2.06 2.06-.94-2.06-.94-.94-2.06-.94 2.06-2.06.94zm-11 1L8.5 8.5l.94-2.06 2.06-.94-2.06-.94L8.5 2.5l-.94 2.06-2.06.94zm10 10l.94 2.06.94-2.06 2.06-.94-2.06-.94-.94-2.06-.94 2.06-2.06.94z\"/><path d=\"M17.41 7.96l-1.37-1.37c-.4-.4-.92-.59-1.43-.59-.52 0-1.04.2-1.43.59L10.3 9.45l-7.72 7.72c-.78.78-.78 2.05 0 2.83L4 21.41c.39.39.9.59 1.41.59.51 0 1.02-.2 1.41-.59l7.78-7.78 2.81-2.81c.8-.78.8-2.07 0-2.86zM5.41 20L4 18.59l7.72-7.72 1.47 1.35L5.41 20z\"/>\n",
              "  </svg>\n",
              "      </button>\n",
              "      \n",
              "  <style>\n",
              "    .colab-df-container {\n",
              "      display:flex;\n",
              "      flex-wrap:wrap;\n",
              "      gap: 12px;\n",
              "    }\n",
              "\n",
              "    .colab-df-convert {\n",
              "      background-color: #E8F0FE;\n",
              "      border: none;\n",
              "      border-radius: 50%;\n",
              "      cursor: pointer;\n",
              "      display: none;\n",
              "      fill: #1967D2;\n",
              "      height: 32px;\n",
              "      padding: 0 0 0 0;\n",
              "      width: 32px;\n",
              "    }\n",
              "\n",
              "    .colab-df-convert:hover {\n",
              "      background-color: #E2EBFA;\n",
              "      box-shadow: 0px 1px 2px rgba(60, 64, 67, 0.3), 0px 1px 3px 1px rgba(60, 64, 67, 0.15);\n",
              "      fill: #174EA6;\n",
              "    }\n",
              "\n",
              "    [theme=dark] .colab-df-convert {\n",
              "      background-color: #3B4455;\n",
              "      fill: #D2E3FC;\n",
              "    }\n",
              "\n",
              "    [theme=dark] .colab-df-convert:hover {\n",
              "      background-color: #434B5C;\n",
              "      box-shadow: 0px 1px 3px 1px rgba(0, 0, 0, 0.15);\n",
              "      filter: drop-shadow(0px 1px 2px rgba(0, 0, 0, 0.3));\n",
              "      fill: #FFFFFF;\n",
              "    }\n",
              "  </style>\n",
              "\n",
              "      <script>\n",
              "        const buttonEl =\n",
              "          document.querySelector('#df-88077deb-fcb8-44ca-b8a3-88763e470a0a button.colab-df-convert');\n",
              "        buttonEl.style.display =\n",
              "          google.colab.kernel.accessAllowed ? 'block' : 'none';\n",
              "\n",
              "        async function convertToInteractive(key) {\n",
              "          const element = document.querySelector('#df-88077deb-fcb8-44ca-b8a3-88763e470a0a');\n",
              "          const dataTable =\n",
              "            await google.colab.kernel.invokeFunction('convertToInteractive',\n",
              "                                                     [key], {});\n",
              "          if (!dataTable) return;\n",
              "\n",
              "          const docLinkHtml = 'Like what you see? Visit the ' +\n",
              "            '<a target=\"_blank\" href=https://colab.research.google.com/notebooks/data_table.ipynb>data table notebook</a>'\n",
              "            + ' to learn more about interactive tables.';\n",
              "          element.innerHTML = '';\n",
              "          dataTable['output_type'] = 'display_data';\n",
              "          await google.colab.output.renderOutput(dataTable, element);\n",
              "          const docLink = document.createElement('div');\n",
              "          docLink.innerHTML = docLinkHtml;\n",
              "          element.appendChild(docLink);\n",
              "        }\n",
              "      </script>\n",
              "    </div>\n",
              "  </div>\n",
              "  "
            ]
          },
          "metadata": {},
          "execution_count": 6
        }
      ]
    },
    {
      "cell_type": "code",
      "source": [
        "submission = pd.read_csv(\"/content/drive/MyDrive/ESAA/2022-1 Study/Week3/sample_submission.csv\")\n",
        "print(submission.shape)\n",
        "submission.head(3)"
      ],
      "metadata": {
        "colab": {
          "base_uri": "https://localhost:8080/",
          "height": 161
        },
        "id": "8S99lBxKMIcP",
        "outputId": "ed782865-388b-4926-b5ce-85db2ac7da50"
      },
      "execution_count": null,
      "outputs": [
        {
          "output_type": "stream",
          "name": "stdout",
          "text": [
            "(150, 2)\n"
          ]
        },
        {
          "output_type": "execute_result",
          "data": {
            "text/plain": [
              "    code  num\n",
              "0  C1072    0\n",
              "1  C1128    0\n",
              "2  C1456    0"
            ],
            "text/html": [
              "\n",
              "  <div id=\"df-b5c4e02d-7d3c-41bf-b6ba-0ba29818f996\">\n",
              "    <div class=\"colab-df-container\">\n",
              "      <div>\n",
              "<style scoped>\n",
              "    .dataframe tbody tr th:only-of-type {\n",
              "        vertical-align: middle;\n",
              "    }\n",
              "\n",
              "    .dataframe tbody tr th {\n",
              "        vertical-align: top;\n",
              "    }\n",
              "\n",
              "    .dataframe thead th {\n",
              "        text-align: right;\n",
              "    }\n",
              "</style>\n",
              "<table border=\"1\" class=\"dataframe\">\n",
              "  <thead>\n",
              "    <tr style=\"text-align: right;\">\n",
              "      <th></th>\n",
              "      <th>code</th>\n",
              "      <th>num</th>\n",
              "    </tr>\n",
              "  </thead>\n",
              "  <tbody>\n",
              "    <tr>\n",
              "      <th>0</th>\n",
              "      <td>C1072</td>\n",
              "      <td>0</td>\n",
              "    </tr>\n",
              "    <tr>\n",
              "      <th>1</th>\n",
              "      <td>C1128</td>\n",
              "      <td>0</td>\n",
              "    </tr>\n",
              "    <tr>\n",
              "      <th>2</th>\n",
              "      <td>C1456</td>\n",
              "      <td>0</td>\n",
              "    </tr>\n",
              "  </tbody>\n",
              "</table>\n",
              "</div>\n",
              "      <button class=\"colab-df-convert\" onclick=\"convertToInteractive('df-b5c4e02d-7d3c-41bf-b6ba-0ba29818f996')\"\n",
              "              title=\"Convert this dataframe to an interactive table.\"\n",
              "              style=\"display:none;\">\n",
              "        \n",
              "  <svg xmlns=\"http://www.w3.org/2000/svg\" height=\"24px\"viewBox=\"0 0 24 24\"\n",
              "       width=\"24px\">\n",
              "    <path d=\"M0 0h24v24H0V0z\" fill=\"none\"/>\n",
              "    <path d=\"M18.56 5.44l.94 2.06.94-2.06 2.06-.94-2.06-.94-.94-2.06-.94 2.06-2.06.94zm-11 1L8.5 8.5l.94-2.06 2.06-.94-2.06-.94L8.5 2.5l-.94 2.06-2.06.94zm10 10l.94 2.06.94-2.06 2.06-.94-2.06-.94-.94-2.06-.94 2.06-2.06.94z\"/><path d=\"M17.41 7.96l-1.37-1.37c-.4-.4-.92-.59-1.43-.59-.52 0-1.04.2-1.43.59L10.3 9.45l-7.72 7.72c-.78.78-.78 2.05 0 2.83L4 21.41c.39.39.9.59 1.41.59.51 0 1.02-.2 1.41-.59l7.78-7.78 2.81-2.81c.8-.78.8-2.07 0-2.86zM5.41 20L4 18.59l7.72-7.72 1.47 1.35L5.41 20z\"/>\n",
              "  </svg>\n",
              "      </button>\n",
              "      \n",
              "  <style>\n",
              "    .colab-df-container {\n",
              "      display:flex;\n",
              "      flex-wrap:wrap;\n",
              "      gap: 12px;\n",
              "    }\n",
              "\n",
              "    .colab-df-convert {\n",
              "      background-color: #E8F0FE;\n",
              "      border: none;\n",
              "      border-radius: 50%;\n",
              "      cursor: pointer;\n",
              "      display: none;\n",
              "      fill: #1967D2;\n",
              "      height: 32px;\n",
              "      padding: 0 0 0 0;\n",
              "      width: 32px;\n",
              "    }\n",
              "\n",
              "    .colab-df-convert:hover {\n",
              "      background-color: #E2EBFA;\n",
              "      box-shadow: 0px 1px 2px rgba(60, 64, 67, 0.3), 0px 1px 3px 1px rgba(60, 64, 67, 0.15);\n",
              "      fill: #174EA6;\n",
              "    }\n",
              "\n",
              "    [theme=dark] .colab-df-convert {\n",
              "      background-color: #3B4455;\n",
              "      fill: #D2E3FC;\n",
              "    }\n",
              "\n",
              "    [theme=dark] .colab-df-convert:hover {\n",
              "      background-color: #434B5C;\n",
              "      box-shadow: 0px 1px 3px 1px rgba(0, 0, 0, 0.15);\n",
              "      filter: drop-shadow(0px 1px 2px rgba(0, 0, 0, 0.3));\n",
              "      fill: #FFFFFF;\n",
              "    }\n",
              "  </style>\n",
              "\n",
              "      <script>\n",
              "        const buttonEl =\n",
              "          document.querySelector('#df-b5c4e02d-7d3c-41bf-b6ba-0ba29818f996 button.colab-df-convert');\n",
              "        buttonEl.style.display =\n",
              "          google.colab.kernel.accessAllowed ? 'block' : 'none';\n",
              "\n",
              "        async function convertToInteractive(key) {\n",
              "          const element = document.querySelector('#df-b5c4e02d-7d3c-41bf-b6ba-0ba29818f996');\n",
              "          const dataTable =\n",
              "            await google.colab.kernel.invokeFunction('convertToInteractive',\n",
              "                                                     [key], {});\n",
              "          if (!dataTable) return;\n",
              "\n",
              "          const docLinkHtml = 'Like what you see? Visit the ' +\n",
              "            '<a target=\"_blank\" href=https://colab.research.google.com/notebooks/data_table.ipynb>data table notebook</a>'\n",
              "            + ' to learn more about interactive tables.';\n",
              "          element.innerHTML = '';\n",
              "          dataTable['output_type'] = 'display_data';\n",
              "          await google.colab.output.renderOutput(dataTable, element);\n",
              "          const docLink = document.createElement('div');\n",
              "          docLink.innerHTML = docLinkHtml;\n",
              "          element.appendChild(docLink);\n",
              "        }\n",
              "      </script>\n",
              "    </div>\n",
              "  </div>\n",
              "  "
            ]
          },
          "metadata": {},
          "execution_count": 7
        }
      ]
    },
    {
      "cell_type": "markdown",
      "source": [
        "### 2. 데이터 전처리\n",
        "### 2-1. 컬럼명 변경\n",
        "- 도보 10분거리 내 지하철역 수(환승노선 수 반영) → **지하철**\n",
        "- 도보 10분거리 내 버스정류장 수 → **버스**"
      ],
      "metadata": {
        "id": "1yFBdCZLMk6T"
      }
    },
    {
      "cell_type": "code",
      "source": [
        "train.columns = ['단지코드', '총세대수', '임대건물구분', '지역', '공급유형', '전용면적', '전용면적별세대수', '공가수', '자격유형', '임대보증금', '임대료', '지하철', '버스', '단지내주차면수', '등록차량수']\n",
        "test.columns = ['단지코드', '총세대수', '임대건물구분', '지역', '공급유형', '전용면적', '전용면적별세대수', '공가수', '자격유형', '임대보증금', '임대료', '지하철', '버스', '단지내주차면수']"
      ],
      "metadata": {
        "id": "Qqy0dQuUMliJ"
      },
      "execution_count": null,
      "outputs": []
    },
    {
      "cell_type": "code",
      "source": [
        "train.head(3)"
      ],
      "metadata": {
        "colab": {
          "base_uri": "https://localhost:8080/",
          "height": 143
        },
        "id": "zzA050a7MlkQ",
        "outputId": "6a986a8d-3547-4fd5-f8aa-78640e85b67b"
      },
      "execution_count": null,
      "outputs": [
        {
          "output_type": "execute_result",
          "data": {
            "text/plain": [
              "    단지코드  총세대수 임대건물구분    지역  공급유형   전용면적  전용면적별세대수   공가수 자격유형     임대보증금  \\\n",
              "0  C2483   900    아파트  경상북도  국민임대  39.72       134  38.0    A  15667000   \n",
              "1  C2483   900    아파트  경상북도  국민임대  39.72        15  38.0    A  15667000   \n",
              "2  C2483   900    아파트  경상북도  국민임대  51.93       385  38.0    A  27304000   \n",
              "\n",
              "      임대료  지하철   버스  단지내주차면수   등록차량수  \n",
              "0  103680  0.0  3.0   1425.0  1015.0  \n",
              "1  103680  0.0  3.0   1425.0  1015.0  \n",
              "2  184330  0.0  3.0   1425.0  1015.0  "
            ],
            "text/html": [
              "\n",
              "  <div id=\"df-7c2e49b3-7f89-4cf0-9fc8-65cacb7da2bf\">\n",
              "    <div class=\"colab-df-container\">\n",
              "      <div>\n",
              "<style scoped>\n",
              "    .dataframe tbody tr th:only-of-type {\n",
              "        vertical-align: middle;\n",
              "    }\n",
              "\n",
              "    .dataframe tbody tr th {\n",
              "        vertical-align: top;\n",
              "    }\n",
              "\n",
              "    .dataframe thead th {\n",
              "        text-align: right;\n",
              "    }\n",
              "</style>\n",
              "<table border=\"1\" class=\"dataframe\">\n",
              "  <thead>\n",
              "    <tr style=\"text-align: right;\">\n",
              "      <th></th>\n",
              "      <th>단지코드</th>\n",
              "      <th>총세대수</th>\n",
              "      <th>임대건물구분</th>\n",
              "      <th>지역</th>\n",
              "      <th>공급유형</th>\n",
              "      <th>전용면적</th>\n",
              "      <th>전용면적별세대수</th>\n",
              "      <th>공가수</th>\n",
              "      <th>자격유형</th>\n",
              "      <th>임대보증금</th>\n",
              "      <th>임대료</th>\n",
              "      <th>지하철</th>\n",
              "      <th>버스</th>\n",
              "      <th>단지내주차면수</th>\n",
              "      <th>등록차량수</th>\n",
              "    </tr>\n",
              "  </thead>\n",
              "  <tbody>\n",
              "    <tr>\n",
              "      <th>0</th>\n",
              "      <td>C2483</td>\n",
              "      <td>900</td>\n",
              "      <td>아파트</td>\n",
              "      <td>경상북도</td>\n",
              "      <td>국민임대</td>\n",
              "      <td>39.72</td>\n",
              "      <td>134</td>\n",
              "      <td>38.0</td>\n",
              "      <td>A</td>\n",
              "      <td>15667000</td>\n",
              "      <td>103680</td>\n",
              "      <td>0.0</td>\n",
              "      <td>3.0</td>\n",
              "      <td>1425.0</td>\n",
              "      <td>1015.0</td>\n",
              "    </tr>\n",
              "    <tr>\n",
              "      <th>1</th>\n",
              "      <td>C2483</td>\n",
              "      <td>900</td>\n",
              "      <td>아파트</td>\n",
              "      <td>경상북도</td>\n",
              "      <td>국민임대</td>\n",
              "      <td>39.72</td>\n",
              "      <td>15</td>\n",
              "      <td>38.0</td>\n",
              "      <td>A</td>\n",
              "      <td>15667000</td>\n",
              "      <td>103680</td>\n",
              "      <td>0.0</td>\n",
              "      <td>3.0</td>\n",
              "      <td>1425.0</td>\n",
              "      <td>1015.0</td>\n",
              "    </tr>\n",
              "    <tr>\n",
              "      <th>2</th>\n",
              "      <td>C2483</td>\n",
              "      <td>900</td>\n",
              "      <td>아파트</td>\n",
              "      <td>경상북도</td>\n",
              "      <td>국민임대</td>\n",
              "      <td>51.93</td>\n",
              "      <td>385</td>\n",
              "      <td>38.0</td>\n",
              "      <td>A</td>\n",
              "      <td>27304000</td>\n",
              "      <td>184330</td>\n",
              "      <td>0.0</td>\n",
              "      <td>3.0</td>\n",
              "      <td>1425.0</td>\n",
              "      <td>1015.0</td>\n",
              "    </tr>\n",
              "  </tbody>\n",
              "</table>\n",
              "</div>\n",
              "      <button class=\"colab-df-convert\" onclick=\"convertToInteractive('df-7c2e49b3-7f89-4cf0-9fc8-65cacb7da2bf')\"\n",
              "              title=\"Convert this dataframe to an interactive table.\"\n",
              "              style=\"display:none;\">\n",
              "        \n",
              "  <svg xmlns=\"http://www.w3.org/2000/svg\" height=\"24px\"viewBox=\"0 0 24 24\"\n",
              "       width=\"24px\">\n",
              "    <path d=\"M0 0h24v24H0V0z\" fill=\"none\"/>\n",
              "    <path d=\"M18.56 5.44l.94 2.06.94-2.06 2.06-.94-2.06-.94-.94-2.06-.94 2.06-2.06.94zm-11 1L8.5 8.5l.94-2.06 2.06-.94-2.06-.94L8.5 2.5l-.94 2.06-2.06.94zm10 10l.94 2.06.94-2.06 2.06-.94-2.06-.94-.94-2.06-.94 2.06-2.06.94z\"/><path d=\"M17.41 7.96l-1.37-1.37c-.4-.4-.92-.59-1.43-.59-.52 0-1.04.2-1.43.59L10.3 9.45l-7.72 7.72c-.78.78-.78 2.05 0 2.83L4 21.41c.39.39.9.59 1.41.59.51 0 1.02-.2 1.41-.59l7.78-7.78 2.81-2.81c.8-.78.8-2.07 0-2.86zM5.41 20L4 18.59l7.72-7.72 1.47 1.35L5.41 20z\"/>\n",
              "  </svg>\n",
              "      </button>\n",
              "      \n",
              "  <style>\n",
              "    .colab-df-container {\n",
              "      display:flex;\n",
              "      flex-wrap:wrap;\n",
              "      gap: 12px;\n",
              "    }\n",
              "\n",
              "    .colab-df-convert {\n",
              "      background-color: #E8F0FE;\n",
              "      border: none;\n",
              "      border-radius: 50%;\n",
              "      cursor: pointer;\n",
              "      display: none;\n",
              "      fill: #1967D2;\n",
              "      height: 32px;\n",
              "      padding: 0 0 0 0;\n",
              "      width: 32px;\n",
              "    }\n",
              "\n",
              "    .colab-df-convert:hover {\n",
              "      background-color: #E2EBFA;\n",
              "      box-shadow: 0px 1px 2px rgba(60, 64, 67, 0.3), 0px 1px 3px 1px rgba(60, 64, 67, 0.15);\n",
              "      fill: #174EA6;\n",
              "    }\n",
              "\n",
              "    [theme=dark] .colab-df-convert {\n",
              "      background-color: #3B4455;\n",
              "      fill: #D2E3FC;\n",
              "    }\n",
              "\n",
              "    [theme=dark] .colab-df-convert:hover {\n",
              "      background-color: #434B5C;\n",
              "      box-shadow: 0px 1px 3px 1px rgba(0, 0, 0, 0.15);\n",
              "      filter: drop-shadow(0px 1px 2px rgba(0, 0, 0, 0.3));\n",
              "      fill: #FFFFFF;\n",
              "    }\n",
              "  </style>\n",
              "\n",
              "      <script>\n",
              "        const buttonEl =\n",
              "          document.querySelector('#df-7c2e49b3-7f89-4cf0-9fc8-65cacb7da2bf button.colab-df-convert');\n",
              "        buttonEl.style.display =\n",
              "          google.colab.kernel.accessAllowed ? 'block' : 'none';\n",
              "\n",
              "        async function convertToInteractive(key) {\n",
              "          const element = document.querySelector('#df-7c2e49b3-7f89-4cf0-9fc8-65cacb7da2bf');\n",
              "          const dataTable =\n",
              "            await google.colab.kernel.invokeFunction('convertToInteractive',\n",
              "                                                     [key], {});\n",
              "          if (!dataTable) return;\n",
              "\n",
              "          const docLinkHtml = 'Like what you see? Visit the ' +\n",
              "            '<a target=\"_blank\" href=https://colab.research.google.com/notebooks/data_table.ipynb>data table notebook</a>'\n",
              "            + ' to learn more about interactive tables.';\n",
              "          element.innerHTML = '';\n",
              "          dataTable['output_type'] = 'display_data';\n",
              "          await google.colab.output.renderOutput(dataTable, element);\n",
              "          const docLink = document.createElement('div');\n",
              "          docLink.innerHTML = docLinkHtml;\n",
              "          element.appendChild(docLink);\n",
              "        }\n",
              "      </script>\n",
              "    </div>\n",
              "  </div>\n",
              "  "
            ]
          },
          "metadata": {},
          "execution_count": 9
        }
      ]
    },
    {
      "cell_type": "markdown",
      "source": [
        "### 2. 데이터 전처리\n",
        "### 2-2. 데이터 타입 및 결측치 확인\n",
        "1) train data 데이터 타입 확인\n",
        "- 임대보증금\n",
        "- 임대료\n",
        "\n",
        "2) train data 결측치 확인\n",
        "- 임대보증금\n",
        "- 임대료\n",
        "- 지하철\n",
        "- 버스"
      ],
      "metadata": {
        "id": "cq-AcsqPNMV0"
      }
    },
    {
      "cell_type": "code",
      "source": [
        "train.dtypes"
      ],
      "metadata": {
        "colab": {
          "base_uri": "https://localhost:8080/"
        },
        "id": "aTWCkQjkNCT7",
        "outputId": "cc3c13fd-e7ff-4cda-d0f3-54a283396655"
      },
      "execution_count": null,
      "outputs": [
        {
          "output_type": "execute_result",
          "data": {
            "text/plain": [
              "단지코드         object\n",
              "총세대수          int64\n",
              "임대건물구분       object\n",
              "지역           object\n",
              "공급유형         object\n",
              "전용면적        float64\n",
              "전용면적별세대수      int64\n",
              "공가수         float64\n",
              "자격유형         object\n",
              "임대보증금        object\n",
              "임대료          object\n",
              "지하철         float64\n",
              "버스          float64\n",
              "단지내주차면수     float64\n",
              "등록차량수       float64\n",
              "dtype: object"
            ]
          },
          "metadata": {},
          "execution_count": 10
        }
      ]
    },
    {
      "cell_type": "code",
      "source": [
        "train.isnull().sum()"
      ],
      "metadata": {
        "colab": {
          "base_uri": "https://localhost:8080/"
        },
        "id": "qC_hEHLMN7sG",
        "outputId": "566f404a-baab-4785-96f4-b253be5ad3ea"
      },
      "execution_count": null,
      "outputs": [
        {
          "output_type": "execute_result",
          "data": {
            "text/plain": [
              "단지코드          0\n",
              "총세대수          0\n",
              "임대건물구분        0\n",
              "지역            0\n",
              "공급유형          0\n",
              "전용면적          0\n",
              "전용면적별세대수      0\n",
              "공가수           0\n",
              "자격유형          0\n",
              "임대보증금       569\n",
              "임대료         569\n",
              "지하철         211\n",
              "버스            4\n",
              "단지내주차면수       0\n",
              "등록차량수         0\n",
              "dtype: int64"
            ]
          },
          "metadata": {},
          "execution_count": 11
        }
      ]
    },
    {
      "cell_type": "markdown",
      "source": [
        "### 2. 데이터 전처리\n",
        "### 2-2. 데이터 타입 및 결측치 확인\n",
        "1) test data 데이터 타입 확인\n",
        "- 임대보증금\n",
        "- 임대료\n",
        "\n",
        "2) test data 결측치 확인\n",
        "- 자격유형\n",
        "- 임대보증금\n",
        "- 임대료\n",
        "- 지하철\n"
      ],
      "metadata": {
        "id": "DxeBzq84N7ys"
      }
    },
    {
      "cell_type": "code",
      "source": [
        "test.dtypes"
      ],
      "metadata": {
        "colab": {
          "base_uri": "https://localhost:8080/"
        },
        "id": "AVT_zKImbL6c",
        "outputId": "438bf459-7992-401c-bc8e-322b9775bca9"
      },
      "execution_count": null,
      "outputs": [
        {
          "output_type": "execute_result",
          "data": {
            "text/plain": [
              "단지코드         object\n",
              "총세대수          int64\n",
              "임대건물구분       object\n",
              "지역           object\n",
              "공급유형         object\n",
              "전용면적        float64\n",
              "전용면적별세대수      int64\n",
              "공가수         float64\n",
              "자격유형         object\n",
              "임대보증금        object\n",
              "임대료          object\n",
              "지하철         float64\n",
              "버스          float64\n",
              "단지내주차면수     float64\n",
              "dtype: object"
            ]
          },
          "metadata": {},
          "execution_count": 12
        }
      ]
    },
    {
      "cell_type": "code",
      "source": [
        "test.isnull().sum()"
      ],
      "metadata": {
        "colab": {
          "base_uri": "https://localhost:8080/"
        },
        "id": "dGU9ps6YbL8_",
        "outputId": "6cd20eff-6631-4973-a077-e16c8d17953f"
      },
      "execution_count": null,
      "outputs": [
        {
          "output_type": "execute_result",
          "data": {
            "text/plain": [
              "단지코드          0\n",
              "총세대수          0\n",
              "임대건물구분        0\n",
              "지역            0\n",
              "공급유형          0\n",
              "전용면적          0\n",
              "전용면적별세대수      0\n",
              "공가수           0\n",
              "자격유형          2\n",
              "임대보증금       180\n",
              "임대료         180\n",
              "지하철          42\n",
              "버스            0\n",
              "단지내주차면수       0\n",
              "dtype: int64"
            ]
          },
          "metadata": {},
          "execution_count": 13
        }
      ]
    },
    {
      "cell_type": "markdown",
      "source": [
        "### 2. 데이터 전처리\n",
        "### 2-3. 결측치 대체\n",
        "#### 1) **지하철 / 버스**\n",
        "- train data : 지하철 & 버스 결측치를 0으로 대체, 정수화\n",
        "- test data : 지하철 결측치를 0으로 대체, 정수화"
      ],
      "metadata": {
        "id": "WxiaXSLebYWH"
      }
    },
    {
      "cell_type": "code",
      "source": [
        "train[['지하철', '버스']] = train[['지하철', '버스']].fillna('0').astype(int)\n",
        "test[['지하철']] = test[['지하철']].fillna('0'). astype(int)"
      ],
      "metadata": {
        "id": "eCqKx-YFbPgy"
      },
      "execution_count": null,
      "outputs": []
    },
    {
      "cell_type": "markdown",
      "source": [
        "### 2. 데이터 전처리\n",
        "### 2-3. 결측치 대체\n",
        "#### 2) **자격유형**\n",
        "- test data의 **단지코드**가 **C2411**와 **C2253**인 경우 자격유형에 결측치가 존재한다.\n",
        "- 단지코드, 임대건물구분, 지역 등이 동일한 샘플의 자격유형 값을 참고하여 대체한다.\n",
        " - C2411 자격유형 → 'A'\n",
        " - C2253 자격유형 → 'C'"
      ],
      "metadata": {
        "id": "Pb6QUzOwcL5W"
      }
    },
    {
      "cell_type": "code",
      "source": [
        "test[test['자격유형'].isnull()]"
      ],
      "metadata": {
        "colab": {
          "base_uri": "https://localhost:8080/",
          "height": 112
        },
        "id": "r0RtnWZpcJbm",
        "outputId": "4d8e71ca-854c-4442-8d7e-64075c1284ed"
      },
      "execution_count": null,
      "outputs": [
        {
          "output_type": "execute_result",
          "data": {
            "text/plain": [
              "      단지코드  총세대수 임대건물구분    지역  공급유형   전용면적  전용면적별세대수   공가수 자격유형     임대보증금  \\\n",
              "196  C2411   962    아파트  경상남도  국민임대  46.90       240  25.0  NaN  71950000   \n",
              "258  C2253  1161    아파트   강원도  영구임대  26.37       745   0.0  NaN   2249000   \n",
              "\n",
              "       임대료  지하철   버스  단지내주차면수  \n",
              "196  37470    0  2.0    840.0  \n",
              "258  44770    0  2.0    173.0  "
            ],
            "text/html": [
              "\n",
              "  <div id=\"df-32380933-ad82-4ae2-8994-264730b3d13a\">\n",
              "    <div class=\"colab-df-container\">\n",
              "      <div>\n",
              "<style scoped>\n",
              "    .dataframe tbody tr th:only-of-type {\n",
              "        vertical-align: middle;\n",
              "    }\n",
              "\n",
              "    .dataframe tbody tr th {\n",
              "        vertical-align: top;\n",
              "    }\n",
              "\n",
              "    .dataframe thead th {\n",
              "        text-align: right;\n",
              "    }\n",
              "</style>\n",
              "<table border=\"1\" class=\"dataframe\">\n",
              "  <thead>\n",
              "    <tr style=\"text-align: right;\">\n",
              "      <th></th>\n",
              "      <th>단지코드</th>\n",
              "      <th>총세대수</th>\n",
              "      <th>임대건물구분</th>\n",
              "      <th>지역</th>\n",
              "      <th>공급유형</th>\n",
              "      <th>전용면적</th>\n",
              "      <th>전용면적별세대수</th>\n",
              "      <th>공가수</th>\n",
              "      <th>자격유형</th>\n",
              "      <th>임대보증금</th>\n",
              "      <th>임대료</th>\n",
              "      <th>지하철</th>\n",
              "      <th>버스</th>\n",
              "      <th>단지내주차면수</th>\n",
              "    </tr>\n",
              "  </thead>\n",
              "  <tbody>\n",
              "    <tr>\n",
              "      <th>196</th>\n",
              "      <td>C2411</td>\n",
              "      <td>962</td>\n",
              "      <td>아파트</td>\n",
              "      <td>경상남도</td>\n",
              "      <td>국민임대</td>\n",
              "      <td>46.90</td>\n",
              "      <td>240</td>\n",
              "      <td>25.0</td>\n",
              "      <td>NaN</td>\n",
              "      <td>71950000</td>\n",
              "      <td>37470</td>\n",
              "      <td>0</td>\n",
              "      <td>2.0</td>\n",
              "      <td>840.0</td>\n",
              "    </tr>\n",
              "    <tr>\n",
              "      <th>258</th>\n",
              "      <td>C2253</td>\n",
              "      <td>1161</td>\n",
              "      <td>아파트</td>\n",
              "      <td>강원도</td>\n",
              "      <td>영구임대</td>\n",
              "      <td>26.37</td>\n",
              "      <td>745</td>\n",
              "      <td>0.0</td>\n",
              "      <td>NaN</td>\n",
              "      <td>2249000</td>\n",
              "      <td>44770</td>\n",
              "      <td>0</td>\n",
              "      <td>2.0</td>\n",
              "      <td>173.0</td>\n",
              "    </tr>\n",
              "  </tbody>\n",
              "</table>\n",
              "</div>\n",
              "      <button class=\"colab-df-convert\" onclick=\"convertToInteractive('df-32380933-ad82-4ae2-8994-264730b3d13a')\"\n",
              "              title=\"Convert this dataframe to an interactive table.\"\n",
              "              style=\"display:none;\">\n",
              "        \n",
              "  <svg xmlns=\"http://www.w3.org/2000/svg\" height=\"24px\"viewBox=\"0 0 24 24\"\n",
              "       width=\"24px\">\n",
              "    <path d=\"M0 0h24v24H0V0z\" fill=\"none\"/>\n",
              "    <path d=\"M18.56 5.44l.94 2.06.94-2.06 2.06-.94-2.06-.94-.94-2.06-.94 2.06-2.06.94zm-11 1L8.5 8.5l.94-2.06 2.06-.94-2.06-.94L8.5 2.5l-.94 2.06-2.06.94zm10 10l.94 2.06.94-2.06 2.06-.94-2.06-.94-.94-2.06-.94 2.06-2.06.94z\"/><path d=\"M17.41 7.96l-1.37-1.37c-.4-.4-.92-.59-1.43-.59-.52 0-1.04.2-1.43.59L10.3 9.45l-7.72 7.72c-.78.78-.78 2.05 0 2.83L4 21.41c.39.39.9.59 1.41.59.51 0 1.02-.2 1.41-.59l7.78-7.78 2.81-2.81c.8-.78.8-2.07 0-2.86zM5.41 20L4 18.59l7.72-7.72 1.47 1.35L5.41 20z\"/>\n",
              "  </svg>\n",
              "      </button>\n",
              "      \n",
              "  <style>\n",
              "    .colab-df-container {\n",
              "      display:flex;\n",
              "      flex-wrap:wrap;\n",
              "      gap: 12px;\n",
              "    }\n",
              "\n",
              "    .colab-df-convert {\n",
              "      background-color: #E8F0FE;\n",
              "      border: none;\n",
              "      border-radius: 50%;\n",
              "      cursor: pointer;\n",
              "      display: none;\n",
              "      fill: #1967D2;\n",
              "      height: 32px;\n",
              "      padding: 0 0 0 0;\n",
              "      width: 32px;\n",
              "    }\n",
              "\n",
              "    .colab-df-convert:hover {\n",
              "      background-color: #E2EBFA;\n",
              "      box-shadow: 0px 1px 2px rgba(60, 64, 67, 0.3), 0px 1px 3px 1px rgba(60, 64, 67, 0.15);\n",
              "      fill: #174EA6;\n",
              "    }\n",
              "\n",
              "    [theme=dark] .colab-df-convert {\n",
              "      background-color: #3B4455;\n",
              "      fill: #D2E3FC;\n",
              "    }\n",
              "\n",
              "    [theme=dark] .colab-df-convert:hover {\n",
              "      background-color: #434B5C;\n",
              "      box-shadow: 0px 1px 3px 1px rgba(0, 0, 0, 0.15);\n",
              "      filter: drop-shadow(0px 1px 2px rgba(0, 0, 0, 0.3));\n",
              "      fill: #FFFFFF;\n",
              "    }\n",
              "  </style>\n",
              "\n",
              "      <script>\n",
              "        const buttonEl =\n",
              "          document.querySelector('#df-32380933-ad82-4ae2-8994-264730b3d13a button.colab-df-convert');\n",
              "        buttonEl.style.display =\n",
              "          google.colab.kernel.accessAllowed ? 'block' : 'none';\n",
              "\n",
              "        async function convertToInteractive(key) {\n",
              "          const element = document.querySelector('#df-32380933-ad82-4ae2-8994-264730b3d13a');\n",
              "          const dataTable =\n",
              "            await google.colab.kernel.invokeFunction('convertToInteractive',\n",
              "                                                     [key], {});\n",
              "          if (!dataTable) return;\n",
              "\n",
              "          const docLinkHtml = 'Like what you see? Visit the ' +\n",
              "            '<a target=\"_blank\" href=https://colab.research.google.com/notebooks/data_table.ipynb>data table notebook</a>'\n",
              "            + ' to learn more about interactive tables.';\n",
              "          element.innerHTML = '';\n",
              "          dataTable['output_type'] = 'display_data';\n",
              "          await google.colab.output.renderOutput(dataTable, element);\n",
              "          const docLink = document.createElement('div');\n",
              "          docLink.innerHTML = docLinkHtml;\n",
              "          element.appendChild(docLink);\n",
              "        }\n",
              "      </script>\n",
              "    </div>\n",
              "  </div>\n",
              "  "
            ]
          },
          "metadata": {},
          "execution_count": 15
        }
      ]
    },
    {
      "cell_type": "code",
      "source": [
        "test[(test['단지코드']=='C2411') | (test['단지코드']=='C2253')].head(10)"
      ],
      "metadata": {
        "colab": {
          "base_uri": "https://localhost:8080/",
          "height": 363
        },
        "id": "JNdjj6iTceSI",
        "outputId": "37104b42-851d-4848-a659-93ecd3016d8e"
      },
      "execution_count": null,
      "outputs": [
        {
          "output_type": "execute_result",
          "data": {
            "text/plain": [
              "      단지코드  총세대수 임대건물구분    지역  공급유형   전용면적  전용면적별세대수   공가수 자격유형     임대보증금  \\\n",
              "193  C2411   962    아파트  경상남도  국민임대  39.43        56  25.0    A  11992000   \n",
              "194  C2411   962    아파트  경상남도  국민임대  39.72       336  25.0    A  11992000   \n",
              "195  C2411   962    아파트  경상남도  국민임대  39.82       179  25.0    A  11992000   \n",
              "196  C2411   962    아파트  경상남도  국민임대  46.90       240  25.0  NaN  71950000   \n",
              "197  C2411   962    아파트  경상남도  국민임대  51.93       150  25.0    A  21586000   \n",
              "258  C2253  1161    아파트   강원도  영구임대  26.37       745   0.0  NaN   2249000   \n",
              "259  C2253  1161    아파트   강원도  영구임대  31.32       239   0.0    C   3731000   \n",
              "260  C2253  1161    아파트   강원도  영구임대  31.32       149   0.0    C   3731000   \n",
              "261  C2253  1161     상가   강원도  임대상가  13.77         1   0.0    D       NaN   \n",
              "262  C2253  1161     상가   강원도  임대상가  22.89         1   0.0    D       NaN   \n",
              "\n",
              "        임대료  지하철   버스  단지내주차면수  \n",
              "193  100720    0  2.0    840.0  \n",
              "194  100720    0  2.0    840.0  \n",
              "195  100720    0  2.0    840.0  \n",
              "196   37470    0  2.0    840.0  \n",
              "197  171480    0  2.0    840.0  \n",
              "258   44770    0  2.0    173.0  \n",
              "259   83020    0  2.0    173.0  \n",
              "260   83020    0  2.0    173.0  \n",
              "261     NaN    0  2.0    173.0  \n",
              "262     NaN    0  2.0    173.0  "
            ],
            "text/html": [
              "\n",
              "  <div id=\"df-4879a7b3-e90c-488d-9492-8ba300baa085\">\n",
              "    <div class=\"colab-df-container\">\n",
              "      <div>\n",
              "<style scoped>\n",
              "    .dataframe tbody tr th:only-of-type {\n",
              "        vertical-align: middle;\n",
              "    }\n",
              "\n",
              "    .dataframe tbody tr th {\n",
              "        vertical-align: top;\n",
              "    }\n",
              "\n",
              "    .dataframe thead th {\n",
              "        text-align: right;\n",
              "    }\n",
              "</style>\n",
              "<table border=\"1\" class=\"dataframe\">\n",
              "  <thead>\n",
              "    <tr style=\"text-align: right;\">\n",
              "      <th></th>\n",
              "      <th>단지코드</th>\n",
              "      <th>총세대수</th>\n",
              "      <th>임대건물구분</th>\n",
              "      <th>지역</th>\n",
              "      <th>공급유형</th>\n",
              "      <th>전용면적</th>\n",
              "      <th>전용면적별세대수</th>\n",
              "      <th>공가수</th>\n",
              "      <th>자격유형</th>\n",
              "      <th>임대보증금</th>\n",
              "      <th>임대료</th>\n",
              "      <th>지하철</th>\n",
              "      <th>버스</th>\n",
              "      <th>단지내주차면수</th>\n",
              "    </tr>\n",
              "  </thead>\n",
              "  <tbody>\n",
              "    <tr>\n",
              "      <th>193</th>\n",
              "      <td>C2411</td>\n",
              "      <td>962</td>\n",
              "      <td>아파트</td>\n",
              "      <td>경상남도</td>\n",
              "      <td>국민임대</td>\n",
              "      <td>39.43</td>\n",
              "      <td>56</td>\n",
              "      <td>25.0</td>\n",
              "      <td>A</td>\n",
              "      <td>11992000</td>\n",
              "      <td>100720</td>\n",
              "      <td>0</td>\n",
              "      <td>2.0</td>\n",
              "      <td>840.0</td>\n",
              "    </tr>\n",
              "    <tr>\n",
              "      <th>194</th>\n",
              "      <td>C2411</td>\n",
              "      <td>962</td>\n",
              "      <td>아파트</td>\n",
              "      <td>경상남도</td>\n",
              "      <td>국민임대</td>\n",
              "      <td>39.72</td>\n",
              "      <td>336</td>\n",
              "      <td>25.0</td>\n",
              "      <td>A</td>\n",
              "      <td>11992000</td>\n",
              "      <td>100720</td>\n",
              "      <td>0</td>\n",
              "      <td>2.0</td>\n",
              "      <td>840.0</td>\n",
              "    </tr>\n",
              "    <tr>\n",
              "      <th>195</th>\n",
              "      <td>C2411</td>\n",
              "      <td>962</td>\n",
              "      <td>아파트</td>\n",
              "      <td>경상남도</td>\n",
              "      <td>국민임대</td>\n",
              "      <td>39.82</td>\n",
              "      <td>179</td>\n",
              "      <td>25.0</td>\n",
              "      <td>A</td>\n",
              "      <td>11992000</td>\n",
              "      <td>100720</td>\n",
              "      <td>0</td>\n",
              "      <td>2.0</td>\n",
              "      <td>840.0</td>\n",
              "    </tr>\n",
              "    <tr>\n",
              "      <th>196</th>\n",
              "      <td>C2411</td>\n",
              "      <td>962</td>\n",
              "      <td>아파트</td>\n",
              "      <td>경상남도</td>\n",
              "      <td>국민임대</td>\n",
              "      <td>46.90</td>\n",
              "      <td>240</td>\n",
              "      <td>25.0</td>\n",
              "      <td>NaN</td>\n",
              "      <td>71950000</td>\n",
              "      <td>37470</td>\n",
              "      <td>0</td>\n",
              "      <td>2.0</td>\n",
              "      <td>840.0</td>\n",
              "    </tr>\n",
              "    <tr>\n",
              "      <th>197</th>\n",
              "      <td>C2411</td>\n",
              "      <td>962</td>\n",
              "      <td>아파트</td>\n",
              "      <td>경상남도</td>\n",
              "      <td>국민임대</td>\n",
              "      <td>51.93</td>\n",
              "      <td>150</td>\n",
              "      <td>25.0</td>\n",
              "      <td>A</td>\n",
              "      <td>21586000</td>\n",
              "      <td>171480</td>\n",
              "      <td>0</td>\n",
              "      <td>2.0</td>\n",
              "      <td>840.0</td>\n",
              "    </tr>\n",
              "    <tr>\n",
              "      <th>258</th>\n",
              "      <td>C2253</td>\n",
              "      <td>1161</td>\n",
              "      <td>아파트</td>\n",
              "      <td>강원도</td>\n",
              "      <td>영구임대</td>\n",
              "      <td>26.37</td>\n",
              "      <td>745</td>\n",
              "      <td>0.0</td>\n",
              "      <td>NaN</td>\n",
              "      <td>2249000</td>\n",
              "      <td>44770</td>\n",
              "      <td>0</td>\n",
              "      <td>2.0</td>\n",
              "      <td>173.0</td>\n",
              "    </tr>\n",
              "    <tr>\n",
              "      <th>259</th>\n",
              "      <td>C2253</td>\n",
              "      <td>1161</td>\n",
              "      <td>아파트</td>\n",
              "      <td>강원도</td>\n",
              "      <td>영구임대</td>\n",
              "      <td>31.32</td>\n",
              "      <td>239</td>\n",
              "      <td>0.0</td>\n",
              "      <td>C</td>\n",
              "      <td>3731000</td>\n",
              "      <td>83020</td>\n",
              "      <td>0</td>\n",
              "      <td>2.0</td>\n",
              "      <td>173.0</td>\n",
              "    </tr>\n",
              "    <tr>\n",
              "      <th>260</th>\n",
              "      <td>C2253</td>\n",
              "      <td>1161</td>\n",
              "      <td>아파트</td>\n",
              "      <td>강원도</td>\n",
              "      <td>영구임대</td>\n",
              "      <td>31.32</td>\n",
              "      <td>149</td>\n",
              "      <td>0.0</td>\n",
              "      <td>C</td>\n",
              "      <td>3731000</td>\n",
              "      <td>83020</td>\n",
              "      <td>0</td>\n",
              "      <td>2.0</td>\n",
              "      <td>173.0</td>\n",
              "    </tr>\n",
              "    <tr>\n",
              "      <th>261</th>\n",
              "      <td>C2253</td>\n",
              "      <td>1161</td>\n",
              "      <td>상가</td>\n",
              "      <td>강원도</td>\n",
              "      <td>임대상가</td>\n",
              "      <td>13.77</td>\n",
              "      <td>1</td>\n",
              "      <td>0.0</td>\n",
              "      <td>D</td>\n",
              "      <td>NaN</td>\n",
              "      <td>NaN</td>\n",
              "      <td>0</td>\n",
              "      <td>2.0</td>\n",
              "      <td>173.0</td>\n",
              "    </tr>\n",
              "    <tr>\n",
              "      <th>262</th>\n",
              "      <td>C2253</td>\n",
              "      <td>1161</td>\n",
              "      <td>상가</td>\n",
              "      <td>강원도</td>\n",
              "      <td>임대상가</td>\n",
              "      <td>22.89</td>\n",
              "      <td>1</td>\n",
              "      <td>0.0</td>\n",
              "      <td>D</td>\n",
              "      <td>NaN</td>\n",
              "      <td>NaN</td>\n",
              "      <td>0</td>\n",
              "      <td>2.0</td>\n",
              "      <td>173.0</td>\n",
              "    </tr>\n",
              "  </tbody>\n",
              "</table>\n",
              "</div>\n",
              "      <button class=\"colab-df-convert\" onclick=\"convertToInteractive('df-4879a7b3-e90c-488d-9492-8ba300baa085')\"\n",
              "              title=\"Convert this dataframe to an interactive table.\"\n",
              "              style=\"display:none;\">\n",
              "        \n",
              "  <svg xmlns=\"http://www.w3.org/2000/svg\" height=\"24px\"viewBox=\"0 0 24 24\"\n",
              "       width=\"24px\">\n",
              "    <path d=\"M0 0h24v24H0V0z\" fill=\"none\"/>\n",
              "    <path d=\"M18.56 5.44l.94 2.06.94-2.06 2.06-.94-2.06-.94-.94-2.06-.94 2.06-2.06.94zm-11 1L8.5 8.5l.94-2.06 2.06-.94-2.06-.94L8.5 2.5l-.94 2.06-2.06.94zm10 10l.94 2.06.94-2.06 2.06-.94-2.06-.94-.94-2.06-.94 2.06-2.06.94z\"/><path d=\"M17.41 7.96l-1.37-1.37c-.4-.4-.92-.59-1.43-.59-.52 0-1.04.2-1.43.59L10.3 9.45l-7.72 7.72c-.78.78-.78 2.05 0 2.83L4 21.41c.39.39.9.59 1.41.59.51 0 1.02-.2 1.41-.59l7.78-7.78 2.81-2.81c.8-.78.8-2.07 0-2.86zM5.41 20L4 18.59l7.72-7.72 1.47 1.35L5.41 20z\"/>\n",
              "  </svg>\n",
              "      </button>\n",
              "      \n",
              "  <style>\n",
              "    .colab-df-container {\n",
              "      display:flex;\n",
              "      flex-wrap:wrap;\n",
              "      gap: 12px;\n",
              "    }\n",
              "\n",
              "    .colab-df-convert {\n",
              "      background-color: #E8F0FE;\n",
              "      border: none;\n",
              "      border-radius: 50%;\n",
              "      cursor: pointer;\n",
              "      display: none;\n",
              "      fill: #1967D2;\n",
              "      height: 32px;\n",
              "      padding: 0 0 0 0;\n",
              "      width: 32px;\n",
              "    }\n",
              "\n",
              "    .colab-df-convert:hover {\n",
              "      background-color: #E2EBFA;\n",
              "      box-shadow: 0px 1px 2px rgba(60, 64, 67, 0.3), 0px 1px 3px 1px rgba(60, 64, 67, 0.15);\n",
              "      fill: #174EA6;\n",
              "    }\n",
              "\n",
              "    [theme=dark] .colab-df-convert {\n",
              "      background-color: #3B4455;\n",
              "      fill: #D2E3FC;\n",
              "    }\n",
              "\n",
              "    [theme=dark] .colab-df-convert:hover {\n",
              "      background-color: #434B5C;\n",
              "      box-shadow: 0px 1px 3px 1px rgba(0, 0, 0, 0.15);\n",
              "      filter: drop-shadow(0px 1px 2px rgba(0, 0, 0, 0.3));\n",
              "      fill: #FFFFFF;\n",
              "    }\n",
              "  </style>\n",
              "\n",
              "      <script>\n",
              "        const buttonEl =\n",
              "          document.querySelector('#df-4879a7b3-e90c-488d-9492-8ba300baa085 button.colab-df-convert');\n",
              "        buttonEl.style.display =\n",
              "          google.colab.kernel.accessAllowed ? 'block' : 'none';\n",
              "\n",
              "        async function convertToInteractive(key) {\n",
              "          const element = document.querySelector('#df-4879a7b3-e90c-488d-9492-8ba300baa085');\n",
              "          const dataTable =\n",
              "            await google.colab.kernel.invokeFunction('convertToInteractive',\n",
              "                                                     [key], {});\n",
              "          if (!dataTable) return;\n",
              "\n",
              "          const docLinkHtml = 'Like what you see? Visit the ' +\n",
              "            '<a target=\"_blank\" href=https://colab.research.google.com/notebooks/data_table.ipynb>data table notebook</a>'\n",
              "            + ' to learn more about interactive tables.';\n",
              "          element.innerHTML = '';\n",
              "          dataTable['output_type'] = 'display_data';\n",
              "          await google.colab.output.renderOutput(dataTable, element);\n",
              "          const docLink = document.createElement('div');\n",
              "          docLink.innerHTML = docLinkHtml;\n",
              "          element.appendChild(docLink);\n",
              "        }\n",
              "      </script>\n",
              "    </div>\n",
              "  </div>\n",
              "  "
            ]
          },
          "metadata": {},
          "execution_count": 16
        }
      ]
    },
    {
      "cell_type": "code",
      "source": [
        "# 196번\n",
        "test.loc[(test['단지코드']=='C2411') & (test['자격유형'].isnull()), '자격유형'] = 'A'\n",
        "\n",
        "# 258번\n",
        "test.loc[(test['단지코드']=='C2253') & (test['자격유형'].isnull()), '자격유형'] = 'C'\n",
        "\n",
        "test[(test['단지코드']=='C2411') | (test['단지코드']=='C2253')].head(10)"
      ],
      "metadata": {
        "colab": {
          "base_uri": "https://localhost:8080/",
          "height": 363
        },
        "id": "3X_MKY4qdnPK",
        "outputId": "2a0695a8-e904-416d-afd8-f1c997753659"
      },
      "execution_count": null,
      "outputs": [
        {
          "output_type": "execute_result",
          "data": {
            "text/plain": [
              "      단지코드  총세대수 임대건물구분    지역  공급유형   전용면적  전용면적별세대수   공가수 자격유형     임대보증금  \\\n",
              "193  C2411   962    아파트  경상남도  국민임대  39.43        56  25.0    A  11992000   \n",
              "194  C2411   962    아파트  경상남도  국민임대  39.72       336  25.0    A  11992000   \n",
              "195  C2411   962    아파트  경상남도  국민임대  39.82       179  25.0    A  11992000   \n",
              "196  C2411   962    아파트  경상남도  국민임대  46.90       240  25.0    A  71950000   \n",
              "197  C2411   962    아파트  경상남도  국민임대  51.93       150  25.0    A  21586000   \n",
              "258  C2253  1161    아파트   강원도  영구임대  26.37       745   0.0    C   2249000   \n",
              "259  C2253  1161    아파트   강원도  영구임대  31.32       239   0.0    C   3731000   \n",
              "260  C2253  1161    아파트   강원도  영구임대  31.32       149   0.0    C   3731000   \n",
              "261  C2253  1161     상가   강원도  임대상가  13.77         1   0.0    D       NaN   \n",
              "262  C2253  1161     상가   강원도  임대상가  22.89         1   0.0    D       NaN   \n",
              "\n",
              "        임대료  지하철   버스  단지내주차면수  \n",
              "193  100720    0  2.0    840.0  \n",
              "194  100720    0  2.0    840.0  \n",
              "195  100720    0  2.0    840.0  \n",
              "196   37470    0  2.0    840.0  \n",
              "197  171480    0  2.0    840.0  \n",
              "258   44770    0  2.0    173.0  \n",
              "259   83020    0  2.0    173.0  \n",
              "260   83020    0  2.0    173.0  \n",
              "261     NaN    0  2.0    173.0  \n",
              "262     NaN    0  2.0    173.0  "
            ],
            "text/html": [
              "\n",
              "  <div id=\"df-494270ba-e3e8-4fa8-a8dc-c85ca7c0027d\">\n",
              "    <div class=\"colab-df-container\">\n",
              "      <div>\n",
              "<style scoped>\n",
              "    .dataframe tbody tr th:only-of-type {\n",
              "        vertical-align: middle;\n",
              "    }\n",
              "\n",
              "    .dataframe tbody tr th {\n",
              "        vertical-align: top;\n",
              "    }\n",
              "\n",
              "    .dataframe thead th {\n",
              "        text-align: right;\n",
              "    }\n",
              "</style>\n",
              "<table border=\"1\" class=\"dataframe\">\n",
              "  <thead>\n",
              "    <tr style=\"text-align: right;\">\n",
              "      <th></th>\n",
              "      <th>단지코드</th>\n",
              "      <th>총세대수</th>\n",
              "      <th>임대건물구분</th>\n",
              "      <th>지역</th>\n",
              "      <th>공급유형</th>\n",
              "      <th>전용면적</th>\n",
              "      <th>전용면적별세대수</th>\n",
              "      <th>공가수</th>\n",
              "      <th>자격유형</th>\n",
              "      <th>임대보증금</th>\n",
              "      <th>임대료</th>\n",
              "      <th>지하철</th>\n",
              "      <th>버스</th>\n",
              "      <th>단지내주차면수</th>\n",
              "    </tr>\n",
              "  </thead>\n",
              "  <tbody>\n",
              "    <tr>\n",
              "      <th>193</th>\n",
              "      <td>C2411</td>\n",
              "      <td>962</td>\n",
              "      <td>아파트</td>\n",
              "      <td>경상남도</td>\n",
              "      <td>국민임대</td>\n",
              "      <td>39.43</td>\n",
              "      <td>56</td>\n",
              "      <td>25.0</td>\n",
              "      <td>A</td>\n",
              "      <td>11992000</td>\n",
              "      <td>100720</td>\n",
              "      <td>0</td>\n",
              "      <td>2.0</td>\n",
              "      <td>840.0</td>\n",
              "    </tr>\n",
              "    <tr>\n",
              "      <th>194</th>\n",
              "      <td>C2411</td>\n",
              "      <td>962</td>\n",
              "      <td>아파트</td>\n",
              "      <td>경상남도</td>\n",
              "      <td>국민임대</td>\n",
              "      <td>39.72</td>\n",
              "      <td>336</td>\n",
              "      <td>25.0</td>\n",
              "      <td>A</td>\n",
              "      <td>11992000</td>\n",
              "      <td>100720</td>\n",
              "      <td>0</td>\n",
              "      <td>2.0</td>\n",
              "      <td>840.0</td>\n",
              "    </tr>\n",
              "    <tr>\n",
              "      <th>195</th>\n",
              "      <td>C2411</td>\n",
              "      <td>962</td>\n",
              "      <td>아파트</td>\n",
              "      <td>경상남도</td>\n",
              "      <td>국민임대</td>\n",
              "      <td>39.82</td>\n",
              "      <td>179</td>\n",
              "      <td>25.0</td>\n",
              "      <td>A</td>\n",
              "      <td>11992000</td>\n",
              "      <td>100720</td>\n",
              "      <td>0</td>\n",
              "      <td>2.0</td>\n",
              "      <td>840.0</td>\n",
              "    </tr>\n",
              "    <tr>\n",
              "      <th>196</th>\n",
              "      <td>C2411</td>\n",
              "      <td>962</td>\n",
              "      <td>아파트</td>\n",
              "      <td>경상남도</td>\n",
              "      <td>국민임대</td>\n",
              "      <td>46.90</td>\n",
              "      <td>240</td>\n",
              "      <td>25.0</td>\n",
              "      <td>A</td>\n",
              "      <td>71950000</td>\n",
              "      <td>37470</td>\n",
              "      <td>0</td>\n",
              "      <td>2.0</td>\n",
              "      <td>840.0</td>\n",
              "    </tr>\n",
              "    <tr>\n",
              "      <th>197</th>\n",
              "      <td>C2411</td>\n",
              "      <td>962</td>\n",
              "      <td>아파트</td>\n",
              "      <td>경상남도</td>\n",
              "      <td>국민임대</td>\n",
              "      <td>51.93</td>\n",
              "      <td>150</td>\n",
              "      <td>25.0</td>\n",
              "      <td>A</td>\n",
              "      <td>21586000</td>\n",
              "      <td>171480</td>\n",
              "      <td>0</td>\n",
              "      <td>2.0</td>\n",
              "      <td>840.0</td>\n",
              "    </tr>\n",
              "    <tr>\n",
              "      <th>258</th>\n",
              "      <td>C2253</td>\n",
              "      <td>1161</td>\n",
              "      <td>아파트</td>\n",
              "      <td>강원도</td>\n",
              "      <td>영구임대</td>\n",
              "      <td>26.37</td>\n",
              "      <td>745</td>\n",
              "      <td>0.0</td>\n",
              "      <td>C</td>\n",
              "      <td>2249000</td>\n",
              "      <td>44770</td>\n",
              "      <td>0</td>\n",
              "      <td>2.0</td>\n",
              "      <td>173.0</td>\n",
              "    </tr>\n",
              "    <tr>\n",
              "      <th>259</th>\n",
              "      <td>C2253</td>\n",
              "      <td>1161</td>\n",
              "      <td>아파트</td>\n",
              "      <td>강원도</td>\n",
              "      <td>영구임대</td>\n",
              "      <td>31.32</td>\n",
              "      <td>239</td>\n",
              "      <td>0.0</td>\n",
              "      <td>C</td>\n",
              "      <td>3731000</td>\n",
              "      <td>83020</td>\n",
              "      <td>0</td>\n",
              "      <td>2.0</td>\n",
              "      <td>173.0</td>\n",
              "    </tr>\n",
              "    <tr>\n",
              "      <th>260</th>\n",
              "      <td>C2253</td>\n",
              "      <td>1161</td>\n",
              "      <td>아파트</td>\n",
              "      <td>강원도</td>\n",
              "      <td>영구임대</td>\n",
              "      <td>31.32</td>\n",
              "      <td>149</td>\n",
              "      <td>0.0</td>\n",
              "      <td>C</td>\n",
              "      <td>3731000</td>\n",
              "      <td>83020</td>\n",
              "      <td>0</td>\n",
              "      <td>2.0</td>\n",
              "      <td>173.0</td>\n",
              "    </tr>\n",
              "    <tr>\n",
              "      <th>261</th>\n",
              "      <td>C2253</td>\n",
              "      <td>1161</td>\n",
              "      <td>상가</td>\n",
              "      <td>강원도</td>\n",
              "      <td>임대상가</td>\n",
              "      <td>13.77</td>\n",
              "      <td>1</td>\n",
              "      <td>0.0</td>\n",
              "      <td>D</td>\n",
              "      <td>NaN</td>\n",
              "      <td>NaN</td>\n",
              "      <td>0</td>\n",
              "      <td>2.0</td>\n",
              "      <td>173.0</td>\n",
              "    </tr>\n",
              "    <tr>\n",
              "      <th>262</th>\n",
              "      <td>C2253</td>\n",
              "      <td>1161</td>\n",
              "      <td>상가</td>\n",
              "      <td>강원도</td>\n",
              "      <td>임대상가</td>\n",
              "      <td>22.89</td>\n",
              "      <td>1</td>\n",
              "      <td>0.0</td>\n",
              "      <td>D</td>\n",
              "      <td>NaN</td>\n",
              "      <td>NaN</td>\n",
              "      <td>0</td>\n",
              "      <td>2.0</td>\n",
              "      <td>173.0</td>\n",
              "    </tr>\n",
              "  </tbody>\n",
              "</table>\n",
              "</div>\n",
              "      <button class=\"colab-df-convert\" onclick=\"convertToInteractive('df-494270ba-e3e8-4fa8-a8dc-c85ca7c0027d')\"\n",
              "              title=\"Convert this dataframe to an interactive table.\"\n",
              "              style=\"display:none;\">\n",
              "        \n",
              "  <svg xmlns=\"http://www.w3.org/2000/svg\" height=\"24px\"viewBox=\"0 0 24 24\"\n",
              "       width=\"24px\">\n",
              "    <path d=\"M0 0h24v24H0V0z\" fill=\"none\"/>\n",
              "    <path d=\"M18.56 5.44l.94 2.06.94-2.06 2.06-.94-2.06-.94-.94-2.06-.94 2.06-2.06.94zm-11 1L8.5 8.5l.94-2.06 2.06-.94-2.06-.94L8.5 2.5l-.94 2.06-2.06.94zm10 10l.94 2.06.94-2.06 2.06-.94-2.06-.94-.94-2.06-.94 2.06-2.06.94z\"/><path d=\"M17.41 7.96l-1.37-1.37c-.4-.4-.92-.59-1.43-.59-.52 0-1.04.2-1.43.59L10.3 9.45l-7.72 7.72c-.78.78-.78 2.05 0 2.83L4 21.41c.39.39.9.59 1.41.59.51 0 1.02-.2 1.41-.59l7.78-7.78 2.81-2.81c.8-.78.8-2.07 0-2.86zM5.41 20L4 18.59l7.72-7.72 1.47 1.35L5.41 20z\"/>\n",
              "  </svg>\n",
              "      </button>\n",
              "      \n",
              "  <style>\n",
              "    .colab-df-container {\n",
              "      display:flex;\n",
              "      flex-wrap:wrap;\n",
              "      gap: 12px;\n",
              "    }\n",
              "\n",
              "    .colab-df-convert {\n",
              "      background-color: #E8F0FE;\n",
              "      border: none;\n",
              "      border-radius: 50%;\n",
              "      cursor: pointer;\n",
              "      display: none;\n",
              "      fill: #1967D2;\n",
              "      height: 32px;\n",
              "      padding: 0 0 0 0;\n",
              "      width: 32px;\n",
              "    }\n",
              "\n",
              "    .colab-df-convert:hover {\n",
              "      background-color: #E2EBFA;\n",
              "      box-shadow: 0px 1px 2px rgba(60, 64, 67, 0.3), 0px 1px 3px 1px rgba(60, 64, 67, 0.15);\n",
              "      fill: #174EA6;\n",
              "    }\n",
              "\n",
              "    [theme=dark] .colab-df-convert {\n",
              "      background-color: #3B4455;\n",
              "      fill: #D2E3FC;\n",
              "    }\n",
              "\n",
              "    [theme=dark] .colab-df-convert:hover {\n",
              "      background-color: #434B5C;\n",
              "      box-shadow: 0px 1px 3px 1px rgba(0, 0, 0, 0.15);\n",
              "      filter: drop-shadow(0px 1px 2px rgba(0, 0, 0, 0.3));\n",
              "      fill: #FFFFFF;\n",
              "    }\n",
              "  </style>\n",
              "\n",
              "      <script>\n",
              "        const buttonEl =\n",
              "          document.querySelector('#df-494270ba-e3e8-4fa8-a8dc-c85ca7c0027d button.colab-df-convert');\n",
              "        buttonEl.style.display =\n",
              "          google.colab.kernel.accessAllowed ? 'block' : 'none';\n",
              "\n",
              "        async function convertToInteractive(key) {\n",
              "          const element = document.querySelector('#df-494270ba-e3e8-4fa8-a8dc-c85ca7c0027d');\n",
              "          const dataTable =\n",
              "            await google.colab.kernel.invokeFunction('convertToInteractive',\n",
              "                                                     [key], {});\n",
              "          if (!dataTable) return;\n",
              "\n",
              "          const docLinkHtml = 'Like what you see? Visit the ' +\n",
              "            '<a target=\"_blank\" href=https://colab.research.google.com/notebooks/data_table.ipynb>data table notebook</a>'\n",
              "            + ' to learn more about interactive tables.';\n",
              "          element.innerHTML = '';\n",
              "          dataTable['output_type'] = 'display_data';\n",
              "          await google.colab.output.renderOutput(dataTable, element);\n",
              "          const docLink = document.createElement('div');\n",
              "          docLink.innerHTML = docLinkHtml;\n",
              "          element.appendChild(docLink);\n",
              "        }\n",
              "      </script>\n",
              "    </div>\n",
              "  </div>\n",
              "  "
            ]
          },
          "metadata": {},
          "execution_count": 17
        }
      ]
    },
    {
      "cell_type": "markdown",
      "source": [
        "### 2. 데이터 전처리\n",
        "### 2-3. 결측치 대체\n",
        "#### 3) **임대보증금 / 임대료**\n",
        "- **공급유형**이 '**임대상가**'/'**공공분양**'/'**행복주택**'/'**국민임대**'/'**영구임대**'인 일부의 경우 임대보증금과 임대료의 값이 비어있으며 결측값 '-'로 존재한다.\n",
        "- **지역, 세대수, 전용면적, 전용면적별세대수** 정보를 바탕으로 실제 임대 모집 공고와 비교를 통해 결측값을 대체한다.\n",
        "- 동일 전용면적 아래 공급대상의 유형이 구분되어 있는 경우에는 전용면적별 평균값으로 대체한다.\n",
        "- 실제 데이터를 기반으로 대체되지 못한 경우에는 결측값을 0으로 대체한 후 데이터 타입을 int형으로 변경한다."
      ],
      "metadata": {
        "id": "dYytUcCEeM7N"
      }
    },
    {
      "cell_type": "markdown",
      "source": [
        "[train data] C1786 | 강원도 | 행복주택 | 총 480세대 : 춘천거두2 행복주택\n",
        "\n",
        "춘천거두2 행복주택 임대조건 : https://www.myhome.go.kr/hws/portal/sch/selectRsdtRcritNtcDetailView.do?pblancId=1425"
      ],
      "metadata": {
        "id": "NRtl3ybF9PH0"
      }
    },
    {
      "cell_type": "code",
      "source": [
        "# 전용면적 16.91\n",
        "train.loc[(train['단지코드']=='C1786') & (train['전용면적']==16.91), '임대보증금'] = 13450000\n",
        "train.loc[(train['단지코드']=='C1786') & (train['전용면적']==16.91), '임대료'] = 65500\n",
        "\n",
        "# 전용면적 26.9\n",
        "train.loc[(train['단지코드']=='C1786') & (train['전용면적']==26.9), '임대보증금'] = 21400000\n",
        "train.loc[(train['단지코드']=='C1786') & (train['전용면적']==26.9), '임대료'] = 105000"
      ],
      "metadata": {
        "id": "qBdK1QZw8hL0"
      },
      "execution_count": null,
      "outputs": []
    },
    {
      "cell_type": "markdown",
      "source": [
        "[train data] C1326 | 부산광역시 | 국민임대 | 총 1934세대 : 부산정관 7단지 A-1블록\n",
        "\n",
        "부산정관 7단지 A-1BL 국민임대 모집공고 : https://www.myhome.go.kr/hws/portal/sch/selectRsdtRcritNtcDetailView.do?pblancId=915\""
      ],
      "metadata": {
        "id": "wLbS8c1q-Mnu"
      }
    },
    {
      "cell_type": "code",
      "source": [
        "# 전용면적 24.72\n",
        "train.loc[(train['단지코드']=='C1326') & (train['전용면적']==24.72), '임대보증금'] = 7000000\n",
        "train.loc[(train['단지코드']=='C1326') & (train['전용면적']==24.72), '임대료'] = 135000\n",
        "\n",
        "# 전용면적 24.79\n",
        "train.loc[(train['단지코드']=='C1326') & (train['전용면적']==24.79), '임대보증금'] = 7000000\n",
        "train.loc[(train['단지코드']=='C1326') & (train['전용면적']==24.79), '임대료'] = 135000\n",
        "\n",
        "# 전용면적 26.83\n",
        "train.loc[(train['단지코드']=='C1326') & (train['전용면적']==26.83), '임대보증금'] = 7600000\n",
        "train.loc[(train['단지코드']=='C1326') & (train['전용면적']==26.83), '임대료'] = 142000\n",
        "\n",
        "# 전용면적 37.70\n",
        "train.loc[(train['단지코드']=='C1326') & (train['전용면적']==37.70), '임대보증금'] = 14800000\n",
        "train.loc[(train['단지코드']=='C1326') & (train['전용면적']==37.70), '임대료'] = 198000\n",
        "\n",
        "# 전용면적 46.94\n",
        "train.loc[(train['단지코드']=='C1326') & (train['전용면적']==46.94), '임대보증금'] = 23100000\n",
        "train.loc[(train['단지코드']=='C1326') & (train['전용면적']==46.94), '임대료'] = 259000"
      ],
      "metadata": {
        "id": "4h3OVSpD9-mM"
      },
      "execution_count": null,
      "outputs": []
    },
    {
      "cell_type": "markdown",
      "source": [
        "[train data] C2186 | 대구광역시 | 국민임대 | 총 924세대 : 대구연경 A-2블록 국민임대주택\n",
        "\n",
        "대구연경 A-2블록 국민임대주택 입주자모집 안내 : https://m.blog.naver.com/PostView.nhn?isHttpsRedirect=true&blogId=sugar9025404&logNo=221577519654&categoryNo=59&proxyReferer="
      ],
      "metadata": {
        "id": "Y6bSJblx-_7t"
      }
    },
    {
      "cell_type": "code",
      "source": [
        "# 전용면적 29.17\n",
        "train.loc[(train['단지코드']=='C2186') & (train['전용면적']==29.17), '임대보증금'] = 10847000\n",
        "train.loc[(train['단지코드']=='C2186') & (train['전용면적']==29.17), '임대료'] = 138600\n",
        "\n",
        "# 전용면적 29.34\n",
        "train.loc[(train['단지코드']=='C2186') & (train['전용면적']==29.34), '임대보증금'] = 10847000\n",
        "train.loc[(train['단지코드']=='C2186') & (train['전용면적']==29.34), '임대료'] = 138600\n",
        "\n",
        "# 전용면적 37.43\n",
        "train.loc[(train['단지코드']=='C2186') & (train['전용면적']==37.43), '임대보증금'] = 17338000\n",
        "train.loc[(train['단지코드']=='C2186') & (train['전용면적']==37.43), '임대료'] = 197500"
      ],
      "metadata": {
        "id": "2Osdb25nBjTQ"
      },
      "execution_count": null,
      "outputs": []
    },
    {
      "cell_type": "markdown",
      "source": [
        "[test data] C2152 | 강원도 | 영구임대 | 총 120세대 : 화천신읍 공공실버주택\n",
        "\n",
        "화천신읍 공공실버주택 예비입주자 모집 : https://www.myhome.go.kr/hws/portal/sch/selectRsdtRcritNtcDetailView.do?pblancId=9070"
      ],
      "metadata": {
        "id": "duzXizRiCH2e"
      }
    },
    {
      "cell_type": "code",
      "source": [
        "# 전용면적 24.83\n",
        "test.loc[(test['단지코드']=='C2152') & (test['전용면적']==24.83), '임대보증금'] = 2129000\n",
        "test.loc[(test['단지코드']=='C2152') & (test['전용면적']==24.83), '임대료'] = 42350\n",
        "\n",
        "# 전용면적 33.84\n",
        "test.loc[(test['단지코드']=='C2152') & (test['전용면적']==33.84), '임대보증금'] = 2902000\n",
        "test.loc[(test['단지코드']=='C2152') & (test['전용면적']==33.84), '임대료'] = 57730"
      ],
      "metadata": {
        "id": "_bLBWPsnCau3"
      },
      "execution_count": null,
      "outputs": []
    },
    {
      "cell_type": "markdown",
      "source": [
        "[test data] C1267 | 경상남도 | 행복주택 | 총 675세대 : 창원가포 A-1블록 행복주택\n",
        "\n",
        "창원가포 A-1블록 행복주택 입주자 모집공고 : https://www.myhome.go.kr/hws/portal/sch/selectRsdtRcritNtcDetailView.do?pblancId=6373"
      ],
      "metadata": {
        "id": "hkVODeyVC5Oo"
      }
    },
    {
      "cell_type": "code",
      "source": [
        "# 전용면적 16.94\n",
        "test.loc[(test['단지코드']=='C1267') & (test['전용면적']==16.94), '임대보증금'] = 11200000\n",
        "test.loc[(test['단지코드']=='C1267') & (test['전용면적']==16.94), '임대료'] = 53200\n",
        "\n",
        "# 전용면적 26.85\n",
        "test.loc[(test['단지코드']=='C1267') & (test['전용면적']==26.85), '임대보증금'] = 18620000\n",
        "test.loc[(test['단지코드']=='C1267') & (test['전용면적']==26.85), '임대료'] = 88440\n",
        "\n",
        "# 전용면적 36.77\n",
        "test.loc[(test['단지코드']=='C1267') & (test['전용면적']==36.77), '임대보증금'] = 23760000\n",
        "test.loc[(test['단지코드']=='C1267') & (test['전용면적']==36.77), '임대료'] = 112860"
      ],
      "metadata": {
        "id": "UliP50E-C8yE"
      },
      "execution_count": null,
      "outputs": []
    },
    {
      "cell_type": "markdown",
      "source": [
        "[test data] C1006 | 대전광역시 | 임대상가 | 총 1505세대 : 대전둔산1단지\n",
        "\n",
        "일부 '**영구임대**' 아파트 입주 **자격유형**이 D로 되어있음 → **C**로 변경\n",
        "\n",
        "> 영구임대 : 총 1491 세대\n",
        "- 전용면적 26.37 : 1193 세대 (테스트 데이터상 총 1181세대 - 12세대 부족함)\n",
        "- 전용면적 31.32 : 298 세대\n",
        "- 전용면적 52.74 (세대통합형) : (테스트 데이터상 6세대. 실제인지는 확인하지 못함)\n",
        "\n",
        "> 임대상가 : 총 20 호\n",
        "\n",
        "대전둔산1단지 임대상가 입점자 모집공고 : https://apply.lh.or.kr/LH/index.html?gv_url=SIL::CLCC_SIL_1080.xfdl&gv_menuId=1010205&gv_param=CCR_CNNT_SYS_DS_CD:04,PAN_ID:LN-0001525,LCC:Y#MN::CLCC_MN_0010:\n",
        "\n",
        "대전둔산1 영구임대주택 그린리모델링세대 입주자 자격완화 모집 : https://www.myhome.go.kr/hws/portal/sch/selectRsdtRcritNtcDetailView.do?pblancId=8399"
      ],
      "metadata": {
        "id": "ODs10uDaD08Y"
      }
    },
    {
      "cell_type": "code",
      "source": [
        "# 전용면적 26.37\n",
        "test.loc[(test['단지코드']=='C1006') & (test['전용면적']==26.37), '자격유형'] = 'C'\n",
        "test.loc[(test['단지코드']=='C1006') & (test['전용면적']==26.37), '임대보증금'] = 5787000\n",
        "test.loc[(test['단지코드']=='C1006') & (test['전용면적']==26.37), '임대료'] = 79980\n",
        "\n",
        "# 전용면적 52.74\n",
        "test.loc[(test['단지코드']=='C1006') & (test['전용면적']==52.74), '자격유형'] = 'C'\n",
        "test.loc[(test['단지코드']=='C1006') & (test['전용면적']==52.74), '임대보증금'] = 11574000\n",
        "test.loc[(test['단지코드']=='C1006') & (test['전용면적']==52.74), '임대료'] = 159960"
      ],
      "metadata": {
        "id": "qnpsARTXK-ZG"
      },
      "execution_count": null,
      "outputs": []
    },
    {
      "cell_type": "code",
      "source": [
        "# 실제 데이터를 기반으로 변경하지 못하는 결측값을 0으로 대체\n",
        "train[['임대보증금', '임대료']] = train[['임대보증금', '임대료']].fillna('0').replace('-', '0').astype(int)\n",
        "train.dtypes"
      ],
      "metadata": {
        "colab": {
          "base_uri": "https://localhost:8080/"
        },
        "id": "u55zYTzyMSYU",
        "outputId": "a36a26d9-fa7e-4379-addd-307279f20f14"
      },
      "execution_count": null,
      "outputs": [
        {
          "output_type": "execute_result",
          "data": {
            "text/plain": [
              "단지코드         object\n",
              "총세대수          int64\n",
              "임대건물구분       object\n",
              "지역           object\n",
              "공급유형         object\n",
              "전용면적        float64\n",
              "전용면적별세대수      int64\n",
              "공가수         float64\n",
              "자격유형         object\n",
              "임대보증금         int64\n",
              "임대료           int64\n",
              "지하철           int64\n",
              "버스            int64\n",
              "단지내주차면수     float64\n",
              "등록차량수       float64\n",
              "dtype: object"
            ]
          },
          "metadata": {},
          "execution_count": 24
        }
      ]
    },
    {
      "cell_type": "code",
      "source": [
        "train.isnull().sum()"
      ],
      "metadata": {
        "colab": {
          "base_uri": "https://localhost:8080/"
        },
        "id": "M735oRbBNTOD",
        "outputId": "dec98769-7a8d-4dad-8259-9fc7f0f88a22"
      },
      "execution_count": null,
      "outputs": [
        {
          "output_type": "execute_result",
          "data": {
            "text/plain": [
              "단지코드        0\n",
              "총세대수        0\n",
              "임대건물구분      0\n",
              "지역          0\n",
              "공급유형        0\n",
              "전용면적        0\n",
              "전용면적별세대수    0\n",
              "공가수         0\n",
              "자격유형        0\n",
              "임대보증금       0\n",
              "임대료         0\n",
              "지하철         0\n",
              "버스          0\n",
              "단지내주차면수     0\n",
              "등록차량수       0\n",
              "dtype: int64"
            ]
          },
          "metadata": {},
          "execution_count": 25
        }
      ]
    },
    {
      "cell_type": "code",
      "source": [
        "# 실제 데이터를 기반으로 변경하지 못하는 결측값을 0으로 대체\n",
        "test[['임대보증금', '임대료']] = test[['임대보증금', '임대료']].fillna('0').replace('-', '0').astype(int)\n",
        "test.dtypes"
      ],
      "metadata": {
        "colab": {
          "base_uri": "https://localhost:8080/"
        },
        "id": "Pgm0GTsZMil7",
        "outputId": "ac6a0559-a792-4c9c-ca6e-495a895f26d9"
      },
      "execution_count": null,
      "outputs": [
        {
          "output_type": "execute_result",
          "data": {
            "text/plain": [
              "단지코드         object\n",
              "총세대수          int64\n",
              "임대건물구분       object\n",
              "지역           object\n",
              "공급유형         object\n",
              "전용면적        float64\n",
              "전용면적별세대수      int64\n",
              "공가수         float64\n",
              "자격유형         object\n",
              "임대보증금         int64\n",
              "임대료           int64\n",
              "지하철           int64\n",
              "버스          float64\n",
              "단지내주차면수     float64\n",
              "dtype: object"
            ]
          },
          "metadata": {},
          "execution_count": 26
        }
      ]
    },
    {
      "cell_type": "code",
      "source": [
        "test.isnull().sum()"
      ],
      "metadata": {
        "colab": {
          "base_uri": "https://localhost:8080/"
        },
        "id": "Km686_MjNWpy",
        "outputId": "881e8c90-3bac-44c4-8b44-f40dc22dc4d8"
      },
      "execution_count": null,
      "outputs": [
        {
          "output_type": "execute_result",
          "data": {
            "text/plain": [
              "단지코드        0\n",
              "총세대수        0\n",
              "임대건물구분      0\n",
              "지역          0\n",
              "공급유형        0\n",
              "전용면적        0\n",
              "전용면적별세대수    0\n",
              "공가수         0\n",
              "자격유형        0\n",
              "임대보증금       0\n",
              "임대료         0\n",
              "지하철         0\n",
              "버스          0\n",
              "단지내주차면수     0\n",
              "dtype: int64"
            ]
          },
          "metadata": {},
          "execution_count": 27
        }
      ]
    },
    {
      "cell_type": "markdown",
      "source": [
        "### 2. 데이터 전처리\n",
        "### 2-4. 오류 데이터 제거\n",
        "- 공지에 올라온 데이터 오류에 대한 사과문 및 처리방안에 따라 오류 데이터 11개 단지를 제외한다."
      ],
      "metadata": {
        "id": "OJcr2rywL0DG"
      }
    },
    {
      "cell_type": "code",
      "source": [
        "error_data = ['C2085', 'C1397', 'C2431', 'C1649', 'C1095', 'C2051', 'C1218', 'C1894', 'C2483', 'C1502', 'C1988']\n",
        "\n",
        "for error in error_data:\n",
        "    error_index = train[train['단지코드']==error].index\n",
        "    train.drop(error_index, inplace=True)"
      ],
      "metadata": {
        "id": "HBPlEpjgPyyU"
      },
      "execution_count": null,
      "outputs": []
    },
    {
      "cell_type": "code",
      "source": [
        "train.shape, test.shape"
      ],
      "metadata": {
        "colab": {
          "base_uri": "https://localhost:8080/"
        },
        "id": "tgiG6d_YQOOU",
        "outputId": "a4373d99-b336-4792-93b9-953013cbf893"
      },
      "execution_count": null,
      "outputs": [
        {
          "output_type": "execute_result",
          "data": {
            "text/plain": [
              "((2876, 15), (1022, 14))"
            ]
          },
          "metadata": {},
          "execution_count": 29
        }
      ]
    },
    {
      "cell_type": "markdown",
      "source": [
        "### 2. 데이터 전처리\n",
        "### 2-5. 파생변수 생성\n",
        "1) **지역**\n",
        "- 지역 피처의 수준이 16개로 비교적 많은 편에 속한다.\n",
        "- **등록차량수의 중앙값**을 기준으로 하여 **지역을 5개 그룹으로 통합**한다.\n",
        " - 0 : 대전광역시, 충청남도, 부산광역시, 제주특별자치도\n",
        " - 1 : 강원도, 경상남도, 울산광역시\n",
        " - 2 : 전라남도, 전라북도, 충청북도\n",
        " - 3 : 경상북도, 광주광역시, 서울특별시\n",
        " - 4 : 경기도, 대구광역시, 세종특별시"
      ],
      "metadata": {
        "id": "Kq4GBco5Qd-6"
      }
    },
    {
      "cell_type": "code",
      "source": [
        "plt.figure(figsize=(16, 8))\n",
        "sns.boxplot(x='지역', y='등록차량수', data=train)\n",
        "plt.show()"
      ],
      "metadata": {
        "colab": {
          "base_uri": "https://localhost:8080/",
          "height": 497
        },
        "id": "ApAfiwaaQ7ag",
        "outputId": "06776ca3-ab2c-4636-e44e-6ef3978aa587"
      },
      "execution_count": null,
      "outputs": [
        {
          "output_type": "display_data",
          "data": {
            "text/plain": [
              "<Figure size 1152x576 with 1 Axes>"
            ],
            "image/png": "[encoded data removed]"
          },
          "metadata": {
            "needs_background": "light"
          }
        }
      ]
    },
    {
      "cell_type": "code",
      "source": [
        "# 지역별 샘플수(count)와 등록차량수의 중앙값(median)을 산출한 후 이를 기준으로 정렬\n",
        "area_groups = pd.DataFrame([\n",
        "    *pd.DataFrame({\n",
        "        '지역' : train['지역'],\n",
        "        '등록차량수' : train['등록차량수'],\n",
        "    })\n",
        "    .groupby(['지역']).apply(lambda x: {\n",
        "        '지역' : x.iloc[0, 0],\n",
        "        'count' : len(x),\n",
        "        'median' : x.등록차량수.median()\n",
        "    })\n",
        "]).sort_values('median')\n",
        "\n",
        "area_groups"
      ],
      "metadata": {
        "colab": {
          "base_uri": "https://localhost:8080/",
          "height": 551
        },
        "id": "CbthnemeRYY4",
        "outputId": "81df39f2-9147-4a1f-b985-792a1bbd51b7"
      },
      "execution_count": null,
      "outputs": [
        {
          "output_type": "execute_result",
          "data": {
            "text/plain": [
              "         지역  count  median\n",
              "6     대전광역시    266   133.0\n",
              "14     충청남도    158   209.0\n",
              "13  제주특별자치도     91   235.0\n",
              "7     부산광역시    328   251.0\n",
              "0       강원도    187   302.0\n",
              "10    울산광역시     34   396.0\n",
              "2      경상남도    363   398.0\n",
              "11     전라남도    147   408.0\n",
              "12     전라북도    109   415.0\n",
              "15     충청북도    163   553.0\n",
              "3      경상북도    111   562.0\n",
              "8     서울특별시     50   645.0\n",
              "4     광주광역시    141   713.0\n",
              "5     대구광역시    102   744.0\n",
              "1       경기도    602   763.0\n",
              "9   세종특별자치시     24  1832.0"
            ],
            "text/html": [
              "\n",
              "  <div id=\"df-8c3eba4a-884d-4324-8e59-4ef11742ec4e\">\n",
              "    <div class=\"colab-df-container\">\n",
              "      <div>\n",
              "<style scoped>\n",
              "    .dataframe tbody tr th:only-of-type {\n",
              "        vertical-align: middle;\n",
              "    }\n",
              "\n",
              "    .dataframe tbody tr th {\n",
              "        vertical-align: top;\n",
              "    }\n",
              "\n",
              "    .dataframe thead th {\n",
              "        text-align: right;\n",
              "    }\n",
              "</style>\n",
              "<table border=\"1\" class=\"dataframe\">\n",
              "  <thead>\n",
              "    <tr style=\"text-align: right;\">\n",
              "      <th></th>\n",
              "      <th>지역</th>\n",
              "      <th>count</th>\n",
              "      <th>median</th>\n",
              "    </tr>\n",
              "  </thead>\n",
              "  <tbody>\n",
              "    <tr>\n",
              "      <th>6</th>\n",
              "      <td>대전광역시</td>\n",
              "      <td>266</td>\n",
              "      <td>133.0</td>\n",
              "    </tr>\n",
              "    <tr>\n",
              "      <th>14</th>\n",
              "      <td>충청남도</td>\n",
              "      <td>158</td>\n",
              "      <td>209.0</td>\n",
              "    </tr>\n",
              "    <tr>\n",
              "      <th>13</th>\n",
              "      <td>제주특별자치도</td>\n",
              "      <td>91</td>\n",
              "      <td>235.0</td>\n",
              "    </tr>\n",
              "    <tr>\n",
              "      <th>7</th>\n",
              "      <td>부산광역시</td>\n",
              "      <td>328</td>\n",
              "      <td>251.0</td>\n",
              "    </tr>\n",
              "    <tr>\n",
              "      <th>0</th>\n",
              "      <td>강원도</td>\n",
              "      <td>187</td>\n",
              "      <td>302.0</td>\n",
              "    </tr>\n",
              "    <tr>\n",
              "      <th>10</th>\n",
              "      <td>울산광역시</td>\n",
              "      <td>34</td>\n",
              "      <td>396.0</td>\n",
              "    </tr>\n",
              "    <tr>\n",
              "      <th>2</th>\n",
              "      <td>경상남도</td>\n",
              "      <td>363</td>\n",
              "      <td>398.0</td>\n",
              "    </tr>\n",
              "    <tr>\n",
              "      <th>11</th>\n",
              "      <td>전라남도</td>\n",
              "      <td>147</td>\n",
              "      <td>408.0</td>\n",
              "    </tr>\n",
              "    <tr>\n",
              "      <th>12</th>\n",
              "      <td>전라북도</td>\n",
              "      <td>109</td>\n",
              "      <td>415.0</td>\n",
              "    </tr>\n",
              "    <tr>\n",
              "      <th>15</th>\n",
              "      <td>충청북도</td>\n",
              "      <td>163</td>\n",
              "      <td>553.0</td>\n",
              "    </tr>\n",
              "    <tr>\n",
              "      <th>3</th>\n",
              "      <td>경상북도</td>\n",
              "      <td>111</td>\n",
              "      <td>562.0</td>\n",
              "    </tr>\n",
              "    <tr>\n",
              "      <th>8</th>\n",
              "      <td>서울특별시</td>\n",
              "      <td>50</td>\n",
              "      <td>645.0</td>\n",
              "    </tr>\n",
              "    <tr>\n",
              "      <th>4</th>\n",
              "      <td>광주광역시</td>\n",
              "      <td>141</td>\n",
              "      <td>713.0</td>\n",
              "    </tr>\n",
              "    <tr>\n",
              "      <th>5</th>\n",
              "      <td>대구광역시</td>\n",
              "      <td>102</td>\n",
              "      <td>744.0</td>\n",
              "    </tr>\n",
              "    <tr>\n",
              "      <th>1</th>\n",
              "      <td>경기도</td>\n",
              "      <td>602</td>\n",
              "      <td>763.0</td>\n",
              "    </tr>\n",
              "    <tr>\n",
              "      <th>9</th>\n",
              "      <td>세종특별자치시</td>\n",
              "      <td>24</td>\n",
              "      <td>1832.0</td>\n",
              "    </tr>\n",
              "  </tbody>\n",
              "</table>\n",
              "</div>\n",
              "      <button class=\"colab-df-convert\" onclick=\"convertToInteractive('df-8c3eba4a-884d-4324-8e59-4ef11742ec4e')\"\n",
              "              title=\"Convert this dataframe to an interactive table.\"\n",
              "              style=\"display:none;\">\n",
              "        \n",
              "  <svg xmlns=\"http://www.w3.org/2000/svg\" height=\"24px\"viewBox=\"0 0 24 24\"\n",
              "       width=\"24px\">\n",
              "    <path d=\"M0 0h24v24H0V0z\" fill=\"none\"/>\n",
              "    <path d=\"M18.56 5.44l.94 2.06.94-2.06 2.06-.94-2.06-.94-.94-2.06-.94 2.06-2.06.94zm-11 1L8.5 8.5l.94-2.06 2.06-.94-2.06-.94L8.5 2.5l-.94 2.06-2.06.94zm10 10l.94 2.06.94-2.06 2.06-.94-2.06-.94-.94-2.06-.94 2.06-2.06.94z\"/><path d=\"M17.41 7.96l-1.37-1.37c-.4-.4-.92-.59-1.43-.59-.52 0-1.04.2-1.43.59L10.3 9.45l-7.72 7.72c-.78.78-.78 2.05 0 2.83L4 21.41c.39.39.9.59 1.41.59.51 0 1.02-.2 1.41-.59l7.78-7.78 2.81-2.81c.8-.78.8-2.07 0-2.86zM5.41 20L4 18.59l7.72-7.72 1.47 1.35L5.41 20z\"/>\n",
              "  </svg>\n",
              "      </button>\n",
              "      \n",
              "  <style>\n",
              "    .colab-df-container {\n",
              "      display:flex;\n",
              "      flex-wrap:wrap;\n",
              "      gap: 12px;\n",
              "    }\n",
              "\n",
              "    .colab-df-convert {\n",
              "      background-color: #E8F0FE;\n",
              "      border: none;\n",
              "      border-radius: 50%;\n",
              "      cursor: pointer;\n",
              "      display: none;\n",
              "      fill: #1967D2;\n",
              "      height: 32px;\n",
              "      padding: 0 0 0 0;\n",
              "      width: 32px;\n",
              "    }\n",
              "\n",
              "    .colab-df-convert:hover {\n",
              "      background-color: #E2EBFA;\n",
              "      box-shadow: 0px 1px 2px rgba(60, 64, 67, 0.3), 0px 1px 3px 1px rgba(60, 64, 67, 0.15);\n",
              "      fill: #174EA6;\n",
              "    }\n",
              "\n",
              "    [theme=dark] .colab-df-convert {\n",
              "      background-color: #3B4455;\n",
              "      fill: #D2E3FC;\n",
              "    }\n",
              "\n",
              "    [theme=dark] .colab-df-convert:hover {\n",
              "      background-color: #434B5C;\n",
              "      box-shadow: 0px 1px 3px 1px rgba(0, 0, 0, 0.15);\n",
              "      filter: drop-shadow(0px 1px 2px rgba(0, 0, 0, 0.3));\n",
              "      fill: #FFFFFF;\n",
              "    }\n",
              "  </style>\n",
              "\n",
              "      <script>\n",
              "        const buttonEl =\n",
              "          document.querySelector('#df-8c3eba4a-884d-4324-8e59-4ef11742ec4e button.colab-df-convert');\n",
              "        buttonEl.style.display =\n",
              "          google.colab.kernel.accessAllowed ? 'block' : 'none';\n",
              "\n",
              "        async function convertToInteractive(key) {\n",
              "          const element = document.querySelector('#df-8c3eba4a-884d-4324-8e59-4ef11742ec4e');\n",
              "          const dataTable =\n",
              "            await google.colab.kernel.invokeFunction('convertToInteractive',\n",
              "                                                     [key], {});\n",
              "          if (!dataTable) return;\n",
              "\n",
              "          const docLinkHtml = 'Like what you see? Visit the ' +\n",
              "            '<a target=\"_blank\" href=https://colab.research.google.com/notebooks/data_table.ipynb>data table notebook</a>'\n",
              "            + ' to learn more about interactive tables.';\n",
              "          element.innerHTML = '';\n",
              "          dataTable['output_type'] = 'display_data';\n",
              "          await google.colab.output.renderOutput(dataTable, element);\n",
              "          const docLink = document.createElement('div');\n",
              "          docLink.innerHTML = docLinkHtml;\n",
              "          element.appendChild(docLink);\n",
              "        }\n",
              "      </script>\n",
              "    </div>\n",
              "  </div>\n",
              "  "
            ]
          },
          "metadata": {},
          "execution_count": 31
        }
      ]
    },
    {
      "cell_type": "code",
      "source": [
        "# 중앙값이 작은 지역부터 누적 샘플크기(cum_count)를 토대로 백분위수를 고려하여 5개 그룹으로 분할\n",
        "area_groups['cum_count'] = np.cumsum(area_groups['count'])\n",
        "area_groups['n지역'] = pd.qcut(area_groups['cum_count'], 5, labels=False, retbins=False)\n",
        "\n",
        "area_groups"
      ],
      "metadata": {
        "id": "hgZxCwDJhf8X",
        "colab": {
          "base_uri": "https://localhost:8080/",
          "height": 551
        },
        "outputId": "d2ad165e-1054-44f9-8f2d-69f33d943ad8"
      },
      "execution_count": null,
      "outputs": [
        {
          "output_type": "execute_result",
          "data": {
            "text/plain": [
              "         지역  count  median  cum_count  n지역\n",
              "6     대전광역시    266   133.0        266    0\n",
              "14     충청남도    158   209.0        424    0\n",
              "13  제주특별자치도     91   235.0        515    0\n",
              "7     부산광역시    328   251.0        843    0\n",
              "0       강원도    187   302.0       1030    1\n",
              "10    울산광역시     34   396.0       1064    1\n",
              "2      경상남도    363   398.0       1427    1\n",
              "11     전라남도    147   408.0       1574    2\n",
              "12     전라북도    109   415.0       1683    2\n",
              "15     충청북도    163   553.0       1846    2\n",
              "3      경상북도    111   562.0       1957    3\n",
              "8     서울특별시     50   645.0       2007    3\n",
              "4     광주광역시    141   713.0       2148    3\n",
              "5     대구광역시    102   744.0       2250    4\n",
              "1       경기도    602   763.0       2852    4\n",
              "9   세종특별자치시     24  1832.0       2876    4"
            ],
            "text/html": [
              "\n",
              "  <div id=\"df-83461dd3-450f-42ec-a7f6-dba4c1ed5f91\">\n",
              "    <div class=\"colab-df-container\">\n",
              "      <div>\n",
              "<style scoped>\n",
              "    .dataframe tbody tr th:only-of-type {\n",
              "        vertical-align: middle;\n",
              "    }\n",
              "\n",
              "    .dataframe tbody tr th {\n",
              "        vertical-align: top;\n",
              "    }\n",
              "\n",
              "    .dataframe thead th {\n",
              "        text-align: right;\n",
              "    }\n",
              "</style>\n",
              "<table border=\"1\" class=\"dataframe\">\n",
              "  <thead>\n",
              "    <tr style=\"text-align: right;\">\n",
              "      <th></th>\n",
              "      <th>지역</th>\n",
              "      <th>count</th>\n",
              "      <th>median</th>\n",
              "      <th>cum_count</th>\n",
              "      <th>n지역</th>\n",
              "    </tr>\n",
              "  </thead>\n",
              "  <tbody>\n",
              "    <tr>\n",
              "      <th>6</th>\n",
              "      <td>대전광역시</td>\n",
              "      <td>266</td>\n",
              "      <td>133.0</td>\n",
              "      <td>266</td>\n",
              "      <td>0</td>\n",
              "    </tr>\n",
              "    <tr>\n",
              "      <th>14</th>\n",
              "      <td>충청남도</td>\n",
              "      <td>158</td>\n",
              "      <td>209.0</td>\n",
              "      <td>424</td>\n",
              "      <td>0</td>\n",
              "    </tr>\n",
              "    <tr>\n",
              "      <th>13</th>\n",
              "      <td>제주특별자치도</td>\n",
              "      <td>91</td>\n",
              "      <td>235.0</td>\n",
              "      <td>515</td>\n",
              "      <td>0</td>\n",
              "    </tr>\n",
              "    <tr>\n",
              "      <th>7</th>\n",
              "      <td>부산광역시</td>\n",
              "      <td>328</td>\n",
              "      <td>251.0</td>\n",
              "      <td>843</td>\n",
              "      <td>0</td>\n",
              "    </tr>\n",
              "    <tr>\n",
              "      <th>0</th>\n",
              "      <td>강원도</td>\n",
              "      <td>187</td>\n",
              "      <td>302.0</td>\n",
              "      <td>1030</td>\n",
              "      <td>1</td>\n",
              "    </tr>\n",
              "    <tr>\n",
              "      <th>10</th>\n",
              "      <td>울산광역시</td>\n",
              "      <td>34</td>\n",
              "      <td>396.0</td>\n",
              "      <td>1064</td>\n",
              "      <td>1</td>\n",
              "    </tr>\n",
              "    <tr>\n",
              "      <th>2</th>\n",
              "      <td>경상남도</td>\n",
              "      <td>363</td>\n",
              "      <td>398.0</td>\n",
              "      <td>1427</td>\n",
              "      <td>1</td>\n",
              "    </tr>\n",
              "    <tr>\n",
              "      <th>11</th>\n",
              "      <td>전라남도</td>\n",
              "      <td>147</td>\n",
              "      <td>408.0</td>\n",
              "      <td>1574</td>\n",
              "      <td>2</td>\n",
              "    </tr>\n",
              "    <tr>\n",
              "      <th>12</th>\n",
              "      <td>전라북도</td>\n",
              "      <td>109</td>\n",
              "      <td>415.0</td>\n",
              "      <td>1683</td>\n",
              "      <td>2</td>\n",
              "    </tr>\n",
              "    <tr>\n",
              "      <th>15</th>\n",
              "      <td>충청북도</td>\n",
              "      <td>163</td>\n",
              "      <td>553.0</td>\n",
              "      <td>1846</td>\n",
              "      <td>2</td>\n",
              "    </tr>\n",
              "    <tr>\n",
              "      <th>3</th>\n",
              "      <td>경상북도</td>\n",
              "      <td>111</td>\n",
              "      <td>562.0</td>\n",
              "      <td>1957</td>\n",
              "      <td>3</td>\n",
              "    </tr>\n",
              "    <tr>\n",
              "      <th>8</th>\n",
              "      <td>서울특별시</td>\n",
              "      <td>50</td>\n",
              "      <td>645.0</td>\n",
              "      <td>2007</td>\n",
              "      <td>3</td>\n",
              "    </tr>\n",
              "    <tr>\n",
              "      <th>4</th>\n",
              "      <td>광주광역시</td>\n",
              "      <td>141</td>\n",
              "      <td>713.0</td>\n",
              "      <td>2148</td>\n",
              "      <td>3</td>\n",
              "    </tr>\n",
              "    <tr>\n",
              "      <th>5</th>\n",
              "      <td>대구광역시</td>\n",
              "      <td>102</td>\n",
              "      <td>744.0</td>\n",
              "      <td>2250</td>\n",
              "      <td>4</td>\n",
              "    </tr>\n",
              "    <tr>\n",
              "      <th>1</th>\n",
              "      <td>경기도</td>\n",
              "      <td>602</td>\n",
              "      <td>763.0</td>\n",
              "      <td>2852</td>\n",
              "      <td>4</td>\n",
              "    </tr>\n",
              "    <tr>\n",
              "      <th>9</th>\n",
              "      <td>세종특별자치시</td>\n",
              "      <td>24</td>\n",
              "      <td>1832.0</td>\n",
              "      <td>2876</td>\n",
              "      <td>4</td>\n",
              "    </tr>\n",
              "  </tbody>\n",
              "</table>\n",
              "</div>\n",
              "      <button class=\"colab-df-convert\" onclick=\"convertToInteractive('df-83461dd3-450f-42ec-a7f6-dba4c1ed5f91')\"\n",
              "              title=\"Convert this dataframe to an interactive table.\"\n",
              "              style=\"display:none;\">\n",
              "        \n",
              "  <svg xmlns=\"http://www.w3.org/2000/svg\" height=\"24px\"viewBox=\"0 0 24 24\"\n",
              "       width=\"24px\">\n",
              "    <path d=\"M0 0h24v24H0V0z\" fill=\"none\"/>\n",
              "    <path d=\"M18.56 5.44l.94 2.06.94-2.06 2.06-.94-2.06-.94-.94-2.06-.94 2.06-2.06.94zm-11 1L8.5 8.5l.94-2.06 2.06-.94-2.06-.94L8.5 2.5l-.94 2.06-2.06.94zm10 10l.94 2.06.94-2.06 2.06-.94-2.06-.94-.94-2.06-.94 2.06-2.06.94z\"/><path d=\"M17.41 7.96l-1.37-1.37c-.4-.4-.92-.59-1.43-.59-.52 0-1.04.2-1.43.59L10.3 9.45l-7.72 7.72c-.78.78-.78 2.05 0 2.83L4 21.41c.39.39.9.59 1.41.59.51 0 1.02-.2 1.41-.59l7.78-7.78 2.81-2.81c.8-.78.8-2.07 0-2.86zM5.41 20L4 18.59l7.72-7.72 1.47 1.35L5.41 20z\"/>\n",
              "  </svg>\n",
              "      </button>\n",
              "      \n",
              "  <style>\n",
              "    .colab-df-container {\n",
              "      display:flex;\n",
              "      flex-wrap:wrap;\n",
              "      gap: 12px;\n",
              "    }\n",
              "\n",
              "    .colab-df-convert {\n",
              "      background-color: #E8F0FE;\n",
              "      border: none;\n",
              "      border-radius: 50%;\n",
              "      cursor: pointer;\n",
              "      display: none;\n",
              "      fill: #1967D2;\n",
              "      height: 32px;\n",
              "      padding: 0 0 0 0;\n",
              "      width: 32px;\n",
              "    }\n",
              "\n",
              "    .colab-df-convert:hover {\n",
              "      background-color: #E2EBFA;\n",
              "      box-shadow: 0px 1px 2px rgba(60, 64, 67, 0.3), 0px 1px 3px 1px rgba(60, 64, 67, 0.15);\n",
              "      fill: #174EA6;\n",
              "    }\n",
              "\n",
              "    [theme=dark] .colab-df-convert {\n",
              "      background-color: #3B4455;\n",
              "      fill: #D2E3FC;\n",
              "    }\n",
              "\n",
              "    [theme=dark] .colab-df-convert:hover {\n",
              "      background-color: #434B5C;\n",
              "      box-shadow: 0px 1px 3px 1px rgba(0, 0, 0, 0.15);\n",
              "      filter: drop-shadow(0px 1px 2px rgba(0, 0, 0, 0.3));\n",
              "      fill: #FFFFFF;\n",
              "    }\n",
              "  </style>\n",
              "\n",
              "      <script>\n",
              "        const buttonEl =\n",
              "          document.querySelector('#df-83461dd3-450f-42ec-a7f6-dba4c1ed5f91 button.colab-df-convert');\n",
              "        buttonEl.style.display =\n",
              "          google.colab.kernel.accessAllowed ? 'block' : 'none';\n",
              "\n",
              "        async function convertToInteractive(key) {\n",
              "          const element = document.querySelector('#df-83461dd3-450f-42ec-a7f6-dba4c1ed5f91');\n",
              "          const dataTable =\n",
              "            await google.colab.kernel.invokeFunction('convertToInteractive',\n",
              "                                                     [key], {});\n",
              "          if (!dataTable) return;\n",
              "\n",
              "          const docLinkHtml = 'Like what you see? Visit the ' +\n",
              "            '<a target=\"_blank\" href=https://colab.research.google.com/notebooks/data_table.ipynb>data table notebook</a>'\n",
              "            + ' to learn more about interactive tables.';\n",
              "          element.innerHTML = '';\n",
              "          dataTable['output_type'] = 'display_data';\n",
              "          await google.colab.output.renderOutput(dataTable, element);\n",
              "          const docLink = document.createElement('div');\n",
              "          docLink.innerHTML = docLinkHtml;\n",
              "          element.appendChild(docLink);\n",
              "        }\n",
              "      </script>\n",
              "    </div>\n",
              "  </div>\n",
              "  "
            ]
          },
          "metadata": {},
          "execution_count": 32
        }
      ]
    },
    {
      "cell_type": "code",
      "source": [
        "to_join = area_groups[['지역', 'n지역']].set_index('지역')\n",
        "train = train.join(to_join, on='지역')\n",
        "train['n지역'] = train['n지역'].astype('category')\n",
        "\n",
        "train = train[['단지코드', '총세대수', '임대건물구분', '지역', 'n지역', '공급유형', '전용면적', '전용면적별세대수', '공가수', '자격유형', '임대보증금', '임대료', '지하철', '버스', '단지내주차면수', '등록차량수']]\n",
        "train.head(3)"
      ],
      "metadata": {
        "colab": {
          "base_uri": "https://localhost:8080/",
          "height": 143
        },
        "id": "uVxCLya6hTtN",
        "outputId": "3cda39d5-90db-4508-bc1a-b8f99a97aa0e"
      },
      "execution_count": null,
      "outputs": [
        {
          "output_type": "execute_result",
          "data": {
            "text/plain": [
              "     단지코드  총세대수 임대건물구분    지역 n지역  공급유형   전용면적  전용면적별세대수   공가수 자격유형     임대보증금  \\\n",
              "8   C2515   545    아파트  경상남도   1  국민임대  33.48       276  17.0    A   9216000   \n",
              "9   C2515   545    아파트  경상남도   1  국민임대  39.60        60  17.0    A  12672000   \n",
              "10  C2515   545    아파트  경상남도   1  국민임대  39.60        20  17.0    A  12672000   \n",
              "\n",
              "       임대료  지하철  버스  단지내주차면수  등록차량수  \n",
              "8    82940    0   3    624.0  205.0  \n",
              "9   107130    0   3    624.0  205.0  \n",
              "10  107130    0   3    624.0  205.0  "
            ],
            "text/html": [
              "\n",
              "  <div id=\"df-d1143226-918e-438b-8774-37c4bf2fda06\">\n",
              "    <div class=\"colab-df-container\">\n",
              "      <div>\n",
              "<style scoped>\n",
              "    .dataframe tbody tr th:only-of-type {\n",
              "        vertical-align: middle;\n",
              "    }\n",
              "\n",
              "    .dataframe tbody tr th {\n",
              "        vertical-align: top;\n",
              "    }\n",
              "\n",
              "    .dataframe thead th {\n",
              "        text-align: right;\n",
              "    }\n",
              "</style>\n",
              "<table border=\"1\" class=\"dataframe\">\n",
              "  <thead>\n",
              "    <tr style=\"text-align: right;\">\n",
              "      <th></th>\n",
              "      <th>단지코드</th>\n",
              "      <th>총세대수</th>\n",
              "      <th>임대건물구분</th>\n",
              "      <th>지역</th>\n",
              "      <th>n지역</th>\n",
              "      <th>공급유형</th>\n",
              "      <th>전용면적</th>\n",
              "      <th>전용면적별세대수</th>\n",
              "      <th>공가수</th>\n",
              "      <th>자격유형</th>\n",
              "      <th>임대보증금</th>\n",
              "      <th>임대료</th>\n",
              "      <th>지하철</th>\n",
              "      <th>버스</th>\n",
              "      <th>단지내주차면수</th>\n",
              "      <th>등록차량수</th>\n",
              "    </tr>\n",
              "  </thead>\n",
              "  <tbody>\n",
              "    <tr>\n",
              "      <th>8</th>\n",
              "      <td>C2515</td>\n",
              "      <td>545</td>\n",
              "      <td>아파트</td>\n",
              "      <td>경상남도</td>\n",
              "      <td>1</td>\n",
              "      <td>국민임대</td>\n",
              "      <td>33.48</td>\n",
              "      <td>276</td>\n",
              "      <td>17.0</td>\n",
              "      <td>A</td>\n",
              "      <td>9216000</td>\n",
              "      <td>82940</td>\n",
              "      <td>0</td>\n",
              "      <td>3</td>\n",
              "      <td>624.0</td>\n",
              "      <td>205.0</td>\n",
              "    </tr>\n",
              "    <tr>\n",
              "      <th>9</th>\n",
              "      <td>C2515</td>\n",
              "      <td>545</td>\n",
              "      <td>아파트</td>\n",
              "      <td>경상남도</td>\n",
              "      <td>1</td>\n",
              "      <td>국민임대</td>\n",
              "      <td>39.60</td>\n",
              "      <td>60</td>\n",
              "      <td>17.0</td>\n",
              "      <td>A</td>\n",
              "      <td>12672000</td>\n",
              "      <td>107130</td>\n",
              "      <td>0</td>\n",
              "      <td>3</td>\n",
              "      <td>624.0</td>\n",
              "      <td>205.0</td>\n",
              "    </tr>\n",
              "    <tr>\n",
              "      <th>10</th>\n",
              "      <td>C2515</td>\n",
              "      <td>545</td>\n",
              "      <td>아파트</td>\n",
              "      <td>경상남도</td>\n",
              "      <td>1</td>\n",
              "      <td>국민임대</td>\n",
              "      <td>39.60</td>\n",
              "      <td>20</td>\n",
              "      <td>17.0</td>\n",
              "      <td>A</td>\n",
              "      <td>12672000</td>\n",
              "      <td>107130</td>\n",
              "      <td>0</td>\n",
              "      <td>3</td>\n",
              "      <td>624.0</td>\n",
              "      <td>205.0</td>\n",
              "    </tr>\n",
              "  </tbody>\n",
              "</table>\n",
              "</div>\n",
              "      <button class=\"colab-df-convert\" onclick=\"convertToInteractive('df-d1143226-918e-438b-8774-37c4bf2fda06')\"\n",
              "              title=\"Convert this dataframe to an interactive table.\"\n",
              "              style=\"display:none;\">\n",
              "        \n",
              "  <svg xmlns=\"http://www.w3.org/2000/svg\" height=\"24px\"viewBox=\"0 0 24 24\"\n",
              "       width=\"24px\">\n",
              "    <path d=\"M0 0h24v24H0V0z\" fill=\"none\"/>\n",
              "    <path d=\"M18.56 5.44l.94 2.06.94-2.06 2.06-.94-2.06-.94-.94-2.06-.94 2.06-2.06.94zm-11 1L8.5 8.5l.94-2.06 2.06-.94-2.06-.94L8.5 2.5l-.94 2.06-2.06.94zm10 10l.94 2.06.94-2.06 2.06-.94-2.06-.94-.94-2.06-.94 2.06-2.06.94z\"/><path d=\"M17.41 7.96l-1.37-1.37c-.4-.4-.92-.59-1.43-.59-.52 0-1.04.2-1.43.59L10.3 9.45l-7.72 7.72c-.78.78-.78 2.05 0 2.83L4 21.41c.39.39.9.59 1.41.59.51 0 1.02-.2 1.41-.59l7.78-7.78 2.81-2.81c.8-.78.8-2.07 0-2.86zM5.41 20L4 18.59l7.72-7.72 1.47 1.35L5.41 20z\"/>\n",
              "  </svg>\n",
              "      </button>\n",
              "      \n",
              "  <style>\n",
              "    .colab-df-container {\n",
              "      display:flex;\n",
              "      flex-wrap:wrap;\n",
              "      gap: 12px;\n",
              "    }\n",
              "\n",
              "    .colab-df-convert {\n",
              "      background-color: #E8F0FE;\n",
              "      border: none;\n",
              "      border-radius: 50%;\n",
              "      cursor: pointer;\n",
              "      display: none;\n",
              "      fill: #1967D2;\n",
              "      height: 32px;\n",
              "      padding: 0 0 0 0;\n",
              "      width: 32px;\n",
              "    }\n",
              "\n",
              "    .colab-df-convert:hover {\n",
              "      background-color: #E2EBFA;\n",
              "      box-shadow: 0px 1px 2px rgba(60, 64, 67, 0.3), 0px 1px 3px 1px rgba(60, 64, 67, 0.15);\n",
              "      fill: #174EA6;\n",
              "    }\n",
              "\n",
              "    [theme=dark] .colab-df-convert {\n",
              "      background-color: #3B4455;\n",
              "      fill: #D2E3FC;\n",
              "    }\n",
              "\n",
              "    [theme=dark] .colab-df-convert:hover {\n",
              "      background-color: #434B5C;\n",
              "      box-shadow: 0px 1px 3px 1px rgba(0, 0, 0, 0.15);\n",
              "      filter: drop-shadow(0px 1px 2px rgba(0, 0, 0, 0.3));\n",
              "      fill: #FFFFFF;\n",
              "    }\n",
              "  </style>\n",
              "\n",
              "      <script>\n",
              "        const buttonEl =\n",
              "          document.querySelector('#df-d1143226-918e-438b-8774-37c4bf2fda06 button.colab-df-convert');\n",
              "        buttonEl.style.display =\n",
              "          google.colab.kernel.accessAllowed ? 'block' : 'none';\n",
              "\n",
              "        async function convertToInteractive(key) {\n",
              "          const element = document.querySelector('#df-d1143226-918e-438b-8774-37c4bf2fda06');\n",
              "          const dataTable =\n",
              "            await google.colab.kernel.invokeFunction('convertToInteractive',\n",
              "                                                     [key], {});\n",
              "          if (!dataTable) return;\n",
              "\n",
              "          const docLinkHtml = 'Like what you see? Visit the ' +\n",
              "            '<a target=\"_blank\" href=https://colab.research.google.com/notebooks/data_table.ipynb>data table notebook</a>'\n",
              "            + ' to learn more about interactive tables.';\n",
              "          element.innerHTML = '';\n",
              "          dataTable['output_type'] = 'display_data';\n",
              "          await google.colab.output.renderOutput(dataTable, element);\n",
              "          const docLink = document.createElement('div');\n",
              "          docLink.innerHTML = docLinkHtml;\n",
              "          element.appendChild(docLink);\n",
              "        }\n",
              "      </script>\n",
              "    </div>\n",
              "  </div>\n",
              "  "
            ]
          },
          "metadata": {},
          "execution_count": 33
        }
      ]
    },
    {
      "cell_type": "code",
      "source": [
        "# test 데이터의 5번째 칼럼으로 n지역 칼럼을 추가\n",
        "test.insert(4, 'n지역','') # insert(위치, 칼럼명, 내용)\n",
        "test.head(3)"
      ],
      "metadata": {
        "colab": {
          "base_uri": "https://localhost:8080/",
          "height": 143
        },
        "id": "WXjtcFF0ig_6",
        "outputId": "f53f0439-4b60-4045-e67e-dc6f845f2c9b"
      },
      "execution_count": null,
      "outputs": [
        {
          "output_type": "execute_result",
          "data": {
            "text/plain": [
              "    단지코드  총세대수 임대건물구분   지역 n지역  공급유형   전용면적  전용면적별세대수   공가수 자격유형     임대보증금  \\\n",
              "0  C1072   754    아파트  경기도      국민임대  39.79       116  14.0    H  22830000   \n",
              "1  C1072   754    아파트  경기도      국민임대  46.81        30  14.0    A  36048000   \n",
              "2  C1072   754    아파트  경기도      국민임대  46.90       112  14.0    H  36048000   \n",
              "\n",
              "      임대료  지하철   버스  단지내주차면수  \n",
              "0  189840    0  2.0    683.0  \n",
              "1  249930    0  2.0    683.0  \n",
              "2  249930    0  2.0    683.0  "
            ],
            "text/html": [
              "\n",
              "  <div id=\"df-2d8cf940-2bf6-4765-9ab1-eb06e252ac02\">\n",
              "    <div class=\"colab-df-container\">\n",
              "      <div>\n",
              "<style scoped>\n",
              "    .dataframe tbody tr th:only-of-type {\n",
              "        vertical-align: middle;\n",
              "    }\n",
              "\n",
              "    .dataframe tbody tr th {\n",
              "        vertical-align: top;\n",
              "    }\n",
              "\n",
              "    .dataframe thead th {\n",
              "        text-align: right;\n",
              "    }\n",
              "</style>\n",
              "<table border=\"1\" class=\"dataframe\">\n",
              "  <thead>\n",
              "    <tr style=\"text-align: right;\">\n",
              "      <th></th>\n",
              "      <th>단지코드</th>\n",
              "      <th>총세대수</th>\n",
              "      <th>임대건물구분</th>\n",
              "      <th>지역</th>\n",
              "      <th>n지역</th>\n",
              "      <th>공급유형</th>\n",
              "      <th>전용면적</th>\n",
              "      <th>전용면적별세대수</th>\n",
              "      <th>공가수</th>\n",
              "      <th>자격유형</th>\n",
              "      <th>임대보증금</th>\n",
              "      <th>임대료</th>\n",
              "      <th>지하철</th>\n",
              "      <th>버스</th>\n",
              "      <th>단지내주차면수</th>\n",
              "    </tr>\n",
              "  </thead>\n",
              "  <tbody>\n",
              "    <tr>\n",
              "      <th>0</th>\n",
              "      <td>C1072</td>\n",
              "      <td>754</td>\n",
              "      <td>아파트</td>\n",
              "      <td>경기도</td>\n",
              "      <td></td>\n",
              "      <td>국민임대</td>\n",
              "      <td>39.79</td>\n",
              "      <td>116</td>\n",
              "      <td>14.0</td>\n",
              "      <td>H</td>\n",
              "      <td>22830000</td>\n",
              "      <td>189840</td>\n",
              "      <td>0</td>\n",
              "      <td>2.0</td>\n",
              "      <td>683.0</td>\n",
              "    </tr>\n",
              "    <tr>\n",
              "      <th>1</th>\n",
              "      <td>C1072</td>\n",
              "      <td>754</td>\n",
              "      <td>아파트</td>\n",
              "      <td>경기도</td>\n",
              "      <td></td>\n",
              "      <td>국민임대</td>\n",
              "      <td>46.81</td>\n",
              "      <td>30</td>\n",
              "      <td>14.0</td>\n",
              "      <td>A</td>\n",
              "      <td>36048000</td>\n",
              "      <td>249930</td>\n",
              "      <td>0</td>\n",
              "      <td>2.0</td>\n",
              "      <td>683.0</td>\n",
              "    </tr>\n",
              "    <tr>\n",
              "      <th>2</th>\n",
              "      <td>C1072</td>\n",
              "      <td>754</td>\n",
              "      <td>아파트</td>\n",
              "      <td>경기도</td>\n",
              "      <td></td>\n",
              "      <td>국민임대</td>\n",
              "      <td>46.90</td>\n",
              "      <td>112</td>\n",
              "      <td>14.0</td>\n",
              "      <td>H</td>\n",
              "      <td>36048000</td>\n",
              "      <td>249930</td>\n",
              "      <td>0</td>\n",
              "      <td>2.0</td>\n",
              "      <td>683.0</td>\n",
              "    </tr>\n",
              "  </tbody>\n",
              "</table>\n",
              "</div>\n",
              "      <button class=\"colab-df-convert\" onclick=\"convertToInteractive('df-2d8cf940-2bf6-4765-9ab1-eb06e252ac02')\"\n",
              "              title=\"Convert this dataframe to an interactive table.\"\n",
              "              style=\"display:none;\">\n",
              "        \n",
              "  <svg xmlns=\"http://www.w3.org/2000/svg\" height=\"24px\"viewBox=\"0 0 24 24\"\n",
              "       width=\"24px\">\n",
              "    <path d=\"M0 0h24v24H0V0z\" fill=\"none\"/>\n",
              "    <path d=\"M18.56 5.44l.94 2.06.94-2.06 2.06-.94-2.06-.94-.94-2.06-.94 2.06-2.06.94zm-11 1L8.5 8.5l.94-2.06 2.06-.94-2.06-.94L8.5 2.5l-.94 2.06-2.06.94zm10 10l.94 2.06.94-2.06 2.06-.94-2.06-.94-.94-2.06-.94 2.06-2.06.94z\"/><path d=\"M17.41 7.96l-1.37-1.37c-.4-.4-.92-.59-1.43-.59-.52 0-1.04.2-1.43.59L10.3 9.45l-7.72 7.72c-.78.78-.78 2.05 0 2.83L4 21.41c.39.39.9.59 1.41.59.51 0 1.02-.2 1.41-.59l7.78-7.78 2.81-2.81c.8-.78.8-2.07 0-2.86zM5.41 20L4 18.59l7.72-7.72 1.47 1.35L5.41 20z\"/>\n",
              "  </svg>\n",
              "      </button>\n",
              "      \n",
              "  <style>\n",
              "    .colab-df-container {\n",
              "      display:flex;\n",
              "      flex-wrap:wrap;\n",
              "      gap: 12px;\n",
              "    }\n",
              "\n",
              "    .colab-df-convert {\n",
              "      background-color: #E8F0FE;\n",
              "      border: none;\n",
              "      border-radius: 50%;\n",
              "      cursor: pointer;\n",
              "      display: none;\n",
              "      fill: #1967D2;\n",
              "      height: 32px;\n",
              "      padding: 0 0 0 0;\n",
              "      width: 32px;\n",
              "    }\n",
              "\n",
              "    .colab-df-convert:hover {\n",
              "      background-color: #E2EBFA;\n",
              "      box-shadow: 0px 1px 2px rgba(60, 64, 67, 0.3), 0px 1px 3px 1px rgba(60, 64, 67, 0.15);\n",
              "      fill: #174EA6;\n",
              "    }\n",
              "\n",
              "    [theme=dark] .colab-df-convert {\n",
              "      background-color: #3B4455;\n",
              "      fill: #D2E3FC;\n",
              "    }\n",
              "\n",
              "    [theme=dark] .colab-df-convert:hover {\n",
              "      background-color: #434B5C;\n",
              "      box-shadow: 0px 1px 3px 1px rgba(0, 0, 0, 0.15);\n",
              "      filter: drop-shadow(0px 1px 2px rgba(0, 0, 0, 0.3));\n",
              "      fill: #FFFFFF;\n",
              "    }\n",
              "  </style>\n",
              "\n",
              "      <script>\n",
              "        const buttonEl =\n",
              "          document.querySelector('#df-2d8cf940-2bf6-4765-9ab1-eb06e252ac02 button.colab-df-convert');\n",
              "        buttonEl.style.display =\n",
              "          google.colab.kernel.accessAllowed ? 'block' : 'none';\n",
              "\n",
              "        async function convertToInteractive(key) {\n",
              "          const element = document.querySelector('#df-2d8cf940-2bf6-4765-9ab1-eb06e252ac02');\n",
              "          const dataTable =\n",
              "            await google.colab.kernel.invokeFunction('convertToInteractive',\n",
              "                                                     [key], {});\n",
              "          if (!dataTable) return;\n",
              "\n",
              "          const docLinkHtml = 'Like what you see? Visit the ' +\n",
              "            '<a target=\"_blank\" href=https://colab.research.google.com/notebooks/data_table.ipynb>data table notebook</a>'\n",
              "            + ' to learn more about interactive tables.';\n",
              "          element.innerHTML = '';\n",
              "          dataTable['output_type'] = 'display_data';\n",
              "          await google.colab.output.renderOutput(dataTable, element);\n",
              "          const docLink = document.createElement('div');\n",
              "          docLink.innerHTML = docLinkHtml;\n",
              "          element.appendChild(docLink);\n",
              "        }\n",
              "      </script>\n",
              "    </div>\n",
              "  </div>\n",
              "  "
            ]
          },
          "metadata": {},
          "execution_count": 34
        }
      ]
    },
    {
      "cell_type": "code",
      "source": [
        "# test 데이터의 n지역 칼럼을 구분한 지역별 값으로 채우기\n",
        "test.loc[(test['지역']=='대전광역시')|(test['지역']=='충청남도')|(test['지역']=='부산광역시')|(test['지역']=='제주특별자치도'), 'n지역'] = 0\n",
        "test.loc[(test['지역']=='강원도')|(test['지역']=='경상남도')|(test['지역']=='울산광역시'), 'n지역'] = 1\n",
        "test.loc[(test['지역']=='전라남도')|(test['지역']=='전라북도')|(test['지역']=='충청북도'), 'n지역'] = 2\n",
        "test.loc[(test['지역']=='경상북도')|(test['지역']=='광주광역시')|(test['지역']=='서울특별시'), 'n지역'] = 3\n",
        "test.loc[(test['지역']=='경기도')|(test['지역']=='대구광역시')|(test['지역']=='세종특별자치시'), 'n지역'] = 4\n",
        "\n",
        "test['n지역'] = test['n지역'].astype('category')"
      ],
      "metadata": {
        "id": "L5SQC5-6isUJ"
      },
      "execution_count": null,
      "outputs": []
    },
    {
      "cell_type": "code",
      "source": [
        "plt.figure(figsize=(13, 6))\n",
        "sns.boxplot(x='n지역', y='등록차량수', data=train)\n",
        "plt.show()"
      ],
      "metadata": {
        "colab": {
          "base_uri": "https://localhost:8080/",
          "height": 388
        },
        "id": "ZTjTelURkIwj",
        "outputId": "586a994d-945a-4378-d603-302c8ae6b3e5"
      },
      "execution_count": null,
      "outputs": [
        {
          "output_type": "display_data",
          "data": {
            "text/plain": [
              "<Figure size 936x432 with 1 Axes>"
            ],
            "image/png": "[encoded data removed]"
          },
          "metadata": {
            "needs_background": "light"
          }
        }
      ]
    },
    {
      "cell_type": "markdown",
      "source": [
        "### 2. 데이터 전처리\n",
        "### 2-5. 파생변수 생성\n",
        "2) **공급유형**\n",
        "- 공급유형 피처 수준이 10개로 비교적 많은 편에 속한다.\n",
        "- '**등록차량수-단지내주차면수**' 차이를 기준으로 하여 **공급유형을 5개의 그룹으로 통합**한다.\n",
        " - 0 : 국민임대\n",
        " - 1 : 단기공공임대(공공임대(5년)/공공임대(10년)/공공임대(분납)/공공분양)\n",
        " - 2 : 임대상가\n",
        " - 3 : 장기공공임대(공공임대(50년))\n",
        " - 4 : 저소득층(행복주택/영구임대/장기전세)"
      ],
      "metadata": {
        "id": "BpWaYv7tkTRi"
      }
    },
    {
      "cell_type": "code",
      "source": [
        "plt.figure(figsize=(15, 7))\n",
        "sns.boxplot(x='공급유형', y='등록차량수', data=train)\n",
        "plt.show()"
      ],
      "metadata": {
        "colab": {
          "base_uri": "https://localhost:8080/",
          "height": 442
        },
        "id": "pCUilznik4WZ",
        "outputId": "4040cf6d-2288-471c-e285-cb63473c8cde"
      },
      "execution_count": null,
      "outputs": [
        {
          "output_type": "display_data",
          "data": {
            "text/plain": [
              "<Figure size 1080x504 with 1 Axes>"
            ],
            "image/png": "[encoded data removed]"
          },
          "metadata": {
            "needs_background": "light"
          }
        }
      ]
    },
    {
      "cell_type": "code",
      "source": [
        "tmp = train.copy()\n",
        "tmp['차이'] = tmp['단지내주차면수'] - tmp['등록차량수']\n",
        "\n",
        "plt.figure(figsize=(15, 7))\n",
        "sns.boxplot(x='공급유형', y='차이', data=tmp)\n",
        "plt.show()"
      ],
      "metadata": {
        "colab": {
          "base_uri": "https://localhost:8080/",
          "height": 442
        },
        "id": "e9U5SesClEj7",
        "outputId": "c99bdf92-cc91-4416-a212-7bea33364cb0"
      },
      "execution_count": null,
      "outputs": [
        {
          "output_type": "display_data",
          "data": {
            "text/plain": [
              "<Figure size 1080x504 with 1 Axes>"
            ],
            "image/png": "[encoded data removed]"
          },
          "metadata": {
            "needs_background": "light"
          }
        }
      ]
    },
    {
      "cell_type": "markdown",
      "source": [
        "### 2. 데이터 전처리\n",
        "### 2-5. 파생변수 생성\n",
        "2) **공급유형**\n",
        "- 공급유형 별로 임대유형, 임대기간, 입주조건 등이 상이하다. 차량 보유 여부를 비롯한 **사회경제적지위(SES)를 반영**할 것으로 예상한다.\n",
        "- 공급유형 별 특성과 '등록차량수-단지내주차면수' 차이 분포를 고려하여 범주를 분류한다.\n",
        "- 가장 많은 공급유형인 **국민임대**와 아파트와 명확한 임대유형의 차이를 가진 **임대상가**는 **별도의 범주로 분류**한다.\n",
        " - 0 : 국민임대\n",
        " - 1 : 단기공공임대(공공임대(5년)/공공임대(10년)/공공임대(분납)/공공분양)\n",
        " - 2 : 임대상가\n",
        " - 3 : 장기공공임대(공공임대(50년))\n",
        " - 4 : 저소득층(행복주택/영구임대/장기전세)\n",
        "- 공급유형을 **`astype('category').cat`**를 이용하여 카테고리형 변수로 변환하고 각 범주가 고유의 번호를 갖도록 설정한 후 **`codes`**를 이용하여 값을 구하여 **n공급유형**이라는 새로운 칼럼을 생성한다."
      ],
      "metadata": {
        "id": "CWbtk4QDlgSq"
      }
    },
    {
      "cell_type": "code",
      "source": [
        "train.loc[train['공급유형'].isin(['공공임대(50년)']), '공급유형'] = '장기공공임대'\n",
        "train.loc[train['공급유형'].isin(['공공임대(5년)', '공공임대(10년)', '공공임대(분납)', '공공분양']), '공급유형'] = '단기공공임대'\n",
        "train.loc[train['공급유형'].isin(['행복주택', '영구임대', '장기전세']), '공급유형'] = '저소득층'\n",
        "\n",
        "test.loc[test['공급유형'].isin(['공공임대(50년)']), '공급유형'] = '장기공공임대'\n",
        "test.loc[test['공급유형'].isin(['공공임대(5년)', '공공임대(10년)', '공공임대(분납)', '공공분양']), '공급유형'] = '단기공공임대'\n",
        "test.loc[test['공급유형'].isin(['행복주택', '영구임대', '장기전세']), '공급유형'] = '저소득층'"
      ],
      "metadata": {
        "id": "E3pEx95pl6qg"
      },
      "execution_count": null,
      "outputs": []
    },
    {
      "cell_type": "code",
      "source": [
        "train.loc[:, '공급유형'].astype('category').cat.codes"
      ],
      "metadata": {
        "id": "kAiydSiBlTmN",
        "colab": {
          "base_uri": "https://localhost:8080/"
        },
        "outputId": "63018be6-17d6-4713-d87d-868bd1e3808c"
      },
      "execution_count": null,
      "outputs": [
        {
          "output_type": "execute_result",
          "data": {
            "text/plain": [
              "8       0\n",
              "9       0\n",
              "10      0\n",
              "11      0\n",
              "12      0\n",
              "       ..\n",
              "2947    0\n",
              "2948    0\n",
              "2949    0\n",
              "2950    0\n",
              "2951    0\n",
              "Length: 2876, dtype: int8"
            ]
          },
          "metadata": {},
          "execution_count": 40
        }
      ]
    },
    {
      "cell_type": "code",
      "source": [
        "train['n공급유형'] = train.loc[:, '공급유형'].astype('category').cat.codes\n",
        "test['n공급유형'] = test.loc[:, '공급유형'].astype('category').cat.codes"
      ],
      "metadata": {
        "id": "m9o3V_A865Ik"
      },
      "execution_count": null,
      "outputs": []
    },
    {
      "cell_type": "code",
      "source": [
        "plt.figure(figsize=(12, 6))\n",
        "sns.boxplot(x='n공급유형', y='등록차량수', data=train)\n",
        "plt.show()"
      ],
      "metadata": {
        "colab": {
          "base_uri": "https://localhost:8080/",
          "height": 388
        },
        "id": "9RKPhqV_9gFs",
        "outputId": "8aae339b-c91a-4614-b18b-6050b5820b8f"
      },
      "execution_count": null,
      "outputs": [
        {
          "output_type": "display_data",
          "data": {
            "text/plain": [
              "<Figure size 864x432 with 1 Axes>"
            ],
            "image/png": "[encoded data removed]"
          },
          "metadata": {
            "needs_background": "light"
          }
        }
      ]
    },
    {
      "cell_type": "markdown",
      "source": [
        "### 2. 데이터 전처리\n",
        "### 2-5. 파생변수 생성\n",
        "3) **전용면적**\n",
        "- 전용면적이 100 초과 -> **100**\n",
        "- 전용면적이 15 미만 -> **15**"
      ],
      "metadata": {
        "id": "TD2OxJ6L9wty"
      }
    },
    {
      "cell_type": "code",
      "source": [
        "# // 을 이용하여 나눗셈의 몫을 구해 정수화한다.\n",
        "train['전용면적'] = train['전용면적']//5*5   \n",
        "train['전용면적'] = np.where(train['전용면적'] > 100, 100, train['전용면적'])\n",
        "train['전용면적'] = np.where(train['전용면적'] < 15, 15, train['전용면적'])\n",
        "\n",
        "test['전용면적'] = test['전용면적']//5*5\n",
        "test['전용면적'] = np.where(test['전용면적'] > 100, 100, test['전용면적'])\n",
        "test['전용면적'] = np.where(test['전용면적'] < 15, 15, test['전용면적'])"
      ],
      "metadata": {
        "id": "8ryByNx6-OZE"
      },
      "execution_count": null,
      "outputs": []
    },
    {
      "cell_type": "markdown",
      "source": [
        "### 2. 데이터 전처리\n",
        "### 2-6. 1차원으로 데이터 병합\n",
        "- '**공급유형**' 내에 '**임대건물구분**', '**자격유형**'에 대한 정보가 포함되어 있는 것으로 보이므로, **다중공선성**을 고려하여 **피처에서 제외**한다.\n",
        "- raw 데이터 상 '**총세대수**' 산정 오류가 존재하므로, **기존 피처를 제외**하고 '**전용면적별세대수**'를 활용하여 '**총임대세대수**'라는 **대체 변수를 생성**한다.\n",
        "- '**전용면적별세대수**', '**전용면적**', '**임대보증금**', '**임대료**'를 활용하여 파생변수를 추가로 생성한다.\n",
        " - 사용 피처 : 단지코드 / n지역 / n공급유형 / 공가수 / 지하철 / 버스 / 단지내주차면수 / 등록차량수\n",
        " - 제외 피처 : 임대건물구분 / 자격유형 / 총세대수\n",
        " - 추가 생성 피처 : 총임대세대수 / 평균전용면적 / 총전용면적 / 평균임대보증금 / 평균임대료"
      ],
      "metadata": {
        "id": "-vtDQl33-2lD"
      }
    },
    {
      "cell_type": "code",
      "source": [
        "codes = train['단지코드'].unique()\n",
        "areas = np.sort(train['전용면적'].unique())\n",
        "\n",
        "df_train = pd.DataFrame()\n",
        "columns = ['단지코드', 'n지역', 'n공급유형', '공가수', '지하철', '버스', '단지내주차면수' , '등록차량수']\n",
        "\n",
        "for i, code in enumerate(codes):\n",
        "    tmp_code = train.loc[train['단지코드']==code].reset_index(drop=True)\n",
        "    \n",
        "    df_train.loc[i, columns] = tmp_code.loc[0, columns]\n",
        "    df_train.loc[i, '총임대세대수'] = tmp_code['전용면적별세대수'].sum()\n",
        "    df_train.loc[i, '평균전용면적'] = tmp_code['전용면적'].mean()\n",
        "    df_train.loc[i, '총전용면적'] = (tmp_code['전용면적'] * tmp_code['전용면적별세대수']).sum()\n",
        "    df_train.loc[i, '평균임대보증금'] = (tmp_code['전용면적별세대수'] * tmp_code['임대보증금']).sum() / tmp_code['전용면적별세대수'].sum()\n",
        "    df_train.loc[i, '평균임대료'] = (tmp_code['전용면적별세대수'] * tmp_code['임대료']).sum() / tmp_code['전용면적별세대수'].sum()"
      ],
      "metadata": {
        "id": "EPMC8-VF-PuM"
      },
      "execution_count": null,
      "outputs": []
    },
    {
      "cell_type": "code",
      "source": [
        "codes = test['단지코드'].unique()\n",
        "areas = np.sort(test['전용면적'].unique())\n",
        "\n",
        "df_test = pd.DataFrame()\n",
        "columns = ['단지코드', 'n지역', 'n공급유형', '공가수', '지하철', '버스', '단지내주차면수']\n",
        "\n",
        "for i, code in enumerate(codes):\n",
        "    tmp_code = test.loc[test['단지코드']==code].reset_index(drop=True)\n",
        "    \n",
        "    df_test.loc[i, columns] = tmp_code.loc[0, columns]\n",
        "    df_test.loc[i, '총임대세대수'] = tmp_code['전용면적별세대수'].sum()\n",
        "    df_test.loc[i, '평균전용면적'] = tmp_code['전용면적'].mean()\n",
        "    df_test.loc[i, '총전용면적'] = (tmp_code['전용면적'] * tmp_code['전용면적별세대수']).sum()\n",
        "    df_test.loc[i, '평균임대보증금'] = (tmp_code['전용면적별세대수'] * tmp_code['임대보증금']).sum() / tmp_code['전용면적별세대수'].sum()\n",
        "    df_test.loc[i, '평균임대료'] = (tmp_code['전용면적별세대수'] * tmp_code['임대료']).sum() / tmp_code['전용면적별세대수'].sum()"
      ],
      "metadata": {
        "id": "OCalqHaPFcrM"
      },
      "execution_count": null,
      "outputs": []
    },
    {
      "cell_type": "markdown",
      "source": [
        "### 3. 모형 학습, 예측 및 평가\n",
        "### 3-1. **단순 회귀(Linear Regression)**\n",
        "1) 피처와 타겟 간 상관 확인\n",
        "-  단순선형회귀를 수행하기 전, 피처와 타겟인 **등록차량수** 칼럼 간의 상관관계를 확인하여 회귀 분석의 가능성을 확인한다.\n",
        " - 높은 상관 -> 단지내주차면수, 총전용면적, 총임대세대수\n",
        " - 중간 상관 -> 평균임대료, 평균전용면적, 평균임대보증금, n지역, n공급유형\n",
        " - 낮은 상관 -> 공가수, 버스, 지하철"
      ],
      "metadata": {
        "id": "kqMmKLniKjCz"
      }
    },
    {
      "cell_type": "code",
      "source": [
        "corr = df_train.corr()['등록차량수'].sort_values(ascending=False)\n",
        "corr"
      ],
      "metadata": {
        "colab": {
          "base_uri": "https://localhost:8080/"
        },
        "id": "wIUnb_WGGO1z",
        "outputId": "670b3f0c-04a3-4b07-80fe-58f99c7de57d"
      },
      "execution_count": null,
      "outputs": [
        {
          "output_type": "execute_result",
          "data": {
            "text/plain": [
              "등록차량수      1.000000\n",
              "단지내주차면수    0.847906\n",
              "총전용면적      0.798962\n",
              "총임대세대수     0.578065\n",
              "평균임대료      0.452189\n",
              "평균전용면적     0.392980\n",
              "평균임대보증금    0.362990\n",
              "n지역        0.322541\n",
              "공가수        0.177878\n",
              "버스         0.115073\n",
              "지하철       -0.008515\n",
              "n공급유형     -0.322437\n",
              "Name: 등록차량수, dtype: float64"
            ]
          },
          "metadata": {},
          "execution_count": 46
        }
      ]
    },
    {
      "cell_type": "markdown",
      "source": [
        "### 3. 모형 학습, 예측 및 평가\n",
        "### 3-1. **단순 회귀(Linear Regression)**\n",
        "2) 초기 모형 학습 및 평가\n",
        "- 11개의 **모든 피처를 투입**하여 초기 모형의 학습 및 평가를 수행한다.\n",
        "- StandardScaler를 이용하여 표준화를 진행한다. 초기 모형의 예측 성능과 5fold 교차검정을 통한 모형 평가 결과에 따르면 학습에 사용되는 데이터에 따라 예측 결과에 큰 영향이 미칠 것으로 예상된다."
      ],
      "metadata": {
        "id": "ZA5ITCOXLhjX"
      }
    },
    {
      "cell_type": "code",
      "source": [
        "from sklearn.preprocessing import StandardScaler\n",
        "scaler = StandardScaler()\n",
        "scaling_features = ['n지역' ,'n공급유형', '공가수', '지하철', '버스', '단지내주차면수', '총임대세대수', '평균전용면적', '총전용면적', '평균임대보증금', '평균임대료']\n",
        "\n",
        "tmp_train = df_train.copy()\n",
        "tmp_train.loc[:, scaling_features] = scaler.fit_transform(tmp_train[scaling_features])"
      ],
      "metadata": {
        "id": "KQ81tDqgMFOK"
      },
      "execution_count": null,
      "outputs": []
    },
    {
      "cell_type": "code",
      "source": [
        "from sklearn.model_selection import train_test_split\n",
        "from sklearn.linear_model import LinearRegression\n",
        "from sklearn.metrics import r2_score, mean_absolute_error\n",
        "\n",
        "X_data = tmp_train.drop(['단지코드', '등록차량수'], axis=1, inplace=False)\n",
        "y_target = tmp_train['등록차량수']\n",
        "\n",
        "X_train, X_test, y_train, y_test = train_test_split(X_data, y_target, shuffle=False, random_state=123, test_size=0.1)\n",
        "\n",
        "model = LinearRegression()\n",
        "model.fit(X_train, y_train)\n",
        "pred = model.predict(X_test)\n",
        "\n",
        "print(f'R2 score : {r2_score(pred, y_test)}, MAE : {mean_absolute_error(pred, y_test)}')"
      ],
      "metadata": {
        "colab": {
          "base_uri": "https://localhost:8080/"
        },
        "id": "duZ-JrpAMFdI",
        "outputId": "f4d8d78e-0c29-4299-ea50-f324a446aa6f"
      },
      "execution_count": null,
      "outputs": [
        {
          "output_type": "stream",
          "name": "stdout",
          "text": [
            "R2 score : 0.8510386124431302, MAE : 109.92051574556282\n"
          ]
        }
      ]
    },
    {
      "cell_type": "code",
      "source": [
        "from sklearn.model_selection import cross_val_score\n",
        "mae_scores = cross_val_score(model, X_data, y_target, scoring='neg_mean_absolute_error', cv=5)\n",
        "avg_mae = np.mean(mae_scores)\n",
        "\n",
        "print(\"5Fold 개별 MAE score : \", mae_scores)\n",
        "print(\"5Fold 평균 MAE : \", avg_mae)"
      ],
      "metadata": {
        "colab": {
          "base_uri": "https://localhost:8080/"
        },
        "id": "YXR9ikVMNkDy",
        "outputId": "271f73bf-f20d-4c50-bcaa-192d1db1d2be"
      },
      "execution_count": null,
      "outputs": [
        {
          "output_type": "stream",
          "name": "stdout",
          "text": [
            "5Fold 개별 MAE score :  [-238.96340483 -110.66110408  -90.50790683 -130.17935303 -148.11245629]\n",
            "5Fold 평균 MAE :  -143.68484501271064\n"
          ]
        }
      ]
    },
    {
      "cell_type": "markdown",
      "source": [
        "### 3. 모형 학습, 예측 및 평가\n",
        "### 3-1. **단순 회귀(Linear Regression)**\n",
        "3) 회귀계수 확인을 통한 모형 검토\n",
        "- 정적 회귀 계수 피처 : n지역 / n공급유형 / 버스 / 단지내주차면수 / 평균전용면적 / 총전용면적 / 평균임대료\n",
        "- 부적 회귀계수 피처 : 공가수 / 지하철 / 총임대세대수 / 평균임대보증금"
      ],
      "metadata": {
        "id": "3KknOvQHOU7H"
      }
    },
    {
      "cell_type": "code",
      "source": [
        "coef = pd.Series(model.coef_, index=X_data.columns)\n",
        "coef"
      ],
      "metadata": {
        "id": "zM-FLqb8OISz",
        "colab": {
          "base_uri": "https://localhost:8080/"
        },
        "outputId": "b240ab82-2e1c-4db6-a4b6-49a258bff824"
      },
      "execution_count": null,
      "outputs": [
        {
          "output_type": "execute_result",
          "data": {
            "text/plain": [
              "n지역         51.778763\n",
              "n공급유형        0.153727\n",
              "공가수        -37.455600\n",
              "지하철        -15.230694\n",
              "버스           4.527867\n",
              "단지내주차면수    260.725414\n",
              "총임대세대수    -112.308685\n",
              "평균전용면적       8.774518\n",
              "총전용면적      181.324184\n",
              "평균임대보증금     -9.935424\n",
              "평균임대료       28.898273\n",
              "dtype: float64"
            ]
          },
          "metadata": {},
          "execution_count": 50
        }
      ]
    },
    {
      "cell_type": "code",
      "source": [
        "plt.figure(figsize=(8, 5))\n",
        "sns.barplot(x=coef.values, y=coef.index)\n",
        "plt.show()"
      ],
      "metadata": {
        "colab": {
          "base_uri": "https://localhost:8080/",
          "height": 320
        },
        "id": "gmn3JxvAb1uV",
        "outputId": "87c73020-3540-4d34-dbc2-ce85e59cc8d4"
      },
      "execution_count": null,
      "outputs": [
        {
          "output_type": "display_data",
          "data": {
            "text/plain": [
              "<Figure size 576x360 with 1 Axes>"
            ],
            "image/png": "[encoded data removed]"
          },
          "metadata": {
            "needs_background": "light"
          }
        }
      ]
    },
    {
      "cell_type": "markdown",
      "source": [
        "### 3. 모형 학습, 예측 및 평가\n",
        "### 3-1. **단순 회귀(Linear Regression)**\n",
        "4) permutation importance를 통한 피처 중요도 검토\n",
        "- 사이킷런의 **`inspection`**으로부터 **`permutation_importance`**를 임포트하여 주요 피처를 살펴볼 수 있다.\n",
        "- permutation importance에 따른 주요 피처로는 **단지내주차면수**, **총전용면적**, **총임대세대수**가 있다."
      ],
      "metadata": {
        "id": "o8lD0haRcHWH"
      }
    },
    {
      "cell_type": "code",
      "source": [
        "from sklearn.inspection import permutation_importance\n",
        "\n",
        "pmt_columns = ['n지역', 'n공급유형', '공가수', '지하철', '버스', '단지내주차면수', '총임대세대수', '평균전용면적', '총전용면적', '평균임대보증금', '평균임대료']\n",
        "target = '등록차량수'\n",
        "\n",
        "X_pmt = df_train.loc[:, pmt_columns]\n",
        "y_pmt = df_train.loc[:, target]\n",
        "X_pmt_train, X_pmt_val, y_pmt_train, y_pmt_val = train_test_split(X_pmt, y_pmt, random_state=123, test_size=0.1)\n",
        "\n",
        "model = LinearRegression()\n",
        "model.fit(X_pmt_train, y_pmt_train)\n",
        "y_pmt_pred = model.predict(X_pmt_val)\n",
        "\n",
        "r = permutation_importance(model, X_pmt_val, y_pmt_val, n_repeats=100, random_state=0)\n",
        "\n",
        "for i in r.importances_mean.argsort()[::-1]:\n",
        "    if r.importances_mean[i] - 2 * r.importances_std[i] > 0:  # 이 조건을 만족하는 칼럼은 단지내주차면수, 총전용면적, 총임대세대수 3개\n",
        "        print(X_pmt.columns[i], \"     \", np.round(r.importances_mean[i], 4), \" +/- \", np.round(r.importances_std[i], 5))"
      ],
      "metadata": {
        "colab": {
          "base_uri": "https://localhost:8080/"
        },
        "id": "M6e3k_88cAjd",
        "outputId": "d75c3f48-a695-4221-daf7-2eb6cf70eaae"
      },
      "execution_count": null,
      "outputs": [
        {
          "output_type": "stream",
          "name": "stdout",
          "text": [
            "단지내주차면수       0.779  +/-  0.15402\n",
            "총전용면적       0.5273  +/-  0.1295\n",
            "총임대세대수       0.3702  +/-  0.08431\n"
          ]
        }
      ]
    },
    {
      "cell_type": "markdown",
      "source": [
        "### 3. 모형 학습, 예측 및 평가\n",
        "### 3-2. **다항 회귀(Polynomial Regression)**\n",
        "1) 상호작용항 생성\n",
        "- 상관, 회귀, permutation importance를 기반으로 최종 피처를 선정한다.\n",
        " - permutation importance에 따른 주요 피처는 단지내주차면수, 총전용면적, 총임대세대수이다.\n",
        " - 총전용면적은 다중공선성을 고려하여 평균전용면적으로 대체한다.\n",
        " - 상관이 낮은 버스와 지하철은 제외한다.\n",
        " - 회귀계수가 큰 순서대로 투입한 결과, 평균임대보증금과 평균임대료의 개선 효과가 미미하므로 제외한다.\n",
        "- 최종적으로 **단지내주차면수**, **총임대세대수** + **평균전용면적**, **n지역**, **공가수**, **공급유형**을 선택한다.\n",
        "- 사이킷런의 **`preprocessing`**의 **`PolynomialFeatures`** 클래스를 활용하여 가장 적절한 **2차식**으로 표현한다."
      ],
      "metadata": {
        "id": "aZhyFRdDfUIR"
      }
    },
    {
      "cell_type": "code",
      "source": [
        "from sklearn.preprocessing import PolynomialFeatures\n",
        "\n",
        "columns = ['단지내주차면수', '총임대세대수', '평균전용면적', 'n지역', '공가수', 'n공급유형']\n",
        "target = '등록차량수'\n",
        "\n",
        "X = df_train.loc[:, columns]\n",
        "y = df_train.loc[:, target]\n",
        "X_val = df_test.loc[:, columns]\n",
        "\n",
        "cat_features = ['n지역', 'n공급유형']\n",
        "X = X.astype(dict((feature, 'category') for feature in cat_features))\n",
        "X_val = X_val.astype(dict((feature, 'category') for feature in cat_features))"
      ],
      "metadata": {
        "id": "RHx0t3uReW0e"
      },
      "execution_count": null,
      "outputs": []
    },
    {
      "cell_type": "code",
      "source": [
        "poly = PolynomialFeatures(degree=2, include_bias=False)\n",
        "X_poly = pd.DataFrame(poly.fit_transform(X))\n",
        "X_val_poly = pd.DataFrame(poly.transform(X_val))\n",
        "\n",
        "X.shape, X_poly.shape, X_val_poly.shape"
      ],
      "metadata": {
        "colab": {
          "base_uri": "https://localhost:8080/"
        },
        "id": "9bON5cUFhzel",
        "outputId": "fda46c7a-8874-45c1-a8b3-f612cea05543"
      },
      "execution_count": null,
      "outputs": [
        {
          "output_type": "execute_result",
          "data": {
            "text/plain": [
              "((412, 6), (412, 27), (150, 27))"
            ]
          },
          "metadata": {},
          "execution_count": 58
        }
      ]
    },
    {
      "cell_type": "code",
      "source": [
        "poly.get_feature_names()"
      ],
      "metadata": {
        "colab": {
          "base_uri": "https://localhost:8080/"
        },
        "id": "7AR-5M3JiBCX",
        "outputId": "e74fbf01-6ad1-46f1-ba4b-4509f3b1d89e"
      },
      "execution_count": null,
      "outputs": [
        {
          "output_type": "execute_result",
          "data": {
            "text/plain": [
              "['x0',\n",
              " 'x1',\n",
              " 'x2',\n",
              " 'x3',\n",
              " 'x4',\n",
              " 'x5',\n",
              " 'x0^2',\n",
              " 'x0 x1',\n",
              " 'x0 x2',\n",
              " 'x0 x3',\n",
              " 'x0 x4',\n",
              " 'x0 x5',\n",
              " 'x1^2',\n",
              " 'x1 x2',\n",
              " 'x1 x3',\n",
              " 'x1 x4',\n",
              " 'x1 x5',\n",
              " 'x2^2',\n",
              " 'x2 x3',\n",
              " 'x2 x4',\n",
              " 'x2 x5',\n",
              " 'x3^2',\n",
              " 'x3 x4',\n",
              " 'x3 x5',\n",
              " 'x4^2',\n",
              " 'x4 x5',\n",
              " 'x5^2']"
            ]
          },
          "metadata": {},
          "execution_count": 59
        }
      ]
    },
    {
      "cell_type": "markdown",
      "source": [
        "### 4. 모형 개선\n",
        "### 4-1. 가중치 생성\n",
        "1) **Cook's D**를 활용한 가중치\n",
        "- Cook's Distance: 각 관측값이 전체 최소제곱추정량에 미치는 영향력을 보여주는 통계적 지표로, **값이 클수록 회귀모형에 큰 영향**을 주는 샘플이다. 주로 이상치 탐지(outlier detection)에 사용된다.\n",
        "- Cook's D 값이 큰 샘플에 작은 가중치를, Cook's D 값이 작은 샘플에 큰 가중치를 부여하면 예측력이 더 향상될 것이라고 가정하였다.\n",
        "- Cook's D 값의 크기에 따라 역순으로 0에서 1 사이의 가중치를 생성하여 부여한다."
      ],
      "metadata": {
        "id": "4zWJhVqgiOPS"
      }
    },
    {
      "cell_type": "code",
      "source": [
        "from statsmodels.stats.outliers_influence import OLSInfluence\n",
        "import statsmodels.api as sm\n",
        "\n",
        "OLS = sm.OLS(y, X_poly)\n",
        "result = OLS.fit()\n",
        "influence = OLSInfluence(result)\n",
        "\n",
        "weight = (influence.cooks_distance[0]).to_numpy()\n",
        "\n",
        "for i in range(len(weight)):\n",
        "    if weight[i] < 0.00000001:\n",
        "        weight[i] = 0.9\n",
        "    elif weight[i] < 0.0000001:\n",
        "        weight[i] = 0.8\n",
        "    elif weight[i] < 0.000001:\n",
        "        weight[i] = 0.7\n",
        "    elif weight[i] < 0.00001:\n",
        "        weight[i] = 0.6\n",
        "    elif weight[i] < 0.0001:\n",
        "        weight[i] = 0.5\n",
        "    elif weight[i] < 0.001:\n",
        "        weight[i] = 0.4\n",
        "    elif weight[i] < 0.01:\n",
        "        weight[i] = 0.3\n",
        "    elif weight[i] < 0.1:\n",
        "        weight[i] = 0.2\n",
        "    else:\n",
        "        weight[i] = 0.1"
      ],
      "metadata": {
        "id": "HQfSJzsOiLZN"
      },
      "execution_count": null,
      "outputs": []
    },
    {
      "cell_type": "markdown",
      "source": [
        "### 4. 모형 개선\n",
        "### 4-2. **교차검증(Stratified KFold)**\n",
        "- 5Fold 교차검증을 이용하여 모델 학습 및 예측을 수행한다."
      ],
      "metadata": {
        "id": "w-qNItWplbCf"
      }
    },
    {
      "cell_type": "code",
      "source": [
        "from sklearn.model_selection import StratifiedKFold\n",
        "y_cat = pd.cut(y, 10, labels=range(10))\n",
        "skf = StratifiedKFold(5)\n",
        "LR = LinearRegression()\n",
        "\n",
        "preds = []\n",
        "for tr_id, val_id in skf.split(X_poly, y_cat):\n",
        "    X_tr = X_poly.iloc[tr_id]\n",
        "    y_tr = y.iloc[tr_id]\n",
        "    weight_tr = weight[tr_id]\n",
        "\n",
        "    LR.fit(X_tr, y_tr, sample_weight=weight_tr)\n",
        "    pred = LR.predict(X_val_poly)\n",
        "    preds.append(pred)\n",
        "\n",
        "LR_pred = np.mean(preds, axis=0)"
      ],
      "metadata": {
        "id": "PCRFGZkfl0Uu"
      },
      "execution_count": null,
      "outputs": []
    },
    {
      "cell_type": "markdown",
      "source": [
        "### 5. 최종 결과 제출\n"
      ],
      "metadata": {
        "id": "0rhA-_c8nGQz"
      }
    },
    {
      "cell_type": "code",
      "source": [
        "submission.head(3)"
      ],
      "metadata": {
        "colab": {
          "base_uri": "https://localhost:8080/",
          "height": 143
        },
        "id": "4ssgghzlnKNF",
        "outputId": "6b01cfbc-f7f8-415b-d2d6-121a7c24da04"
      },
      "execution_count": null,
      "outputs": [
        {
          "output_type": "execute_result",
          "data": {
            "text/plain": [
              "    code  num\n",
              "0  C1072    0\n",
              "1  C1128    0\n",
              "2  C1456    0"
            ],
            "text/html": [
              "\n",
              "  <div id=\"df-0e46ba7f-2e93-42f8-9977-c33b4b726f88\">\n",
              "    <div class=\"colab-df-container\">\n",
              "      <div>\n",
              "<style scoped>\n",
              "    .dataframe tbody tr th:only-of-type {\n",
              "        vertical-align: middle;\n",
              "    }\n",
              "\n",
              "    .dataframe tbody tr th {\n",
              "        vertical-align: top;\n",
              "    }\n",
              "\n",
              "    .dataframe thead th {\n",
              "        text-align: right;\n",
              "    }\n",
              "</style>\n",
              "<table border=\"1\" class=\"dataframe\">\n",
              "  <thead>\n",
              "    <tr style=\"text-align: right;\">\n",
              "      <th></th>\n",
              "      <th>code</th>\n",
              "      <th>num</th>\n",
              "    </tr>\n",
              "  </thead>\n",
              "  <tbody>\n",
              "    <tr>\n",
              "      <th>0</th>\n",
              "      <td>C1072</td>\n",
              "      <td>0</td>\n",
              "    </tr>\n",
              "    <tr>\n",
              "      <th>1</th>\n",
              "      <td>C1128</td>\n",
              "      <td>0</td>\n",
              "    </tr>\n",
              "    <tr>\n",
              "      <th>2</th>\n",
              "      <td>C1456</td>\n",
              "      <td>0</td>\n",
              "    </tr>\n",
              "  </tbody>\n",
              "</table>\n",
              "</div>\n",
              "      <button class=\"colab-df-convert\" onclick=\"convertToInteractive('df-0e46ba7f-2e93-42f8-9977-c33b4b726f88')\"\n",
              "              title=\"Convert this dataframe to an interactive table.\"\n",
              "              style=\"display:none;\">\n",
              "        \n",
              "  <svg xmlns=\"http://www.w3.org/2000/svg\" height=\"24px\"viewBox=\"0 0 24 24\"\n",
              "       width=\"24px\">\n",
              "    <path d=\"M0 0h24v24H0V0z\" fill=\"none\"/>\n",
              "    <path d=\"M18.56 5.44l.94 2.06.94-2.06 2.06-.94-2.06-.94-.94-2.06-.94 2.06-2.06.94zm-11 1L8.5 8.5l.94-2.06 2.06-.94-2.06-.94L8.5 2.5l-.94 2.06-2.06.94zm10 10l.94 2.06.94-2.06 2.06-.94-2.06-.94-.94-2.06-.94 2.06-2.06.94z\"/><path d=\"M17.41 7.96l-1.37-1.37c-.4-.4-.92-.59-1.43-.59-.52 0-1.04.2-1.43.59L10.3 9.45l-7.72 7.72c-.78.78-.78 2.05 0 2.83L4 21.41c.39.39.9.59 1.41.59.51 0 1.02-.2 1.41-.59l7.78-7.78 2.81-2.81c.8-.78.8-2.07 0-2.86zM5.41 20L4 18.59l7.72-7.72 1.47 1.35L5.41 20z\"/>\n",
              "  </svg>\n",
              "      </button>\n",
              "      \n",
              "  <style>\n",
              "    .colab-df-container {\n",
              "      display:flex;\n",
              "      flex-wrap:wrap;\n",
              "      gap: 12px;\n",
              "    }\n",
              "\n",
              "    .colab-df-convert {\n",
              "      background-color: #E8F0FE;\n",
              "      border: none;\n",
              "      border-radius: 50%;\n",
              "      cursor: pointer;\n",
              "      display: none;\n",
              "      fill: #1967D2;\n",
              "      height: 32px;\n",
              "      padding: 0 0 0 0;\n",
              "      width: 32px;\n",
              "    }\n",
              "\n",
              "    .colab-df-convert:hover {\n",
              "      background-color: #E2EBFA;\n",
              "      box-shadow: 0px 1px 2px rgba(60, 64, 67, 0.3), 0px 1px 3px 1px rgba(60, 64, 67, 0.15);\n",
              "      fill: #174EA6;\n",
              "    }\n",
              "\n",
              "    [theme=dark] .colab-df-convert {\n",
              "      background-color: #3B4455;\n",
              "      fill: #D2E3FC;\n",
              "    }\n",
              "\n",
              "    [theme=dark] .colab-df-convert:hover {\n",
              "      background-color: #434B5C;\n",
              "      box-shadow: 0px 1px 3px 1px rgba(0, 0, 0, 0.15);\n",
              "      filter: drop-shadow(0px 1px 2px rgba(0, 0, 0, 0.3));\n",
              "      fill: #FFFFFF;\n",
              "    }\n",
              "  </style>\n",
              "\n",
              "      <script>\n",
              "        const buttonEl =\n",
              "          document.querySelector('#df-0e46ba7f-2e93-42f8-9977-c33b4b726f88 button.colab-df-convert');\n",
              "        buttonEl.style.display =\n",
              "          google.colab.kernel.accessAllowed ? 'block' : 'none';\n",
              "\n",
              "        async function convertToInteractive(key) {\n",
              "          const element = document.querySelector('#df-0e46ba7f-2e93-42f8-9977-c33b4b726f88');\n",
              "          const dataTable =\n",
              "            await google.colab.kernel.invokeFunction('convertToInteractive',\n",
              "                                                     [key], {});\n",
              "          if (!dataTable) return;\n",
              "\n",
              "          const docLinkHtml = 'Like what you see? Visit the ' +\n",
              "            '<a target=\"_blank\" href=https://colab.research.google.com/notebooks/data_table.ipynb>data table notebook</a>'\n",
              "            + ' to learn more about interactive tables.';\n",
              "          element.innerHTML = '';\n",
              "          dataTable['output_type'] = 'display_data';\n",
              "          await google.colab.output.renderOutput(dataTable, element);\n",
              "          const docLink = document.createElement('div');\n",
              "          docLink.innerHTML = docLinkHtml;\n",
              "          element.appendChild(docLink);\n",
              "        }\n",
              "      </script>\n",
              "    </div>\n",
              "  </div>\n",
              "  "
            ]
          },
          "metadata": {},
          "execution_count": 64
        }
      ]
    },
    {
      "cell_type": "code",
      "source": [
        "submission['num'] = LR_pred\n",
        "submission.head()"
      ],
      "metadata": {
        "colab": {
          "base_uri": "https://localhost:8080/",
          "height": 206
        },
        "id": "IoJZ9IFSnKUf",
        "outputId": "4885e520-317e-4426-ab9d-c9adb1a75594"
      },
      "execution_count": null,
      "outputs": [
        {
          "output_type": "execute_result",
          "data": {
            "text/plain": [
              "    code          num\n",
              "0  C1072   743.662907\n",
              "1  C1128  1313.244550\n",
              "2  C1456   443.557940\n",
              "3  C1840   528.973509\n",
              "4  C1332  1228.725135"
            ],
            "text/html": [
              "\n",
              "  <div id=\"df-f4a6c95b-e45b-4688-807e-46c7eed73842\">\n",
              "    <div class=\"colab-df-container\">\n",
              "      <div>\n",
              "<style scoped>\n",
              "    .dataframe tbody tr th:only-of-type {\n",
              "        vertical-align: middle;\n",
              "    }\n",
              "\n",
              "    .dataframe tbody tr th {\n",
              "        vertical-align: top;\n",
              "    }\n",
              "\n",
              "    .dataframe thead th {\n",
              "        text-align: right;\n",
              "    }\n",
              "</style>\n",
              "<table border=\"1\" class=\"dataframe\">\n",
              "  <thead>\n",
              "    <tr style=\"text-align: right;\">\n",
              "      <th></th>\n",
              "      <th>code</th>\n",
              "      <th>num</th>\n",
              "    </tr>\n",
              "  </thead>\n",
              "  <tbody>\n",
              "    <tr>\n",
              "      <th>0</th>\n",
              "      <td>C1072</td>\n",
              "      <td>743.662907</td>\n",
              "    </tr>\n",
              "    <tr>\n",
              "      <th>1</th>\n",
              "      <td>C1128</td>\n",
              "      <td>1313.244550</td>\n",
              "    </tr>\n",
              "    <tr>\n",
              "      <th>2</th>\n",
              "      <td>C1456</td>\n",
              "      <td>443.557940</td>\n",
              "    </tr>\n",
              "    <tr>\n",
              "      <th>3</th>\n",
              "      <td>C1840</td>\n",
              "      <td>528.973509</td>\n",
              "    </tr>\n",
              "    <tr>\n",
              "      <th>4</th>\n",
              "      <td>C1332</td>\n",
              "      <td>1228.725135</td>\n",
              "    </tr>\n",
              "  </tbody>\n",
              "</table>\n",
              "</div>\n",
              "      <button class=\"colab-df-convert\" onclick=\"convertToInteractive('df-f4a6c95b-e45b-4688-807e-46c7eed73842')\"\n",
              "              title=\"Convert this dataframe to an interactive table.\"\n",
              "              style=\"display:none;\">\n",
              "        \n",
              "  <svg xmlns=\"http://www.w3.org/2000/svg\" height=\"24px\"viewBox=\"0 0 24 24\"\n",
              "       width=\"24px\">\n",
              "    <path d=\"M0 0h24v24H0V0z\" fill=\"none\"/>\n",
              "    <path d=\"M18.56 5.44l.94 2.06.94-2.06 2.06-.94-2.06-.94-.94-2.06-.94 2.06-2.06.94zm-11 1L8.5 8.5l.94-2.06 2.06-.94-2.06-.94L8.5 2.5l-.94 2.06-2.06.94zm10 10l.94 2.06.94-2.06 2.06-.94-2.06-.94-.94-2.06-.94 2.06-2.06.94z\"/><path d=\"M17.41 7.96l-1.37-1.37c-.4-.4-.92-.59-1.43-.59-.52 0-1.04.2-1.43.59L10.3 9.45l-7.72 7.72c-.78.78-.78 2.05 0 2.83L4 21.41c.39.39.9.59 1.41.59.51 0 1.02-.2 1.41-.59l7.78-7.78 2.81-2.81c.8-.78.8-2.07 0-2.86zM5.41 20L4 18.59l7.72-7.72 1.47 1.35L5.41 20z\"/>\n",
              "  </svg>\n",
              "      </button>\n",
              "      \n",
              "  <style>\n",
              "    .colab-df-container {\n",
              "      display:flex;\n",
              "      flex-wrap:wrap;\n",
              "      gap: 12px;\n",
              "    }\n",
              "\n",
              "    .colab-df-convert {\n",
              "      background-color: #E8F0FE;\n",
              "      border: none;\n",
              "      border-radius: 50%;\n",
              "      cursor: pointer;\n",
              "      display: none;\n",
              "      fill: #1967D2;\n",
              "      height: 32px;\n",
              "      padding: 0 0 0 0;\n",
              "      width: 32px;\n",
              "    }\n",
              "\n",
              "    .colab-df-convert:hover {\n",
              "      background-color: #E2EBFA;\n",
              "      box-shadow: 0px 1px 2px rgba(60, 64, 67, 0.3), 0px 1px 3px 1px rgba(60, 64, 67, 0.15);\n",
              "      fill: #174EA6;\n",
              "    }\n",
              "\n",
              "    [theme=dark] .colab-df-convert {\n",
              "      background-color: #3B4455;\n",
              "      fill: #D2E3FC;\n",
              "    }\n",
              "\n",
              "    [theme=dark] .colab-df-convert:hover {\n",
              "      background-color: #434B5C;\n",
              "      box-shadow: 0px 1px 3px 1px rgba(0, 0, 0, 0.15);\n",
              "      filter: drop-shadow(0px 1px 2px rgba(0, 0, 0, 0.3));\n",
              "      fill: #FFFFFF;\n",
              "    }\n",
              "  </style>\n",
              "\n",
              "      <script>\n",
              "        const buttonEl =\n",
              "          document.querySelector('#df-f4a6c95b-e45b-4688-807e-46c7eed73842 button.colab-df-convert');\n",
              "        buttonEl.style.display =\n",
              "          google.colab.kernel.accessAllowed ? 'block' : 'none';\n",
              "\n",
              "        async function convertToInteractive(key) {\n",
              "          const element = document.querySelector('#df-f4a6c95b-e45b-4688-807e-46c7eed73842');\n",
              "          const dataTable =\n",
              "            await google.colab.kernel.invokeFunction('convertToInteractive',\n",
              "                                                     [key], {});\n",
              "          if (!dataTable) return;\n",
              "\n",
              "          const docLinkHtml = 'Like what you see? Visit the ' +\n",
              "            '<a target=\"_blank\" href=https://colab.research.google.com/notebooks/data_table.ipynb>data table notebook</a>'\n",
              "            + ' to learn more about interactive tables.';\n",
              "          element.innerHTML = '';\n",
              "          dataTable['output_type'] = 'display_data';\n",
              "          await google.colab.output.renderOutput(dataTable, element);\n",
              "          const docLink = document.createElement('div');\n",
              "          docLink.innerHTML = docLinkHtml;\n",
              "          element.appendChild(docLink);\n",
              "        }\n",
              "      </script>\n",
              "    </div>\n",
              "  </div>\n",
              "  "
            ]
          },
          "metadata": {},
          "execution_count": 66
        }
      ]
    }
  ]
}