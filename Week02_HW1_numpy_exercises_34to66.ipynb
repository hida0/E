{
 "cells": [
  {
   "cell_type": "markdown",
   "metadata": {
    "id": "bf79c78b"
   },
   "source": [
    "# 100 numpy exercises\n",
    "\n",
    "This is a collection of exercises that have been collected in the numpy mailing list, on stack overflow\n",
    "and in the numpy documentation. The goal of this collection is to offer a quick reference for both old\n",
    "and new users but also to provide a set of exercises for those who teach.\n",
    "\n",
    "\n",
    "If you find an error or think you've a better way to solve some of them, feel\n",
    "free to open an issue at <https://github.com/rougier/numpy-100>."
   ]
  },
  {
   "cell_type": "markdown",
   "metadata": {
    "id": "8536e059"
   },
   "source": [
    "File automatically generated. See the documentation to update questions/answers/hints programmatically."
   ]
  },
  {
   "cell_type": "markdown",
   "metadata": {
    "id": "e16ac60b"
   },
   "source": [
    "Run the `initialize.py` module, then for each question you can query the\n",
    "answer or an hint with `hint(n)` or `answer(n)` for `n` question number."
   ]
  },
  {
   "cell_type": "code",
   "execution_count": null,
   "metadata": {
    "colab": {
     "base_uri": "https://localhost:8080/"
    },
    "id": "a8453483",
    "outputId": "2ef9aa93-2691-41ee-e6b2-8100404f326d"
   },
   "outputs": [
    {
     "name": "stderr",
     "output_type": "stream",
     "text": [
      "ERROR:root:File `'initialise.py'` not found.\n"
     ]
    }
   ],
   "source": [
    "%run initialise.py"
   ]
  },
  {
   "cell_type": "markdown",
   "metadata": {
    "id": "017db353"
   },
   "source": [
    "#### 1. Import the numpy package under the name `np` (★☆☆)"
   ]
  },
  {
   "cell_type": "code",
   "execution_count": null,
   "metadata": {
    "id": "68182a76"
   },
   "outputs": [],
   "source": [
    "import numpy as np"
   ]
  },
  {
   "cell_type": "markdown",
   "metadata": {
    "id": "42f8b2f9"
   },
   "source": [
    "#### 34. How to get all the dates corresponding to the month of July 2016? (★★☆)"
   ]
  },
  {
   "cell_type": "code",
   "execution_count": null,
   "metadata": {
    "colab": {
     "base_uri": "https://localhost:8080/"
    },
    "id": "eb8ebe45",
    "outputId": "9931174b-b71b-4f06-e7d0-1769aceaa341"
   },
   "outputs": [
    {
     "name": "stdout",
     "output_type": "stream",
     "text": [
      "['2016-07-01' '2016-07-02' '2016-07-03' '2016-07-04' '2016-07-05'\n",
      " '2016-07-06' '2016-07-07' '2016-07-08' '2016-07-09' '2016-07-10'\n",
      " '2016-07-11' '2016-07-12' '2016-07-13' '2016-07-14' '2016-07-15'\n",
      " '2016-07-16' '2016-07-17' '2016-07-18' '2016-07-19' '2016-07-20'\n",
      " '2016-07-21' '2016-07-22' '2016-07-23' '2016-07-24' '2016-07-25'\n",
      " '2016-07-26' '2016-07-27' '2016-07-28' '2016-07-29' '2016-07-30'\n",
      " '2016-07-31']\n"
     ]
    }
   ],
   "source": [
    "x = np.arange(\"2016-07\", \"2016-08\", dtype=\"datetime64[D]\")\n",
    "print(x)"
   ]
  },
  {
   "cell_type": "markdown",
   "metadata": {
    "id": "252c43e2"
   },
   "source": [
    "#### 35. How to compute ((A+B)*(-A/2)) in place (without copy)? (★★☆)"
   ]
  },
  {
   "cell_type": "code",
   "execution_count": null,
   "metadata": {
    "colab": {
     "base_uri": "https://localhost:8080/"
    },
    "id": "f06ff615",
    "outputId": "13716af1-57dc-4fd3-c57c-c5f908512f3e"
   },
   "outputs": [
    {
     "name": "stdout",
     "output_type": "stream",
     "text": [
      "[3. 3. 3.]\n",
      "[0.5 0.5 0.5]\n",
      "[-0.5 -0.5 -0.5]\n",
      "[-1.5 -1.5 -1.5]\n"
     ]
    }
   ],
   "source": [
    "A = np.ones(3) * 1\n",
    "B = np.ones(3) * 2\n",
    "np.add(A, B, out=B)\n",
    "print(B)\n",
    "np.divide(A, 2, out=A)\n",
    "print(A)\n",
    "np.negative(A, out=A)\n",
    "print(A)\n",
    "np.multiply(A, B, out=A)\n",
    "print(A)"
   ]
  },
  {
   "cell_type": "markdown",
   "metadata": {
    "id": "486df8ea"
   },
   "source": [
    "#### 36. Extract the integer part of a random array of positive numbers using 4 different methods (★★☆)"
   ]
  },
  {
   "cell_type": "code",
   "execution_count": null,
   "metadata": {
    "colab": {
     "base_uri": "https://localhost:8080/"
    },
    "id": "34b4fa08",
    "outputId": "624d265f-321f-48be-b821-0efff12a2887"
   },
   "outputs": [
    {
     "name": "stdout",
     "output_type": "stream",
     "text": [
      "[9.6972659  8.84041105 5.37429598 4.35899971 8.53119299 9.73253764\n",
      " 4.99706666 2.50794972 1.83265709 4.78485564]\n",
      "[9. 8. 5. 4. 8. 9. 4. 2. 1. 4.]\n",
      "[9. 8. 5. 4. 8. 9. 4. 2. 1. 4.]\n",
      "[10.  9.  6.  5.  9. 10.  5.  3.  2.  5.]\n",
      "[9 8 5 4 8 9 4 2 1 4]\n",
      "[9. 8. 5. 4. 8. 9. 4. 2. 1. 4.]\n"
     ]
    }
   ],
   "source": [
    "x = np.random.uniform(0,10,10)\n",
    "print(x) \n",
    "print(x - x%1) #x에서 x를 1로 나눈 나머지를 빼서 정수부분을 구함\n",
    "print(np.floor(x)) #np.floor를 이용하여 내림\n",
    "print(np.ceil(x))  #np.ceil을 이용하여 올림\n",
    "print(x.astype(int)) #astype을 이용하여 integer로 변환\n",
    "print(np.trunc(x)) #input의 소숫자리를 자른 후의 value를 나타냄"
   ]
  },
  {
   "cell_type": "markdown",
   "metadata": {
    "id": "649e89f9"
   },
   "source": [
    "#### 37. Create a 5x5 matrix with row values ranging from 0 to 4 (★★☆)"
   ]
  },
  {
   "cell_type": "code",
   "execution_count": null,
   "metadata": {
    "colab": {
     "base_uri": "https://localhost:8080/"
    },
    "id": "663cc611",
    "outputId": "49a10f3a-70d5-4a7b-b258-40b7df64d163"
   },
   "outputs": [
    {
     "name": "stdout",
     "output_type": "stream",
     "text": [
      "[[0. 1. 2. 3. 4.]\n",
      " [0. 1. 2. 3. 4.]\n",
      " [0. 1. 2. 3. 4.]\n",
      " [0. 1. 2. 3. 4.]\n",
      " [0. 1. 2. 3. 4.]]\n"
     ]
    }
   ],
   "source": [
    "x = np.zeros((5,5))\n",
    "y = np.arange(5)\n",
    "print(x+y)"
   ]
  },
  {
   "cell_type": "markdown",
   "metadata": {
    "id": "3421e17f"
   },
   "source": [
    "#### 38. Consider a generator function that generates 10 integers and use it to build an array (★☆☆)"
   ]
  },
  {
   "cell_type": "code",
   "execution_count": null,
   "metadata": {
    "colab": {
     "base_uri": "https://localhost:8080/"
    },
    "id": "0grtCylX_-YC",
    "outputId": "9596f366-15f2-4158-941e-e21254a8852b"
   },
   "outputs": [
    {
     "name": "stdout",
     "output_type": "stream",
     "text": [
      "[0. 1. 2. 3. 4. 5. 6. 7. 8. 9.]\n"
     ]
    }
   ],
   "source": [
    "def generator():\n",
    "    for i in range(10):\n",
    "        yield i  #return이 아닌 yield를 사용한다. return을 할 경우 처음 값만 도출되지만 yield는 값을 내보낼 수도 넣어줄 수도 있다.\n",
    "x = np.fromiter(generator(),dtype=\"float\",count=-1) #np.fromiter를 통해 표현가능한 객체로부터 새로운 1차원 array를 만든다.\n",
    "print(x)"
   ]
  },
  {
   "cell_type": "markdown",
   "metadata": {
    "id": "483dd554"
   },
   "source": [
    "#### 39. Create a vector of size 10 with values ranging from 0 to 1, both excluded (★★☆)"
   ]
  },
  {
   "cell_type": "code",
   "execution_count": null,
   "metadata": {
    "colab": {
     "base_uri": "https://localhost:8080/"
    },
    "id": "c89b93e7",
    "outputId": "bad7fff6-8a5a-4df7-85ec-78c5233f155b"
   },
   "outputs": [
    {
     "name": "stdout",
     "output_type": "stream",
     "text": [
      "[0.09090909 0.18181818 0.27272727 0.36363636 0.45454545 0.54545455\n",
      " 0.63636364 0.72727273 0.81818182 0.90909091]\n"
     ]
    }
   ],
   "source": [
    "x = np.linspace(0,1,11,endpoint=False) #np.linspace(시작(포함),끝(포함),갯수)\n",
    "x = x[1:]\n",
    "print(x)"
   ]
  },
  {
   "cell_type": "markdown",
   "metadata": {
    "id": "2d07be1c"
   },
   "source": [
    "#### 40. Create a random vector of size 10 and sort it (★★☆)"
   ]
  },
  {
   "cell_type": "code",
   "execution_count": null,
   "metadata": {
    "colab": {
     "base_uri": "https://localhost:8080/"
    },
    "id": "4f7cb3ad",
    "outputId": "a1e9c735-8fb3-47c9-e592-39f31f1e1fdd"
   },
   "outputs": [
    {
     "name": "stdout",
     "output_type": "stream",
     "text": [
      "[0.04973337 0.16265045 0.27313295 0.30683352 0.32550302 0.32898714\n",
      " 0.52258359 0.78542977 0.84844109 0.94619697]\n"
     ]
    }
   ],
   "source": [
    "x = np.random.random(10)\n",
    "x.sort()\n",
    "print(x)"
   ]
  },
  {
   "cell_type": "markdown",
   "metadata": {
    "id": "6415f02e"
   },
   "source": [
    "#### 41. How to sum a small array faster than np.sum? (★★☆)"
   ]
  },
  {
   "cell_type": "code",
   "execution_count": null,
   "metadata": {
    "colab": {
     "base_uri": "https://localhost:8080/"
    },
    "id": "bb0dd942",
    "outputId": "c40dbe39-bd0d-4d6b-ac4f-9440235fab21"
   },
   "outputs": [
    {
     "data": {
      "text/plain": [
       "7.002473404105704"
      ]
     },
     "execution_count": 34,
     "metadata": {},
     "output_type": "execute_result"
    }
   ],
   "source": [
    "x = np.random.random(10)\n",
    "np.add.reduce(x)"
   ]
  },
  {
   "cell_type": "markdown",
   "metadata": {
    "id": "fe043549"
   },
   "source": [
    "#### 42. Consider two random array A and B, check if they are equal (★★☆)"
   ]
  },
  {
   "cell_type": "code",
   "execution_count": null,
   "metadata": {
    "colab": {
     "base_uri": "https://localhost:8080/"
    },
    "id": "3326a686",
    "outputId": "c4396cce-9990-4fac-97b8-6c6688a02ec2"
   },
   "outputs": [
    {
     "name": "stdout",
     "output_type": "stream",
     "text": [
      "A: [0 0 0 1 1] B: [1 0 1 0 0]\n",
      "False\n",
      "False\n"
     ]
    }
   ],
   "source": [
    "A = np.random.randint(0,2,5)\n",
    "B = np.random.randint(0,2,5)\n",
    "print(\"A:\", A, \"B:\", B)\n",
    "print(np.allclose(A,B))\n",
    "print(np.array_equal(A,B))"
   ]
  },
  {
   "cell_type": "markdown",
   "metadata": {
    "id": "cc08f71c"
   },
   "source": [
    "#### 43. Make an array immutable (read-only) (★★☆)"
   ]
  },
  {
   "cell_type": "code",
   "execution_count": null,
   "metadata": {
    "colab": {
     "base_uri": "https://localhost:8080/"
    },
    "id": "d5cc9dbe",
    "outputId": "e8c321ca-760e-4758-f187-4d687fa7d5e3"
   },
   "outputs": [
    {
     "data": {
      "text/plain": [
       "array([1., 0., 0., 0., 0., 0., 0., 0., 0., 0.])"
      ]
     },
     "execution_count": 45,
     "metadata": {},
     "output_type": "execute_result"
    }
   ],
   "source": [
    "x = np.zeros(10)\n",
    "x.flags.writeable = False #x.flags.writeable = False로 설정함으로써 변수를 변경하는 것을 막는다.\n",
    "x[0]= 1"
   ]
  },
  {
   "cell_type": "markdown",
   "metadata": {
    "id": "2002cb03"
   },
   "source": [
    "#### 44. Consider a random 10x2 matrix representing cartesian coordinates, convert them to polar coordinates (★★☆)"
   ]
  },
  {
   "cell_type": "code",
   "execution_count": null,
   "metadata": {
    "colab": {
     "base_uri": "https://localhost:8080/"
    },
    "id": "58be72bc",
    "outputId": "4be5c0f5-f3da-4dcd-d097-184df9d58130"
   },
   "outputs": [
    {
     "name": "stdout",
     "output_type": "stream",
     "text": [
      "[0.18469896 0.4752382  0.68061064 0.08582791 1.18816895 0.88061916\n",
      " 0.94197267 0.72728582 0.42315598 1.15359662]\n",
      "[0.10211421 0.73963912 1.23250734 1.22110812 0.79476585 0.49101904\n",
      " 0.13577378 1.19127405 1.47383537 1.00804915]\n"
     ]
    }
   ],
   "source": [
    "Z = np.random.random((10,2))\n",
    "X,Y = Z[:,0], Z[:,1]\n",
    "R = np.sqrt(X**2+Y**2) #Cartesian coordinates √X^2+Y^2\n",
    "P = np.arctan2(Y,X) #극좌표계(polar)를 나타내기 위해 arctan2를 사용\n",
    "print(R)\n",
    "print(P)"
   ]
  },
  {
   "cell_type": "markdown",
   "metadata": {
    "id": "b7109c9f"
   },
   "source": [
    "#### 45. Create random vector of size 10 and replace the maximum value by 0 (★★☆)"
   ]
  },
  {
   "cell_type": "code",
   "execution_count": null,
   "metadata": {
    "colab": {
     "base_uri": "https://localhost:8080/"
    },
    "id": "f79e79a7",
    "outputId": "591bcaad-8329-428d-a7fc-d7cee418f092"
   },
   "outputs": [
    {
     "name": "stdout",
     "output_type": "stream",
     "text": [
      "[0.7090105  0.02985458 0.2045606  0.49366537 0.98906039 0.68043573\n",
      " 0.1355891  0.07157644 0.0850051  0.42853325]\n",
      "4\n",
      "[0.7090105  0.02985458 0.2045606  0.49366537 0.         0.68043573\n",
      " 0.1355891  0.07157644 0.0850051  0.42853325]\n"
     ]
    }
   ],
   "source": [
    "x = np.random.random(10)\n",
    "print(x)\n",
    "print(x.argmax()) #최댓값의 인덱스를 찾는다.\n",
    "x[x.argmax()]=0\n",
    "print(x)"
   ]
  },
  {
   "cell_type": "markdown",
   "metadata": {
    "id": "7d3131b9"
   },
   "source": [
    "#### 46. Create a structured array with `x` and `y` coordinates covering the [0,1]x[0,1] area (★★☆)"
   ]
  },
  {
   "cell_type": "code",
   "execution_count": null,
   "metadata": {
    "colab": {
     "base_uri": "https://localhost:8080/"
    },
    "id": "4f471afe",
    "outputId": "69a4c973-f66b-4b30-c7aa-fd82ce3b811c"
   },
   "outputs": [
    {
     "name": "stdout",
     "output_type": "stream",
     "text": [
      "[[(0.  , 0. ) (0.25, 0. ) (0.5 , 0. ) (0.75, 0. ) (1.  , 0. )]\n",
      " [(0.  , 0.5) (0.25, 0.5) (0.5 , 0.5) (0.75, 0.5) (1.  , 0.5)]\n",
      " [(0.  , 1. ) (0.25, 1. ) (0.5 , 1. ) (0.75, 1. ) (1.  , 1. )]\n",
      " [(0.  , 1.5) (0.25, 1.5) (0.5 , 1.5) (0.75, 1.5) (1.  , 1.5)]\n",
      " [(0.  , 2. ) (0.25, 2. ) (0.5 , 2. ) (0.75, 2. ) (1.  , 2. )]]\n"
     ]
    }
   ],
   "source": [
    "Z = np.zeros((5,5),[('x',float),('y',float)]) #(x,y) 좌표값 쌍 즉, 그리드 포인트(grid point)를 생성하여 각 좌표에 대한 함수 값을 계산해야 한다.\n",
    "Z['x'],Z['y'] = np.meshgrid(np.linspace(0,1,5),np.linspace(0,2,5)) \n",
    "#Meshgrid를 통해 사각형 영역을 구성하는 가로축의 점들과 세로축의 점을 나타내는 두 벡터를 인수로 받아서 이 사각형 영역을 이루는 조합을 출력한다.\n",
    "print(Z)"
   ]
  },
  {
   "cell_type": "markdown",
   "metadata": {
    "id": "7c8c1fc5"
   },
   "source": [
    "#### 47. Given two arrays, X and Y, construct the Cauchy matrix C (Cij =1/(xi - yj)) (★★☆)"
   ]
  },
  {
   "cell_type": "code",
   "execution_count": null,
   "metadata": {
    "colab": {
     "base_uri": "https://localhost:8080/"
    },
    "id": "8fac7d28",
    "outputId": "d3b45bbc-77c0-451a-8c1e-6811f057d398"
   },
   "outputs": [
    {
     "name": "stdout",
     "output_type": "stream",
     "text": [
      "x: [0 1 2 3 4] y: [0.5 1.5 2.5 3.5 4.5]\n",
      "[[-2.         -0.66666667 -0.4        -0.28571429 -0.22222222]\n",
      " [ 2.         -2.         -0.66666667 -0.4        -0.28571429]\n",
      " [ 0.66666667  2.         -2.         -0.66666667 -0.4       ]\n",
      " [ 0.4         0.66666667  2.         -2.         -0.66666667]\n",
      " [ 0.28571429  0.4         0.66666667  2.         -2.        ]]\n"
     ]
    }
   ],
   "source": [
    "x = np.arange(5)\n",
    "y = x + 0.5   \n",
    "print(\"x:\", x, \"y:\", y) \n",
    "print(np.subtract(x, y)) #x-y\n",
    "C = 1.0 / np.subtract.outer(x, y) #각각의 i,j에 해당하는 성분을 추출하여 뺀 값으로 행렬 생성\n",
    "print(C)"
   ]
  },
  {
   "cell_type": "markdown",
   "metadata": {
    "id": "5795b4bd"
   },
   "source": [
    "#### 48. Print the minimum and maximum representable value for each numpy scalar type (★★☆)"
   ]
  },
  {
   "cell_type": "code",
   "execution_count": null,
   "metadata": {
    "colab": {
     "base_uri": "https://localhost:8080/"
    },
    "id": "b721f7ca",
    "outputId": "b3f2dde5-acc6-4657-a617-55176b682208"
   },
   "outputs": [
    {
     "name": "stdout",
     "output_type": "stream",
     "text": [
      "-128\n",
      "127\n",
      "-2147483648\n",
      "2147483647\n",
      "-9223372036854775808\n",
      "9223372036854775807\n",
      "-----------------\n",
      "-3.4028235e+38\n",
      "3.4028235e+38\n",
      "1.1920929e-07\n",
      "-1.7976931348623157e+308\n",
      "1.7976931348623157e+308\n",
      "2.220446049250313e-16\n"
     ]
    }
   ],
   "source": [
    "for dtype in [np.int8,np.int32,np.int64]:\n",
    "    print(np.iinfo(dtype).min) #iinfo()는 int에 대한 정보\n",
    "    print(np.iinfo(dtype).max)\n",
    "print(\"-----------------\")\n",
    "for dtype in [np.float32,np.float64]:\n",
    "    print(np.finfo(dtype).min) #finfo()는 float에 대한 정보\n",
    "    print(np.finfo(dtype).max)\n",
    "    print(np.finfo(dtype).eps) #eps는 표현가능한 가장 작은 값"
   ]
  },
  {
   "cell_type": "markdown",
   "metadata": {
    "id": "fb24674c"
   },
   "source": [
    "#### 49. How to print all the values of an array? (★★☆)"
   ]
  },
  {
   "cell_type": "code",
   "execution_count": null,
   "metadata": {
    "colab": {
     "base_uri": "https://localhost:8080/"
    },
    "id": "c81f1456",
    "outputId": "d15d6364-5e73-4faa-918f-e2218db2133a"
   },
   "outputs": [
    {
     "name": "stdout",
     "output_type": "stream",
     "text": [
      "[[0. 0. 0. 0. 0. 0. 0. 0. 0. 0. 0. 0. 0. 0. 0. 0.]\n",
      " [0. 0. 0. 0. 0. 0. 0. 0. 0. 0. 0. 0. 0. 0. 0. 0.]\n",
      " [0. 0. 0. 0. 0. 0. 0. 0. 0. 0. 0. 0. 0. 0. 0. 0.]\n",
      " [0. 0. 0. 0. 0. 0. 0. 0. 0. 0. 0. 0. 0. 0. 0. 0.]\n",
      " [0. 0. 0. 0. 0. 0. 0. 0. 0. 0. 0. 0. 0. 0. 0. 0.]\n",
      " [0. 0. 0. 0. 0. 0. 0. 0. 0. 0. 0. 0. 0. 0. 0. 0.]\n",
      " [0. 0. 0. 0. 0. 0. 0. 0. 0. 0. 0. 0. 0. 0. 0. 0.]\n",
      " [0. 0. 0. 0. 0. 0. 0. 0. 0. 0. 0. 0. 0. 0. 0. 0.]\n",
      " [0. 0. 0. 0. 0. 0. 0. 0. 0. 0. 0. 0. 0. 0. 0. 0.]\n",
      " [0. 0. 0. 0. 0. 0. 0. 0. 0. 0. 0. 0. 0. 0. 0. 0.]\n",
      " [0. 0. 0. 0. 0. 0. 0. 0. 0. 0. 0. 0. 0. 0. 0. 0.]\n",
      " [0. 0. 0. 0. 0. 0. 0. 0. 0. 0. 0. 0. 0. 0. 0. 0.]\n",
      " [0. 0. 0. 0. 0. 0. 0. 0. 0. 0. 0. 0. 0. 0. 0. 0.]\n",
      " [0. 0. 0. 0. 0. 0. 0. 0. 0. 0. 0. 0. 0. 0. 0. 0.]\n",
      " [0. 0. 0. 0. 0. 0. 0. 0. 0. 0. 0. 0. 0. 0. 0. 0.]\n",
      " [0. 0. 0. 0. 0. 0. 0. 0. 0. 0. 0. 0. 0. 0. 0. 0.]]\n"
     ]
    }
   ],
   "source": [
    "x = np.zeros((16,16))\n",
    "np.set_printoptions(threshold=np.inf) #자료의 개수가 많아도 중간에 생략하지 않고 모두 보여주도록 한다.\n",
    "x"
   ]
  },
  {
   "cell_type": "markdown",
   "metadata": {
    "id": "e6e1ae2f"
   },
   "source": [
    "#### 50. How to find the closest value (to a given scalar) in a vector? (★★☆)"
   ]
  },
  {
   "cell_type": "code",
   "execution_count": null,
   "metadata": {
    "colab": {
     "base_uri": "https://localhost:8080/"
    },
    "id": "73dd91cc",
    "outputId": "c3e72462-cb23-47a6-f6b8-25c6b9c169da"
   },
   "outputs": [
    {
     "name": "stdout",
     "output_type": "stream",
     "text": [
      "37.52375142666637\n",
      "0.4762485733336277\n",
      "38\n"
     ]
    }
   ],
   "source": [
    "x = np.arange(100)\n",
    "y = np.random.uniform(0, 100)\n",
    "print(y)\n",
    "print(np.abs(x-y).min()) #x에서 y를 뺀 값에 절댓값을 취한 것 중에 가장 작은 값, 이 값이 작을수록 y와 비슷하다.\n",
    "index = (np.abs(x-y)).argmin() #x-y에 절댓값을 취한 값 중에 최솟값(=y와 가장 가까운 값)의 인덱스\n",
    "print(x[index])"
   ]
  },
  {
   "cell_type": "markdown",
   "metadata": {
    "id": "c01f0ecf"
   },
   "source": [
    "#### 51. Create a structured array representing a position (x,y) and a color (r,g,b) (★★☆)"
   ]
  },
  {
   "cell_type": "code",
   "execution_count": null,
   "metadata": {
    "colab": {
     "base_uri": "https://localhost:8080/"
    },
    "id": "fb8017ca",
    "outputId": "4ef01aa2-bf13-4d2b-ff08-6af36212b298"
   },
   "outputs": [
    {
     "name": "stderr",
     "output_type": "stream",
     "text": [
      "/usr/local/lib/python3.7/dist-packages/ipykernel_launcher.py:5: FutureWarning: Passing (type, 1) or '1type' as a synonym of type is deprecated; in a future version of numpy, it will be understood as (type, (1,)) / '(1,)type'.\n",
      "  \"\"\"\n"
     ]
    },
    {
     "data": {
      "text/plain": [
       "array([((0., 0.), (0., 0., 0.)), ((0., 0.), (0., 0., 0.)),\n",
       "       ((0., 0.), (0., 0., 0.)), ((0., 0.), (0., 0., 0.)),\n",
       "       ((0., 0.), (0., 0., 0.)), ((0., 0.), (0., 0., 0.)),\n",
       "       ((0., 0.), (0., 0., 0.)), ((0., 0.), (0., 0., 0.)),\n",
       "       ((0., 0.), (0., 0., 0.)), ((0., 0.), (0., 0., 0.))],\n",
       "      dtype=[('position', [('x', '<f8'), ('y', '<f8')]), ('color', [('r', '<f8'), ('g', '<f8'), ('b', '<f8')])])"
      ]
     },
     "execution_count": 107,
     "metadata": {},
     "output_type": "execute_result"
    }
   ],
   "source": [
    "x = np.zeros(10,[('position',[('x',float,1),\n",
    "                             ('y',float,1)]),\n",
    "                ('color', [('r',float,1),\n",
    "                          ('g',float,1),\n",
    "                          ('b',float,1)])])\n",
    "x"
   ]
  },
  {
   "cell_type": "markdown",
   "metadata": {
    "id": "3b64a18b"
   },
   "source": [
    "#### 52. Consider a random vector with shape (100,2) representing coordinates, find point by point distances (★★☆)"
   ]
  },
  {
   "cell_type": "code",
   "execution_count": null,
   "metadata": {
    "colab": {
     "base_uri": "https://localhost:8080/"
    },
    "id": "4b482822",
    "outputId": "30e7dc17-7e8a-46d6-983e-dfaa9dc5516f"
   },
   "outputs": [
    {
     "name": "stdout",
     "output_type": "stream",
     "text": [
      "[[0.         0.69679158 0.82190908 0.60271328 0.47175232 0.28045892\n",
      "  0.34072475 0.47308968 0.48288656 0.79522883]\n",
      " [0.69679158 0.         0.17942421 0.10206039 0.89903392 0.81485614\n",
      "  0.6942044  1.00253989 1.13403858 0.75115308]\n",
      " [0.82190908 0.17942421 0.         0.23223839 0.94063346 0.89149123\n",
      "  0.86270228 1.06088956 1.22310665 0.68740247]\n",
      " [0.60271328 0.10206039 0.23223839 0.         0.79876056 0.71284637\n",
      "  0.63267206 0.90073193 1.03303851 0.68333542]\n",
      " [0.47175232 0.89903392 0.94063346 0.79876056 0.         0.1950829\n",
      "  0.81145169 0.14689461 0.39374361 0.51933727]\n",
      " [0.28045892 0.81485614 0.89149123 0.71284637 0.1950829  0.\n",
      "  0.62118277 0.20680618 0.33568423 0.62799253]\n",
      " [0.34072475 0.6942044  0.86270228 0.63267206 0.81145169 0.62118277\n",
      "  0.         0.80943596 0.76841111 1.06513115]\n",
      " [0.47308968 1.00253989 1.06088956 0.90073193 0.14689461 0.20680618\n",
      "  0.80943596 0.         0.25414892 0.66506336]\n",
      " [0.48288656 1.13403858 1.22310665 1.03303851 0.39374361 0.33568423\n",
      "  0.76841111 0.25414892 0.         0.91174584]\n",
      " [0.79522883 0.75115308 0.68740247 0.68333542 0.51933727 0.62799253\n",
      "  1.06513115 0.66506336 0.91174584 0.        ]]\n"
     ]
    }
   ],
   "source": [
    "Z = np.random.random((10,2))\n",
    "x, y = np.atleast_2d(Z[:,0],Z[:,1]) #np.atleat_2d : View inputs as arrays with at least two dimensions.\n",
    "D = np.sqrt( (x-x.T)**2 + (y-y.T)**2)\n",
    "print(D)"
   ]
  },
  {
   "cell_type": "markdown",
   "metadata": {
    "id": "48413134"
   },
   "source": [
    "#### 53. How to convert a float (32 bits) array into an integer (32 bits) in place?"
   ]
  },
  {
   "cell_type": "code",
   "execution_count": null,
   "metadata": {
    "colab": {
     "base_uri": "https://localhost:8080/"
    },
    "id": "5db64b6d",
    "outputId": "0c8fac9e-abfa-4929-961f-9c04168134b5"
   },
   "outputs": [
    {
     "name": "stdout",
     "output_type": "stream",
     "text": [
      "int32\n"
     ]
    }
   ],
   "source": [
    "x = np.arange(10, dtype=np.float32)\n",
    "x = x.astype(np.int32, copy=False) #copy=False : 복사 대신에 반환한다.\n",
    "print(x.dtype)"
   ]
  },
  {
   "cell_type": "markdown",
   "metadata": {
    "id": "0a532633"
   },
   "source": [
    "#### 54. How to read the following file? (★★☆)\n",
    "```\n",
    "1, 2, 3, 4, 5\n",
    "6,  ,  , 7, 8\n",
    " ,  , 9,10,11\n",
    "```"
   ]
  },
  {
   "cell_type": "code",
   "execution_count": null,
   "metadata": {
    "colab": {
     "base_uri": "https://localhost:8080/"
    },
    "id": "8af4f753",
    "outputId": "069afa84-5a8c-4d5a-fbcd-47782d623611"
   },
   "outputs": [
    {
     "name": "stdout",
     "output_type": "stream",
     "text": [
      "[[ 1  2  3  4  5]\n",
      " [ 6 -1 -1  7  8]\n",
      " [-1 -1  9 10 11]]\n"
     ]
    },
    {
     "name": "stderr",
     "output_type": "stream",
     "text": [
      "/usr/local/lib/python3.7/dist-packages/ipykernel_launcher.py:7: DeprecationWarning: `np.int` is a deprecated alias for the builtin `int`. To silence this warning, use `int` by itself. Doing this will not modify any behavior and is safe. When replacing `np.int`, you may wish to use e.g. `np.int64` or `np.int32` to specify the precision. If you wish to review your current use, check the release note link for additional information.\n",
      "Deprecated in NumPy 1.20; for more details and guidance: https://numpy.org/devdocs/release/1.20.0-notes.html#deprecations\n",
      "  import sys\n"
     ]
    }
   ],
   "source": [
    "from io import StringIO\n",
    "\n",
    "s = StringIO(\"\"\"1, 2, 3, 4, 5\\n\n",
    "                6,  ,  , 7, 8\\n\n",
    "                 ,  , 9,10,11\\n\"\"\")\n",
    "\n",
    "x = np.genfromtxt(s, delimiter=\",\",dtype=np.int) #텍스트파일에서 데이터를 로드한다. 결측값은 지정된 대로 처리된다.\n",
    "print(x)"
   ]
  },
  {
   "cell_type": "markdown",
   "metadata": {
    "id": "f98713a6"
   },
   "source": [
    "#### 55. What is the equivalent of enumerate for numpy arrays? (★★☆)"
   ]
  },
  {
   "cell_type": "code",
   "execution_count": null,
   "metadata": {
    "colab": {
     "base_uri": "https://localhost:8080/"
    },
    "id": "64795f84",
    "outputId": "e1be7777-e805-43d8-c6b1-4035eadee1ad"
   },
   "outputs": [
    {
     "name": "stdout",
     "output_type": "stream",
     "text": [
      "[[0 1 2]\n",
      " [3 4 5]\n",
      " [6 7 8]]\n",
      "(0, 0) 0\n",
      "(0, 1) 1\n",
      "(0, 2) 2\n",
      "(1, 0) 3\n",
      "(1, 1) 4\n",
      "(1, 2) 5\n",
      "(2, 0) 6\n",
      "(2, 1) 7\n",
      "(2, 2) 8\n",
      "---------\n",
      "(0, 0) 0\n",
      "(0, 1) 1\n",
      "(0, 2) 2\n",
      "(1, 0) 3\n",
      "(1, 1) 4\n",
      "(1, 2) 5\n",
      "(2, 0) 6\n",
      "(2, 1) 7\n",
      "(2, 2) 8\n"
     ]
    }
   ],
   "source": [
    "x = np.arange(9).reshape(3,3)\n",
    "print(x)\n",
    "for index, value in np.ndenumerate(x): #np.ndenumerate: 다차원 인덱스 반환\n",
    "    print(index, value)\n",
    "print(\"---------\")\n",
    "for index in np.ndindex(x.shape): #np.ndindex: 인덱스 배열에 대한 N차원 반복 개체\n",
    "    print(index, x[index])"
   ]
  },
  {
   "cell_type": "markdown",
   "metadata": {
    "id": "1abc7cc8"
   },
   "source": [
    "#### 56. Generate a generic 2D Gaussian-like array (★★☆)"
   ]
  },
  {
   "cell_type": "code",
   "execution_count": null,
   "metadata": {
    "colab": {
     "base_uri": "https://localhost:8080/"
    },
    "id": "42e3a5bc",
    "outputId": "3374f570-0d87-476c-94ef-c1bbc5b2095a"
   },
   "outputs": [
    {
     "name": "stdout",
     "output_type": "stream",
     "text": [
      "[[0.36787944 0.53526143 0.60653066 0.53526143 0.36787944]\n",
      " [0.53526143 0.77880078 0.8824969  0.77880078 0.53526143]\n",
      " [0.60653066 0.8824969  1.         0.8824969  0.60653066]\n",
      " [0.53526143 0.77880078 0.8824969  0.77880078 0.53526143]\n",
      " [0.36787944 0.53526143 0.60653066 0.53526143 0.36787944]]\n"
     ]
    }
   ],
   "source": [
    "x, y = np.meshgrid(np.linspace(-1,1,5), np.linspace(-1,1,5))\n",
    "D = np.sqrt(x*x + y*y)\n",
    "sigma, mu = 1.0, 0.0\n",
    "G = np.exp(-( (D-mu)**2 / ( 2.0 * sigma**2 ) ) )\n",
    "print(G)"
   ]
  },
  {
   "cell_type": "markdown",
   "metadata": {
    "id": "0cf413ee"
   },
   "source": [
    "#### 57. How to randomly place p elements in a 2D array? (★★☆)"
   ]
  },
  {
   "cell_type": "code",
   "execution_count": null,
   "metadata": {
    "colab": {
     "base_uri": "https://localhost:8080/"
    },
    "id": "dfc57e06",
    "outputId": "6c3b3e5a-4c86-41ad-9d7a-d7590c316f40"
   },
   "outputs": [
    {
     "name": "stdout",
     "output_type": "stream",
     "text": [
      "[ 1 21  8]\n",
      "[[0. 1. 0. 0. 0.]\n",
      " [0. 0. 0. 1. 0.]\n",
      " [0. 0. 0. 0. 0.]\n",
      " [0. 0. 0. 0. 0.]\n",
      " [0. 1. 0. 0. 0.]]\n"
     ]
    }
   ],
   "source": [
    "n = 5\n",
    "p = 3\n",
    "x = np.zeros((n,n))\n",
    "y = np.random.choice(range(n*n), p, replace=False)\n",
    "np.put(x, y, 1) #np.put: 배열의 지정된 요소를 지정된 값으로 바꾼다.\n",
    "                                                             #np.random.choice: 지정된 배열 내에서 지정된 길이의 1차원 배열 랜덤 표본을 생성한다.\n",
    "print(y)\n",
    "print(x)"
   ]
  },
  {
   "cell_type": "markdown",
   "metadata": {
    "id": "215b6acc"
   },
   "source": [
    "#### 58. Subtract the mean of each row of a matrix (★★☆)"
   ]
  },
  {
   "cell_type": "code",
   "execution_count": null,
   "metadata": {
    "colab": {
     "base_uri": "https://localhost:8080/"
    },
    "id": "dd1adef4",
    "outputId": "8104f84d-6a4c-4f00-e181-5a1d1ce43757"
   },
   "outputs": [
    {
     "name": "stdout",
     "output_type": "stream",
     "text": [
      "[[ 0.00165176 -0.25117933 -0.0933145  -0.28452985  0.62737192]\n",
      " [ 0.42360257  0.16864607 -0.12248596 -0.21131888 -0.2584438 ]\n",
      " [-0.44445672  0.24731189 -0.07282728 -0.00886286  0.27883497]]\n"
     ]
    }
   ],
   "source": [
    "x = np.random.rand(3, 5)\n",
    "y = x - x.mean(axis=1,keepdims=True)  #axis=1은 행선택 , keepdims로 차원 유지\n",
    "print(y)"
   ]
  },
  {
   "cell_type": "markdown",
   "metadata": {
    "id": "c0cf37e0"
   },
   "source": [
    "#### 59. How to sort an array by the nth column? (★★☆)"
   ]
  },
  {
   "cell_type": "code",
   "execution_count": null,
   "metadata": {
    "colab": {
     "base_uri": "https://localhost:8080/"
    },
    "id": "9336ca5f",
    "outputId": "bece312c-0ee2-49fd-bebd-ae4b7b62d4ab"
   },
   "outputs": [
    {
     "name": "stdout",
     "output_type": "stream",
     "text": [
      "[[3 9 2]\n",
      " [7 3 6]\n",
      " [8 6 2]]\n",
      "----------\n",
      "[[7 3 6]\n",
      " [8 6 2]\n",
      " [3 9 2]]\n"
     ]
    }
   ],
   "source": [
    "x = np.random.randint(0, 10, (3,3))\n",
    "print(x)\n",
    "print(\"----------\")\n",
    "print(x[x[:,1].argsort()])\n",
    "#각 행의 2열 성분의 크기의 내림차순으로 정렬한다. ( 9, 3, 6 -> 3, 6, 9 ) "
   ]
  },
  {
   "cell_type": "markdown",
   "metadata": {
    "id": "c17fb213"
   },
   "source": [
    "#### 60. How to tell if a given 2D array has null columns? (★★☆)"
   ]
  },
  {
   "cell_type": "code",
   "execution_count": null,
   "metadata": {
    "colab": {
     "base_uri": "https://localhost:8080/"
    },
    "id": "7fdda78d",
    "outputId": "1b2391dd-da5b-433c-fa03-d6a1005f38a1"
   },
   "outputs": [
    {
     "name": "stdout",
     "output_type": "stream",
     "text": [
      "[[1 1 2 0 0]\n",
      " [2 2 0 0 2]\n",
      " [0 0 0 0 2]]\n",
      "True\n"
     ]
    }
   ],
   "source": [
    "x = np.random.randint(0, 3, (3, 5))\n",
    "print(x)\n",
    "print((~x.any(axis=0)).any())\n",
    "#열의 성분이 전부 0인 null column이 있는지"
   ]
  },
  {
   "cell_type": "markdown",
   "metadata": {
    "id": "8aaab886"
   },
   "source": [
    "#### 61. Find the nearest value from a given value in an array (★★☆)"
   ]
  },
  {
   "cell_type": "code",
   "execution_count": null,
   "metadata": {
    "colab": {
     "base_uri": "https://localhost:8080/"
    },
    "id": "973f8079",
    "outputId": "f685d543-55fe-4e9a-81ac-0e6e44c02682"
   },
   "outputs": [
    {
     "name": "stdout",
     "output_type": "stream",
     "text": [
      "[0.25664975 0.67354247 0.55381736 0.35226093 0.7264629  0.83265964\n",
      " 0.53991595 0.5649871  0.75046805 0.22812993]\n",
      "0.539915953559757\n"
     ]
    }
   ],
   "source": [
    "x = np.random.uniform(0,1,10)\n",
    "z = 0.5 \n",
    "print(x)\n",
    "index = np.abs(x-z).argmin() #x-z의 절댓값이 가장 작은 값의 인덱스\n",
    "print(x[index]) #x-z의 절댓값이 가장 작은 값"
   ]
  },
  {
   "cell_type": "markdown",
   "metadata": {
    "id": "66a04e2e"
   },
   "source": [
    "#### 62. Considering two arrays with shape (1,3) and (3,1), how to compute their sum using an iterator? (★★☆)"
   ]
  },
  {
   "cell_type": "code",
   "execution_count": null,
   "metadata": {
    "colab": {
     "base_uri": "https://localhost:8080/"
    },
    "id": "4b356632",
    "outputId": "1732fe9c-1136-401c-b30b-6c664f330666"
   },
   "outputs": [
    {
     "name": "stdout",
     "output_type": "stream",
     "text": [
      "[[0 1 2]\n",
      " [1 2 3]\n",
      " [2 3 4]]\n"
     ]
    }
   ],
   "source": [
    "A = np.arange(3).reshape(1,3)\n",
    "B = np.arange(3).reshape(3,1)\n",
    "it = np.nditer([A, B, None]) #np.nditer: for문을 사용하지 않고 다차원 배열을 순회하게 하는 함수\n",
    "for x,y,z in it: \n",
    "    z[...] = x+y\n",
    "print(it.operands[2])"
   ]
  },
  {
   "cell_type": "markdown",
   "metadata": {
    "id": "f4427f7f"
   },
   "source": [
    "#### 63. Create an array class that has a name attribute (★★☆)"
   ]
  },
  {
   "cell_type": "code",
   "execution_count": null,
   "metadata": {
    "colab": {
     "base_uri": "https://localhost:8080/"
    },
    "id": "fe253212",
    "outputId": "318e5b36-1254-4f33-995f-0153a11d629e"
   },
   "outputs": [
    {
     "name": "stdout",
     "output_type": "stream",
     "text": [
      "range_10\n"
     ]
    }
   ],
   "source": [
    "class NamedArray(np.ndarray):\n",
    "    def __new__(cls, array, name=\"no name\"):\n",
    "        obj = np.asarray(array).view(cls)\n",
    "        obj.name = name\n",
    "        return obj\n",
    "    def __array_finalize__(self, obj):\n",
    "        if obj is None: return\n",
    "        self.info = getattr(obj, 'name', \"no name\")\n",
    "\n",
    "Z = NamedArray(np.arange(10), \"range_10\")\n",
    "print(Z.name)"
   ]
  },
  {
   "cell_type": "markdown",
   "metadata": {
    "id": "58be9dd4"
   },
   "source": [
    "#### 64. Consider a given vector, how to add 1 to each element indexed by a second vector (be careful with repeated indices)? (★★★)"
   ]
  },
  {
   "cell_type": "code",
   "execution_count": null,
   "metadata": {
    "colab": {
     "base_uri": "https://localhost:8080/"
    },
    "id": "5c8bae42",
    "outputId": "7c009f93-9af5-4c05-ca58-53e445793558"
   },
   "outputs": [
    {
     "name": "stdout",
     "output_type": "stream",
     "text": [
      "[0 0 8 0 3 7 5 1 0 9 3 0 0 8 2 8 8 2 9 7]\n",
      "[7. 2. 3. 3. 1. 2. 1. 3. 5. 3.]\n"
     ]
    }
   ],
   "source": [
    "x = np.ones(10)\n",
    "a = np.random.randint(0,len(x),20)\n",
    "np.add.at(x, a, 1) #a의 값에 해당하는 x의 인덱스에 1씩 더함 -> a의 첫째항이 0이라면 x의 첫째항에 +1\n",
    "print(a)\n",
    "print(x)"
   ]
  },
  {
   "cell_type": "markdown",
   "metadata": {
    "id": "7348abd0"
   },
   "source": [
    "#### 65. How to accumulate elements of a vector (X) to an array (F) based on an index list (I)? (★★★)"
   ]
  },
  {
   "cell_type": "code",
   "execution_count": null,
   "metadata": {
    "colab": {
     "base_uri": "https://localhost:8080/"
    },
    "id": "b3e33a5a",
    "outputId": "ef7712ea-2972-418c-d08f-8fce9445841b"
   },
   "outputs": [
    {
     "name": "stdout",
     "output_type": "stream",
     "text": [
      "[0. 0. 0. 1. 2. 3. 4. 5. 6.]\n"
     ]
    }
   ],
   "source": [
    "X = [1,2,3,4,5,6]\n",
    "I = [3,4,5,6,7,8]\n",
    "F = np.bincount(I, X) #I에 X의 값들이 몇번 나오는지를 센다. 개수 측정의 범위는 0부터 X의 최댓값까지\n",
    "print(F)"
   ]
  },
  {
   "cell_type": "markdown",
   "metadata": {
    "id": "538e651c"
   },
   "source": [
    "#### 66. Considering a (w,h,3) image of (dtype=ubyte), compute the number of unique colors (★★☆)"
   ]
  },
  {
   "cell_type": "code",
   "execution_count": null,
   "metadata": {
    "colab": {
     "base_uri": "https://localhost:8080/"
    },
    "id": "57f2f02f",
    "outputId": "360930d9-6e74-4f44-d9cf-623e8b1afdac"
   },
   "outputs": [
    {
     "name": "stdout",
     "output_type": "stream",
     "text": [
      "8\n"
     ]
    }
   ],
   "source": [
    "img = np.random.randint(0,2,(16,16,3)).astype(np.ubyte)\n",
    "F = img[...,0]*(256*256) + img[...,1]*256 + img[...,2]\n",
    "print(len(np.unique(F)))"
   ]
  }
 ],
 "metadata": {
  "colab": {
   "collapsed_sections": [],
   "name": "Week2 HW1 numpy exercises 34to66",
   "provenance": []
  },
  "kernelspec": {
   "display_name": "Python 3",
   "language": "python",
   "name": "python3"
  },
  "language_info": {
   "codemirror_mode": {
    "name": "ipython",
    "version": 3
   },
   "file_extension": ".py",
   "mimetype": "text/x-python",
   "name": "python",
   "nbconvert_exporter": "python",
   "pygments_lexer": "ipython3",
   "version": "3.8.3"
  }
 },
 "nbformat": 4,
 "nbformat_minor": 5
}
