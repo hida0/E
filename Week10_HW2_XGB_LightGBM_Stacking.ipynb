{
  "nbformat": 4,
  "nbformat_minor": 0,
  "metadata": {
    "colab": {
      "name": "Week10 HW2 XGB LightGBM Stacking",
      "provenance": [],
      "collapsed_sections": [],
      "authorship_tag": "ABX9TyNVvnb2v6K2nGPDnH1++q6a",
      "include_colab_link": true
    },
    "kernelspec": {
      "name": "python3",
      "display_name": "Python 3"
    },
    "language_info": {
      "name": "python"
    }
  },
  "cells": [
    {
      "cell_type": "markdown",
      "metadata": {
        "id": "view-in-github",
        "colab_type": "text"
      },
      "source": [
        "<a href=\"https://colab.research.google.com/github/hida0/ESAA/blob/HW/Week10_HW2_XGB_LightGBM_Stacking.ipynb\" target=\"_parent\"><img src=\"https://colab.research.google.com/assets/colab-badge.svg\" alt=\"Open In Colab\"/></a>"
      ]
    },
    {
      "cell_type": "markdown",
      "source": [
        "### 개념 정리 & 필사\n",
        "(파이썬 머신러닝 완벽가이드 ch4. 6~7, 10 pg. 227-251, 278-289)\n",
        "\n",
        "### 1. **XGBoost**(eXtra Gradient Boost)\n",
        "### 1-1. XGBoost 개요\n",
        "- XGBoost는 트리 기반의 앙상블 학습에서 가장 각광받고 있는 알고리즘 중 하나이다.\n",
        "- GBM에 기반하고 있지만, GBM의 단점인 느린 수행 시간 및 과적합 규제 부재 등의 문제를 해결했다.\n",
        "\n",
        "> - 뛰어난 예측 성능: 분류와 회귀 영역에서 뛰어난 예측 성능을 발휘한다.\n",
        "  - GBM 대비 빠른 수행 시간: 병렬 수행 및 다양한 기능으로 GBM에 비해 빠른 수행 성능을 보장한다.\n",
        "  - 과적합 규제: 자체의 과적합 규제 기능으로 과적합에 좀 더 강한 내구성을 가진다.\n",
        "  - Tree pruning(나무 가지치기): 더 이상의 긍정 이득이 없는 분할을 가지치기 해서 분할 수를 더 줄인다.\n",
        "  - 자체 내장된 교차 검증: 반복 수행 시마다 내부적으로 학습/평가 데이터 세트에 대한 교차 검증을 수행하여 최적화된 반복 수행 횟수를 가질 수 있다. 교차 검증을 통해 평가 데이터 세트의 평가 값이 최적화되면 반복을 중간에 멈출 수 있는 조기 중단 기능이 있다.\n",
        "  - 결손값 자체 처리: 결손값을 자체적으로 처리할 수 있는 기능을 가지고 있다.\n",
        "\n",
        "- 독자적인 XGBoost 프레임워크 기반의 XGBoost를 **파이썬 래퍼 XGBoost 모듈**, 사이킷런과 연동되는 모듈을 **사이킷런 래퍼 XGBoost 모듈**이라고 한다.\n",
        "- XGBoost의 사이킷런 래퍼 클래스는 **`XGBClassifier`**와 **`XGBRegressor`**이다.\n",
        "- 사이킷런 estimator의 학습을 위한 **`fit()`**과 **`predict()`**를 사용한다."
      ],
      "metadata": {
        "id": "_PXVzy8pptB9"
      }
    },
    {
      "cell_type": "markdown",
      "source": [
        "### 1. **XGBoost**(eXtra Gradient Boost)\n",
        "### 1-2. 파이썬 래퍼 XGBoost 하이퍼 파라미터\n",
        "- 파이썬 래퍼 XGBoost 모듈과 사이킷런과 연동되는 모듈의 일부 하이퍼 파라미터는 동일한 기능을 의미하지만, 사이킷런 파라미터의 범용화된 이름 규칙에 따라 파라미터 명이 달라진다.\n",
        "- 파이썬 래퍼 XGBoost 하이퍼 파라미터를 **일반 파라미터**, **부스터 파라미터**, **학습 태스크 파라미터**로 나눌 수 있으며, 대부분의 하이퍼 파라미터는 부스터 파라미터에 속한다.\n",
        "\n",
        "> 주요 일반 파라미터\n",
        " - `booster`: gbtree 또는 gblinear 중에 선택하며, 디폴트는 gbtree이다.\n",
        " - `silent`: 디폴트는 0이며, 출력 메시지를 나타내고 싶지 않을 경우 1로 설정한다.\n",
        " - `nthread`: CPU의 실행 스레드 개수를 조정하며, 디폴트는 CPU의 전체 스레드를 모두 사용한다.\n",
        "\n",
        "> 주요 부스터 파라미터\n",
        " - `eta`: GBM의 학습률과 같은 파라미터로, 0과 1 사이의 값을 지정하며 부스팅 스텝을 반복적으로 수행할 때 업데이트 되는 학습률 값이다. 파이썬 xgboost에서는 디폴트가 0.3, 사이킷런 xgboost에서는 learning_rate 파라미터로 대체되며 디폴트는 0.1이다.\n",
        " - `num_boost_rounds`: GBM의 n_estimators와 같은 파라미터이다.\n",
        " - `min_child_weight`[default=1]: 과적합을 조절하기 위해 트리에서 추가적으로 가지를 나눌지 결정하기 위해 필요한 데이터들의 weight 총합으로, 클수록 분할을 자제한다.\n",
        " - `gamma`[default=0]: 트리의 리프 노드를 추가적으로 나눌지를 결정할 최소 손실 감소 값으로, 해당 값보다 큰 손실이 감소된 경우에 리프 노드를 분리한다.\n",
        " - `max_depth`[default=6]: 트리 기반 알고리즘의 max_depth와 같으며, 높을수록 특정 피처 조건에 특화되어 과적합 가능성이 높아지므로 보통 3~10 사이의 값을 적용한다.\n",
        " - `sub_sample`[default=1]: GBM의 subsample과 동일하며, 트리가 커져서 과적합되는 것을 제어하기 위해 데이터를 샘플링하는 비율을 지정한다. \n",
        " - `colsample_bytree`[default=1]: GBM의 max_features와 유사하며, 트리 생성에 필요한 피처를 임의로 샘플링하는데 사용된다.\n",
        " - `lambda`[default=1]: L2 Regularization 적용 값이며, 피처 개수가 많을 경우 적용을 검토하며 값이 클수록 과적합 감소 효과가 있다.\n",
        " - `alpha`[default=0]: L1 Regularization 적용 값이며, 피처 개수가 많을 경우 적용을 검토하며 값이 클수록 과적합 감소 효과가 있다.\n",
        " - `sclae_pos_weight`[default=1]: 특정 값으로 치우친 비대칭 클래스로 구성된 데이터 세트의 균형을 유지하기 위한 파라미터이다.\n",
        "\n",
        "> 학습 태스크 파라미터\n",
        " - `objective`: 최솟값을 가져야할 손실 함수를 정의하며, 이진 분류인지 다중 분류인지에 따라 사용되는 손실함수가 달라진다.\n",
        " - `binary:logistic`: 이진 분류일 때 적용한다.\n",
        " - `multi:softmax`: 다중 분류일 때 적용한다.\n",
        " - `multi:softprob`: multi:softmax와 유사하나 개별 레이블 클래스의 해당되는 예측 확률을 반환한다.\n",
        " - `eval_metric`: 검증에 사용되는 함수를 정의하며, 기본값으로 회귀는 rmse, 분류는 error를 사용한다.\n",
        "\n",
        "- 파라미터 튜닝에 들이는 공수 대비 성능 향상 효과가 높지 않은 경우가 대부분이며, 파라미터를 튜닝하는 경우의 수는 여러 가지 상황에 따라 달라진다.\n",
        "- 과적합 문제가 심각하다면 다음과 같은 적용을 고려할 수 있다.\n",
        " - eta 값을 낮추며, 동시에 num_round(n_estimators)는 높여준다.\n",
        " - max_depth 값을 낮춘다.\n",
        " - min_child_weight 값, gamma 값을 높인다.\n",
        " - subsample과 colsample_bytree를 조정하여 트리가 너무 복잡하게 생성되는 것을 막는다."
      ],
      "metadata": {
        "id": "ruZHL798OKOs"
      }
    },
    {
      "cell_type": "markdown",
      "source": [
        "### 1. **XGBoost**(eXtra Gradient Boost)\n",
        "### 1-2. 파이썬 래퍼 XGBoost 하이퍼 파라미터\n",
        "- XGBoost는 자체적으로 **교차 검증**, **성능 평가**, **피처 중요도 등의 시각화** 기능을 가지고 있다.\n",
        "- 수행 속도를 향상시키기 위한 대표적인 기능으로 **조기 중단 기능**이 있다.\n",
        "- 기본 GBM과는 다르게 n_estimators에 지정한 부스팅 반복 횟수에 도달하지 않아도 예측 오류가 더이상 개선되지 않으면 수행을 중지하여 수행 시간을 개선할 수 있다.\n"
      ],
      "metadata": {
        "id": "47esaMeEYH95"
      }
    },
    {
      "cell_type": "markdown",
      "source": [
        "### 1. **XGBoost**(eXtra Gradient Boost)\n",
        "### 1-3. 파이썬 래퍼 XGBoost 적용 - 위스콘신 유방암 예측\n",
        "- 위스콘신 유방암 데이터 세트는 종양의 크기, 모양 등의 다양한 속성값을 기반으로 악성종양인지 양성종양인지 분류한 데이터 세트이다.\n",
        "- XGBoost를 이용하여 위스콘신 유방암 데이터 세트에 기반해 종양의 다양한 피처에 따라 악성종양인지 일반 양성종양인지 예측한다.\n",
        "- 위스콘신 유방암 데이터 세트는 사이킷런의 `load_breast_cancer()`를 호출하여 로드한다."
      ],
      "metadata": {
        "id": "KY62HGPcYIDS"
      }
    },
    {
      "cell_type": "code",
      "source": [
        "import warnings\n",
        "warnings.filterwarnings('ignore')\n",
        "\n",
        "from sklearn.datasets import load_breast_cancer\n",
        "dataset = load_breast_cancer()\n",
        "X_features = dataset.data\n",
        "y_label = dataset.target\n",
        "\n",
        "import pandas as pd\n",
        "cancer_df = pd.DataFrame(data=X_features, columns=dataset.feature_names)\n",
        "cancer_df['target'] = y_label # 새로운 칼럼 추가\n",
        "cancer_df.head(3)"
      ],
      "metadata": {
        "colab": {
          "base_uri": "https://localhost:8080/",
          "height": 271
        },
        "id": "HSEIHJ_8aJO5",
        "outputId": "ee30c1b4-88fc-4b58-fe3e-2c1c6125f884"
      },
      "execution_count": null,
      "outputs": [
        {
          "output_type": "execute_result",
          "data": {
            "text/plain": [
              "   mean radius  mean texture  mean perimeter  mean area  mean smoothness  \\\n",
              "0        17.99         10.38           122.8     1001.0          0.11840   \n",
              "1        20.57         17.77           132.9     1326.0          0.08474   \n",
              "2        19.69         21.25           130.0     1203.0          0.10960   \n",
              "\n",
              "   mean compactness  mean concavity  mean concave points  mean symmetry  \\\n",
              "0           0.27760          0.3001              0.14710         0.2419   \n",
              "1           0.07864          0.0869              0.07017         0.1812   \n",
              "2           0.15990          0.1974              0.12790         0.2069   \n",
              "\n",
              "   mean fractal dimension  ...  worst texture  worst perimeter  worst area  \\\n",
              "0                 0.07871  ...          17.33            184.6      2019.0   \n",
              "1                 0.05667  ...          23.41            158.8      1956.0   \n",
              "2                 0.05999  ...          25.53            152.5      1709.0   \n",
              "\n",
              "   worst smoothness  worst compactness  worst concavity  worst concave points  \\\n",
              "0            0.1622             0.6656           0.7119                0.2654   \n",
              "1            0.1238             0.1866           0.2416                0.1860   \n",
              "2            0.1444             0.4245           0.4504                0.2430   \n",
              "\n",
              "   worst symmetry  worst fractal dimension  target  \n",
              "0          0.4601                  0.11890       0  \n",
              "1          0.2750                  0.08902       0  \n",
              "2          0.3613                  0.08758       0  \n",
              "\n",
              "[3 rows x 31 columns]"
            ],
            "text/html": [
              "\n",
              "  <div id=\"df-ea5bc0d1-d290-4e27-b462-96fbb7ad819f\">\n",
              "    <div class=\"colab-df-container\">\n",
              "      <div>\n",
              "<style scoped>\n",
              "    .dataframe tbody tr th:only-of-type {\n",
              "        vertical-align: middle;\n",
              "    }\n",
              "\n",
              "    .dataframe tbody tr th {\n",
              "        vertical-align: top;\n",
              "    }\n",
              "\n",
              "    .dataframe thead th {\n",
              "        text-align: right;\n",
              "    }\n",
              "</style>\n",
              "<table border=\"1\" class=\"dataframe\">\n",
              "  <thead>\n",
              "    <tr style=\"text-align: right;\">\n",
              "      <th></th>\n",
              "      <th>mean radius</th>\n",
              "      <th>mean texture</th>\n",
              "      <th>mean perimeter</th>\n",
              "      <th>mean area</th>\n",
              "      <th>mean smoothness</th>\n",
              "      <th>mean compactness</th>\n",
              "      <th>mean concavity</th>\n",
              "      <th>mean concave points</th>\n",
              "      <th>mean symmetry</th>\n",
              "      <th>mean fractal dimension</th>\n",
              "      <th>...</th>\n",
              "      <th>worst texture</th>\n",
              "      <th>worst perimeter</th>\n",
              "      <th>worst area</th>\n",
              "      <th>worst smoothness</th>\n",
              "      <th>worst compactness</th>\n",
              "      <th>worst concavity</th>\n",
              "      <th>worst concave points</th>\n",
              "      <th>worst symmetry</th>\n",
              "      <th>worst fractal dimension</th>\n",
              "      <th>target</th>\n",
              "    </tr>\n",
              "  </thead>\n",
              "  <tbody>\n",
              "    <tr>\n",
              "      <th>0</th>\n",
              "      <td>17.99</td>\n",
              "      <td>10.38</td>\n",
              "      <td>122.8</td>\n",
              "      <td>1001.0</td>\n",
              "      <td>0.11840</td>\n",
              "      <td>0.27760</td>\n",
              "      <td>0.3001</td>\n",
              "      <td>0.14710</td>\n",
              "      <td>0.2419</td>\n",
              "      <td>0.07871</td>\n",
              "      <td>...</td>\n",
              "      <td>17.33</td>\n",
              "      <td>184.6</td>\n",
              "      <td>2019.0</td>\n",
              "      <td>0.1622</td>\n",
              "      <td>0.6656</td>\n",
              "      <td>0.7119</td>\n",
              "      <td>0.2654</td>\n",
              "      <td>0.4601</td>\n",
              "      <td>0.11890</td>\n",
              "      <td>0</td>\n",
              "    </tr>\n",
              "    <tr>\n",
              "      <th>1</th>\n",
              "      <td>20.57</td>\n",
              "      <td>17.77</td>\n",
              "      <td>132.9</td>\n",
              "      <td>1326.0</td>\n",
              "      <td>0.08474</td>\n",
              "      <td>0.07864</td>\n",
              "      <td>0.0869</td>\n",
              "      <td>0.07017</td>\n",
              "      <td>0.1812</td>\n",
              "      <td>0.05667</td>\n",
              "      <td>...</td>\n",
              "      <td>23.41</td>\n",
              "      <td>158.8</td>\n",
              "      <td>1956.0</td>\n",
              "      <td>0.1238</td>\n",
              "      <td>0.1866</td>\n",
              "      <td>0.2416</td>\n",
              "      <td>0.1860</td>\n",
              "      <td>0.2750</td>\n",
              "      <td>0.08902</td>\n",
              "      <td>0</td>\n",
              "    </tr>\n",
              "    <tr>\n",
              "      <th>2</th>\n",
              "      <td>19.69</td>\n",
              "      <td>21.25</td>\n",
              "      <td>130.0</td>\n",
              "      <td>1203.0</td>\n",
              "      <td>0.10960</td>\n",
              "      <td>0.15990</td>\n",
              "      <td>0.1974</td>\n",
              "      <td>0.12790</td>\n",
              "      <td>0.2069</td>\n",
              "      <td>0.05999</td>\n",
              "      <td>...</td>\n",
              "      <td>25.53</td>\n",
              "      <td>152.5</td>\n",
              "      <td>1709.0</td>\n",
              "      <td>0.1444</td>\n",
              "      <td>0.4245</td>\n",
              "      <td>0.4504</td>\n",
              "      <td>0.2430</td>\n",
              "      <td>0.3613</td>\n",
              "      <td>0.08758</td>\n",
              "      <td>0</td>\n",
              "    </tr>\n",
              "  </tbody>\n",
              "</table>\n",
              "<p>3 rows × 31 columns</p>\n",
              "</div>\n",
              "      <button class=\"colab-df-convert\" onclick=\"convertToInteractive('df-ea5bc0d1-d290-4e27-b462-96fbb7ad819f')\"\n",
              "              title=\"Convert this dataframe to an interactive table.\"\n",
              "              style=\"display:none;\">\n",
              "        \n",
              "  <svg xmlns=\"http://www.w3.org/2000/svg\" height=\"24px\"viewBox=\"0 0 24 24\"\n",
              "       width=\"24px\">\n",
              "    <path d=\"M0 0h24v24H0V0z\" fill=\"none\"/>\n",
              "    <path d=\"M18.56 5.44l.94 2.06.94-2.06 2.06-.94-2.06-.94-.94-2.06-.94 2.06-2.06.94zm-11 1L8.5 8.5l.94-2.06 2.06-.94-2.06-.94L8.5 2.5l-.94 2.06-2.06.94zm10 10l.94 2.06.94-2.06 2.06-.94-2.06-.94-.94-2.06-.94 2.06-2.06.94z\"/><path d=\"M17.41 7.96l-1.37-1.37c-.4-.4-.92-.59-1.43-.59-.52 0-1.04.2-1.43.59L10.3 9.45l-7.72 7.72c-.78.78-.78 2.05 0 2.83L4 21.41c.39.39.9.59 1.41.59.51 0 1.02-.2 1.41-.59l7.78-7.78 2.81-2.81c.8-.78.8-2.07 0-2.86zM5.41 20L4 18.59l7.72-7.72 1.47 1.35L5.41 20z\"/>\n",
              "  </svg>\n",
              "      </button>\n",
              "      \n",
              "  <style>\n",
              "    .colab-df-container {\n",
              "      display:flex;\n",
              "      flex-wrap:wrap;\n",
              "      gap: 12px;\n",
              "    }\n",
              "\n",
              "    .colab-df-convert {\n",
              "      background-color: #E8F0FE;\n",
              "      border: none;\n",
              "      border-radius: 50%;\n",
              "      cursor: pointer;\n",
              "      display: none;\n",
              "      fill: #1967D2;\n",
              "      height: 32px;\n",
              "      padding: 0 0 0 0;\n",
              "      width: 32px;\n",
              "    }\n",
              "\n",
              "    .colab-df-convert:hover {\n",
              "      background-color: #E2EBFA;\n",
              "      box-shadow: 0px 1px 2px rgba(60, 64, 67, 0.3), 0px 1px 3px 1px rgba(60, 64, 67, 0.15);\n",
              "      fill: #174EA6;\n",
              "    }\n",
              "\n",
              "    [theme=dark] .colab-df-convert {\n",
              "      background-color: #3B4455;\n",
              "      fill: #D2E3FC;\n",
              "    }\n",
              "\n",
              "    [theme=dark] .colab-df-convert:hover {\n",
              "      background-color: #434B5C;\n",
              "      box-shadow: 0px 1px 3px 1px rgba(0, 0, 0, 0.15);\n",
              "      filter: drop-shadow(0px 1px 2px rgba(0, 0, 0, 0.3));\n",
              "      fill: #FFFFFF;\n",
              "    }\n",
              "  </style>\n",
              "\n",
              "      <script>\n",
              "        const buttonEl =\n",
              "          document.querySelector('#df-ea5bc0d1-d290-4e27-b462-96fbb7ad819f button.colab-df-convert');\n",
              "        buttonEl.style.display =\n",
              "          google.colab.kernel.accessAllowed ? 'block' : 'none';\n",
              "\n",
              "        async function convertToInteractive(key) {\n",
              "          const element = document.querySelector('#df-ea5bc0d1-d290-4e27-b462-96fbb7ad819f');\n",
              "          const dataTable =\n",
              "            await google.colab.kernel.invokeFunction('convertToInteractive',\n",
              "                                                     [key], {});\n",
              "          if (!dataTable) return;\n",
              "\n",
              "          const docLinkHtml = 'Like what you see? Visit the ' +\n",
              "            '<a target=\"_blank\" href=https://colab.research.google.com/notebooks/data_table.ipynb>data table notebook</a>'\n",
              "            + ' to learn more about interactive tables.';\n",
              "          element.innerHTML = '';\n",
              "          dataTable['output_type'] = 'display_data';\n",
              "          await google.colab.output.renderOutput(dataTable, element);\n",
              "          const docLink = document.createElement('div');\n",
              "          docLink.innerHTML = docLinkHtml;\n",
              "          element.appendChild(docLink);\n",
              "        }\n",
              "      </script>\n",
              "    </div>\n",
              "  </div>\n",
              "  "
            ]
          },
          "metadata": {},
          "execution_count": 1
        }
      ]
    },
    {
      "cell_type": "code",
      "source": [
        "# 레이블 값의 분포를 확인\n",
        "print(dataset.target_names)\n",
        "print(cancer_df['target'].value_counts())"
      ],
      "metadata": {
        "colab": {
          "base_uri": "https://localhost:8080/"
        },
        "id": "Xyct52lIa8u_",
        "outputId": "382162a9-b5e1-45ab-fdd8-9c109c930c33"
      },
      "execution_count": null,
      "outputs": [
        {
          "output_type": "stream",
          "name": "stdout",
          "text": [
            "['malignant' 'benign']\n",
            "1    357\n",
            "0    212\n",
            "Name: target, dtype: int64\n"
          ]
        }
      ]
    },
    {
      "cell_type": "code",
      "source": [
        "# 전체 데이터 중 80%는 학습용 데이터, 20%는 테스트용 데이터 추출\n",
        "from sklearn.model_selection import train_test_split\n",
        "X_train, X_test, y_train, y_test = train_test_split(X_features, y_label, test_size=0.2, random_state=156)\n",
        "print(X_train.shape, X_test.shape)"
      ],
      "metadata": {
        "colab": {
          "base_uri": "https://localhost:8080/"
        },
        "id": "b--GZUkHbPPx",
        "outputId": "000a8046-486f-40bc-a5cb-505cffdd007d"
      },
      "execution_count": null,
      "outputs": [
        {
          "output_type": "stream",
          "name": "stdout",
          "text": [
            "(455, 30) (114, 30)\n"
          ]
        }
      ]
    },
    {
      "cell_type": "markdown",
      "source": [
        "### 1. **XGBoost**(eXtra Gradient Boost)\n",
        "### 1-3. 파이썬 래퍼 XGBoost 적용 - 위스콘신 유방암 예측\n",
        "- 파이썬 래퍼 XGBoost는 사이킷런과 여러 차이가 있는데, 그 중 눈에 띄는 차이는 학습용과 테스트용 데이터 세트를 위해 별도의 객체인 **DMatrix**를 생성한다는 점이다.\n",
        "- **DMatrix**는 주로 넘파이 입력 파라미터를 받아서 만들어지는 XGBoost만의 전용 데이터 세트로, 주요 입력 파라미터는 피처 데이터 세트인 **data**와 레이블 데이터 세트(분류) 또는 종속값 데이터 세트(회귀)인 **label**이다."
      ],
      "metadata": {
        "id": "q3vqi6vQbpEz"
      }
    },
    {
      "cell_type": "code",
      "source": [
        "# 넘파이 형태인 학습 데이터 세트와 테스트 데이터 세트를 DMatrix로 변환\n",
        "import xgboost as xgb\n",
        "dtrain = xgb.DMatrix(data=X_train, label=y_train)\n",
        "dtest = xgb.DMatrix(data=X_test, label=y_test)"
      ],
      "metadata": {
        "id": "5kQ1wDYMblzE"
      },
      "execution_count": null,
      "outputs": []
    },
    {
      "cell_type": "code",
      "source": [
        "# 하이퍼 파라미터 설정\n",
        "params = { \n",
        "    'max_depth': 3,\n",
        "    'eta': 0.1,\n",
        "    'eval_metric': 'logloss',\n",
        "    'early_stoppings': 100\n",
        "    }\n",
        "num_rounds = 400"
      ],
      "metadata": {
        "id": "wqqCaJDqciSL"
      },
      "execution_count": null,
      "outputs": []
    },
    {
      "cell_type": "markdown",
      "source": [
        "### 1. **XGBoost**(eXtra Gradient Boost)\n",
        "### 1-3. 파이썬 래퍼 XGBoost 적용 - 위스콘신 유방암 예측\n",
        "- 파이썬 래퍼 XGBoost는 **하이퍼 파라미터**를 **xgboost 모듈의 `train()` 함수**에 파라미터로 전달한다.\n",
        "- 조기 중단은 xgboost의 train() 함수에 **`early_stopping_rounds`** 파라미터를 입력하여 설정하며, 반드시 **`eval_set`**과 **`eval_metric`**이 함께 설정되어야 한다.\n",
        "- xgboost는 반복마다 **eval_set으로 지정된 데이터 세트**에서 **eval_metric의 지정된 평가 지표로 예측 오류를 측정**한다.\n",
        "- 조기 중단을 수행하려면 반드시 **`evals`** 파라미터에 학습 데이터 세트와 평가 데이터 세트를 리스트 형태로 명기해야한다.\n",
        "- xgboost 모듈의 train() 함수를 포출하면 학습을 수행하고, 이때 반복시마다 evals에 표시된 데이터 세트에 대해 평가 지표 결과가 출력된다.\n",
        "- train()은 학습이 완료된 모델 객체를 반환하며, 이 모델 객체는 예측을 위해 **`predict`** 메서드를 이용한다.\n",
        "- 예측 결과 클래스 값을 반환하는 사이킷런과는 다르게, xgboost의 predict()는 예측 결과값이 아닌 예측 결과를 추정할 수 있는 **확률 값을 반환**한다.\n",
        "- 본 예제에서는 암이 악성인지 양성인지 판단하는 이진 분류이므로 예측 확률이 0.5보다 크면 1로, 0.5보다 작으면 0으로 예측 값을 결정하는 로직을 추가한다."
      ],
      "metadata": {
        "id": "79ryp89-fK1a"
      }
    },
    {
      "cell_type": "code",
      "source": [
        "import xgboost as xgb\n",
        "from xgboost import XGBClassifier"
      ],
      "metadata": {
        "id": "DDlY8szZhm7R"
      },
      "execution_count": null,
      "outputs": []
    },
    {
      "cell_type": "code",
      "source": [
        "# train 데이터 세트는 'train', evaluation(test) 데이터 세트는 'eval'로 명기한다.\n",
        "wlist = [(dtrain, 'train'), (dtest, 'eval')]\n",
        "\n",
        "# 하이퍼 파라미터와 early stopping 파라미터를 train() 함수의 파라미터로 전달\n",
        "xgb_model = xgb.train(params=params, dtrain=dtrain, num_boost_round=num_rounds, early_stopping_rounds=100, evals=wlist)\n",
        "# 학습이 완료된 모델 객체를 xgb_model로 반환"
      ],
      "metadata": {
        "id": "Rk9TBYc-gS_o"
      },
      "execution_count": null,
      "outputs": []
    },
    {
      "cell_type": "code",
      "source": [
        "import numpy as np\n",
        "pred_probs = xgb_model.predict(dtest)\n",
        "print('predict() 수행 결과값을 5개만 표시, 예측 확률 값으로 표시된다.')\n",
        "print(np.round(pred_probs[:5], 3))\n",
        "\n",
        "# 예측 확률이 0.5보다 크면 1로, 0.5보다 작으면 0으로 예측값을 결정하여 리스트 객체인 preds에 저장\n",
        "preds = [ 1 if x > 0.5 else 0 for x in pred_probs ]\n",
        "print(\"예측값 5개만 표시:\", preds[:5])"
      ],
      "metadata": {
        "colab": {
          "base_uri": "https://localhost:8080/"
        },
        "id": "idrtPi0Gj564",
        "outputId": "2b4c1d65-1c31-4d5d-eaa3-7e65b178e7e4"
      },
      "execution_count": null,
      "outputs": [
        {
          "output_type": "stream",
          "name": "stdout",
          "text": [
            "predict() 수행 결과값을 5개만 표시, 예측 확률 값으로 표시된다.\n",
            "[0.711 0.025 0.643 0.434 0.986]\n",
            "예측값 5개만 표시: [1, 0, 1, 0, 1]\n"
          ]
        }
      ]
    },
    {
      "cell_type": "code",
      "source": [
        "# 평가 지표 유틸리티 함수를 이용하여 XGBoost 모델의 예측 성능 평가\n",
        "from sklearn.metrics import confusion_matrix, accuracy_score, precision_score, recall_score, f1_score, roc_auc_score\n",
        "def get_clf_eval(Y_test, pred, pred_proba):\n",
        "    confusion = confusion_matrix(Y_test, pred)\n",
        "    accuracy = accuracy_score(Y_test, pred)\n",
        "    precision = precision_score(Y_test, pred)\n",
        "    recall = recall_score(Y_test, pred)\n",
        "    f1 = f1_score(Y_test, pred)\n",
        "    roc_auc = roc_auc_score(Y_test, pred_proba)\n",
        "    print(\"오차 행렬\")\n",
        "    print(confusion)\n",
        "    print(\"정확도: {0:.4f}, 정밀도: {1:.4f}, 재현율: {2:.4f}, F1: {3:.4f}, AUC: {4:.4f}\".format(accuracy, precision, recall, f1, roc_auc))\n",
        "\n",
        "get_clf_eval(y_test, preds, pred_probs)"
      ],
      "metadata": {
        "colab": {
          "base_uri": "https://localhost:8080/"
        },
        "id": "urLAWexGkq84",
        "outputId": "3646aebd-a654-41c7-f30e-ebd181ea81bc"
      },
      "execution_count": null,
      "outputs": [
        {
          "output_type": "stream",
          "name": "stdout",
          "text": [
            "오차 행렬\n",
            "[[35  2]\n",
            " [ 2 75]]\n",
            "정확도: 0.9649, 정밀도: 0.9740, 재현율: 0.9740, F1: 0.9740, AUC: 0.9954\n"
          ]
        }
      ]
    },
    {
      "cell_type": "markdown",
      "source": [
        "### 1. **XGBoost**(eXtra Gradient Boost)\n",
        "### 1-3. 파이썬 래퍼 XGBoost 적용 - 위스콘신 유방암 예측\n",
        "- xgboost의 **`plot_importance()`** API는 피처의 중요도를 막대그래프 형식으로 나타낸다.\n",
        "- 기본 평가 지표로 f1 스코어를 기반으로 하여 각 피처의 중요도를 나타낸다.\n",
        "- **`plot_importance()`** 호출 시 파라미터로 **학습이 완료된 모델 객체** 및 맷플롯립의 **ax 객체**를 입력한다.\n",
        "- 유의할 점은 xgboost 넘파이 기반의 피처 데이터로 학습 시에 피처명을 제대로 알 수 없으므로, 피처 순서별로 f자 뒤에 0부터 숫자를 붙인다. 즉 f0은 첫번째 피처, f1는 두번째 피처를 의미한다."
      ],
      "metadata": {
        "id": "K6bvXycIlcON"
      }
    },
    {
      "cell_type": "code",
      "source": [
        "from xgboost import plot_importance\n",
        "import matplotlib.pyplot as plt\n",
        "%matplotlib inline\n",
        "\n",
        "fig, ax = plt.subplots(figsize=(10,12))\n",
        "plot_importance(xgb_model, ax=ax)"
      ],
      "metadata": {
        "colab": {
          "base_uri": "https://localhost:8080/",
          "height": 749
        },
        "id": "3u1ckG6ClVyN",
        "outputId": "e7c425bc-6b3e-42a7-e03a-05b6e2f2442a"
      },
      "execution_count": null,
      "outputs": [
        {
          "output_type": "execute_result",
          "data": {
            "text/plain": [
              "<matplotlib.axes._subplots.AxesSubplot at 0x7f23400a6390>"
            ]
          },
          "metadata": {},
          "execution_count": 10
        },
        {
          "output_type": "display_data",
          "data": {
            "text/plain": [
              "<Figure size 720x864 with 1 Axes>"
            ],
            "image/png": "[encoded data removed]"
          },
          "metadata": {
            "needs_background": "light"
          }
        }
      ]
    },
    {
      "cell_type": "markdown",
      "source": [
        "### 1. **XGBoost**(eXtra Gradient Boost)\n",
        "### 1-3. 파이썬 래퍼 XGBoost 적용 - 위스콘신 유방암 예측\n",
        "- 파이썬 래퍼 XGBoost는 사이킷런의 GridSearchCV와 유사하게 데이터 세트에 대한 교차 검증 수행 후 최적 파라미터를 구할 수 있는 방법을 **`cv()`** API로 제공한다.\n",
        "- xgb.cv의 반환값은 DataFrame 형태이다."
      ],
      "metadata": {
        "id": "zLBH4Pqkmop-"
      }
    },
    {
      "cell_type": "code",
      "source": [
        "import xgboost\n",
        "xgboost.cv(params, dtrain, num_boost_round=10, nfold=3, stratified=False, folds=None, metrics=(), obj=None, feval=None, maximize=False, early_stopping_rounds=None, fpreproc=None, as_pandas=True, verbose_eval=None, show_stdv=True, seed=0, callbacks=None, shuffle=True)"
      ],
      "metadata": {
        "colab": {
          "base_uri": "https://localhost:8080/",
          "height": 363
        },
        "id": "AXTkTP0_nC8s",
        "outputId": "8fe4e7f0-92dd-4fef-f21c-8ca4b0b13a7f"
      },
      "execution_count": null,
      "outputs": [
        {
          "output_type": "execute_result",
          "data": {
            "text/plain": [
              "   train-logloss-mean  train-logloss-std  test-logloss-mean  test-logloss-std\n",
              "0            0.605549           0.000135           0.614361          0.006067\n",
              "1            0.533250           0.000449           0.550111          0.009445\n",
              "2            0.471100           0.000494           0.495012          0.011013\n",
              "3            0.418431           0.001274           0.449264          0.012165\n",
              "4            0.373621           0.002133           0.410919          0.013030\n",
              "5            0.334924           0.002893           0.378416          0.013917\n",
              "6            0.301022           0.003452           0.350128          0.015410\n",
              "7            0.270806           0.003254           0.324949          0.017534\n",
              "8            0.244407           0.003097           0.302211          0.016782\n",
              "9            0.221220           0.003097           0.281800          0.016997"
            ],
            "text/html": [
              "\n",
              "  <div id=\"df-33e03c6e-2081-4f13-9a38-3c72b598f30f\">\n",
              "    <div class=\"colab-df-container\">\n",
              "      <div>\n",
              "<style scoped>\n",
              "    .dataframe tbody tr th:only-of-type {\n",
              "        vertical-align: middle;\n",
              "    }\n",
              "\n",
              "    .dataframe tbody tr th {\n",
              "        vertical-align: top;\n",
              "    }\n",
              "\n",
              "    .dataframe thead th {\n",
              "        text-align: right;\n",
              "    }\n",
              "</style>\n",
              "<table border=\"1\" class=\"dataframe\">\n",
              "  <thead>\n",
              "    <tr style=\"text-align: right;\">\n",
              "      <th></th>\n",
              "      <th>train-logloss-mean</th>\n",
              "      <th>train-logloss-std</th>\n",
              "      <th>test-logloss-mean</th>\n",
              "      <th>test-logloss-std</th>\n",
              "    </tr>\n",
              "  </thead>\n",
              "  <tbody>\n",
              "    <tr>\n",
              "      <th>0</th>\n",
              "      <td>0.605549</td>\n",
              "      <td>0.000135</td>\n",
              "      <td>0.614361</td>\n",
              "      <td>0.006067</td>\n",
              "    </tr>\n",
              "    <tr>\n",
              "      <th>1</th>\n",
              "      <td>0.533250</td>\n",
              "      <td>0.000449</td>\n",
              "      <td>0.550111</td>\n",
              "      <td>0.009445</td>\n",
              "    </tr>\n",
              "    <tr>\n",
              "      <th>2</th>\n",
              "      <td>0.471100</td>\n",
              "      <td>0.000494</td>\n",
              "      <td>0.495012</td>\n",
              "      <td>0.011013</td>\n",
              "    </tr>\n",
              "    <tr>\n",
              "      <th>3</th>\n",
              "      <td>0.418431</td>\n",
              "      <td>0.001274</td>\n",
              "      <td>0.449264</td>\n",
              "      <td>0.012165</td>\n",
              "    </tr>\n",
              "    <tr>\n",
              "      <th>4</th>\n",
              "      <td>0.373621</td>\n",
              "      <td>0.002133</td>\n",
              "      <td>0.410919</td>\n",
              "      <td>0.013030</td>\n",
              "    </tr>\n",
              "    <tr>\n",
              "      <th>5</th>\n",
              "      <td>0.334924</td>\n",
              "      <td>0.002893</td>\n",
              "      <td>0.378416</td>\n",
              "      <td>0.013917</td>\n",
              "    </tr>\n",
              "    <tr>\n",
              "      <th>6</th>\n",
              "      <td>0.301022</td>\n",
              "      <td>0.003452</td>\n",
              "      <td>0.350128</td>\n",
              "      <td>0.015410</td>\n",
              "    </tr>\n",
              "    <tr>\n",
              "      <th>7</th>\n",
              "      <td>0.270806</td>\n",
              "      <td>0.003254</td>\n",
              "      <td>0.324949</td>\n",
              "      <td>0.017534</td>\n",
              "    </tr>\n",
              "    <tr>\n",
              "      <th>8</th>\n",
              "      <td>0.244407</td>\n",
              "      <td>0.003097</td>\n",
              "      <td>0.302211</td>\n",
              "      <td>0.016782</td>\n",
              "    </tr>\n",
              "    <tr>\n",
              "      <th>9</th>\n",
              "      <td>0.221220</td>\n",
              "      <td>0.003097</td>\n",
              "      <td>0.281800</td>\n",
              "      <td>0.016997</td>\n",
              "    </tr>\n",
              "  </tbody>\n",
              "</table>\n",
              "</div>\n",
              "      <button class=\"colab-df-convert\" onclick=\"convertToInteractive('df-33e03c6e-2081-4f13-9a38-3c72b598f30f')\"\n",
              "              title=\"Convert this dataframe to an interactive table.\"\n",
              "              style=\"display:none;\">\n",
              "        \n",
              "  <svg xmlns=\"http://www.w3.org/2000/svg\" height=\"24px\"viewBox=\"0 0 24 24\"\n",
              "       width=\"24px\">\n",
              "    <path d=\"M0 0h24v24H0V0z\" fill=\"none\"/>\n",
              "    <path d=\"M18.56 5.44l.94 2.06.94-2.06 2.06-.94-2.06-.94-.94-2.06-.94 2.06-2.06.94zm-11 1L8.5 8.5l.94-2.06 2.06-.94-2.06-.94L8.5 2.5l-.94 2.06-2.06.94zm10 10l.94 2.06.94-2.06 2.06-.94-2.06-.94-.94-2.06-.94 2.06-2.06.94z\"/><path d=\"M17.41 7.96l-1.37-1.37c-.4-.4-.92-.59-1.43-.59-.52 0-1.04.2-1.43.59L10.3 9.45l-7.72 7.72c-.78.78-.78 2.05 0 2.83L4 21.41c.39.39.9.59 1.41.59.51 0 1.02-.2 1.41-.59l7.78-7.78 2.81-2.81c.8-.78.8-2.07 0-2.86zM5.41 20L4 18.59l7.72-7.72 1.47 1.35L5.41 20z\"/>\n",
              "  </svg>\n",
              "      </button>\n",
              "      \n",
              "  <style>\n",
              "    .colab-df-container {\n",
              "      display:flex;\n",
              "      flex-wrap:wrap;\n",
              "      gap: 12px;\n",
              "    }\n",
              "\n",
              "    .colab-df-convert {\n",
              "      background-color: #E8F0FE;\n",
              "      border: none;\n",
              "      border-radius: 50%;\n",
              "      cursor: pointer;\n",
              "      display: none;\n",
              "      fill: #1967D2;\n",
              "      height: 32px;\n",
              "      padding: 0 0 0 0;\n",
              "      width: 32px;\n",
              "    }\n",
              "\n",
              "    .colab-df-convert:hover {\n",
              "      background-color: #E2EBFA;\n",
              "      box-shadow: 0px 1px 2px rgba(60, 64, 67, 0.3), 0px 1px 3px 1px rgba(60, 64, 67, 0.15);\n",
              "      fill: #174EA6;\n",
              "    }\n",
              "\n",
              "    [theme=dark] .colab-df-convert {\n",
              "      background-color: #3B4455;\n",
              "      fill: #D2E3FC;\n",
              "    }\n",
              "\n",
              "    [theme=dark] .colab-df-convert:hover {\n",
              "      background-color: #434B5C;\n",
              "      box-shadow: 0px 1px 3px 1px rgba(0, 0, 0, 0.15);\n",
              "      filter: drop-shadow(0px 1px 2px rgba(0, 0, 0, 0.3));\n",
              "      fill: #FFFFFF;\n",
              "    }\n",
              "  </style>\n",
              "\n",
              "      <script>\n",
              "        const buttonEl =\n",
              "          document.querySelector('#df-33e03c6e-2081-4f13-9a38-3c72b598f30f button.colab-df-convert');\n",
              "        buttonEl.style.display =\n",
              "          google.colab.kernel.accessAllowed ? 'block' : 'none';\n",
              "\n",
              "        async function convertToInteractive(key) {\n",
              "          const element = document.querySelector('#df-33e03c6e-2081-4f13-9a38-3c72b598f30f');\n",
              "          const dataTable =\n",
              "            await google.colab.kernel.invokeFunction('convertToInteractive',\n",
              "                                                     [key], {});\n",
              "          if (!dataTable) return;\n",
              "\n",
              "          const docLinkHtml = 'Like what you see? Visit the ' +\n",
              "            '<a target=\"_blank\" href=https://colab.research.google.com/notebooks/data_table.ipynb>data table notebook</a>'\n",
              "            + ' to learn more about interactive tables.';\n",
              "          element.innerHTML = '';\n",
              "          dataTable['output_type'] = 'display_data';\n",
              "          await google.colab.output.renderOutput(dataTable, element);\n",
              "          const docLink = document.createElement('div');\n",
              "          docLink.innerHTML = docLinkHtml;\n",
              "          element.appendChild(docLink);\n",
              "        }\n",
              "      </script>\n",
              "    </div>\n",
              "  </div>\n",
              "  "
            ]
          },
          "metadata": {},
          "execution_count": 12
        }
      ]
    },
    {
      "cell_type": "markdown",
      "source": [
        "### 1. **XGBoost**(eXtra Gradient Boost)\n",
        "### 1-4. 사이킷런 래퍼 XGBoost의 개요 및 적용\n",
        "- 사이킷런을 위한 래퍼 XGBoost는 크게 **분류**를 위한 래퍼 클래스인 **`XGBClassifier`**, **회귀**를 위한 래퍼 클래스인 **`XGBRegressor`**이다.\n",
        "- 사이킷런의 기본 Estimator를 그대로 상속하여 만들어졌기 때문에 다른 Estimator와 동일하게 **`fit()`**과 **`predict()`**만으로 학습과 예측이 가능하다.\n",
        "- XGBClassifier는 기존 사이킷런에서 일반적으로 사용하는 하이퍼 파라미터와 호환성을 유지하기 위해 기존의 xgboost 모듈에서 사용하던 하이퍼 파라미터 몇 개를 다음과 같이 변경한다.\n",
        "> - eta -> learning_rate\n",
        "  - sub_sample -> subsample\n",
        "  - lambda -> reg_lambda\n",
        "  - alpha -> reg_lambda\n",
        "\n",
        "- 위스콘신 유방암 데이터 세트를 분류를 위한 래퍼 클래스 XGBClassifier의 fit(), predict(), predict_proba()를 이용하여 예측한다.\n",
        "- 사이킷런 래퍼 XGBoost에서도 조기 중단을 수행할 수 있는데, 조기 중단과 관련한 파라미터 `early_stopping_rounds`, `eval_metric`, `eval_set`를 `fit()`에 입력한다.\n"
      ],
      "metadata": {
        "id": "cBRYDuPbnr8f"
      }
    },
    {
      "cell_type": "code",
      "source": [
        "# 사이킷런 래퍼 XGBoost 클래스인 XGBClassifier 임포트\n",
        "from xgboost import XGBClassifier\n",
        "\n",
        "# 모델 선언, 학습, 예측\n",
        "xgb_wrapper = XGBClassifier(n_estimators=400, learning_rate=0.1, max_depth=3)\n",
        "xgb_wrapper.fit(X_train, y_train)\n",
        "w_preds = xgb_wrapper.predict(X_test)\n",
        "w_pred_proba = xgb_wrapper.predict_proba(X_test)[:,1]\n",
        "\n",
        "# XGBoost 모델의 예측 성능 평가\n",
        "get_clf_eval(y_test, w_preds, w_pred_proba)"
      ],
      "metadata": {
        "colab": {
          "base_uri": "https://localhost:8080/"
        },
        "id": "J_Il3nWcnFJ9",
        "outputId": "27fe270e-49d0-40ea-9d6f-ec184a4ffa07"
      },
      "execution_count": null,
      "outputs": [
        {
          "output_type": "stream",
          "name": "stdout",
          "text": [
            "오차 행렬\n",
            "[[35  2]\n",
            " [ 1 76]]\n",
            "정확도: 0.9737, 정밀도: 0.9744, 재현율: 0.9870, F1: 0.9806, AUC: 0.9951\n"
          ]
        }
      ]
    },
    {
      "cell_type": "code",
      "source": [
        "# 조기 중단이 가능한 모델 선언, 학습, 예측\n",
        "xgb_wrapper = XGBClassifier(n_estimators=400, learning_rate=0.1, max_depth=3)\n",
        "evals = [(X_test, y_test)]\n",
        "xgb_wrapper.fit(X_train, y_train, early_stopping_rounds=100, eval_metric=\"logloss\", eval_set=evals, verbose=True)\n",
        "ws100_preds = xgb_wrapper.predict(X_test)\n",
        "ws100_pred_proba = xgb_wrapper.predict_proba(X_test)[:,1]"
      ],
      "metadata": {
        "id": "abOUCKQUsPdv"
      },
      "execution_count": null,
      "outputs": []
    },
    {
      "cell_type": "code",
      "source": [
        "# 100번째에서 조기 중단한 XGBoost 모델의 예측 성능 평가\n",
        "get_clf_eval(y_test, ws100_preds, ws100_pred_proba)"
      ],
      "metadata": {
        "colab": {
          "base_uri": "https://localhost:8080/"
        },
        "id": "W9kQgGG3usk1",
        "outputId": "3ffd6299-688a-4df3-909c-fb2c30139575"
      },
      "execution_count": null,
      "outputs": [
        {
          "output_type": "stream",
          "name": "stdout",
          "text": [
            "오차 행렬\n",
            "[[34  3]\n",
            " [ 1 76]]\n",
            "정확도: 0.9649, 정밀도: 0.9620, 재현율: 0.9870, F1: 0.9744, AUC: 0.9954\n"
          ]
        }
      ]
    },
    {
      "cell_type": "markdown",
      "source": [
        "### 1. **XGBoost**(eXtra Gradient Boost)\n",
        "### 1-4. 사이킷런 래퍼 XGBoost의 개요 및 적용\n",
        "- 그러나 조기 중단값을 너무 급격하게 줄이면 예측 성능이 저하될 우려가 크다.\n",
        "- 조기 중간값을 10으로 하면 아직 성능이 향상될 여지가 있음에도 불구하고, 10번 반복하는 동안 성능 평가 지표가 향상되지 않으면 반복이 멈춰버려서 충분한 학습이 되지 않아 예측 성능이 나빠질 수 있다.\n",
        "- 파이썬 래퍼 클래스와 동일하게 사이킷런 래퍼 클래스에도 **`plot_importance()`** 모듈을 사용하여 피처의 중요도를 시각화할 수 있다,"
      ],
      "metadata": {
        "id": "tMOW93jNu2S7"
      }
    },
    {
      "cell_type": "code",
      "source": [
        "# 조기 중단이 가능한 모델 선언, 학습, 예측\n",
        "xgb_wrapper = XGBClassifier(n_estimators=400, learning_rate=0.1, max_depth=3)\n",
        "evals = [(X_test, y_test)]\n",
        "xgb_wrapper.fit(X_train, y_train, early_stopping_rounds=10, eval_metric=\"logloss\", eval_set=evals, verbose=True)\n",
        "ws10_preds = xgb_wrapper.predict(X_test)\n",
        "ws10_pred_proba = xgb_wrapper.predict_proba(X_test)[:,1]"
      ],
      "metadata": {
        "id": "9DfpKGjPvIIe"
      },
      "execution_count": null,
      "outputs": []
    },
    {
      "cell_type": "code",
      "source": [
        "# 10번째에서 조기 중단한 XGBoost 모델의 예측 성능 평가\n",
        "get_clf_eval(y_test, ws10_preds, ws10_pred_proba)"
      ],
      "metadata": {
        "colab": {
          "base_uri": "https://localhost:8080/"
        },
        "id": "6wmVpU4BvQDf",
        "outputId": "c108de4a-d4c0-430a-b777-364bba3a3456"
      },
      "execution_count": null,
      "outputs": [
        {
          "output_type": "stream",
          "name": "stdout",
          "text": [
            "오차 행렬\n",
            "[[34  3]\n",
            " [ 2 75]]\n",
            "정확도: 0.9561, 정밀도: 0.9615, 재현율: 0.9740, F1: 0.9677, AUC: 0.9947\n"
          ]
        }
      ]
    },
    {
      "cell_type": "code",
      "source": [
        "from xgboost import plot_importance\n",
        "import matplotlib.pyplot as plt\n",
        "%matplotlib inline\n",
        "\n",
        "fig, ax = plt.subplots(figsize=(10,12))\n",
        "plot_importance(xgb_wrapper, ax=ax)"
      ],
      "metadata": {
        "colab": {
          "base_uri": "https://localhost:8080/",
          "height": 749
        },
        "id": "XkYmLPl3vYZT",
        "outputId": "9a64c476-7bc3-4721-b83a-94dfa25a0495"
      },
      "execution_count": null,
      "outputs": [
        {
          "output_type": "execute_result",
          "data": {
            "text/plain": [
              "<matplotlib.axes._subplots.AxesSubplot at 0x7f2336430c10>"
            ]
          },
          "metadata": {},
          "execution_count": 18
        },
        {
          "output_type": "display_data",
          "data": {
            "text/plain": [
              "<Figure size 720x864 with 1 Axes>"
            ],
            "image/png": "[encoded data removed]"
          },
          "metadata": {
            "needs_background": "light"
          }
        }
      ]
    },
    {
      "cell_type": "markdown",
      "source": [
        "### 2. **LightGBM**\n",
        "- LightGBM의 가장 큰 장점은 XGBoost보다 학습에 걸리는 시간이 훨씬 적다는 점이다.\n",
        "- LightGBM은 일반 GBM 계열의 트리 분할 방법과 다르게 리프 중심 트리 분할(Leaf Wise) 방식을 사용한다. \n",
        "- LightGBM의 리프 중심 트리 분할 방식은 트리의 균형을 맞추지 않고 최대 손실값을 가지는 리프 노드를 지속적으로 분할하면서 트리의 깊이가 깊어지고, 비대칭적인 규칙 트리가 생성된다. \n",
        "- 하지만 이렇게 최대 손실값을 가지는 리프 노드를 지속적으로 분할하여 생성된 규칙 트리는 학습을 반복할수록 결국은 균형 트리 분할 방식보다 예측 오류 손실을 최소화할 수 있다는 것이 LightGBM의 구현 사상이다.\n",
        "- 사이킷런 래퍼 LightGBM 클래스는 **분류**를 위한 **`LGBMClassifier`** 클래스와 **회귀**를 위한 **`LGBMRegressor`** 클래스이다."
      ],
      "metadata": {
        "id": "KWbQtKNNvvJa"
      }
    },
    {
      "cell_type": "markdown",
      "source": [
        "### 2. **LightGBM**\n",
        "### 2-1. LightGBM 하이퍼 파라미터\n",
        "주요 파라미터\n",
        ">- `num_iterations`[default=100]: 반복 수행하려는 트리의 개수를 지정한다. 크게 지정할수록 예측 성능이 높아질 수 있으나 너무 크게 지정하면 과적합으로 오히려 성능이 저하될 수 있다. LigthGBM 사이킷런 클래스에서는 n_estimators로 이름이 변경된다.\n",
        "- `learning_rate`[default=0.1]: 0에서 1사이의 값을 지정하여 부스팅 스텝을 반복적으로 수행할 때 업데이트되는 학습률 값이다. \n",
        "- `max_depth`[defalut=1]: 트리 기반 알고리즘의 max_depth과 같은 것으로 0보다 작은 값을 지정하면 깊이에 제한이 없다. LightGBM은 리프 중심 기반이므로 깊이가 상대적으로 더 깊다.\n",
        "- `min_data_in_leaf`[default=20]: 최종 결정 클래스인 리프 노드가 되기 위해서 최소한으로 필요한 레코드 수이며, 과적합을 제어하기 위한 파라미터이다. 사이킷런에서는 min_child_samples로 변경된다.\n",
        "- `num_leaves`[default=31]: 하나의 트리가 가질 수 있는 최대 리프 개수이다.\n",
        "- `boosting`[default=gbdt]: 부스팅의 트리를 생성하는 알고리즘을 기술한다.\n",
        "- `bagging_fraction`[default=1.0]: 트리가 커져서 과적합되는 것을 제어하기 위해서 데이터를 샘플링하는 비율을 지정한다. 사이킷런에서는 subsample로 변경된다.\n",
        "- `feature_l2`[default=0.0]: L2 regulation 제어를 위한 값으로, 피처 개수가 많을 경우에 적용을 검토하며 값이 클수록 과적합 감소 효과가 있다. 사이킷런에서는 reg_lambda로 변경된다.\n",
        "- `lambda_l1`[default=0.0]: L1 regulation 제어를 위한 값으로, 과적합 제어를 위한 값이다. 사이킷런에서는 reg_alpha로 변경된다.\n",
        "\n",
        "Learning Task 파라미터\n",
        "> - `objective`: 최솟값을 가져야 할 손실함수를 지정한다. 회귀, 다중 클래스 분류, 이진 분류인지에 따라서 손실함수가 지정된다."
      ],
      "metadata": {
        "id": "ztfCx9jvx9sE"
      }
    },
    {
      "cell_type": "markdown",
      "source": [
        "### 2. **LightGBM**\n",
        "### 2-2. 하이퍼 파라미터 튜닝 방안\n",
        "- num_leaves의 개수를 중심으로 min_child_samples(min_data_in_leaf), max_depth를 함께 조정하면서 모델의 복잡도를 줄이는 것이 기본 튜닝 방안이다.\n",
        "- learning_rate를 작게 하면서 n_estimators를 크게 하는 부스팅 계열의 가장 기본적인 튜닝 방안을 적용하는 것도 좋다. 그러나 n_estimators를 너무 크게 하는 것은 과적합으로 오히려 성능을 저하시킬 수도 있음에 유의한다.\n",
        "- 이외에도 과적합을 제어하기 위해 reg_lambda, reg_alpha와 같은 regularization을 적용하거나, 학습 데이터에 사용할 피처의 개수나 데이터 샘플링 레코드 개수를 죽이기 위해 colsample_bytree, subsample 파라미터를 적용할 수 있다."
      ],
      "metadata": {
        "id": "NYOQtmqM1V-T"
      }
    },
    {
      "cell_type": "markdown",
      "source": [
        "### 2. **LightGBM**\n",
        "### 2-3. LightGBM 적용 - 위스콘신 유방암 예측\n",
        "- LightGBM의 파이썬 패키지인 lightgbm에서 **`LGBMClassifier`**를 임포트하여 사용한다.\n",
        "- LightGBM도 조기 중단이 가능하므로, LGBMClassifier의 fit()에 조기 중단 관련 파라미터를 설정할 수 있다.\n",
        "- 마찬가지로 **`plot_importance()`**를 사용하여 피처 중요도를 시각화할 수 있다."
      ],
      "metadata": {
        "id": "X-Vxd0iE2WyM"
      }
    },
    {
      "cell_type": "code",
      "source": [
        "from lightgbm import LGBMClassifier\n",
        "\n",
        "from sklearn.datasets import load_breast_cancer\n",
        "dataset = load_breast_cancer()\n",
        "ftr = dataset.data\n",
        "target = dataset.target\n",
        "\n",
        "from sklearn.model_selection import train_test_split\n",
        "X_train, X_test, y_train, y_test = train_test_split(ftr, target, test_size=0.2, random_state=156)\n",
        "\n",
        "lgbm_wrapper = LGBMClassifier(n_estimators=400)\n",
        "\n",
        "# 조기 중단 수행 가능\n",
        "evals = [(X_test, y_test)]\n",
        "lgbm_wrapper.fit(X_train, y_train, early_stopping_rounds=100, eval_metric=\"logloss\", eval_set=evals, verbose=True)\n",
        "preds = lgbm_wrapper.predict(X_test)\n",
        "pred_proba = lgbm_wrapper.predict_proba(X_test)[:, 1]"
      ],
      "metadata": {
        "id": "5qkTBZuz4BBw"
      },
      "execution_count": null,
      "outputs": []
    },
    {
      "cell_type": "code",
      "source": [
        "# LightGBM 모델 예측 성능 평가\n",
        "get_clf_eval(y_test, preds, pred_proba)"
      ],
      "metadata": {
        "colab": {
          "base_uri": "https://localhost:8080/"
        },
        "id": "u1GXEyzA49kP",
        "outputId": "07dfa79a-cafe-46eb-e5b0-a0f57d76879d"
      },
      "execution_count": null,
      "outputs": [
        {
          "output_type": "stream",
          "name": "stdout",
          "text": [
            "오차 행렬\n",
            "[[33  4]\n",
            " [ 2 75]]\n",
            "정확도: 0.9474, 정밀도: 0.9494, 재현율: 0.9740, F1: 0.9615, AUC: 0.9926\n"
          ]
        }
      ]
    },
    {
      "cell_type": "code",
      "source": [
        "# plot_importance()를 이용하여 피처 중요도를 시각화\n",
        "from lightgbm import plot_importance\n",
        "import matplotlib.pyplot as plt\n",
        "%matplotlib inline\n",
        "\n",
        "fig, ax = plt.subplots(figsize=(10,12))\n",
        "plot_importance(lgbm_wrapper, ax=ax)"
      ],
      "metadata": {
        "colab": {
          "base_uri": "https://localhost:8080/",
          "height": 749
        },
        "id": "UVMJ3ftj5F-r",
        "outputId": "be7b1b0d-a013-4340-946a-5dd0dcb8d0e4"
      },
      "execution_count": null,
      "outputs": [
        {
          "output_type": "execute_result",
          "data": {
            "text/plain": [
              "<matplotlib.axes._subplots.AxesSubplot at 0x7f23362179d0>"
            ]
          },
          "metadata": {},
          "execution_count": 21
        },
        {
          "output_type": "display_data",
          "data": {
            "text/plain": [
              "<Figure size 720x864 with 1 Axes>"
            ],
            "image/png": "[encoded data removed]"
          },
          "metadata": {
            "needs_background": "light"
          }
        }
      ]
    },
    {
      "cell_type": "markdown",
      "source": [
        "### 3. **스태킹(Stacking) 앙상블**\n",
        "- 스태킹(stacking)은 개별적인 여러 알고리즘을 서로 결합하여 예측 결과를 도출한다는 점에서 배깅 및 부스팅과 공통점이 있다.\n",
        "- 가장 큰 차이점으로는 **개별 알고리즘으로 예측한 데이터를 기반으로 다시 예측을 수행**한다는 것이다.\n",
        "- 즉 개별 알고리즘의 예측 결과 데이터 세트를 최종적인 메타 데이터 세트로 만들어 별도의 ML 알고리즘으로 최종 학습을 수행하고, 테스트 데이터를 기반으로 다시 최종 예측을 수행하는 방식이다.\n",
        "- 스태킹 모델은 두 종류의 모델이 필요한데, **개별적인 기반 모델**과 이 **개별 기반 모델의 예측 데이터를 학습 데이터로 만들어서 학습하는 최종 메타 모델**이다.\n",
        "- 스태킹 모델의 핵심은 여러 개별 모델의 **예측 데이터를 각각 스태킹 형태로 결합**해 최종 메타 모델의 **학습용 피처 데이터 세트와 테스트용 피처 데이터 세트를 만드는 것**이다."
      ],
      "metadata": {
        "id": "8ggVqMVV5s2R"
      }
    },
    {
      "cell_type": "markdown",
      "source": [
        "### 3. **스태킹(Stacking) 앙상블**\n",
        "### 3-1. 기본 스태킹 모델 - 위스콘신 유방암 예측\n",
        "- 스태킹에 사용될 머신러닝 알고리즘을 클래스를 생성한다. \n",
        "- 개별 모델은 KNN, 랜덤 포레스트, 결정 트리, 에이다부스트이며, 이들 모델의 예측 결과를 합한 데이터 세트로 학습/예측하는 최종 모델은 로지스틱 회귀이다.\n",
        "- 개별 알고리즘으로부터 예측된 예측값을 칼럼 레벨로 옆으로 붙여서 피처 값으로 만들어서 최종 메타 모델인 로지스틱 회귀에서 학습 데이터로 다시 사용한다."
      ],
      "metadata": {
        "id": "8Cpcq0980zfS"
      }
    },
    {
      "cell_type": "code",
      "source": [
        "cancer_data = load_breast_cancer()\n",
        "X_data = cancer_data.data\n",
        "y_label = cancer_data.target\n",
        "X_train, X_test, y_train, y_test = train_test_split(X_data, y_label, test_size=0.2, random_state=0)\n",
        "\n",
        "# 개별 ML 모델 생성\n",
        "from sklearn.neighbors import KNeighborsClassifier\n",
        "from sklearn.ensemble import RandomForestClassifier\n",
        "from sklearn.ensemble import AdaBoostClassifier\n",
        "from sklearn.tree import DecisionTreeClassifier\n",
        "knn_clf = KNeighborsClassifier(n_neighbors=4)\n",
        "rf_clf = RandomForestClassifier(n_estimators=100, random_state=0)\n",
        "dt_clf = DecisionTreeClassifier()\n",
        "ada_clf = AdaBoostClassifier(n_estimators=100)\n",
        "\n",
        "# 개별 ML 모델 학습\n",
        "knn_clf.fit(X_train, y_train)\n",
        "rf_clf.fit(X_train, y_train)\n",
        "dt_clf.fit(X_train, y_train)\n",
        "ada_clf.fit(X_train, y_train)\n",
        "\n",
        "# 학습된 개별 모델들이 각자 반환하는 예측 데이터 세트를 생성하고, 개별 모델의 정확도 측정\n",
        "knn_pred = knn_clf.predict(X_test)\n",
        "rf_pred = rf_clf.predict(X_test)\n",
        "dt_pred = dt_clf.predict(X_test)\n",
        "ada_pred = ada_clf.predict(X_test)\n",
        "\n",
        "from sklearn.metrics import accuracy_score\n",
        "print(\"KNN 정확도: {0:.4f}\".format(accuracy_score(y_test, knn_pred)))\n",
        "print(\"랜덤 포레스트 정확도: {0:.4f}\".format(accuracy_score(y_test, rf_pred)))\n",
        "print(\"결정 트리 정확도: {0:.4f}\".format(accuracy_score(y_test, dt_pred)))\n",
        "print(\"에이다부스트 정확도: {0:.4f}\".format(accuracy_score(y_test, ada_pred)))"
      ],
      "metadata": {
        "colab": {
          "base_uri": "https://localhost:8080/"
        },
        "id": "ULQf8Dv91RqC",
        "outputId": "aa4bed36-b5e5-4ee9-a2f6-d28d262d9f1c"
      },
      "execution_count": null,
      "outputs": [
        {
          "output_type": "stream",
          "name": "stdout",
          "text": [
            "KNN 정확도: 0.9211\n",
            "랜덤 포레스트 정확도: 0.9649\n",
            "결정 트리 정확도: 0.9123\n",
            "에이다부스트 정확도: 0.9561\n"
          ]
        }
      ]
    },
    {
      "cell_type": "code",
      "source": [
        "# 개별 알고리즘으로부터 예측된 예측값을 칼럼 레벨로 옆으로 붙여서 피처 값으로 만듦\n",
        "import numpy as np\n",
        "pred = np.array([knn_pred, rf_pred, dt_pred, ada_pred])\n",
        "print(pred.shape)\n",
        "\n",
        "# transpose를 이용하여 행과 열의 위치를 교환하여 칼럼 레벨로 각 알고리즘의 예측 결과를 피처로 만듦\n",
        "pred = np.transpose(pred)\n",
        "print(pred.shape)"
      ],
      "metadata": {
        "colab": {
          "base_uri": "https://localhost:8080/"
        },
        "id": "GrC184Dc2gTR",
        "outputId": "bfc828b1-de37-4099-fdf1-4e1db1043cb5"
      },
      "execution_count": null,
      "outputs": [
        {
          "output_type": "stream",
          "name": "stdout",
          "text": [
            "(4, 114)\n",
            "(114, 4)\n"
          ]
        }
      ]
    },
    {
      "cell_type": "code",
      "source": [
        "# 스태킹으로 만들어진 데이터를 학습 및 예측할 최종 모델\n",
        "from sklearn.linear_model import LogisticRegression\n",
        "lr_final = LogisticRegression(C=10)\n",
        "\n",
        "lr_final.fit(pred, y_test)\n",
        "final = lr_final.predict(pred)\n",
        "print(\"최종 메타 모델의 예측 정확도: {0:.4f}\".format(accuracy_score(y_test, final)))"
      ],
      "metadata": {
        "colab": {
          "base_uri": "https://localhost:8080/"
        },
        "id": "q1QS1NDN4Lkf",
        "outputId": "4dc4b686-92c4-41dd-9647-650efff24a5a"
      },
      "execution_count": null,
      "outputs": [
        {
          "output_type": "stream",
          "name": "stdout",
          "text": [
            "최종 메타 모델의 예측 정확도: 0.9737\n"
          ]
        }
      ]
    },
    {
      "cell_type": "markdown",
      "source": [
        "### 3. **스태킹(Stacking) 앙상블**\n",
        "### 3-2. CV 세트 기반의 스태킹\n",
        "- CV 세트 기반의 스태킹 모델은 과적합을 개선하기 위해 최종 메타 모델을 위한 데이터 세트를 만들 때 교차 검증 기반으로 예측된 결과 데이터 세트를 이용한다.\n",
        "- 과적합 문제의 발생을 예방하기 위해 CV 세트 기반의 스태킹은 개별 모델들이 각각 교차 검증으로 메타 모델을 위한 학습용 스태킹 데이터 생성과 예측을 위한 테스트용 스태킹 데이터를 생성한 뒤, 이를 기반으로 메타 모델이 학습과 예측을 수행한다.\n",
        " - 스텝1: 각 **모델별**로 원본 학습/테스트 데이터를 예측한 결과값을 기반으로 메타 모델을 위한 학습용/테스트용 데이터를 생성한다.\n",
        " - 스텝2: 스텝1에서 개별 모델들이 생성한 학습용/테스트용 데이터를 모두 스태킹 형태로 합쳐서 메타 모델이 학습할 최종 학습용/테스트용 데이터 세트를 생성한다. 메타 모델은 최종적으로 생성된 학습 데이터 세트와 원본 학습 데이터의 레이블 데이터를 기반으로 학습한 뒤, 최종적으로 생성된 테스트 데이터 세트를 예측하고 원본 테스트 데이터의 레이블 데이터를 기반으로 평가한다. "
      ],
      "metadata": {
        "id": "Ds0KOXNc7DDd"
      }
    },
    {
      "cell_type": "code",
      "source": [
        "# 스텝1 부분을 코드로 구현\n",
        "from sklearn.model_selection import KFold\n",
        "from sklearn.metrics import mean_absolute_error\n",
        "\n",
        "#개별 기반 모델에서 최종 메타 모델이 사용할 학습 및 테스트 용 데이터를 생성하기 위한 함수\n",
        "def get_stacking_base_dataset(model, X_train_n, y_train_n, X_test_n, n_folds) :\n",
        "  #지정된 n_folds값으로 KFold 생성\n",
        "  kf = KFold(n_splits = n_folds, shuffle = True, random_state = 0)\n",
        "  train_fold_pred = np.zeros((X_train_n.shape[0],1))\n",
        "  test_pred = np.zeros((X_test_n.shape[0],n_folds))\n",
        "  print(model.__class__.__name__,'model 시작')\n",
        "\n",
        "  for folder_counter, (train_index,valid_index) in enumerate(kf.split(X_train_n)) :\n",
        "    print('\\t 폴드 세트 :', folder_counter, '시작')\n",
        "    X_tr = X_train_n[train_index]\n",
        "    y_tr = y_train_n[train_index]\n",
        "    X_te = X_train_n[valid_index]\n",
        "\n",
        "    model.fit(X_tr,y_tr)\n",
        "    train_fold_pred[valid_index,:] = model.predict(X_te).reshape(-1,1)\n",
        "    test_pred[:,folder_counter] = model.predict(X_test_n)\n",
        "  \n",
        "  test_pred_mean = np.mean(test_pred, axis = 1).reshape(-1,1)\n",
        "\n",
        "  return train_fold_pred, test_pred_mean"
      ],
      "metadata": {
        "id": "Csxf1i85I1jr"
      },
      "execution_count": null,
      "outputs": []
    },
    {
      "cell_type": "markdown",
      "source": [
        "### 3. **스태킹(Stacking) 앙상블**\n",
        "### 3-2. CV 세트 기반의 스태킹\n",
        "- 여러 개의 분류 모델별로 stack_base_model() 함수를 수행한다.\n",
        "- 개별 모델은 앞의 기본 스태킹 모델에서 생성한 KNN, 랜덤 포레스트, 결정 트리, 에이다부스트 모델이며, 모델별로 get_stacking_base_datasets() 함수를 호출하여 각각 메타 모델이 추후에 사용할 학습용, 테스트용 데이터 세트를 반환한다.\n"
      ],
      "metadata": {
        "id": "W_JakzbHEI8q"
      }
    },
    {
      "cell_type": "code",
      "source": [
        "knn_train,knn_test = get_stacking_base_dataset(knn_clf,X_train,y_train,X_test,7)\n",
        "rf_train,rf_test = get_stacking_base_dataset(rf_clf,X_train,y_train,X_test,7)\n",
        "dt_train,dt_test = get_stacking_base_dataset(dt_clf,X_train,y_train,X_test,7)\n",
        "ada_train,ada_test = get_stacking_base_dataset(ada_clf,X_train,y_train,X_test,7)"
      ],
      "metadata": {
        "colab": {
          "base_uri": "https://localhost:8080/"
        },
        "id": "W6ANMI7BIqQE",
        "outputId": "05c6a2cc-5bde-48cc-a2db-12c7017c09b0"
      },
      "execution_count": null,
      "outputs": [
        {
          "output_type": "stream",
          "name": "stdout",
          "text": [
            "KNeighborsClassifier model 시작\n",
            "\t 폴드 세트 : 0 시작\n",
            "\t 폴드 세트 : 1 시작\n",
            "\t 폴드 세트 : 2 시작\n",
            "\t 폴드 세트 : 3 시작\n",
            "\t 폴드 세트 : 4 시작\n",
            "\t 폴드 세트 : 5 시작\n",
            "\t 폴드 세트 : 6 시작\n",
            "RandomForestClassifier model 시작\n",
            "\t 폴드 세트 : 0 시작\n",
            "\t 폴드 세트 : 1 시작\n",
            "\t 폴드 세트 : 2 시작\n",
            "\t 폴드 세트 : 3 시작\n",
            "\t 폴드 세트 : 4 시작\n",
            "\t 폴드 세트 : 5 시작\n",
            "\t 폴드 세트 : 6 시작\n",
            "DecisionTreeClassifier model 시작\n",
            "\t 폴드 세트 : 0 시작\n",
            "\t 폴드 세트 : 1 시작\n",
            "\t 폴드 세트 : 2 시작\n",
            "\t 폴드 세트 : 3 시작\n",
            "\t 폴드 세트 : 4 시작\n",
            "\t 폴드 세트 : 5 시작\n",
            "\t 폴드 세트 : 6 시작\n",
            "AdaBoostClassifier model 시작\n",
            "\t 폴드 세트 : 0 시작\n",
            "\t 폴드 세트 : 1 시작\n",
            "\t 폴드 세트 : 2 시작\n",
            "\t 폴드 세트 : 3 시작\n",
            "\t 폴드 세트 : 4 시작\n",
            "\t 폴드 세트 : 5 시작\n",
            "\t 폴드 세트 : 6 시작\n"
          ]
        }
      ]
    },
    {
      "cell_type": "code",
      "source": [
        "# 스텝2 부분을 코드로 구현\n",
        "# get_stacking_base_datasets() 호출로 반환된 각 모델별 학습 데이터와 테스트 데이터를 합친다\n",
        "Stack_final_X_train = np.concatenate((knn_train, rf_train, dt_train, ada_train), axis=1)\n",
        "Stack_final_X_test = np.concatenate((knn_test, rf_test, dt_test, ada_test), axis=1)\n",
        "print(\"원본 학습 피처 데이터 Shape:\", X_train.shape, \"원본 테스트 피처 Shape:\", X_test.shape)\n",
        "print(\"스태킹 학습 피처 데이터 Shape:\", Stack_final_X_train.shape, \"스태킹 테스트 피처 데이터 Shape:\", Stack_final_X_test.shape)"
      ],
      "metadata": {
        "colab": {
          "base_uri": "https://localhost:8080/"
        },
        "id": "pPrFaiw_JGA6",
        "outputId": "da35184b-84d7-4f5a-cc9e-fbb030442c97"
      },
      "execution_count": null,
      "outputs": [
        {
          "output_type": "stream",
          "name": "stdout",
          "text": [
            "원본 학습 피처 데이터 Shape: (455, 30) 원본 테스트 피처 Shape: (114, 30)\n",
            "스태킹 학습 피처 데이터 Shape: (455, 4) 스태킹 테스트 피처 데이터 Shape: (114, 4)\n"
          ]
        }
      ]
    },
    {
      "cell_type": "markdown",
      "source": [
        "### 3. **스태킹(Stacking) 앙상블**\n",
        "### 3-2. CV 세트 기반의 스태킹\n",
        "- 만들어진 Stack_final_X_train은 **메타 모델이 학습할 학습용 피처 데이터** 세트이다.\n",
        "- 만들어진 Stack_final_X_test는 **메타 모델이 예측할 테스트용 피처 데이터** 세트이다.\n",
        "- 최종 메타 모델인 로지스틱 회귀를 스태킹된 학습용 피처 데이터 세트(Stack_final_X_train)와 원본 학습 레이블 데이터(y_train)로 **학습**한 후에 스태킹된 테스트 데이터 세트(Stack_final_X_test)로 **예측**하고, 예측 결과를 원본 테스트 레이블 데이터와 비교하여 정확도를 측정한다."
      ],
      "metadata": {
        "id": "RYafthtwI_dO"
      }
    },
    {
      "cell_type": "code",
      "source": [
        "# 로지스틱 회귀 메타 모델 학습 및 예측\n",
        "lr_final.fit(Stack_final_X_train, y_train)\n",
        "stack_final = lr_final.predict(Stack_final_X_test)\n",
        "\n",
        "print(\"최종 메타 모델의 예측 정확도: {0:.4f}\".format(accuracy_score(y_test, stack_final)))"
      ],
      "metadata": {
        "colab": {
          "base_uri": "https://localhost:8080/"
        },
        "id": "QxILZkZ-Km97",
        "outputId": "1e684c63-4936-4182-a691-0576851a3b72"
      },
      "execution_count": null,
      "outputs": [
        {
          "output_type": "stream",
          "name": "stdout",
          "text": [
            "최종 메타 모델의 예측 정확도: 0.9737\n"
          ]
        }
      ]
    },
    {
      "cell_type": "markdown",
      "source": [
        "### 4. 정리\n",
        "- 대부분의 **앙상블 기법**은 결정 트리 기반의 다수의 약한 학습기를 결합하여 변동성을 줄여 예측 오류를 줄이고 성능을 개선한다.\n",
        "- **결정 트리** 알고리즘은 정보의 균일도에 기반한 규칙 트리를 만들어서 예측을 수행한다.\n",
        "- 앙상블 기법은 대표적으로 배깅과 부스팅으로 구분될 수 있다.\n",
        "- **배깅** 방식은 학습 데이터를 중복 허용하면서 다수의 세트로 샘플링하여 이를 다수의 약한 학습기가 학습한 뒤 최종 결과를 결합하여 예측하는 방식이다.\n",
        " - 대표적으로는 수행시간이 빠르고 비교적 안정적인 예측 성능을 제공하는 **랜덤 포레스트**가 있다.\n",
        "\n",
        "- **부스팅** 방식은 학습기들이 순차적으로 학습을 진행하면서 예측이 틀린 데이터에 대해서는 가중치를 부여하여 다음번 학습기가 학습할 때에는 이전에 예측이 틀린 데이터에 대해서는 보다 높은 정확도로 예측할 수 있게 한다.\n",
        " - 대표적으로는 **GBM**이 있는데 예측 성능은 뛰어나지만 수행 시간이 너무 오래 걸린다는 단점이 있다.\n",
        " - **XGBoost**와 **LightGBM**은 현재 가장 각광을 받고 있는 부스팅 기반 머신러닝 패키지이다.\n",
        " - 이들의 사이킷런 래퍼 클래스를 이용하면 여타 다른 Estimator 클래스와 동일한 방식으로 학습과 예측을 수행할 수 있다.\n",
        "\n",
        "- **스태킹**은 여러 개의 개별 모델들이 생성한 예측 데이터를 기반으로 최종 메타 모델이 학습할 별도의 학습 데이터 세트와 예측할 테스트 데이터 세트를 재생성하는 기법이다.\n",
        "- 스태킹 모델의 핵심은 바로 메타 모델이 사용할 학습 데이터 세트와 예측 데이터 세트를 개별 모델의 예측 값들을 스태킹 형태로 결합하여 생성하는 것이다.\n"
      ],
      "metadata": {
        "id": "c1i-Xk8_K6P9"
      }
    }
  ]
}