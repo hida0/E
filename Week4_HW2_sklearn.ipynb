{
  "nbformat": 4,
  "nbformat_minor": 0,
  "metadata": {
    "colab": {
      "name": "Week4 HW2 sklearn",
      "provenance": [],
      "collapsed_sections": [],
      "authorship_tag": "ABX9TyPCD7W9wbjVCPO6VdwtMKM6",
      "include_colab_link": true
    },
    "kernelspec": {
      "name": "python3",
      "display_name": "Python 3"
    },
    "language_info": {
      "name": "python"
    }
  },
  "cells": [
    {
      "cell_type": "markdown",
      "metadata": {
        "id": "view-in-github",
        "colab_type": "text"
      },
      "source": [
        "<a href=\"https://colab.research.google.com/github/hida0/ESAA/blob/HW/Week4_HW2_sklearn.ipynb\" target=\"_parent\"><img src=\"https://colab.research.google.com/assets/colab-badge.svg\" alt=\"Open In Colab\"/></a>"
      ]
    },
    {
      "cell_type": "markdown",
      "source": [
        "# 개념정리 & 필사\n",
        "## [**사이킷런(scikit-learn)** 소개와 특징]\n",
        "* 사이킷런은 파이썬 머신러닝 라이브러리 중 가장 많이 사용되는 라이브러리이다.\n",
        "* 파이썬 기반의 다른 머신러닝 패키지도 사이킷런 스타일의 API를 지향할 정도로 쉽고 가장 파이썬스러운 API를 제공한다.\n",
        "* 머신러닝을 위한 매우 다양한 알고리즘과 개발을 위한 편리한 프레임워크와 API를 제공한다.\n"
      ],
      "metadata": {
        "id": "H9CSYOR7p1N_"
      }
    },
    {
      "cell_type": "code",
      "source": [
        "import sklearn\n",
        "print(sklearn.__version__)"
      ],
      "metadata": {
        "colab": {
          "base_uri": "https://localhost:8080/"
        },
        "id": "5IGVVxWjuzAg",
        "outputId": "8454da19-def0-49f8-945d-bf1e717dd828"
      },
      "execution_count": 3,
      "outputs": [
        {
          "output_type": "stream",
          "name": "stdout",
          "text": [
            "1.0.2\n"
          ]
        }
      ]
    },
    {
      "cell_type": "markdown",
      "source": [
        "## [첫번째 머신러닝 - **분류**]\n",
        "* **분류(Classification)**는 대표적인 지도학습 방법의 하나이다.\n",
        "* 지도학습은 학습을 위한 다양한 피처(Feature)와 결정값인 레이블(Label) 데이터로 모델을 학습한 뒤, 별도의 테스트 데이터 세트에서 미지의 레이블을 예측한다. 즉 지도학습은 명확한 정답이 주어진 데이터를 먼저 학습한 뒤 미지의 정답을 예측하는 방식이다.\n",
        "* 학습을 위해 주어진 데이터 세트를 **학습 데이터 세트**, 머신러닝 모델의 예측 성능을 평가하기 위해 별도로 주어진 데이터 세트를 **테스트 데이터 세트**로 지칭한다.\n",
        "\n",
        "### 사이킷런 패키지 모듈\n",
        "사이킷런 패키지 내의 모듈명은 sklearn으로 시작하는 명명규칙이 있다.\n",
        "1. **sklearn.dataset**s 내의 모듈은 사이킷런에서 자체적으로 제공하는 데이터 세트를 생성하는 모듈의 모임이다.\n",
        "2. **sklearn.tree** 내의 모듈은 트리 기반 ML 알고리즘을 구현한 클래스의 모임이다.\n",
        "3. **sklearn.model_selection** 은 학습 데이터와 검증 데이터, 예측 데이터로 데이터를 분리하거나 최적의 하이퍼 파라미터로 평가하기 위한 다양한 모듈의 모임이다.\n",
        "4. **하이퍼 파라미터**란 머신러닝 알고리즘별로 최적의 학습을 위해 직접 입력하는 파라미터들을 통칭하며, 하이퍼 파라미터를 통해 머신러닝 알고리즘의 성능을 튜닝할 수 있다."
      ],
      "metadata": {
        "id": "lNPzTjRlq4n4"
      }
    },
    {
      "cell_type": "markdown",
      "source": [
        "### 분류 : 붓꽃 품종 예측하기\n",
        "* 붓꽃 데이터 세트로 붓꽃의 품종을 분류한다. \n",
        "* 붓꽃 데이터 세트의 피처인 꽃잎의 길이와 너비, 꽃받침의 길이와 너비를 기반으로 꽃의 품종을 예측한다.\n",
        "* 피처에는 sepal length, sepal width, petal length, petal width가 있다.\n",
        "* 레이블은 0, 1, 2 세가지 값으로 되어있으며 0이 Setosa 품종, 1이 versicolor 품종, 2가 virginica 품종을 의미한다.\n",
        "\n",
        "1. 붓꽃 데이터 세트를 로드하기 위해서 sklearn.datasets 로부터 **load_iris()**를 임포트한다.\n",
        "2. 데이터 세트를 학습 데이터와 테스트 데이터로 분리하기 위해서 sklearn.model_selection 로부터 **train_test_split()** 함수를 임포트한다.\n",
        "3. ML 알고리즘은 **의사 결정 트리(Decision Tree)**로, sklearn.tree 로부터 이를 구현한 **DecisionTreeClassifier**를 임포트한다.\n",
        "\n",
        "#### **1. 데이터 로드 및 변환**\n",
        "로드한 붓꽃 데이터 세트의 피처들과 데이터 값이 어떻게 구성되어 있는지 확인하기 위해 DataFrame으로 변환하여 확인한다."
      ],
      "metadata": {
        "id": "wfLGEd2XyV0u"
      }
    },
    {
      "cell_type": "code",
      "source": [
        "from sklearn.datasets import load_iris\n",
        "from sklearn.tree import DecisionTreeClassifier\n",
        "from sklearn.model_selection import train_test_split"
      ],
      "metadata": {
        "id": "Va8YaVXuuvLI"
      },
      "execution_count": 4,
      "outputs": []
    },
    {
      "cell_type": "code",
      "source": [
        "iris = load_iris()\n",
        "iris_data = iris.data # iris 데이터 세트에서 피처만으로 된 데이터를 numpy로 가지고 있다.\n",
        "iris_label = iris.target # iris 데이터 세트에서 레이블(결정값) 데이터를 numpy로 가지고 있다.\n",
        "print(\"iris target 값: \", iris_label)\n",
        "print(\"iris target 명: \", iris.target_names)\n",
        "\n",
        "import pandas as pd\n",
        "iris_df = pd.DataFrame(iris_data, columns=iris.feature_names)\n",
        "iris_df['label'] = iris.target\n",
        "iris_df.head(3)"
      ],
      "metadata": {
        "colab": {
          "base_uri": "https://localhost:8080/",
          "height": 255
        },
        "id": "LSATyRpF1fXr",
        "outputId": "d7e627db-b529-4115-8bf7-acda02198f32"
      },
      "execution_count": 5,
      "outputs": [
        {
          "output_type": "stream",
          "name": "stdout",
          "text": [
            "iris target 값:  [0 0 0 0 0 0 0 0 0 0 0 0 0 0 0 0 0 0 0 0 0 0 0 0 0 0 0 0 0 0 0 0 0 0 0 0 0\n",
            " 0 0 0 0 0 0 0 0 0 0 0 0 0 1 1 1 1 1 1 1 1 1 1 1 1 1 1 1 1 1 1 1 1 1 1 1 1\n",
            " 1 1 1 1 1 1 1 1 1 1 1 1 1 1 1 1 1 1 1 1 1 1 1 1 1 1 2 2 2 2 2 2 2 2 2 2 2\n",
            " 2 2 2 2 2 2 2 2 2 2 2 2 2 2 2 2 2 2 2 2 2 2 2 2 2 2 2 2 2 2 2 2 2 2 2 2 2\n",
            " 2 2]\n",
            "iris target 명:  ['setosa' 'versicolor' 'virginica']\n"
          ]
        },
        {
          "output_type": "execute_result",
          "data": {
            "text/plain": [
              "   sepal length (cm)  sepal width (cm)  petal length (cm)  petal width (cm)  \\\n",
              "0                5.1               3.5                1.4               0.2   \n",
              "1                4.9               3.0                1.4               0.2   \n",
              "2                4.7               3.2                1.3               0.2   \n",
              "\n",
              "   label  \n",
              "0      0  \n",
              "1      0  \n",
              "2      0  "
            ],
            "text/html": [
              "\n",
              "  <div id=\"df-8e5339c2-fd0f-4fa4-a0ae-414dcec3014e\">\n",
              "    <div class=\"colab-df-container\">\n",
              "      <div>\n",
              "<style scoped>\n",
              "    .dataframe tbody tr th:only-of-type {\n",
              "        vertical-align: middle;\n",
              "    }\n",
              "\n",
              "    .dataframe tbody tr th {\n",
              "        vertical-align: top;\n",
              "    }\n",
              "\n",
              "    .dataframe thead th {\n",
              "        text-align: right;\n",
              "    }\n",
              "</style>\n",
              "<table border=\"1\" class=\"dataframe\">\n",
              "  <thead>\n",
              "    <tr style=\"text-align: right;\">\n",
              "      <th></th>\n",
              "      <th>sepal length (cm)</th>\n",
              "      <th>sepal width (cm)</th>\n",
              "      <th>petal length (cm)</th>\n",
              "      <th>petal width (cm)</th>\n",
              "      <th>label</th>\n",
              "    </tr>\n",
              "  </thead>\n",
              "  <tbody>\n",
              "    <tr>\n",
              "      <th>0</th>\n",
              "      <td>5.1</td>\n",
              "      <td>3.5</td>\n",
              "      <td>1.4</td>\n",
              "      <td>0.2</td>\n",
              "      <td>0</td>\n",
              "    </tr>\n",
              "    <tr>\n",
              "      <th>1</th>\n",
              "      <td>4.9</td>\n",
              "      <td>3.0</td>\n",
              "      <td>1.4</td>\n",
              "      <td>0.2</td>\n",
              "      <td>0</td>\n",
              "    </tr>\n",
              "    <tr>\n",
              "      <th>2</th>\n",
              "      <td>4.7</td>\n",
              "      <td>3.2</td>\n",
              "      <td>1.3</td>\n",
              "      <td>0.2</td>\n",
              "      <td>0</td>\n",
              "    </tr>\n",
              "  </tbody>\n",
              "</table>\n",
              "</div>\n",
              "      <button class=\"colab-df-convert\" onclick=\"convertToInteractive('df-8e5339c2-fd0f-4fa4-a0ae-414dcec3014e')\"\n",
              "              title=\"Convert this dataframe to an interactive table.\"\n",
              "              style=\"display:none;\">\n",
              "        \n",
              "  <svg xmlns=\"http://www.w3.org/2000/svg\" height=\"24px\"viewBox=\"0 0 24 24\"\n",
              "       width=\"24px\">\n",
              "    <path d=\"M0 0h24v24H0V0z\" fill=\"none\"/>\n",
              "    <path d=\"M18.56 5.44l.94 2.06.94-2.06 2.06-.94-2.06-.94-.94-2.06-.94 2.06-2.06.94zm-11 1L8.5 8.5l.94-2.06 2.06-.94-2.06-.94L8.5 2.5l-.94 2.06-2.06.94zm10 10l.94 2.06.94-2.06 2.06-.94-2.06-.94-.94-2.06-.94 2.06-2.06.94z\"/><path d=\"M17.41 7.96l-1.37-1.37c-.4-.4-.92-.59-1.43-.59-.52 0-1.04.2-1.43.59L10.3 9.45l-7.72 7.72c-.78.78-.78 2.05 0 2.83L4 21.41c.39.39.9.59 1.41.59.51 0 1.02-.2 1.41-.59l7.78-7.78 2.81-2.81c.8-.78.8-2.07 0-2.86zM5.41 20L4 18.59l7.72-7.72 1.47 1.35L5.41 20z\"/>\n",
              "  </svg>\n",
              "      </button>\n",
              "      \n",
              "  <style>\n",
              "    .colab-df-container {\n",
              "      display:flex;\n",
              "      flex-wrap:wrap;\n",
              "      gap: 12px;\n",
              "    }\n",
              "\n",
              "    .colab-df-convert {\n",
              "      background-color: #E8F0FE;\n",
              "      border: none;\n",
              "      border-radius: 50%;\n",
              "      cursor: pointer;\n",
              "      display: none;\n",
              "      fill: #1967D2;\n",
              "      height: 32px;\n",
              "      padding: 0 0 0 0;\n",
              "      width: 32px;\n",
              "    }\n",
              "\n",
              "    .colab-df-convert:hover {\n",
              "      background-color: #E2EBFA;\n",
              "      box-shadow: 0px 1px 2px rgba(60, 64, 67, 0.3), 0px 1px 3px 1px rgba(60, 64, 67, 0.15);\n",
              "      fill: #174EA6;\n",
              "    }\n",
              "\n",
              "    [theme=dark] .colab-df-convert {\n",
              "      background-color: #3B4455;\n",
              "      fill: #D2E3FC;\n",
              "    }\n",
              "\n",
              "    [theme=dark] .colab-df-convert:hover {\n",
              "      background-color: #434B5C;\n",
              "      box-shadow: 0px 1px 3px 1px rgba(0, 0, 0, 0.15);\n",
              "      filter: drop-shadow(0px 1px 2px rgba(0, 0, 0, 0.3));\n",
              "      fill: #FFFFFF;\n",
              "    }\n",
              "  </style>\n",
              "\n",
              "      <script>\n",
              "        const buttonEl =\n",
              "          document.querySelector('#df-8e5339c2-fd0f-4fa4-a0ae-414dcec3014e button.colab-df-convert');\n",
              "        buttonEl.style.display =\n",
              "          google.colab.kernel.accessAllowed ? 'block' : 'none';\n",
              "\n",
              "        async function convertToInteractive(key) {\n",
              "          const element = document.querySelector('#df-8e5339c2-fd0f-4fa4-a0ae-414dcec3014e');\n",
              "          const dataTable =\n",
              "            await google.colab.kernel.invokeFunction('convertToInteractive',\n",
              "                                                     [key], {});\n",
              "          if (!dataTable) return;\n",
              "\n",
              "          const docLinkHtml = 'Like what you see? Visit the ' +\n",
              "            '<a target=\"_blank\" href=https://colab.research.google.com/notebooks/data_table.ipynb>data table notebook</a>'\n",
              "            + ' to learn more about interactive tables.';\n",
              "          element.innerHTML = '';\n",
              "          dataTable['output_type'] = 'display_data';\n",
              "          await google.colab.output.renderOutput(dataTable, element);\n",
              "          const docLink = document.createElement('div');\n",
              "          docLink.innerHTML = docLinkHtml;\n",
              "          element.appendChild(docLink);\n",
              "        }\n",
              "      </script>\n",
              "    </div>\n",
              "  </div>\n",
              "  "
            ]
          },
          "metadata": {},
          "execution_count": 5
        }
      ]
    },
    {
      "cell_type": "markdown",
      "source": [
        "#### **2. 데이터 분리**\n",
        "\n",
        "학습용 데이터와 테스트용 데이터는 반드시 분리해야 하는데, 학습 데이터로 학습된 모델이 얼마나 뛰어난 성능을 가지는지 평가하려면 데스트 데이터 세트가 필요하기 때문이다.\n",
        "\n",
        "**train_test_split()**을 이용하여 **학습 데이터와 테스트 데이터를 test_size 파라미터 입력 값의 비율로 분할**한다.\n",
        "\n",
        "```\n",
        "X_train, X_test, y_train, y_test = train_test_split(iris_data, iris_label, test_size=0.2, random_state=11)\n",
        "```\n",
        "train_test_split()의 첫번째 파라미터인 iris_data는 피처 데이터 세트, 두번째 파라미터인 iris_label은 레이블 데이터 세트이다. test_size=0.2는 전체 데이터 세트 중 테스트 데이터 세트의 비율로, 테스트 데이터가 20%, 학습 데이터가 80%로 데이터를 분할한다. random_state는 호출할 때마다 같은 학습/테스트 용 데이터 세트를 생성하기 위해 주어지는 난수 발생 값이다. \n",
        "\n",
        "위의 코드에서는 학습용 피처 데이터 세트를 X_train으로, 테스트용 피처 데이터 세트를 X_test로, 학습용 레이블 데이터 세트를 y_train으로, 테스트용 레이블 데이터 세트를 y_test로 반환한다.\n",
        "\n",
        "\n",
        "\n"
      ],
      "metadata": {
        "id": "RScvvI5_q4u-"
      }
    },
    {
      "cell_type": "code",
      "source": [
        "# 학습용 데이터와 테스트 데이터 분리\n",
        "X_train, X_test, y_train, y_test = train_test_split(iris_data, iris_label, test_size=0.2, random_state=11)"
      ],
      "metadata": {
        "id": "6pGNtHsI82wn"
      },
      "execution_count": 6,
      "outputs": []
    },
    {
      "cell_type": "markdown",
      "source": [
        "#### **3. 학습과 예측 수행 및 예측 성능 평가**\n",
        "1. 사이킷런의 의사 결정 트리 클래스인 DecisionTreeClassifier를 객체로 생성한다.\n",
        "2. 생성된 DecisionTreeClassifier 객체의 **fit() 메서드에 학습용 피처 데이터 속성과 결정값 데이터 세트를 입력**하여 호출하면 학습을 수생한다.\n",
        "3. 학습 데이터를 기반으로 학습된 DecisionTreeClassifier 객체를 이용하여 예측을 수행한다. 예측 데이터로는 반드시 학습 데이터가 아닌 다른 데이터를 이용해야 하며, 일반적으로 테스트 데이터 세트를 이용한다.\n",
        "4. DecisionTreeClassifier 객체의 **predict() 메서드에 테스트용 피처 데이터 세트를 입력**하여 호출하면 학습된 모델 기반에서 테스트 데이터 세트에 대한 예측값을 반환한다.\n",
        "5. 머신러닝 모델의 성능 평가를 위해 사이킷런으로부터 정확도 측정을 위한 함수 **accuracy_score()**를 로드하여 **실제 레이블 데이터 세트와 예측 레이블 데이터 세트를 입력**한다."
      ],
      "metadata": {
        "id": "bphWVUhe7dxs"
      }
    },
    {
      "cell_type": "code",
      "source": [
        "# DecisionTreeClassifier 객체 생성\n",
        "df_clf = DecisionTreeClassifier(random_state=11)\n",
        "\n",
        "# 학습 수행\n",
        "df_clf.fit(X_train, y_train)"
      ],
      "metadata": {
        "colab": {
          "base_uri": "https://localhost:8080/"
        },
        "id": "uEFcKo155ern",
        "outputId": "907f86bc-f3c1-4a07-de49-872bacadc1a2"
      },
      "execution_count": 7,
      "outputs": [
        {
          "output_type": "execute_result",
          "data": {
            "text/plain": [
              "DecisionTreeClassifier(random_state=11)"
            ]
          },
          "metadata": {},
          "execution_count": 7
        }
      ]
    },
    {
      "cell_type": "code",
      "source": [
        "# 예측 수행\n",
        "df_clf.predict(X_test)"
      ],
      "metadata": {
        "colab": {
          "base_uri": "https://localhost:8080/"
        },
        "id": "IgVTHmnw809U",
        "outputId": "2fc20cb6-a6c3-4660-8009-772694dc10bc"
      },
      "execution_count": 8,
      "outputs": [
        {
          "output_type": "execute_result",
          "data": {
            "text/plain": [
              "array([2, 2, 1, 1, 2, 0, 1, 0, 0, 1, 1, 1, 1, 2, 2, 0, 2, 1, 2, 2, 1, 0,\n",
              "       0, 1, 0, 0, 2, 1, 0, 1])"
            ]
          },
          "metadata": {},
          "execution_count": 8
        }
      ]
    },
    {
      "cell_type": "code",
      "source": [
        "# 예측 성능 평가\n",
        "from sklearn.metrics import accuracy_score\n",
        "\n",
        "pred = df_clf.predict(X_test)\n",
        "accuracy_score(y_test, pred)"
      ],
      "metadata": {
        "id": "yc8Rfivt9h37",
        "colab": {
          "base_uri": "https://localhost:8080/"
        },
        "outputId": "b5e63116-4205-40b2-9695-08e442f13426"
      },
      "execution_count": 9,
      "outputs": [
        {
          "output_type": "execute_result",
          "data": {
            "text/plain": [
              "0.9333333333333333"
            ]
          },
          "metadata": {},
          "execution_count": 9
        }
      ]
    },
    {
      "cell_type": "markdown",
      "source": [
        "## [사이킷런의 기반 프레임워크 익히기]\n",
        "### **1. Estimator 이해 및 fit(), predict() 메서드**\n",
        "\n",
        "> **지도학습 : 분류, 회귀**\n",
        "\n",
        "* 지도학습의 주요 두 축인 분류(Classification)와 회귀(Regression)의 다양한 알고리즘을 구현한 모든 사이킷런 클래스는 fit()과 predict()만을 이용하여 간단하게 학습과 예측 결과를 반환한다.\n",
        "* 사이킷런에서는 **분류 알고리즘을 구현한 클래스를 Classifier**로, **회귀 알고리즘을 구현한 클래스를 Regressor**로 지칭한다.\n",
        "* 분류와 회귀 알고리즘, 즉 지도학습의 모든 알고리즘을 구현한 클래스를 통칭해서 **Esitmator**라고 부른다.\n",
        "* 위 클래스들은 **ML 모델 학습을 위해서 fit()** 메서드를, **학습된 모델의 예측을 위해 predict()** 메서드를 제공한다.\n",
        "* cross_val_score()와 같은 evaluation 함수, GridSearchCV와 같은 하이퍼 파라미터 튜닝을 지원하는 클래스의 경우 이 Estimator를 인자로 받아 fit()과 predict()를 호출하여 평가하거나 튜닝을 수행한다.\n",
        "\n",
        "\n",
        "> **비지도학습 : 차원 축소, 클러스터링, 피처 추출**\n",
        "\n",
        "* 사이킷런에서 비지도학습인 차원 축소, 클러스터링, 피처 추출 등을 구현한 클래스 역시 대부분 fit()과 transform()을 적용한다.\n",
        "* 비지도학습과 피처 추출에서 **fit()**은 지도학습처럼 학습을 의미하는 것이 아니라, **입력 데이터의 형태에 맞춰 데이터를 변환하기 위한 사전 구조를 맞추는 작업**이다.\n",
        "* 변환을 위한 사전 구조를 맞춘 이후 입력 데이터의 차원 변환, 클러스터링, 피처 추출 등의 **실제 작업은 transform()으로 수행**한다.\n",
        "* 사이킷런은 fit()과 transform()을 하나로 결합한 **fit_transform()**도 함께 제공한다.\n"
      ],
      "metadata": {
        "id": "K_--kuZw_mli"
      }
    },
    {
      "cell_type": "markdown",
      "source": [
        "### **2. 사이킷런의 주요 모듈**\n",
        "> 예제 데이터\n",
        "\n",
        "* **sklearn.datasets** : 사이킷런에 내장되어 예제로 제공하는 데이터 세트\n",
        "\n",
        "> 피처 처리\n",
        "\n",
        "* **sklearn.preprocessing** : 데이터 전처리에 필요한 다양한 가공 기능 제공\n",
        "* **sklearn.feature_selection** : 알고리즘에 큰 영향을 미치는 피처를 우선순위대로 셀렉션 작업\n",
        "* **sklearn.feature_extraction** : 텍스트나 이미지 데이터의 벡터화된 피처를 추출\n",
        "\n",
        "> 피처 처리 & 차원 축소\n",
        "\n",
        "* **sklearn.decomposition** : 차원 축소와 관련한 알고리즘인 PCA, NMF, Truncated SVD 등을 통해 차원 축소 기능을 수행\n",
        "\n",
        "> 데이터 분리, 검증 & 파라미터 튜닝\n",
        "\n",
        "* **sklearn.model_selection** : 교차 검증을 위한 학습용 데이터와 테스트용 데이터 분리, 그리드 서치로 최적 파라미터 추출 등의 API 제공\n",
        "\n",
        "> 평가\n",
        "\n",
        "* **sklearn.metrics** : 분류, 회귀, 클러스터링, 페어와이즈에 대한 다양한 성능 측정 방법 제공 / Accuracy, Precision, Recall, ROC-AUC, RMSE 등 제공\n",
        "\n",
        "> ML 알고리즘\n",
        "\n",
        "* **sklearn.ensemble** : 앙상블 알고리즘의 랜덤 포레스트, 에이다 부스트, 그래디언트 부스팅 등을 제공\n",
        "* **sklearn.linear_model** : 주로 선형 회귀, 릿지, 라쏘 및 로지스틱 회귀 등 회귀 관련 알고리즘을 지원, SGD(Stochastic Gradient Descent) 관련 알고리즘도 제공\n",
        "* **sklearn.naive_bayes** : 나이브 베이즈 알고리즘 가우시안 NB, 다항 분포 NB 등 제공\n",
        "* **sklearn.neighbors** : 최근접 이웃 알고리즘 K-NN 등 제공\n",
        "* **sklearn.svm** : 서포트 벡터 머신 알고리즘 제공\n",
        "* **sklearn.tree** : 의사 결정 트리 알고리즘 제공\n",
        "* **sklearn.cluster** : 비지도 클러스터링 알고리즘 K-평균, 계층형, DBSCAN 등 제공\n",
        "\n",
        "> 유틸리티\n",
        "\n",
        "* **sklearn.pipeline** : 피처 처리 등의 변환과 ML 알고리즘 학습, 예측 등을 함께 묶어서 실행할 수 있는 유틸리티 제공"
      ],
      "metadata": {
        "id": "QHZiOuMBGTCl"
      }
    },
    {
      "cell_type": "markdown",
      "source": [
        "### **3. 내장된 예제 데이터 세트**\n",
        "사이킷런에는 별도의 외부 웹사이트에서 데이터 세트를 내려받을 필요 없이 예제로 활용할 수 있는 간단하면서도 좋은 데이터 세트가 내장되어 있다.\n",
        "\n",
        "사이킷런에 내장되어 있는 데이터 세트는 분류나 회귀를 연습하기 위한 예제용도의 데이터 세트와 분류나 클러스터링을 위해 표본 데이터로 생성될 수 있는 데이터 세트로 나뉘어진다.\n",
        "\n",
        "* datasets.load_boston() : 회귀 용도이며 미국 보스턴의 집 피처들과 가격에 대한 데이터 세트\n",
        "* datasets.load_diabetes() : 회귀 용도이며 당뇨 데이터 세트\n",
        "* datasets.load_breast_cancer() : 분류 용도이며 위스콘신 유방암 피처들과 악성/음성 레이블 데이터 세트\n",
        "* datasets.load_digits() : 분류 용도이며 0에서 9까지 숫자의 이미지 픽셀 데이터 세트\n",
        "* datasets.load_iris() : 분류 용도이며 붓꽃에 대한 피처를 가진 데이터 세트\n",
        "\n",
        "##### 분류와 클러스터링을 위한 표본 데이터 생성기\n",
        "* datasets.make_classifications() : 분류를 위한 데이터 세트를 만든다. 높은 상관도, 불필요한 속성 등의 노이즈 효과를 위한 데이터를 무작위로 생성한다.\n",
        "* datasets.make_blobs() : 클러스터링을 위한 데이터 세트를 무작위로 생성한다. 군집 지정 개수에 따라 여러 가지 클러스터링을 위한 데이터 세트를 쉽게 만든다."
      ],
      "metadata": {
        "id": "ZuZrM81COmHM"
      }
    },
    {
      "cell_type": "markdown",
      "source": [
        "사이킷런에 내장된 이 데이터 세트는 일반적으로 **딕셔너리 형태**로 구성되어 있다.\n",
        "\n",
        "키는 보통 **data, target, target_names, feature_names, DESCR** 이며 개별 키가 가리키는 데이터 세트의 의미는 다음과 같다.\n",
        "* **data** : 피처의 데이터 세트를 가리킨다.\n",
        "* **target** : 분류일 때는 레이블 값, 회귀일 때는 숫자 결과값 데이터 세트이다.\n",
        "* **target_names** : 개별 레이블의 이름을 나타낸다.\n",
        "* **feature_names** : 피처의 이름을 나타낸다.\n",
        "* **DESCR** : 데이터 세트에 대한 설명과 각 피처의 설명을 나타낸다.\n",
        "\n",
        "data, target은 넘파이 배열(ndarray) 타입이고 target_names, feature_names는 넘파이 배열 또는 파이썬 리스트(list) 타입이고 DESCR은 스트링 타입이다.\n",
        "\n",
        "피처의 데이터 값을 반환받기 위해서는 내장 데이터 세트 API를 호출한 뒤에 그 Key의 값을 지정한다. "
      ],
      "metadata": {
        "id": "poAmHHR3REri"
      }
    },
    {
      "cell_type": "code",
      "source": [
        "iris_data = load_iris()\n",
        "print(type(iris_data))"
      ],
      "metadata": {
        "colab": {
          "base_uri": "https://localhost:8080/"
        },
        "id": "QjoNvSg6_gh0",
        "outputId": "472e29ba-540a-49db-e763-98c3774c87ca"
      },
      "execution_count": 10,
      "outputs": [
        {
          "output_type": "stream",
          "name": "stdout",
          "text": [
            "<class 'sklearn.utils.Bunch'>\n"
          ]
        }
      ]
    },
    {
      "cell_type": "code",
      "source": [
        "# 데이터 세트의 모든 키의 이름을 출력\n",
        "keys = iris_data.keys()\n",
        "print(\"붓꽃 데이터 세트의 키들: \", keys)\n",
        "\n",
        "# 객체의 키의 타입과 가리키는 값을 출력\n",
        "print(\"\\n feature_names의 type: \", type(iris_data.feature_names))\n",
        "print(\"feature_names의 shape: \", len(iris_data.feature_names))\n",
        "print(iris_data.feature_names)\n",
        "\n",
        "print(\"\\n target_names의 type: \", type(iris_data.target_names))\n",
        "print(\"target_names의 shape: \", len(iris_data.target_names))\n",
        "print(iris_data.target_names)\n",
        "\n",
        "print(\"\\n data의 type: \", type(iris_data.data))\n",
        "print(\"data의 shape: \", iris_data.data.shape)\n",
        "\n",
        "print(\"\\n target의 type: \", type(iris_data.target))\n",
        "print(\"target의 shape: \", iris_data.target.shape)\n",
        "print(iris_data.target)"
      ],
      "metadata": {
        "colab": {
          "base_uri": "https://localhost:8080/"
        },
        "id": "oi53_2CdTTSs",
        "outputId": "469b00b7-5124-4aa5-ca2f-dac9339844be"
      },
      "execution_count": 11,
      "outputs": [
        {
          "output_type": "stream",
          "name": "stdout",
          "text": [
            "붓꽃 데이터 세트의 키들:  dict_keys(['data', 'target', 'frame', 'target_names', 'DESCR', 'feature_names', 'filename', 'data_module'])\n",
            "\n",
            " feature_names의 type:  <class 'list'>\n",
            "feature_names의 shape:  4\n",
            "['sepal length (cm)', 'sepal width (cm)', 'petal length (cm)', 'petal width (cm)']\n",
            "\n",
            " target_names의 type:  <class 'numpy.ndarray'>\n",
            "target_names의 shape:  3\n",
            "['setosa' 'versicolor' 'virginica']\n",
            "\n",
            " data의 type:  <class 'numpy.ndarray'>\n",
            "data의 shape:  (150, 4)\n",
            "\n",
            " target의 type:  <class 'numpy.ndarray'>\n",
            "target의 shape:  (150,)\n",
            "[0 0 0 0 0 0 0 0 0 0 0 0 0 0 0 0 0 0 0 0 0 0 0 0 0 0 0 0 0 0 0 0 0 0 0 0 0\n",
            " 0 0 0 0 0 0 0 0 0 0 0 0 0 1 1 1 1 1 1 1 1 1 1 1 1 1 1 1 1 1 1 1 1 1 1 1 1\n",
            " 1 1 1 1 1 1 1 1 1 1 1 1 1 1 1 1 1 1 1 1 1 1 1 1 1 1 2 2 2 2 2 2 2 2 2 2 2\n",
            " 2 2 2 2 2 2 2 2 2 2 2 2 2 2 2 2 2 2 2 2 2 2 2 2 2 2 2 2 2 2 2 2 2 2 2 2 2\n",
            " 2 2]\n"
          ]
        }
      ]
    },
    {
      "cell_type": "markdown",
      "source": [
        "## [Model Selection 모듈 소개]\n",
        "### **1. 학습/테스트 데이터 세트 분리 - train_test_split()**\n",
        "* 학습 데이터 세트로 모델을 학습하고 테스트 데이터 세트를 이용하지 않고 학습 데이터 세트로만 예측하면 예측 정확도가 100%가 나오는 문제가 발생한다.\n",
        "* 예측 결과가 100%로 정확한 이유는 이미 학습한 학습 데이터 세트를 기반으로 예측했기 때문이다.\n",
        "* 따라서 예측을 수행하는 데이터 세트는 학습을 수행한 학습용 데이터 세트가 아닌 전용의 테스트 데이터 세트여야 한다.\n",
        "* train_test_split()을 이용하여 학습 및 테스트 데이터 세트를 분리해야하ㅏ며, **첫번째 파라미터로 피처 데이터 세트, 두번째 파라미터로 레이블 데이터 세트**를 입력한다."
      ],
      "metadata": {
        "id": "foREuNZwVKFH"
      }
    },
    {
      "cell_type": "code",
      "source": [
        "# 데이터 로드\n",
        "iris_data = load_iris()\n",
        "\n",
        "# 데이터 분리\n",
        "X_train, X_test, y_train, y_test = train_test_split(iris_data.data, iris_data.target, test_size=0.3, random_state=121)\n",
        "\n",
        "# 모델 선언\n",
        "dt_clf = DecisionTreeClassifier()\n",
        "\n",
        "# 모델 학습\n",
        "df_clf.fit(X_train, y_train)\n",
        "\n",
        "# 모델 예측\n",
        "pred = df_clf.predict(X_test)\n",
        "\n",
        "# 모델 평가\n",
        "accuracy_score(y_test, pred)"
      ],
      "metadata": {
        "colab": {
          "base_uri": "https://localhost:8080/"
        },
        "id": "XA8Q1XDxU6kF",
        "outputId": "1a73e4f1-4334-4fa6-ac4b-cb677f45ced2"
      },
      "execution_count": 12,
      "outputs": [
        {
          "output_type": "execute_result",
          "data": {
            "text/plain": [
              "0.9555555555555556"
            ]
          },
          "metadata": {},
          "execution_count": 12
        }
      ]
    },
    {
      "cell_type": "markdown",
      "source": [
        "### **2. 교차 검증**\n",
        "* 고정된 학습 데이터와 테스트 데이터로 평가를 하다 보면 테스트 데이터에만 최적의 성능을 발휘할 수 있도록 편향되게 모델을 유도하는 경향이 생기는 **과적합**이 발생한다,\n",
        "* 과적합된 학습 모델은 다른 테스트용 데이터가 들어올 경우에는 성능이 저하되는데 이러한 문제점을 개선하기 위해 **교차 검증**을 이용하여 더 다양한 학습과 평가를 수행해야 한다.\n",
        "* 교차 검증은 데이터 편중을 막기 위해서 **별도의 여러 세트로 구성된 학습 데이터 세트와 검증 데이터 세트에서 학습과 평가를 수행**하는 것이다. 그리고 각 세트에서 수행한 평가 결과에 따라 하이퍼 파라미터 튜닝 등의 모델 최적화를 더욱 손쉽게 할 수 있다.\n",
        "* 대부분의 ML 모델의 성능 평가는 교차 검증 기반으로 1차 평가를 한 뒤에 최종적으로 테스트 데이터 세트에 적용해 평가하는 프로세스이다. \n",
        "* ML에 사용되는 데이터 세트를 세분화해서 **학습, 검증, 테스트 데이터 세트**로 나눌 수 있는데 테스트 데이터 세트 외에 별도의 검증 데이터 세트를 분리하여 최종 평가 이전에 학습된 모델을 다양하게 평가하는데 사용한다.\n"
      ],
      "metadata": {
        "id": "bG2m-4qpdlQB"
      }
    },
    {
      "cell_type": "markdown",
      "source": [
        "#### **K-폴드 교차 검증**\n",
        "* 가장 보편적으로 사용되는 교차 검증 기법이다.\n",
        "* 먼저 **K개의 데이터 폴드 세트**를 만들고, **K번만큼 각 폴드 세트에 학습과 검증 평가를 반복적으로 수행**하는 방법이다.\n",
        "* 예를 들어 K가 5인 5 폴드 교차 검증을 수행하면, 5개로 폴드된 데이터 세트를 이용한다.\n",
        "* 첫번째 학습/검증에서는 처음부터 4개 등분을 학습 데이터 세트로 마지막 등분 하나를 검증 데이터 세트로 설정하여 학습과 평가를 수행한다. 두번째 학습/검증에서는 학습 데이터와 검증 데이터를 하나씩 변경하여 학습과 평가를 수행한다.\n",
        "* 이렇게 학습 데이터와 검증 데이터를 점진적으로 변경하면서 5번 반복하여 학습과 검증을 수행하는 것이 K 폴드 교차 검증이며 **K개(5개)의 예측 평가를 구했으면 이를 평균해서 K 폴드 평가 결과로 반영**한다.\n",
        "* 사이킷런에서는 K 폴드 교차 검증 프로세스를 구현하기 위해 **KFold와 StratifiedKFold** 클래스를 제공한다. \n",
        "* **sklearn.model_selection** 으로부터 **KFold** 클래스를 임포트하여 사용한다."
      ],
      "metadata": {
        "id": "bm5iQfZTftgU"
      }
    },
    {
      "cell_type": "code",
      "source": [
        "from sklearn.tree import DecisionTreeClassifier\n",
        "from sklearn.metrics import accuracy_score\n",
        "from sklearn.model_selection import KFold\n",
        "import numpy as np\n",
        "\n",
        "iris = load_iris()\n",
        "features = iris.data\n",
        "label = iris.target\n",
        "dt_clf = DecisionTreeClassifier(random_state=156)\n",
        "\n",
        "kfold = KFold(n_splits = 5) # 5개의 폴드 세트로 분리\n",
        "print(\"붓꽃 데이터 세트 크기:\", features.shape[0])\n",
        "\n",
        "cv_accuracy = [] # 폴드 세트별 정확도를 담을 리스트 객체를 생성"
      ],
      "metadata": {
        "colab": {
          "base_uri": "https://localhost:8080/"
        },
        "id": "DM07wqsBb5Oo",
        "outputId": "cd04478c-9dee-4a20-cfd8-25b5eb54193b"
      },
      "execution_count": 13,
      "outputs": [
        {
          "output_type": "stream",
          "name": "stdout",
          "text": [
            "붓꽃 데이터 세트 크기: 150\n"
          ]
        }
      ]
    },
    {
      "cell_type": "code",
      "source": [
        "# 학습용 데이터는 4/5로 120개, 검증용 데이터는 1/5로 30개인 5개의 폴드 세트로 분할\n",
        "n_iter = 0\n",
        "\n",
        "# kfold 객체의 split()을 호출하면 폴드별 학습용, 검증용 테스트의 로우 인덱스를 array로 반환\n",
        "for train_index, test_index in kfold.split(features):\n",
        "    # kfold.split()으로 반환된 인덱스를 이용해 학습용, 검증용 테스트 데이터를 추출\n",
        "    X_train, X_test = features[train_index], features[test_index]\n",
        "    y_train, y_test = label[train_index], label[test_index]\n",
        "    # 학습 및 예측\n",
        "    dt_clf.fit(X_train, y_train)\n",
        "    pred = dt_clf.predict(X_test)\n",
        "    n_iter += 1\n",
        "    # 반복 시마다 정확도를 측정\n",
        "    accuracy = np.round(accuracy_score(y_test, pred), 4)\n",
        "    # 비어있는 리스트에 정확도를 담음\n",
        "    cv_accuracy.append(accuracy)\n",
        "    # 개별 iteration별 교차 검증 정확도와 학습, 검증 데이터 크기를 확인\n",
        "    train_size = X_train.shape[0]\n",
        "    test_size = X_test.shape[0]\n",
        "    print(\"\\n#{0} 교차 검증 정확도: {1}, 학습 데이터 크기: {2}, 검증 데이터 크기: {3}\".format(n_iter, accuracy, train_size, test_size))\n",
        "    print(\"#{0} 검증 세트 인덱스: {1}\".format(n_iter, test_index))\n",
        "\n",
        "# 개별 iteration별 정확도를 합하여 평균 정확도를 계산\n",
        "print(\"\\n평균 검증 정확도:\", np.mean(cv_accuracy))"
      ],
      "metadata": {
        "colab": {
          "base_uri": "https://localhost:8080/"
        },
        "id": "LPtiKgbTl4OS",
        "outputId": "c1cfd917-c81b-4650-b1c0-399426d75822"
      },
      "execution_count": 14,
      "outputs": [
        {
          "output_type": "stream",
          "name": "stdout",
          "text": [
            "\n",
            "#1 교차 검증 정확도: 1.0, 학습 데이터 크기: 120, 검증 데이터 크기: 30\n",
            "#1 검증 세트 인덱스: [ 0  1  2  3  4  5  6  7  8  9 10 11 12 13 14 15 16 17 18 19 20 21 22 23\n",
            " 24 25 26 27 28 29]\n",
            "\n",
            "#2 교차 검증 정확도: 0.9667, 학습 데이터 크기: 120, 검증 데이터 크기: 30\n",
            "#2 검증 세트 인덱스: [30 31 32 33 34 35 36 37 38 39 40 41 42 43 44 45 46 47 48 49 50 51 52 53\n",
            " 54 55 56 57 58 59]\n",
            "\n",
            "#3 교차 검증 정확도: 0.8667, 학습 데이터 크기: 120, 검증 데이터 크기: 30\n",
            "#3 검증 세트 인덱스: [60 61 62 63 64 65 66 67 68 69 70 71 72 73 74 75 76 77 78 79 80 81 82 83\n",
            " 84 85 86 87 88 89]\n",
            "\n",
            "#4 교차 검증 정확도: 0.9333, 학습 데이터 크기: 120, 검증 데이터 크기: 30\n",
            "#4 검증 세트 인덱스: [ 90  91  92  93  94  95  96  97  98  99 100 101 102 103 104 105 106 107\n",
            " 108 109 110 111 112 113 114 115 116 117 118 119]\n",
            "\n",
            "#5 교차 검증 정확도: 0.7333, 학습 데이터 크기: 120, 검증 데이터 크기: 30\n",
            "#5 검증 세트 인덱스: [120 121 122 123 124 125 126 127 128 129 130 131 132 133 134 135 136 137\n",
            " 138 139 140 141 142 143 144 145 146 147 148 149]\n",
            "\n",
            "평균 검증 정확도: 0.9\n"
          ]
        }
      ]
    },
    {
      "cell_type": "markdown",
      "source": [
        "#### **Stratified K 폴드**\n",
        "* **불균형한 분포도**를 가진 레이블(결정 클래스) 데이터 집합을 위한 K 폴드 방식이다.\n",
        "* 특정 레이블 값이 특이하게 많거나 매우 적어서 값의 분포가 한쪽으로 치우치는 경우 레이블 데이터가 불균형한 분포도를 가졌다고 한다.\n",
        "* 레이블 값이 0 또는 1인 데이터가 존재할 때 랜덤하게 학습 및 테스트 세트의 인덱스를 고르더라도, 각 데이터 세트가 레이블 값인 0과 1의 비율을 제대로 반영하지 못하는 경우가 발생한다.\n",
        "* **Stratified K 폴드는 원본 데이터의 레이블 분포를 먼저 고려한 뒤 이 분포와 동일하게 학습 및 검증 데이터 세트를 분배**하여 K 폴드가 레이블 데이터를 적절한 세트로 제대로 분배하지 못하는 경우의 문제를 해결한다. \n",
        "* **sklearn.model_selection** 으로부터 **StratifiedKFold** 클래스를 임포트하여 사용한다.\n",
        "* 일반적으로 **분류**에서의 교차 검증은 K 폴드가 아니라 **Stratified K 폴드**로 분할해야 한다.\n",
        "* 회귀에서는 Stratified K 폴드가 지원되지 않는데, 회귀의 결정값은 이산값 레이블이 아니라 연속된 숫자값이기 때문에 결정값별로 분포를 정하는 의미가 없기 때문이다.\n",
        "\n",
        "---\n",
        "\n",
        "\n",
        "step 1) 붓꽃 데이터 세트를 DataFrame으로 생성하고 레이블 값의 분포도를 확인\n",
        "\n",
        "- 레이블 값이 0,1,2 모두 50개로 동일하다.\n",
        "\n",
        "step 2) K 폴드 방법으로 데이터를 분리하면 발생하는 문제점을 확인\n",
        "- 교차 검증 시마다 3개의 폴드 세트로 만들어지는 학습 레이블과 검증 레이블이 완전히 다른 값으로 추출되어 학습되는 모델로 검증 레이블 값을 절대로 예측하지 못한다.\n",
        "\n",
        "step 3) StratifiedKFold 클래스로 데이터를 분리하여 문제점을 개선\n",
        "- StratifiedKFold는 **레이블 데이터 분포도**를 따라서 학습용과 검증용 데이터를 나누기 때문에, 모델 뒤에 split() 메서드를 선언할 때, **인자로 피처 데이터 세트뿐만 아니라 레이블 데이터 세트**를 모두 입력해야 한다.\n",
        "- 학습 레이블과 검증 레이블 데이터 값의 분포도가 **동일하게 같은 비율로 할당**되었음을 알 수 있다.\n",
        "- 이렇게 분할이 되어야 모델이 레이블 값 0,1,2를 모두 학습할 수 있고 이에 기반하여 검증을 수행할 수 있다."
      ],
      "metadata": {
        "id": "GcDk6oD3ufa6"
      }
    },
    {
      "cell_type": "code",
      "source": [
        "iris = load_iris()\n",
        "iris_df = pd.DataFrame(iris.data, columns=iris.feature_names)\n",
        "iris_df['label'] = iris.target\n",
        "\n",
        "# 레이블 값의 분포도 확인 - 각 품종이 50개씩 존재\n",
        "iris_df['label'].value_counts()"
      ],
      "metadata": {
        "colab": {
          "base_uri": "https://localhost:8080/"
        },
        "id": "4n0N5Obepugz",
        "outputId": "7dfd7613-1a82-4733-9046-6798e7cca8ab"
      },
      "execution_count": 15,
      "outputs": [
        {
          "output_type": "execute_result",
          "data": {
            "text/plain": [
              "0    50\n",
              "1    50\n",
              "2    50\n",
              "Name: label, dtype: int64"
            ]
          },
          "metadata": {},
          "execution_count": 15
        }
      ]
    },
    {
      "cell_type": "code",
      "source": [
        "# K 폴드 방법으로 데이터를 분리\n",
        "kfold = KFold(n_splits=3) # 3개의 폴드 세트로 생성\n",
        "\n",
        "n_iter = 0\n",
        "for train_index, test_index in kfold.split(iris_df):\n",
        "    n_iter += 1\n",
        "    label_train = iris_df['label'].iloc[train_index]\n",
        "    label_test = iris_df['label'].iloc[test_index]\n",
        "    print(\"\\n#{0} 교차 검증\".format(n_iter))\n",
        "    print(\"학습 레이블 데이터 분포:\\n\", label_train.value_counts())\n",
        "    print(\"검증 레이블 데이터 분포:\\n\", label_test.value_counts())"
      ],
      "metadata": {
        "id": "CdEbm4TIpw1P",
        "colab": {
          "base_uri": "https://localhost:8080/"
        },
        "outputId": "b2ed3465-2949-4ace-cf32-d7159e23ea97"
      },
      "execution_count": 16,
      "outputs": [
        {
          "output_type": "stream",
          "name": "stdout",
          "text": [
            "\n",
            "#1 교차 검증\n",
            "학습 레이블 데이터 분포:\n",
            " 1    50\n",
            "2    50\n",
            "Name: label, dtype: int64\n",
            "검증 레이블 데이터 분포:\n",
            " 0    50\n",
            "Name: label, dtype: int64\n",
            "\n",
            "#2 교차 검증\n",
            "학습 레이블 데이터 분포:\n",
            " 0    50\n",
            "2    50\n",
            "Name: label, dtype: int64\n",
            "검증 레이블 데이터 분포:\n",
            " 1    50\n",
            "Name: label, dtype: int64\n",
            "\n",
            "#3 교차 검증\n",
            "학습 레이블 데이터 분포:\n",
            " 0    50\n",
            "1    50\n",
            "Name: label, dtype: int64\n",
            "검증 레이블 데이터 분포:\n",
            " 2    50\n",
            "Name: label, dtype: int64\n"
          ]
        }
      ]
    },
    {
      "cell_type": "code",
      "source": [
        "# StratifiedKFold 방법으로 데이터를 분리\n",
        "from sklearn.model_selection import StratifiedKFold\n",
        "skf = StratifiedKFold(n_splits=3) # 3개의 폴드 세트로 생성\n",
        "\n",
        "n_iter = 0\n",
        "for train_index, test_index in skf.split(iris_df, iris_df['label']): # split() 인자로 피처 데이터와 레이블 데이터 모두 입력\n",
        "    n_iter += 1\n",
        "    label_train = iris_df['label'].iloc[train_index]\n",
        "    label_test = iris_df['label'].iloc[test_index]\n",
        "    print(\"\\n#{0} 교차 검증\".format(n_iter))\n",
        "    print(\"학습 레이블 데이터 분포:\\n\", label_train.value_counts())\n",
        "    print(\"검증 레이블 데이터 분포:\\n\", label_test.value_counts())"
      ],
      "metadata": {
        "colab": {
          "base_uri": "https://localhost:8080/"
        },
        "id": "Wbf4r9NhgBM7",
        "outputId": "1de1792b-32fd-4566-e6d9-63758ca49762"
      },
      "execution_count": 17,
      "outputs": [
        {
          "output_type": "stream",
          "name": "stdout",
          "text": [
            "\n",
            "#1 교차 검증\n",
            "학습 레이블 데이터 분포:\n",
            " 2    34\n",
            "0    33\n",
            "1    33\n",
            "Name: label, dtype: int64\n",
            "검증 레이블 데이터 분포:\n",
            " 0    17\n",
            "1    17\n",
            "2    16\n",
            "Name: label, dtype: int64\n",
            "\n",
            "#2 교차 검증\n",
            "학습 레이블 데이터 분포:\n",
            " 1    34\n",
            "0    33\n",
            "2    33\n",
            "Name: label, dtype: int64\n",
            "검증 레이블 데이터 분포:\n",
            " 0    17\n",
            "2    17\n",
            "1    16\n",
            "Name: label, dtype: int64\n",
            "\n",
            "#3 교차 검증\n",
            "학습 레이블 데이터 분포:\n",
            " 0    34\n",
            "1    33\n",
            "2    33\n",
            "Name: label, dtype: int64\n",
            "검증 레이블 데이터 분포:\n",
            " 1    17\n",
            "2    17\n",
            "0    16\n",
            "Name: label, dtype: int64\n"
          ]
        }
      ]
    },
    {
      "cell_type": "code",
      "source": [
        "# StratifiedKFold를 이용하여 분리한 데이터를 이용하여 의사결정모형 분류로 학습 및 예측\n",
        "iris = load_iris()\n",
        "features = iris.data\n",
        "label = iris.target\n",
        "dt_clf = DecisionTreeClassifier(random_state=156) # 모델 선언\n",
        "skfold = StratifiedKFold(n_splits=3) # 3개의 폴드 세트로 생성\n",
        "\n",
        "n_iter = 0\n",
        "cv_accuracy = []\n",
        "\n",
        "for train_index, test_index in skfold.split(features, label):\n",
        "    # skfold.split()으로 반환된 인덱스를 이용해 학습용, 검증용 테스트 데이터를 추출\n",
        "    X_train, X_test = features[train_index], features[test_index]\n",
        "    y_train, y_test = label[train_index], label[test_index]\n",
        "    # 학습 및 예측\n",
        "    dt_clf.fit(X_train, y_train)\n",
        "    pred = dt_clf.predict(X_test)\n",
        "    n_iter += 1\n",
        "    # 반복 시마다 정확도를 측정\n",
        "    accuracy = np.round(accuracy_score(y_test, pred), 4)\n",
        "    # 비어있는 리스트에 정확도를 담음\n",
        "    cv_accuracy.append(accuracy)\n",
        "    # 개별 iteration별 교차 검증 정확도와 학습, 검증 데이터 크기를 확인\n",
        "    train_size = X_train.shape[0]\n",
        "    test_size = X_test.shape[0]\n",
        "    print(\"\\n#{0} 교차 검증 정확도: {1}, 학습 데이터 크기: {2}, 검증 데이터 크기: {3}\".format(n_iter, accuracy, train_size, test_size))\n",
        "    print(\"#{0} 검증 세트 인덱스: {1}\".format(n_iter, test_index))\n",
        "\n",
        "# 개별 iteration별 정확도를 합하여 평균 정확도를 계산\n",
        "print(\"\\n교차 검증별 정확도:\", np.round(cv_accuracy, 4))\n",
        "print(\"\\n평균 검증 정확도:\", np.mean(cv_accuracy))"
      ],
      "metadata": {
        "colab": {
          "base_uri": "https://localhost:8080/"
        },
        "id": "RXX-U9Koh-gn",
        "outputId": "07af8c8a-8a71-435d-e3dc-d176bf188793"
      },
      "execution_count": 18,
      "outputs": [
        {
          "output_type": "stream",
          "name": "stdout",
          "text": [
            "\n",
            "#1 교차 검증 정확도: 0.98, 학습 데이터 크기: 100, 검증 데이터 크기: 50\n",
            "#1 검증 세트 인덱스: [  0   1   2   3   4   5   6   7   8   9  10  11  12  13  14  15  16  50\n",
            "  51  52  53  54  55  56  57  58  59  60  61  62  63  64  65  66 100 101\n",
            " 102 103 104 105 106 107 108 109 110 111 112 113 114 115]\n",
            "\n",
            "#2 교차 검증 정확도: 0.94, 학습 데이터 크기: 100, 검증 데이터 크기: 50\n",
            "#2 검증 세트 인덱스: [ 17  18  19  20  21  22  23  24  25  26  27  28  29  30  31  32  33  67\n",
            "  68  69  70  71  72  73  74  75  76  77  78  79  80  81  82 116 117 118\n",
            " 119 120 121 122 123 124 125 126 127 128 129 130 131 132]\n",
            "\n",
            "#3 교차 검증 정확도: 0.98, 학습 데이터 크기: 100, 검증 데이터 크기: 50\n",
            "#3 검증 세트 인덱스: [ 34  35  36  37  38  39  40  41  42  43  44  45  46  47  48  49  83  84\n",
            "  85  86  87  88  89  90  91  92  93  94  95  96  97  98  99 133 134 135\n",
            " 136 137 138 139 140 141 142 143 144 145 146 147 148 149]\n",
            "\n",
            "교차 검증별 정확도: [0.98 0.94 0.98]\n",
            "\n",
            "평균 검증 정확도: 0.9666666666666667\n"
          ]
        }
      ]
    },
    {
      "cell_type": "markdown",
      "source": [
        "#### **cross_val_score()**\n",
        "* 사이킷런에서 교차 검증을 좀 더 편리하게 수행할 수 있도록 제공하는 대표적인 API이다.\n",
        "* 폴드 세트를 설정하고, for 루프에서 반복으로 학습 및 테스트 데이터의 인덱스를 추출한 뒤 반복적으로 학습과 예측을 수행하는 일련의 과정을 한꺼번에 수행해준다.\n",
        "* **sklearn.model_selection**으로부터 **cross_val_score()**을 임포트하여 사용한다.\n",
        "\n",
        "```\n",
        "cross_val_score(estimator. X, y=None, scoring=None, cv=None, n_jobs=1, verbose=0, fit_params=None, pre_dispatch='2*n_jobs')\n",
        "```\n",
        "* **estimator**는 사이킷런의 분류 알고리즘 클래스인 Classifier 또는 회귀 알고리즘 클래스인 Regressor를 의미한다.\n",
        "* estimator 값으로 classifier가 입력되면 StratifiedKFold K 폴드 방식으로 레이블값의 분포에 따라 학습 및 테스트 세트를 분할한다.\n",
        "* X는 피처 데이터 세트, y는 레이블 데이터 세트, **scoring은 예측 성능 평가 지표**, **cv는 교차 검증 폴드 수**를 의미한다.\n",
        "* cross_val_score() 수행 후의 반환 값은 scoring 파라미터로 지정된 **예측 성능 지표의 측정값을 배열 형태로 반환**한다."
      ],
      "metadata": {
        "id": "vsxni5lhmB05"
      }
    },
    {
      "cell_type": "code",
      "source": [
        "from sklearn.model_selection import cross_val_score\n",
        "\n",
        "iris_data = load_iris()\n",
        "data = iris_data.data\n",
        "label = iris_data.target\n",
        "dt_clf = DecisionTreeClassifier(random_state=156)\n",
        "\n",
        "# 성능 지표로는 정확도(accuracy)를 사용하고 교차 검증 세트는 3개로 분리\n",
        "scores = cross_val_score(dt_clf, data, label, scoring='accuracy', cv=3)\n",
        "print(\"교차 검증별 정확도:\", np.round(scores, 4))\n",
        "print(\"평균 검증 정확도:\", np.round(np.mean(scores), 4))"
      ],
      "metadata": {
        "colab": {
          "base_uri": "https://localhost:8080/"
        },
        "id": "XtxvjT2XlGgv",
        "outputId": "807cecf3-c24e-49fb-c46a-5eb558c2e3f4"
      },
      "execution_count": 19,
      "outputs": [
        {
          "output_type": "stream",
          "name": "stdout",
          "text": [
            "교차 검증별 정확도: [0.98 0.94 0.98]\n",
            "평균 검증 정확도: 0.9667\n"
          ]
        }
      ]
    },
    {
      "cell_type": "markdown",
      "source": [
        "### **3. GridSearchCV** : 교차 검증과 최적 하이퍼 파라미터 튜닝을 한번에 하기\n",
        "* 하이퍼 파라미터는 머신러닝 알고리즘을 구성하는 주요 구성 요소이며, 이 값을 조정하여 알고리즘의 예측 성능을 개선할 수 있다.\n",
        "* 분류나 회귀 등의 알고리즘에 사용되는 하이퍼 파라미터를 순차적으로 입력하면서 편리하게 최적의 파라미터를 도출할 수 있는 방안을 제공한다.\n",
        "* **GridSearchCV는 교차 검증을 기반**으로 이 하이퍼 파라미터의 최적 값을 찾게 한다. 즉 데이터 세트를 cross-validation을 위한 **학습/테스트 세트로 자동으로 분할**한 뒤에 하이퍼 파라미터 그리드에 기술된 **모든 파라미터를 순차적으로 적용하여 최적의 파라미터를 도출**한다.\n",
        "* **sklearn.model_selection** 으로부터 **GridSearchCV** 를 임포트하여 사용한다.\n",
        "\n",
        "\n",
        "> **estimator** : classifier, regressor, pipeline이 사용될 수 있다.\n",
        "\n",
        "> **param_grid** : **key + 리스트 값을 가지는 딕셔너리**로 튜닝을 위해 파라미터명과 사용될 여러 파라미터의 값을 지정한다.\n",
        "\n",
        "> **scoring** : 예측 성능을 측정할 평가 방법을 지정한다.\n",
        "\n",
        "> **cv** : 교차 검증을 위해 분할되는 학습/테스트 세트의 개수를 지정한다.\n",
        "\n",
        "> **refit** : 디폴트는 True이며 가장 최적의 하이퍼 파라미터를 찾은 뒤 입력한 estimator 객체를 해당 하이퍼 파라미터로 재학습시킨다.\n",
        "\n",
        "* 즉 cv가 3회이고 파라미터의 조합이 6개라면 총 cv 3회 X 6개 파라미터 조합 = 18회의 학습과 평가가 진행된다.\n",
        "\n",
        "\n"
      ],
      "metadata": {
        "id": "LQTLG0yZqsOV"
      }
    },
    {
      "cell_type": "code",
      "source": [
        "iris_data = load_iris()\n",
        "X_train, X_test, y_train, y_test = train_test_split(iris_data.data, iris_data.target, test_size=0.2, random_state=121)\n",
        "dtree = DecisionTreeClassifier() # 의사결정나무 모델 선언\n",
        "\n",
        "# DecisionTreeClassifier의 중요 하이퍼 파라미터인 max_depth과 min_samples_split에 대해 파라미터 명칭은 key, 값은 리스트 형태의 딕셔너리 형태로 지정한다.\n",
        "parameters = {'max_depth':[1,2,3], 'min_samples_split':[2,3]}\n",
        "\n",
        "from sklearn.model_selection import GridSearchCV\n",
        "grid_dtree = GridSearchCV(dtree, param_grid=parameters, cv=3, refit=True) # 하이퍼 파라미터를 순차적으로 적용하여 최적의 파라미터로 재학습"
      ],
      "metadata": {
        "id": "K6jpPP-4qjkj"
      },
      "execution_count": 20,
      "outputs": []
    },
    {
      "cell_type": "markdown",
      "source": [
        "* GridSearchCV에 알맞은 파라미터를 입력하여 선언하고 **fit()** 메서드에 학습 데이터 세트를 입력하여 수행한다.\n",
        "* 학습 데이터를 cv에 기술된 폴딩 세트로 분할하여 param_grid에 기술된 하이퍼 파라미터를 순차적으로 변경하면서 학습과 평가를 수행하고 그 결과를 **cv_results_** 속성에 기록한다.\n",
        "* cv_results_는 gridsearchcv의 결과 세트로, **key 값과 리스트 형태의 value를 딕셔너리 형태**로 갖는다.\n",
        "> **'params'** 칼럼은 수행할 때마다 적용된 하이퍼 파라미터값이다.\n",
        "\n",
        " > **'mean_test_score'** 칼럼은 개별 하이퍼 파라미터별로 cv의 폴딩 테스트 세트에 대해 총 수행한 평가 수치의 평균값이다.\n",
        "\n",
        " > **'rank_test_score'** 칼럼은 하이퍼 파라미터별로 성능이 좋은 score 순위를 나타낸다. 1이 가장 뛰어난 순위이며 최적의 하이퍼 파라미터이다.\n",
        "\n",
        "* GridSearchCV 객체의 fit()을 수행하면 최고 성능을 나타낸 하이퍼 파라미터의 값은 **best_params_**에, 그때의 평과 결과 값은 **best_score_**에 기록된다. 즉 cv_results_의 rank_test_score가 1일 때의 값과 같다.\n",
        "* GridSearchCV 객체의 생성 파라미터 refit이 True이면, 최적 성능을 나타내는 하이퍼 파라미터로 학습하여 **best_estimator_**로 저장한다."
      ],
      "metadata": {
        "id": "bSVnONUz56_G"
      }
    },
    {
      "cell_type": "code",
      "source": [
        "# 하이퍼 파라미터를 순차적으로 학습 및 평가\n",
        "grid_dtree.fit(X_train, y_train)\n",
        "\n",
        "# GridSearchCV 결과를 추출하여 DataFrame으로 변환\n",
        "scores_df = pd.DataFrame(grid_dtree.cv_results_)\n",
        "scores_df[ ['params', 'mean_test_score', 'rank_test_score', 'split0_test_score', 'split1_test_score', 'split2_test_score'] ]"
      ],
      "metadata": {
        "colab": {
          "base_uri": "https://localhost:8080/",
          "height": 237
        },
        "id": "P1iJaVSt52Gv",
        "outputId": "345d957c-7d57-41fd-d1b4-0b039b8ab254"
      },
      "execution_count": 21,
      "outputs": [
        {
          "output_type": "execute_result",
          "data": {
            "text/plain": [
              "                                     params  mean_test_score  rank_test_score  \\\n",
              "0  {'max_depth': 1, 'min_samples_split': 2}         0.700000                5   \n",
              "1  {'max_depth': 1, 'min_samples_split': 3}         0.700000                5   \n",
              "2  {'max_depth': 2, 'min_samples_split': 2}         0.958333                3   \n",
              "3  {'max_depth': 2, 'min_samples_split': 3}         0.958333                3   \n",
              "4  {'max_depth': 3, 'min_samples_split': 2}         0.975000                1   \n",
              "5  {'max_depth': 3, 'min_samples_split': 3}         0.975000                1   \n",
              "\n",
              "   split0_test_score  split1_test_score  split2_test_score  \n",
              "0              0.700                0.7               0.70  \n",
              "1              0.700                0.7               0.70  \n",
              "2              0.925                1.0               0.95  \n",
              "3              0.925                1.0               0.95  \n",
              "4              0.975                1.0               0.95  \n",
              "5              0.975                1.0               0.95  "
            ],
            "text/html": [
              "\n",
              "  <div id=\"df-0f67d23e-3624-4b41-83c2-953260366851\">\n",
              "    <div class=\"colab-df-container\">\n",
              "      <div>\n",
              "<style scoped>\n",
              "    .dataframe tbody tr th:only-of-type {\n",
              "        vertical-align: middle;\n",
              "    }\n",
              "\n",
              "    .dataframe tbody tr th {\n",
              "        vertical-align: top;\n",
              "    }\n",
              "\n",
              "    .dataframe thead th {\n",
              "        text-align: right;\n",
              "    }\n",
              "</style>\n",
              "<table border=\"1\" class=\"dataframe\">\n",
              "  <thead>\n",
              "    <tr style=\"text-align: right;\">\n",
              "      <th></th>\n",
              "      <th>params</th>\n",
              "      <th>mean_test_score</th>\n",
              "      <th>rank_test_score</th>\n",
              "      <th>split0_test_score</th>\n",
              "      <th>split1_test_score</th>\n",
              "      <th>split2_test_score</th>\n",
              "    </tr>\n",
              "  </thead>\n",
              "  <tbody>\n",
              "    <tr>\n",
              "      <th>0</th>\n",
              "      <td>{'max_depth': 1, 'min_samples_split': 2}</td>\n",
              "      <td>0.700000</td>\n",
              "      <td>5</td>\n",
              "      <td>0.700</td>\n",
              "      <td>0.7</td>\n",
              "      <td>0.70</td>\n",
              "    </tr>\n",
              "    <tr>\n",
              "      <th>1</th>\n",
              "      <td>{'max_depth': 1, 'min_samples_split': 3}</td>\n",
              "      <td>0.700000</td>\n",
              "      <td>5</td>\n",
              "      <td>0.700</td>\n",
              "      <td>0.7</td>\n",
              "      <td>0.70</td>\n",
              "    </tr>\n",
              "    <tr>\n",
              "      <th>2</th>\n",
              "      <td>{'max_depth': 2, 'min_samples_split': 2}</td>\n",
              "      <td>0.958333</td>\n",
              "      <td>3</td>\n",
              "      <td>0.925</td>\n",
              "      <td>1.0</td>\n",
              "      <td>0.95</td>\n",
              "    </tr>\n",
              "    <tr>\n",
              "      <th>3</th>\n",
              "      <td>{'max_depth': 2, 'min_samples_split': 3}</td>\n",
              "      <td>0.958333</td>\n",
              "      <td>3</td>\n",
              "      <td>0.925</td>\n",
              "      <td>1.0</td>\n",
              "      <td>0.95</td>\n",
              "    </tr>\n",
              "    <tr>\n",
              "      <th>4</th>\n",
              "      <td>{'max_depth': 3, 'min_samples_split': 2}</td>\n",
              "      <td>0.975000</td>\n",
              "      <td>1</td>\n",
              "      <td>0.975</td>\n",
              "      <td>1.0</td>\n",
              "      <td>0.95</td>\n",
              "    </tr>\n",
              "    <tr>\n",
              "      <th>5</th>\n",
              "      <td>{'max_depth': 3, 'min_samples_split': 3}</td>\n",
              "      <td>0.975000</td>\n",
              "      <td>1</td>\n",
              "      <td>0.975</td>\n",
              "      <td>1.0</td>\n",
              "      <td>0.95</td>\n",
              "    </tr>\n",
              "  </tbody>\n",
              "</table>\n",
              "</div>\n",
              "      <button class=\"colab-df-convert\" onclick=\"convertToInteractive('df-0f67d23e-3624-4b41-83c2-953260366851')\"\n",
              "              title=\"Convert this dataframe to an interactive table.\"\n",
              "              style=\"display:none;\">\n",
              "        \n",
              "  <svg xmlns=\"http://www.w3.org/2000/svg\" height=\"24px\"viewBox=\"0 0 24 24\"\n",
              "       width=\"24px\">\n",
              "    <path d=\"M0 0h24v24H0V0z\" fill=\"none\"/>\n",
              "    <path d=\"M18.56 5.44l.94 2.06.94-2.06 2.06-.94-2.06-.94-.94-2.06-.94 2.06-2.06.94zm-11 1L8.5 8.5l.94-2.06 2.06-.94-2.06-.94L8.5 2.5l-.94 2.06-2.06.94zm10 10l.94 2.06.94-2.06 2.06-.94-2.06-.94-.94-2.06-.94 2.06-2.06.94z\"/><path d=\"M17.41 7.96l-1.37-1.37c-.4-.4-.92-.59-1.43-.59-.52 0-1.04.2-1.43.59L10.3 9.45l-7.72 7.72c-.78.78-.78 2.05 0 2.83L4 21.41c.39.39.9.59 1.41.59.51 0 1.02-.2 1.41-.59l7.78-7.78 2.81-2.81c.8-.78.8-2.07 0-2.86zM5.41 20L4 18.59l7.72-7.72 1.47 1.35L5.41 20z\"/>\n",
              "  </svg>\n",
              "      </button>\n",
              "      \n",
              "  <style>\n",
              "    .colab-df-container {\n",
              "      display:flex;\n",
              "      flex-wrap:wrap;\n",
              "      gap: 12px;\n",
              "    }\n",
              "\n",
              "    .colab-df-convert {\n",
              "      background-color: #E8F0FE;\n",
              "      border: none;\n",
              "      border-radius: 50%;\n",
              "      cursor: pointer;\n",
              "      display: none;\n",
              "      fill: #1967D2;\n",
              "      height: 32px;\n",
              "      padding: 0 0 0 0;\n",
              "      width: 32px;\n",
              "    }\n",
              "\n",
              "    .colab-df-convert:hover {\n",
              "      background-color: #E2EBFA;\n",
              "      box-shadow: 0px 1px 2px rgba(60, 64, 67, 0.3), 0px 1px 3px 1px rgba(60, 64, 67, 0.15);\n",
              "      fill: #174EA6;\n",
              "    }\n",
              "\n",
              "    [theme=dark] .colab-df-convert {\n",
              "      background-color: #3B4455;\n",
              "      fill: #D2E3FC;\n",
              "    }\n",
              "\n",
              "    [theme=dark] .colab-df-convert:hover {\n",
              "      background-color: #434B5C;\n",
              "      box-shadow: 0px 1px 3px 1px rgba(0, 0, 0, 0.15);\n",
              "      filter: drop-shadow(0px 1px 2px rgba(0, 0, 0, 0.3));\n",
              "      fill: #FFFFFF;\n",
              "    }\n",
              "  </style>\n",
              "\n",
              "      <script>\n",
              "        const buttonEl =\n",
              "          document.querySelector('#df-0f67d23e-3624-4b41-83c2-953260366851 button.colab-df-convert');\n",
              "        buttonEl.style.display =\n",
              "          google.colab.kernel.accessAllowed ? 'block' : 'none';\n",
              "\n",
              "        async function convertToInteractive(key) {\n",
              "          const element = document.querySelector('#df-0f67d23e-3624-4b41-83c2-953260366851');\n",
              "          const dataTable =\n",
              "            await google.colab.kernel.invokeFunction('convertToInteractive',\n",
              "                                                     [key], {});\n",
              "          if (!dataTable) return;\n",
              "\n",
              "          const docLinkHtml = 'Like what you see? Visit the ' +\n",
              "            '<a target=\"_blank\" href=https://colab.research.google.com/notebooks/data_table.ipynb>data table notebook</a>'\n",
              "            + ' to learn more about interactive tables.';\n",
              "          element.innerHTML = '';\n",
              "          dataTable['output_type'] = 'display_data';\n",
              "          await google.colab.output.renderOutput(dataTable, element);\n",
              "          const docLink = document.createElement('div');\n",
              "          docLink.innerHTML = docLinkHtml;\n",
              "          element.appendChild(docLink);\n",
              "        }\n",
              "      </script>\n",
              "    </div>\n",
              "  </div>\n",
              "  "
            ]
          },
          "metadata": {},
          "execution_count": 21
        }
      ]
    },
    {
      "cell_type": "code",
      "source": [
        "# 최적의 하이퍼 파라미터 조합과 그때의 정확도\n",
        "print(\"GridSearchCV 최적 파라미터:\", grid_dtree.best_params_)\n",
        "print(\"GridSearchCV 최고 정확도: {0:.4f}\".format(grid_dtree.best_score_))"
      ],
      "metadata": {
        "colab": {
          "base_uri": "https://localhost:8080/"
        },
        "id": "G0awbsSk52MN",
        "outputId": "8e8a3ec2-001f-4277-9779-ed83e92ee8af"
      },
      "execution_count": 22,
      "outputs": [
        {
          "output_type": "stream",
          "name": "stdout",
          "text": [
            "GridSearchCV 최적 파라미터: {'max_depth': 3, 'min_samples_split': 2}\n",
            "GridSearchCV 최고 정확도: 0.9750\n"
          ]
        }
      ]
    },
    {
      "cell_type": "code",
      "source": [
        "# GridSearchCV의 refit으로 이미 학습된 estimator 반환\n",
        "estimator = grid_dtree.best_estimator_\n",
        "\n",
        "# 이미 최적의 학습이 되었으므로 별도의 학습은 필요 없고 바로 예측이 가능\n",
        "pred = estimator.predict(X_test)\n",
        "print(\"테스트 데이터 세트 정확도: {0:.4f}\".format(accuracy_score(y_test, pred)))"
      ],
      "metadata": {
        "colab": {
          "base_uri": "https://localhost:8080/"
        },
        "id": "h5jnUpIo8EJc",
        "outputId": "a5a7ac52-0df3-44f5-9c86-216fee453ed6"
      },
      "execution_count": 23,
      "outputs": [
        {
          "output_type": "stream",
          "name": "stdout",
          "text": [
            "테스트 데이터 세트 정확도: 0.9667\n"
          ]
        }
      ]
    },
    {
      "cell_type": "markdown",
      "source": [
        "## [데이터 전처리]\n",
        "##### 결손값(NaN, Null)은 허용되지 않으므로 다른 고정된 값으로 변환해야 하는데 어떻게 처리할지는 경우에 따라 다르다.\n",
        "##### 피처 값 중에 Null 값이 얼마 되지 않는다면 피처의 평균값 등으로 간단히 대체할 수도 있고, 대부분이라면 오히려 해당 피처를 드롭하는 것이 더 좋다.\n",
        "##### 사이킷런의 머신러닝 알고리즘은 카테고리형 피처나 텍스트형 피처 같은 문자열 값을 입력 값으로 허용하지 않으므로 모든 문자형 값을 인코딩하여 숫자형으로 변환해야 한다."
      ],
      "metadata": {
        "id": "utoNj9ki9PfF"
      }
    },
    {
      "cell_type": "markdown",
      "source": [
        "### **1. 데이터 인코딩**\n",
        "머신러닝을 위한 대표적인 인코딩 방식은 레이블 인코딩과 원-핫 인코딩이 있다.\n",
        "#### **1-1. 레이블 인코딩(Label encoding)**\n",
        "* **카테고리 피처를 코드형 숫자 값으로 변환**하는 방식이다.\n",
        "* 예를 들어 상품 데이터의 구분이 TV, 냉장고, 전자레인지, 컴퓨터, 선풍기, 믹서 값으로 되어 있다면 TV:1, 냉장고:2, 전자레인지:3, 컴퓨터:4, 선풍기:5, 믹서:6 과 같은 숫자형 값으로 변환하는 것이다.\n",
        "* 사이킷런의 **sklearn.preprocessing** 으로부터 **LabelEncoder** 클래스를 임포트하여 사용한다.\n",
        "* LabelEncoder를 객체로 생성한 후, **fit()**과 **transform()**을 호출하여 레이블 인코딩을 수행한다.\n",
        "* 데이터의 문자열 값이 어떤 숫자 값으로 인코딩되었는지 확인하려면 LabelEncoder 객체의 **classes_** 속성값으로 확인한다.\n",
        "* **inverse_transform()**을 통해 인코딩된 값을 다시 디코딩할 수 있다.\n",
        "* 레이블 인코딩으로 일괄적인 숫자 값으로 변환되면 숫자 값의 크고 작음에 대한 특성으로 1보다 2가 더 큰 값이므로 가중치가 부여되거나 더 중요하게 인식하여 ML 알고리즘의 예측 성능을 떨어뜨릴 수 있다는 단점이 존재한다."
      ],
      "metadata": {
        "id": "wqhmkovF_pr9"
      }
    },
    {
      "cell_type": "code",
      "source": [
        "from sklearn.preprocessing import LabelEncoder\n",
        "\n",
        "items = ['TV','냉장고','전자레인지','컴퓨터','선풍기','선풍기','믹서','믹서']\n",
        "\n",
        "encoder = LabelEncoder() # LabelEncoder 객체 생성\n",
        "encoder.fit(items)\n",
        "labels = encoder.transform(items)\n",
        "print(\"인코딩 변환값:\", labels)\n",
        "print(\"인코딩 클래스:\", encoder.classes_)\n",
        "print(\"디코딩 원본값:\", encoder.inverse_transform([4,5,2,0,1,1,3,3]))"
      ],
      "metadata": {
        "colab": {
          "base_uri": "https://localhost:8080/"
        },
        "id": "QNqbY6Nb9H5I",
        "outputId": "19c959f7-47cf-4f6a-84ab-83d0db2d2534"
      },
      "execution_count": 24,
      "outputs": [
        {
          "output_type": "stream",
          "name": "stdout",
          "text": [
            "인코딩 변환값: [0 1 4 5 3 3 2 2]\n",
            "인코딩 클래스: ['TV' '냉장고' '믹서' '선풍기' '전자레인지' '컴퓨터']\n",
            "디코딩 원본값: ['전자레인지' '컴퓨터' '믹서' 'TV' '냉장고' '냉장고' '선풍기' '선풍기']\n"
          ]
        }
      ]
    },
    {
      "cell_type": "markdown",
      "source": [
        "### **1. 데이터 인코딩**\n",
        "머신러닝을 위한 대표적인 인코딩 방식은 레이블 인코딩과 원-핫 인코딩이 있다.\n",
        "#### **1-2. 원-핫 인코딩(One-Hot encoding)**\n",
        "* 원-핫 인코딩은 피처 값의 유형에 따라 새로운 피처를 추가하여 **고유값에 해당하는 칼럼에만 1을 표시**하고 나머지 칼럼에는 0을 표시하는 방식이다.\n",
        "* **행의 형태**로 되어있는 피처의 고유값을 **열의 형태로 차원을 변환**한 뒤에, 고유값에 해당하는 칼럼에만 1을 표시하고 나머지 칼럼에는 0을 표시한다.\n",
        "* 사이킷런의 **sklearn.preprocessing** 으로부터 **OneHotEncoder** 클래스를 임포트하여 사용한다.\n",
        "* OneHotEncoder로 변환하기 전에 **모든 문자열 값이 숫자형 값으로 변환**되어야 하며, **입력 값으로 2차원 데이터**가 필요하다.\n",
        "* 판다스의 **get_dummies()**를 이용하면 문자열 카테고리 값을 숫자형으로 변환할 필요 없이 간단하게 바로 원-핫 인코딩을 할 수 있다."
      ],
      "metadata": {
        "id": "tUrHF3QjCyn-"
      }
    },
    {
      "cell_type": "code",
      "source": [
        "# 원-핫 인코딩 전에 모든 문자열 값을 숫자형 값으로 변환\n",
        "encoder = LabelEncoder() # LabelEncoder 객체 생성\n",
        "encoder.fit(items)\n",
        "labels = encoder.transform(items)\n",
        "print(\"인코딩 변환값:\", labels)\n",
        "\n",
        "# 2차원 데이터로 변환\n",
        "labels = labels.reshape(-1, 1) # 1열로 만들며 -1을 입력한 행의 개수는 주어진 데이터에 의해 자동으로 결정됨\n",
        "\n",
        "from sklearn.preprocessing import OneHotEncoder\n",
        "oh_encoder = OneHotEncoder()\n",
        "oh_encoder.fit(labels)\n",
        "oh_labels = oh_encoder.transform(labels)\n",
        "\n",
        "print(\"원-핫 인코딩 데이터\")\n",
        "print(oh_labels.toarray())\n",
        "print(\"원-핫 인코딩 데이터 차원\")\n",
        "print(oh_labels.shape)"
      ],
      "metadata": {
        "colab": {
          "base_uri": "https://localhost:8080/"
        },
        "id": "h1dAOhHKCDyv",
        "outputId": "1ae9949f-d4f0-47a8-ddd8-313384b8ea0b"
      },
      "execution_count": 25,
      "outputs": [
        {
          "output_type": "stream",
          "name": "stdout",
          "text": [
            "인코딩 변환값: [0 1 4 5 3 3 2 2]\n",
            "원-핫 인코딩 데이터\n",
            "[[1. 0. 0. 0. 0. 0.]\n",
            " [0. 1. 0. 0. 0. 0.]\n",
            " [0. 0. 0. 0. 1. 0.]\n",
            " [0. 0. 0. 0. 0. 1.]\n",
            " [0. 0. 0. 1. 0. 0.]\n",
            " [0. 0. 0. 1. 0. 0.]\n",
            " [0. 0. 1. 0. 0. 0.]\n",
            " [0. 0. 1. 0. 0. 0.]]\n",
            "원-핫 인코딩 데이터 차원\n",
            "(8, 6)\n"
          ]
        }
      ]
    },
    {
      "cell_type": "code",
      "source": [
        "import pandas as pd\n",
        "df = pd.DataFrame({'item':['TV','냉장고','전자레인지','컴퓨터','선풍기','선풍기','믹서','믹서']})\n",
        "pd.get_dummies(df)"
      ],
      "metadata": {
        "colab": {
          "base_uri": "https://localhost:8080/",
          "height": 300
        },
        "id": "Vhoqp9knEbBr",
        "outputId": "7abc7858-f895-4e3c-ad2f-68babf2acc76"
      },
      "execution_count": 26,
      "outputs": [
        {
          "output_type": "execute_result",
          "data": {
            "text/plain": [
              "   item_TV  item_냉장고  item_믹서  item_선풍기  item_전자레인지  item_컴퓨터\n",
              "0        1         0        0         0           0         0\n",
              "1        0         1        0         0           0         0\n",
              "2        0         0        0         0           1         0\n",
              "3        0         0        0         0           0         1\n",
              "4        0         0        0         1           0         0\n",
              "5        0         0        0         1           0         0\n",
              "6        0         0        1         0           0         0\n",
              "7        0         0        1         0           0         0"
            ],
            "text/html": [
              "\n",
              "  <div id=\"df-a40d4351-25c1-465e-b3d8-2bcf6a4cc9e2\">\n",
              "    <div class=\"colab-df-container\">\n",
              "      <div>\n",
              "<style scoped>\n",
              "    .dataframe tbody tr th:only-of-type {\n",
              "        vertical-align: middle;\n",
              "    }\n",
              "\n",
              "    .dataframe tbody tr th {\n",
              "        vertical-align: top;\n",
              "    }\n",
              "\n",
              "    .dataframe thead th {\n",
              "        text-align: right;\n",
              "    }\n",
              "</style>\n",
              "<table border=\"1\" class=\"dataframe\">\n",
              "  <thead>\n",
              "    <tr style=\"text-align: right;\">\n",
              "      <th></th>\n",
              "      <th>item_TV</th>\n",
              "      <th>item_냉장고</th>\n",
              "      <th>item_믹서</th>\n",
              "      <th>item_선풍기</th>\n",
              "      <th>item_전자레인지</th>\n",
              "      <th>item_컴퓨터</th>\n",
              "    </tr>\n",
              "  </thead>\n",
              "  <tbody>\n",
              "    <tr>\n",
              "      <th>0</th>\n",
              "      <td>1</td>\n",
              "      <td>0</td>\n",
              "      <td>0</td>\n",
              "      <td>0</td>\n",
              "      <td>0</td>\n",
              "      <td>0</td>\n",
              "    </tr>\n",
              "    <tr>\n",
              "      <th>1</th>\n",
              "      <td>0</td>\n",
              "      <td>1</td>\n",
              "      <td>0</td>\n",
              "      <td>0</td>\n",
              "      <td>0</td>\n",
              "      <td>0</td>\n",
              "    </tr>\n",
              "    <tr>\n",
              "      <th>2</th>\n",
              "      <td>0</td>\n",
              "      <td>0</td>\n",
              "      <td>0</td>\n",
              "      <td>0</td>\n",
              "      <td>1</td>\n",
              "      <td>0</td>\n",
              "    </tr>\n",
              "    <tr>\n",
              "      <th>3</th>\n",
              "      <td>0</td>\n",
              "      <td>0</td>\n",
              "      <td>0</td>\n",
              "      <td>0</td>\n",
              "      <td>0</td>\n",
              "      <td>1</td>\n",
              "    </tr>\n",
              "    <tr>\n",
              "      <th>4</th>\n",
              "      <td>0</td>\n",
              "      <td>0</td>\n",
              "      <td>0</td>\n",
              "      <td>1</td>\n",
              "      <td>0</td>\n",
              "      <td>0</td>\n",
              "    </tr>\n",
              "    <tr>\n",
              "      <th>5</th>\n",
              "      <td>0</td>\n",
              "      <td>0</td>\n",
              "      <td>0</td>\n",
              "      <td>1</td>\n",
              "      <td>0</td>\n",
              "      <td>0</td>\n",
              "    </tr>\n",
              "    <tr>\n",
              "      <th>6</th>\n",
              "      <td>0</td>\n",
              "      <td>0</td>\n",
              "      <td>1</td>\n",
              "      <td>0</td>\n",
              "      <td>0</td>\n",
              "      <td>0</td>\n",
              "    </tr>\n",
              "    <tr>\n",
              "      <th>7</th>\n",
              "      <td>0</td>\n",
              "      <td>0</td>\n",
              "      <td>1</td>\n",
              "      <td>0</td>\n",
              "      <td>0</td>\n",
              "      <td>0</td>\n",
              "    </tr>\n",
              "  </tbody>\n",
              "</table>\n",
              "</div>\n",
              "      <button class=\"colab-df-convert\" onclick=\"convertToInteractive('df-a40d4351-25c1-465e-b3d8-2bcf6a4cc9e2')\"\n",
              "              title=\"Convert this dataframe to an interactive table.\"\n",
              "              style=\"display:none;\">\n",
              "        \n",
              "  <svg xmlns=\"http://www.w3.org/2000/svg\" height=\"24px\"viewBox=\"0 0 24 24\"\n",
              "       width=\"24px\">\n",
              "    <path d=\"M0 0h24v24H0V0z\" fill=\"none\"/>\n",
              "    <path d=\"M18.56 5.44l.94 2.06.94-2.06 2.06-.94-2.06-.94-.94-2.06-.94 2.06-2.06.94zm-11 1L8.5 8.5l.94-2.06 2.06-.94-2.06-.94L8.5 2.5l-.94 2.06-2.06.94zm10 10l.94 2.06.94-2.06 2.06-.94-2.06-.94-.94-2.06-.94 2.06-2.06.94z\"/><path d=\"M17.41 7.96l-1.37-1.37c-.4-.4-.92-.59-1.43-.59-.52 0-1.04.2-1.43.59L10.3 9.45l-7.72 7.72c-.78.78-.78 2.05 0 2.83L4 21.41c.39.39.9.59 1.41.59.51 0 1.02-.2 1.41-.59l7.78-7.78 2.81-2.81c.8-.78.8-2.07 0-2.86zM5.41 20L4 18.59l7.72-7.72 1.47 1.35L5.41 20z\"/>\n",
              "  </svg>\n",
              "      </button>\n",
              "      \n",
              "  <style>\n",
              "    .colab-df-container {\n",
              "      display:flex;\n",
              "      flex-wrap:wrap;\n",
              "      gap: 12px;\n",
              "    }\n",
              "\n",
              "    .colab-df-convert {\n",
              "      background-color: #E8F0FE;\n",
              "      border: none;\n",
              "      border-radius: 50%;\n",
              "      cursor: pointer;\n",
              "      display: none;\n",
              "      fill: #1967D2;\n",
              "      height: 32px;\n",
              "      padding: 0 0 0 0;\n",
              "      width: 32px;\n",
              "    }\n",
              "\n",
              "    .colab-df-convert:hover {\n",
              "      background-color: #E2EBFA;\n",
              "      box-shadow: 0px 1px 2px rgba(60, 64, 67, 0.3), 0px 1px 3px 1px rgba(60, 64, 67, 0.15);\n",
              "      fill: #174EA6;\n",
              "    }\n",
              "\n",
              "    [theme=dark] .colab-df-convert {\n",
              "      background-color: #3B4455;\n",
              "      fill: #D2E3FC;\n",
              "    }\n",
              "\n",
              "    [theme=dark] .colab-df-convert:hover {\n",
              "      background-color: #434B5C;\n",
              "      box-shadow: 0px 1px 3px 1px rgba(0, 0, 0, 0.15);\n",
              "      filter: drop-shadow(0px 1px 2px rgba(0, 0, 0, 0.3));\n",
              "      fill: #FFFFFF;\n",
              "    }\n",
              "  </style>\n",
              "\n",
              "      <script>\n",
              "        const buttonEl =\n",
              "          document.querySelector('#df-a40d4351-25c1-465e-b3d8-2bcf6a4cc9e2 button.colab-df-convert');\n",
              "        buttonEl.style.display =\n",
              "          google.colab.kernel.accessAllowed ? 'block' : 'none';\n",
              "\n",
              "        async function convertToInteractive(key) {\n",
              "          const element = document.querySelector('#df-a40d4351-25c1-465e-b3d8-2bcf6a4cc9e2');\n",
              "          const dataTable =\n",
              "            await google.colab.kernel.invokeFunction('convertToInteractive',\n",
              "                                                     [key], {});\n",
              "          if (!dataTable) return;\n",
              "\n",
              "          const docLinkHtml = 'Like what you see? Visit the ' +\n",
              "            '<a target=\"_blank\" href=https://colab.research.google.com/notebooks/data_table.ipynb>data table notebook</a>'\n",
              "            + ' to learn more about interactive tables.';\n",
              "          element.innerHTML = '';\n",
              "          dataTable['output_type'] = 'display_data';\n",
              "          await google.colab.output.renderOutput(dataTable, element);\n",
              "          const docLink = document.createElement('div');\n",
              "          docLink.innerHTML = docLinkHtml;\n",
              "          element.appendChild(docLink);\n",
              "        }\n",
              "      </script>\n",
              "    </div>\n",
              "  </div>\n",
              "  "
            ]
          },
          "metadata": {},
          "execution_count": 26
        }
      ]
    },
    {
      "cell_type": "markdown",
      "source": [
        "### **2. 피처 스케일링**\n",
        "서로 다른 변수의 값 범위를 일정한 수준으로 맞추는 작업을 피처 스케일링이라고 하며 대표적인 방법으로 표준화와 정규화가 있다.\n",
        "\n",
        "#### **2-1. 표준화(Standardization)**\n",
        "* 표준화는 데이터의 **피처 각각이 평균이 0이고 분산이 1인 가우시안 정규 분포를 가진 값으로 변환**하는 것이다.\n",
        "* 변환하는 값은 원래 값에서 해당 피처의 평균을 뺀 값을 피처의 표준편차로 나누어 계산한다.\n",
        "* 서포트벡터머신이나 선형 회귀, 로지스틱 회귀는 데이터가 가우시안 분포를 가지고 있다고 가정하고 구현되었으므로 표준화를 적용하여 예측 성능을 향상시킬 수 있다.\n",
        "* **sklearn.preprocessing** 으로부터 **StandardScaler**를 임포트하여 사용한다."
      ],
      "metadata": {
        "id": "b3Y_tqPqFfBs"
      }
    },
    {
      "cell_type": "code",
      "source": [
        "iris = load_iris()\n",
        "iris_data = iris.data\n",
        "iris_df = pd.DataFrame(iris_data, columns=iris.feature_names)\n",
        "\n",
        "print(\"feature 들의 평균 값\")\n",
        "print(iris_df.mean())\n",
        "print(\"\\nfeature 들의 분산 값\")\n",
        "print(iris_df.var())"
      ],
      "metadata": {
        "colab": {
          "base_uri": "https://localhost:8080/"
        },
        "id": "emUF8OlGJmuC",
        "outputId": "11f58727-e779-4467-b0de-115342f12168"
      },
      "execution_count": 27,
      "outputs": [
        {
          "output_type": "stream",
          "name": "stdout",
          "text": [
            "feature 들의 평균 값\n",
            "sepal length (cm)    5.843333\n",
            "sepal width (cm)     3.057333\n",
            "petal length (cm)    3.758000\n",
            "petal width (cm)     1.199333\n",
            "dtype: float64\n",
            "\n",
            "feature 들의 분산 값\n",
            "sepal length (cm)    0.685694\n",
            "sepal width (cm)     0.189979\n",
            "petal length (cm)    3.116278\n",
            "petal width (cm)     0.581006\n",
            "dtype: float64\n"
          ]
        }
      ]
    },
    {
      "cell_type": "code",
      "source": [
        "from sklearn.preprocessing import StandardScaler\n",
        "\n",
        "scaler = StandardScaler() # 객체를 생성\n",
        "\n",
        "# StandardScaler로 데이터 세트를 변환\n",
        "scaler.fit(iris_df)\n",
        "iris_scaled = scaler.transform(iris_df) # 변환된 데이터 세트는 numpy ndarray로 반환됨\n",
        "\n",
        "# ndarray로 반환된 데이터 세트를 DataFrame으로 변환\n",
        "iris_df_scaled = pd.DataFrame(iris_scaled, columns=iris.feature_names)\n",
        "\n",
        "print(\"feature 들의 평균 값\")\n",
        "print(iris_df_scaled.mean())\n",
        "print(\"\\nfeature 들의 분산 값\")\n",
        "print(iris_df_scaled.var())"
      ],
      "metadata": {
        "colab": {
          "base_uri": "https://localhost:8080/"
        },
        "id": "LMdknAPGLObM",
        "outputId": "292cab12-9a8d-48cb-df79-93c2d2473fb4"
      },
      "execution_count": 28,
      "outputs": [
        {
          "output_type": "stream",
          "name": "stdout",
          "text": [
            "feature 들의 평균 값\n",
            "sepal length (cm)   -1.690315e-15\n",
            "sepal width (cm)    -1.842970e-15\n",
            "petal length (cm)   -1.698641e-15\n",
            "petal width (cm)    -1.409243e-15\n",
            "dtype: float64\n",
            "\n",
            "feature 들의 분산 값\n",
            "sepal length (cm)    1.006711\n",
            "sepal width (cm)     1.006711\n",
            "petal length (cm)    1.006711\n",
            "petal width (cm)     1.006711\n",
            "dtype: float64\n"
          ]
        }
      ]
    },
    {
      "cell_type": "markdown",
      "source": [
        "### **2. 피처 스케일링**\n",
        "서로 다른 변수의 값 범위를 일정한 수준으로 맞추는 작업을 피처 스케일링이라고 하며 대표적인 방법으로 표준화와 정규화가 있다.\n",
        "\n",
        "#### **2-2. 정규화(Normalization)**\n",
        "* 정규화는 서로 다른 피처의 **크기를 통일**하기 위해 크기를 변환하는 것이다.\n",
        "* 개별 데이터의 크기를 모두 똑같은 단위로 변경하여 데이터 값을 **최소 0에서 최대 1의 값으로 변환**한다.\n",
        "* 음수 값이 있으면 -1에서 1 사이의 값으로 변환한다.\n",
        "* 변환하는 값은 원래 값에서 피처의 최솟값을 뺀 값을 피처의 최댓값과 최솟값의 차이로 나눈 값으로 계산한다.\n",
        "* 사이킷런에서의 정규와 모듈은 일반적인 정규화와 약간 차이가 있으나 위의 개념으로 통칭하여 사용하기로 한다.\n",
        "* **sklearn.preprocessing** 으로부터 **MinMaxScaler**를 임포트하여 사용한다."
      ],
      "metadata": {
        "id": "3_5w0Wt9Jl8M"
      }
    },
    {
      "cell_type": "code",
      "source": [
        "from sklearn.preprocessing import MinMaxScaler\n",
        "\n",
        "scaler = MinMaxScaler() # 객체를 생성\n",
        "\n",
        "# MinMaxScaler로 데이터 세트를 변환\n",
        "scaler.fit(iris_df)\n",
        "iris_scaled = scaler.transform(iris_df) # 변환된 데이터 세트는 numpy ndarray로 반환됨\n",
        "\n",
        "# ndarray로 반환된 데이터 세트를 DataFrame으로 변환\n",
        "iris_df_scaled = pd.DataFrame(iris_scaled, columns=iris.feature_names)\n",
        "\n",
        "print(\"feature 들의 최솟값\")\n",
        "print(iris_df_scaled.min())\n",
        "print(\"\\nfeature 들의 최댓값\")\n",
        "print(iris_df_scaled.max())"
      ],
      "metadata": {
        "colab": {
          "base_uri": "https://localhost:8080/"
        },
        "id": "zkqScXbKK1bj",
        "outputId": "a3552a97-b0d7-4068-f7bb-6e15d7be0325"
      },
      "execution_count": 29,
      "outputs": [
        {
          "output_type": "stream",
          "name": "stdout",
          "text": [
            "feature 들의 최솟값\n",
            "sepal length (cm)    0.0\n",
            "sepal width (cm)     0.0\n",
            "petal length (cm)    0.0\n",
            "petal width (cm)     0.0\n",
            "dtype: float64\n",
            "\n",
            "feature 들의 최댓값\n",
            "sepal length (cm)    1.0\n",
            "sepal width (cm)     1.0\n",
            "petal length (cm)    1.0\n",
            "petal width (cm)     1.0\n",
            "dtype: float64\n"
          ]
        }
      ]
    },
    {
      "cell_type": "markdown",
      "source": [
        "### **3. 학습 데이터와 테스트 데이터의 스케일링 변환 시 유의점**\n",
        "##### StandardScaler나 MinMaxScaler와 같은 Scaler 객체를 이용하여 데이터의 스케일링 변환 시에는 fit(), transform(), fit_transform() 메소드를 이용한다.\n",
        "\n",
        "* **fit()** : 데이터 변환을 위한 기준 정보인 데이터 세트의 최댓값/최솟값 설정 등을 적용한다.\n",
        "\n",
        "* **transform()** : fit()으로 설정된 정보를 이용하여 데이터를 변환한다.\n",
        "\n",
        "* **fit_transform()** : fit()과 transform()을 한번에 적용하는 기능을 수행한다.\n",
        "\n",
        "\n",
        "##### Scaler 객체를 이용하여 학습 데이터 세트로 fit()과 transform()을 적용하면 테스트 데이터 세트로는 다시 fit()을 수행하지 않고, **학습 데이터 세트로 fit()을 수행한 결과를 이용하여 transform() 변환을 적용**해야 한다.\n",
        "\n",
        "##### 즉 **학습 데이터로 fit()이 적용된 스케일링 기준 정보를 그대로 테스트 데이터에 적용**해야 하며, 그렇지 않으면 학습 데이터와 테스트 데이터의 스케일링 기준 정보가 서로 달라지게 되어 올바른 예측 결과를 도출하지 못 할 수 있다.\n",
        "\n",
        "##### 다음 코드를 통해서 테스트 데이터에 fit()을 적용할 때 발생하는 문제점을 확인할 수 있다.\n"
      ],
      "metadata": {
        "id": "Fu-9KAf0NSvY"
      }
    },
    {
      "cell_type": "code",
      "source": [
        "# 학습 데이터는 0부터 10까지, 테스트 데이터는 0부터 5까지 값을 가지는 데이터 세트로 생성\n",
        "# Scaler의 fit(), transform()은 2차원 이상의 데이터만 가능하므로 차원을 변경\n",
        "train_array = np.arange(0, 11).reshape(-1,1)\n",
        "test_array = np.arange(0, 6).reshape(-1,1)\n",
        "\n",
        "scaler = MinMaxScaler() # 데이터 값을 0부터 1 사이로 변환하는 객체를 생성\n",
        "\n",
        "# fit() 하게 되면 train_array 데이터의 최솟값이 0, 최댓값이 10으로 설정됨\n",
        "scaler.fit(train_array)\n",
        "\n",
        "# 1/10 scale로 train_array 데이터를 변환하여 원본 10 -> 1로 변환됨\n",
        "train_scaled = scaler.transform(train_array)\n",
        "\n",
        "print(\"원본 train_array 데이터:\", np.round(train_array.reshape(-1),2))\n",
        "print(\"Scale된 train_array 데이터:\", np.round(train_scaled.reshape(-1),2))"
      ],
      "metadata": {
        "colab": {
          "base_uri": "https://localhost:8080/"
        },
        "id": "KIMTicnkNQvp",
        "outputId": "834399ef-0495-4fbb-adb8-d04bdf621838"
      },
      "execution_count": 30,
      "outputs": [
        {
          "output_type": "stream",
          "name": "stdout",
          "text": [
            "원본 train_array 데이터: [ 0  1  2  3  4  5  6  7  8  9 10]\n",
            "Scale된 train_array 데이터: [0.  0.1 0.2 0.3 0.4 0.5 0.6 0.7 0.8 0.9 1. ]\n"
          ]
        }
      ]
    },
    {
      "cell_type": "code",
      "source": [
        "# fit() 하게 되면 train_array 데이터의 최솟값이 0, 최댓값이 5으로 설정됨\n",
        "scaler.fit(test_array)\n",
        "\n",
        "# 1/5 scale로 test_array 데이터를 변환하여 원본 5 -> 1로 변환됨\n",
        "test_scaled = scaler.transform(test_array)\n",
        "\n",
        "print(\"원본 test_array 데이터:\", np.round(test_array.reshape(-1),2))\n",
        "print(\"Scale된 test_array 데이터:\", np.round(test_scaled.reshape(-1),2))"
      ],
      "metadata": {
        "colab": {
          "base_uri": "https://localhost:8080/"
        },
        "id": "y39F93ZLRYCI",
        "outputId": "83cbc55d-e9c2-4bb6-8c31-6828afa514f4"
      },
      "execution_count": 31,
      "outputs": [
        {
          "output_type": "stream",
          "name": "stdout",
          "text": [
            "원본 test_array 데이터: [0 1 2 3 4 5]\n",
            "Scale된 test_array 데이터: [0.  0.2 0.4 0.6 0.8 1. ]\n"
          ]
        }
      ]
    },
    {
      "cell_type": "markdown",
      "source": [
        "##### 학습 데이터는 스케일링 변환으로 원본값 1이 0.1로 변환되고 원본값 10이 1로 변환되었지만 테스트 데이터는 스케일링 변환으로 원본값 1이 0.2로 변환되고 원본값 5가 1로 변환되었다.\n",
        "\n",
        "##### 머신러닝 모델은 학습 데이터를 기반으로 학습되기 때문에 반드시 테스트 데이터는 학습 데이터의 스케일링 기준을 따라야 한다. 즉 테스트 데이터의 1은 학습 데이터와 동일하게 0.1로 변환되어야 한다.\n",
        "\n",
        "##### 따라서 **테스트 데이터에 다시 fit()을 적용해서는 안되고 학습 데이터로 이미 fit()이 적용된 Scaler 객체를 이용하여 transform()으로 변환**해야 한다.\n",
        "\n",
        "##### 다음 코드를 통해서 테스트 데이터에 fit()을 호출하지 않고 학습 데이터로 fit()을 수행한 MinMaxScaler 객체의 transform()을 이용하여 데이터를 변환하면 학습 데이터와 테스트 데이터 모두 1/10 수준으로 동일하게 변환된 결과를 확인할 수 있다."
      ],
      "metadata": {
        "id": "FPpOfKLDSNZW"
      }
    },
    {
      "cell_type": "code",
      "source": [
        "scaler = MinMaxScaler()\n",
        "scaler.fit(train_array)\n",
        "train_scaled = scaler.transform(train_array)\n",
        "print(\"원본 train_array 데이터:\", np.round(train_array.reshape(-1),2))\n",
        "print(\"Scale된 train_array 데이터:\", np.round(train_scaled.reshape(-1),2))\n",
        "\n",
        "# test_array에 Scale 변환을 할 때는 반드시 fit()을 호출하지 않고 바로 transform()만으로 변환해야 함\n",
        "test_scaled = scaler.transform(test_array)\n",
        "print(\"\\n원본 test_array 데이터:\", np.round(test_array.reshape(-1),2))\n",
        "print(\"Scale된 test_array 데이터:\", np.round(test_scaled.reshape(-1),2))"
      ],
      "metadata": {
        "colab": {
          "base_uri": "https://localhost:8080/"
        },
        "id": "gWHHcxUQTRtd",
        "outputId": "c2ed712c-9c20-4039-9d80-18f4d938b0e0"
      },
      "execution_count": 32,
      "outputs": [
        {
          "output_type": "stream",
          "name": "stdout",
          "text": [
            "원본 train_array 데이터: [ 0  1  2  3  4  5  6  7  8  9 10]\n",
            "Scale된 train_array 데이터: [0.  0.1 0.2 0.3 0.4 0.5 0.6 0.7 0.8 0.9 1. ]\n",
            "\n",
            "원본 test_array 데이터: [0 1 2 3 4 5]\n",
            "Scale된 test_array 데이터: [0.  0.1 0.2 0.3 0.4 0.5]\n"
          ]
        }
      ]
    }
  ]
}