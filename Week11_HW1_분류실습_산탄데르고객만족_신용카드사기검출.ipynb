{
  "nbformat": 4,
  "nbformat_minor": 0,
  "metadata": {
    "colab": {
      "name": "Week11 HW1 분류실습_산탄데르고객만족_신용카드사기검출",
      "provenance": [],
      "collapsed_sections": [],
      "mount_file_id": "1col74RQjHifMF81p4Nk4KiNJsC-YCbJc",
      "authorship_tag": "ABX9TyMUUE4U2RNYpByVBc61nQmD",
      "include_colab_link": true
    },
    "kernelspec": {
      "name": "python3",
      "display_name": "Python 3"
    },
    "language_info": {
      "name": "python"
    }
  },
  "cells": [
    {
      "cell_type": "markdown",
      "metadata": {
        "id": "view-in-github",
        "colab_type": "text"
      },
      "source": [
        "<a href=\"https://colab.research.google.com/github/hida0/ESAA/blob/HW/Week11_HW1_%EB%B6%84%EB%A5%98%EC%8B%A4%EC%8A%B5_%EC%82%B0%ED%83%84%EB%8D%B0%EB%A5%B4%EA%B3%A0%EA%B0%9D%EB%A7%8C%EC%A1%B1_%EC%8B%A0%EC%9A%A9%EC%B9%B4%EB%93%9C%EC%82%AC%EA%B8%B0%EA%B2%80%EC%B6%9C.ipynb\" target=\"_parent\"><img src=\"https://colab.research.google.com/assets/colab-badge.svg\" alt=\"Open In Colab\"/></a>"
      ]
    },
    {
      "cell_type": "markdown",
      "source": [
        "### 개념 정리 & 필사\n",
        "(파이썬 머신러닝 완벽 가이드 ch4. 8-9 pg. 252-277)\n",
        "### 분류 실습 - 캐글 산탄데르 고객 만족 예측\n",
        "- 캐글의 산탄데르 고객 만족 데이터 세트에 대해서 고객 만족 여부를 XGBoost와 LightGBM을 활용하여 예측한다.\n",
        "- 데이터는 존재하는 370개의 피처를 기반으로 고객 만족 여부를 예측하며, 예측 클래스 레이블 명은 TARGET으로 이 값이 1이면 불만을 가진 고객이고 0이면 만족한 고객이다.\n",
        "- 대부분이 만족이고 일부만 불만족인 데이터는 정확도 수치보다 ROC-AUC가 더 적합하므로 **모델의 성능 평가는 ROC-AUC로 평가**한다.\n"
      ],
      "metadata": {
        "id": "tyn7KwLtZoVS"
      }
    },
    {
      "cell_type": "markdown",
      "source": [
        "### 분류 실습 - 캐글 산탄데르 고객 만족 예측\n",
        "### 1. 데이터 전처리\n",
        "- 데이터는 371개의 칼럼을 가지고 있으며, 111개의 피처가 float형, 260개의 피처가 int형으로 모든 피처가 숫자형이고 Null 값은 없다.\n",
        "- 레이블인 TARGET 칼럼의 분포를 살펴보면 대부분이 만족이며 불만족은 4%로 얼마 되지 않는다.\n",
        "- var3 칼럼의 경우 min 값이 다른 값에 비해 편차가 심한 -999999이므로, 이 값을 가장 많은 값인 2로 변환한다.\n",
        "- ID 피처는 단순 식별자에 불과하므로 피처를 드롭한다.\n",
        "- 클래스 데이터 세트와 피처 데이터 세트를 분리하여 별도의 데이터 세트로 저장한다.\n"
      ],
      "metadata": {
        "id": "bmgS8rR12oUj"
      }
    },
    {
      "cell_type": "code",
      "source": [
        "import numpy as np\n",
        "import pandas as pd\n",
        "import matplotlib.pyplot as plt\n",
        "import matplotlib\n",
        "\n",
        "cust_df = pd.read_csv(\"/content/drive/MyDrive/ESAA/data/train_santander.csv\")\n",
        "print(\"dataset shape:\", cust_df.shape)"
      ],
      "metadata": {
        "id": "9HbT9ycBZodX",
        "colab": {
          "base_uri": "https://localhost:8080/"
        },
        "outputId": "87daab21-8ce2-4b54-ef60-cbd75147e665"
      },
      "execution_count": null,
      "outputs": [
        {
          "output_type": "stream",
          "name": "stdout",
          "text": [
            "dataset shape: (76020, 371)\n"
          ]
        }
      ]
    },
    {
      "cell_type": "code",
      "source": [
        "cust_df.head(3)"
      ],
      "metadata": {
        "colab": {
          "base_uri": "https://localhost:8080/",
          "height": 237
        },
        "id": "Akoypv5A4t_I",
        "outputId": "4470fc8a-466a-474f-af27-b3b89d457a4e"
      },
      "execution_count": null,
      "outputs": [
        {
          "output_type": "execute_result",
          "data": {
            "text/plain": [
              "   ID  var3  var15  imp_ent_var16_ult1  imp_op_var39_comer_ult1  \\\n",
              "0   1     2     23                 0.0                      0.0   \n",
              "1   3     2     34                 0.0                      0.0   \n",
              "2   4     2     23                 0.0                      0.0   \n",
              "\n",
              "   imp_op_var39_comer_ult3  imp_op_var40_comer_ult1  imp_op_var40_comer_ult3  \\\n",
              "0                      0.0                      0.0                      0.0   \n",
              "1                      0.0                      0.0                      0.0   \n",
              "2                      0.0                      0.0                      0.0   \n",
              "\n",
              "   imp_op_var40_efect_ult1  imp_op_var40_efect_ult3  ...  \\\n",
              "0                      0.0                      0.0  ...   \n",
              "1                      0.0                      0.0  ...   \n",
              "2                      0.0                      0.0  ...   \n",
              "\n",
              "   saldo_medio_var33_hace2  saldo_medio_var33_hace3  saldo_medio_var33_ult1  \\\n",
              "0                      0.0                      0.0                     0.0   \n",
              "1                      0.0                      0.0                     0.0   \n",
              "2                      0.0                      0.0                     0.0   \n",
              "\n",
              "   saldo_medio_var33_ult3  saldo_medio_var44_hace2  saldo_medio_var44_hace3  \\\n",
              "0                     0.0                      0.0                      0.0   \n",
              "1                     0.0                      0.0                      0.0   \n",
              "2                     0.0                      0.0                      0.0   \n",
              "\n",
              "   saldo_medio_var44_ult1  saldo_medio_var44_ult3     var38  TARGET  \n",
              "0                     0.0                     0.0  39205.17       0  \n",
              "1                     0.0                     0.0  49278.03       0  \n",
              "2                     0.0                     0.0  67333.77       0  \n",
              "\n",
              "[3 rows x 371 columns]"
            ],
            "text/html": [
              "\n",
              "  <div id=\"df-6c994fc3-ce42-4330-81a8-caf94680749d\">\n",
              "    <div class=\"colab-df-container\">\n",
              "      <div>\n",
              "<style scoped>\n",
              "    .dataframe tbody tr th:only-of-type {\n",
              "        vertical-align: middle;\n",
              "    }\n",
              "\n",
              "    .dataframe tbody tr th {\n",
              "        vertical-align: top;\n",
              "    }\n",
              "\n",
              "    .dataframe thead th {\n",
              "        text-align: right;\n",
              "    }\n",
              "</style>\n",
              "<table border=\"1\" class=\"dataframe\">\n",
              "  <thead>\n",
              "    <tr style=\"text-align: right;\">\n",
              "      <th></th>\n",
              "      <th>ID</th>\n",
              "      <th>var3</th>\n",
              "      <th>var15</th>\n",
              "      <th>imp_ent_var16_ult1</th>\n",
              "      <th>imp_op_var39_comer_ult1</th>\n",
              "      <th>imp_op_var39_comer_ult3</th>\n",
              "      <th>imp_op_var40_comer_ult1</th>\n",
              "      <th>imp_op_var40_comer_ult3</th>\n",
              "      <th>imp_op_var40_efect_ult1</th>\n",
              "      <th>imp_op_var40_efect_ult3</th>\n",
              "      <th>...</th>\n",
              "      <th>saldo_medio_var33_hace2</th>\n",
              "      <th>saldo_medio_var33_hace3</th>\n",
              "      <th>saldo_medio_var33_ult1</th>\n",
              "      <th>saldo_medio_var33_ult3</th>\n",
              "      <th>saldo_medio_var44_hace2</th>\n",
              "      <th>saldo_medio_var44_hace3</th>\n",
              "      <th>saldo_medio_var44_ult1</th>\n",
              "      <th>saldo_medio_var44_ult3</th>\n",
              "      <th>var38</th>\n",
              "      <th>TARGET</th>\n",
              "    </tr>\n",
              "  </thead>\n",
              "  <tbody>\n",
              "    <tr>\n",
              "      <th>0</th>\n",
              "      <td>1</td>\n",
              "      <td>2</td>\n",
              "      <td>23</td>\n",
              "      <td>0.0</td>\n",
              "      <td>0.0</td>\n",
              "      <td>0.0</td>\n",
              "      <td>0.0</td>\n",
              "      <td>0.0</td>\n",
              "      <td>0.0</td>\n",
              "      <td>0.0</td>\n",
              "      <td>...</td>\n",
              "      <td>0.0</td>\n",
              "      <td>0.0</td>\n",
              "      <td>0.0</td>\n",
              "      <td>0.0</td>\n",
              "      <td>0.0</td>\n",
              "      <td>0.0</td>\n",
              "      <td>0.0</td>\n",
              "      <td>0.0</td>\n",
              "      <td>39205.17</td>\n",
              "      <td>0</td>\n",
              "    </tr>\n",
              "    <tr>\n",
              "      <th>1</th>\n",
              "      <td>3</td>\n",
              "      <td>2</td>\n",
              "      <td>34</td>\n",
              "      <td>0.0</td>\n",
              "      <td>0.0</td>\n",
              "      <td>0.0</td>\n",
              "      <td>0.0</td>\n",
              "      <td>0.0</td>\n",
              "      <td>0.0</td>\n",
              "      <td>0.0</td>\n",
              "      <td>...</td>\n",
              "      <td>0.0</td>\n",
              "      <td>0.0</td>\n",
              "      <td>0.0</td>\n",
              "      <td>0.0</td>\n",
              "      <td>0.0</td>\n",
              "      <td>0.0</td>\n",
              "      <td>0.0</td>\n",
              "      <td>0.0</td>\n",
              "      <td>49278.03</td>\n",
              "      <td>0</td>\n",
              "    </tr>\n",
              "    <tr>\n",
              "      <th>2</th>\n",
              "      <td>4</td>\n",
              "      <td>2</td>\n",
              "      <td>23</td>\n",
              "      <td>0.0</td>\n",
              "      <td>0.0</td>\n",
              "      <td>0.0</td>\n",
              "      <td>0.0</td>\n",
              "      <td>0.0</td>\n",
              "      <td>0.0</td>\n",
              "      <td>0.0</td>\n",
              "      <td>...</td>\n",
              "      <td>0.0</td>\n",
              "      <td>0.0</td>\n",
              "      <td>0.0</td>\n",
              "      <td>0.0</td>\n",
              "      <td>0.0</td>\n",
              "      <td>0.0</td>\n",
              "      <td>0.0</td>\n",
              "      <td>0.0</td>\n",
              "      <td>67333.77</td>\n",
              "      <td>0</td>\n",
              "    </tr>\n",
              "  </tbody>\n",
              "</table>\n",
              "<p>3 rows × 371 columns</p>\n",
              "</div>\n",
              "      <button class=\"colab-df-convert\" onclick=\"convertToInteractive('df-6c994fc3-ce42-4330-81a8-caf94680749d')\"\n",
              "              title=\"Convert this dataframe to an interactive table.\"\n",
              "              style=\"display:none;\">\n",
              "        \n",
              "  <svg xmlns=\"http://www.w3.org/2000/svg\" height=\"24px\"viewBox=\"0 0 24 24\"\n",
              "       width=\"24px\">\n",
              "    <path d=\"M0 0h24v24H0V0z\" fill=\"none\"/>\n",
              "    <path d=\"M18.56 5.44l.94 2.06.94-2.06 2.06-.94-2.06-.94-.94-2.06-.94 2.06-2.06.94zm-11 1L8.5 8.5l.94-2.06 2.06-.94-2.06-.94L8.5 2.5l-.94 2.06-2.06.94zm10 10l.94 2.06.94-2.06 2.06-.94-2.06-.94-.94-2.06-.94 2.06-2.06.94z\"/><path d=\"M17.41 7.96l-1.37-1.37c-.4-.4-.92-.59-1.43-.59-.52 0-1.04.2-1.43.59L10.3 9.45l-7.72 7.72c-.78.78-.78 2.05 0 2.83L4 21.41c.39.39.9.59 1.41.59.51 0 1.02-.2 1.41-.59l7.78-7.78 2.81-2.81c.8-.78.8-2.07 0-2.86zM5.41 20L4 18.59l7.72-7.72 1.47 1.35L5.41 20z\"/>\n",
              "  </svg>\n",
              "      </button>\n",
              "      \n",
              "  <style>\n",
              "    .colab-df-container {\n",
              "      display:flex;\n",
              "      flex-wrap:wrap;\n",
              "      gap: 12px;\n",
              "    }\n",
              "\n",
              "    .colab-df-convert {\n",
              "      background-color: #E8F0FE;\n",
              "      border: none;\n",
              "      border-radius: 50%;\n",
              "      cursor: pointer;\n",
              "      display: none;\n",
              "      fill: #1967D2;\n",
              "      height: 32px;\n",
              "      padding: 0 0 0 0;\n",
              "      width: 32px;\n",
              "    }\n",
              "\n",
              "    .colab-df-convert:hover {\n",
              "      background-color: #E2EBFA;\n",
              "      box-shadow: 0px 1px 2px rgba(60, 64, 67, 0.3), 0px 1px 3px 1px rgba(60, 64, 67, 0.15);\n",
              "      fill: #174EA6;\n",
              "    }\n",
              "\n",
              "    [theme=dark] .colab-df-convert {\n",
              "      background-color: #3B4455;\n",
              "      fill: #D2E3FC;\n",
              "    }\n",
              "\n",
              "    [theme=dark] .colab-df-convert:hover {\n",
              "      background-color: #434B5C;\n",
              "      box-shadow: 0px 1px 3px 1px rgba(0, 0, 0, 0.15);\n",
              "      filter: drop-shadow(0px 1px 2px rgba(0, 0, 0, 0.3));\n",
              "      fill: #FFFFFF;\n",
              "    }\n",
              "  </style>\n",
              "\n",
              "      <script>\n",
              "        const buttonEl =\n",
              "          document.querySelector('#df-6c994fc3-ce42-4330-81a8-caf94680749d button.colab-df-convert');\n",
              "        buttonEl.style.display =\n",
              "          google.colab.kernel.accessAllowed ? 'block' : 'none';\n",
              "\n",
              "        async function convertToInteractive(key) {\n",
              "          const element = document.querySelector('#df-6c994fc3-ce42-4330-81a8-caf94680749d');\n",
              "          const dataTable =\n",
              "            await google.colab.kernel.invokeFunction('convertToInteractive',\n",
              "                                                     [key], {});\n",
              "          if (!dataTable) return;\n",
              "\n",
              "          const docLinkHtml = 'Like what you see? Visit the ' +\n",
              "            '<a target=\"_blank\" href=https://colab.research.google.com/notebooks/data_table.ipynb>data table notebook</a>'\n",
              "            + ' to learn more about interactive tables.';\n",
              "          element.innerHTML = '';\n",
              "          dataTable['output_type'] = 'display_data';\n",
              "          await google.colab.output.renderOutput(dataTable, element);\n",
              "          const docLink = document.createElement('div');\n",
              "          docLink.innerHTML = docLinkHtml;\n",
              "          element.appendChild(docLink);\n",
              "        }\n",
              "      </script>\n",
              "    </div>\n",
              "  </div>\n",
              "  "
            ]
          },
          "metadata": {},
          "execution_count": 3
        }
      ]
    },
    {
      "cell_type": "code",
      "source": [
        "cust_df.info()"
      ],
      "metadata": {
        "colab": {
          "base_uri": "https://localhost:8080/"
        },
        "id": "xjXPt99Q3Ffh",
        "outputId": "95f37dfe-5368-47b2-fed4-941ea18ec1a0"
      },
      "execution_count": null,
      "outputs": [
        {
          "output_type": "stream",
          "name": "stdout",
          "text": [
            "<class 'pandas.core.frame.DataFrame'>\n",
            "RangeIndex: 76020 entries, 0 to 76019\n",
            "Columns: 371 entries, ID to TARGET\n",
            "dtypes: float64(111), int64(260)\n",
            "memory usage: 215.2 MB\n"
          ]
        }
      ]
    },
    {
      "cell_type": "code",
      "source": [
        "print(cust_df['TARGET'].value_counts())\n",
        "unsatisfied_cnt = cust_df[cust_df['TARGET']==1].TARGET.count()\n",
        "total_cnt = cust_df.TARGET.count()\n",
        "print(\"unsatisfied 비율은 {0:.2f}\".format((unsatisfied_cnt/total_cnt)))"
      ],
      "metadata": {
        "colab": {
          "base_uri": "https://localhost:8080/"
        },
        "id": "Q_T6cLRL4yQS",
        "outputId": "31cedfb2-9505-4745-bbe9-f0c4ac8ea34d"
      },
      "execution_count": null,
      "outputs": [
        {
          "output_type": "stream",
          "name": "stdout",
          "text": [
            "0    73012\n",
            "1     3008\n",
            "Name: TARGET, dtype: int64\n",
            "unsatisfied 비율은 0.04\n"
          ]
        }
      ]
    },
    {
      "cell_type": "code",
      "source": [
        "cust_df.describe()"
      ],
      "metadata": {
        "colab": {
          "base_uri": "https://localhost:8080/",
          "height": 394
        },
        "id": "brFku7KJ5i7h",
        "outputId": "f103e9cf-e2f5-4891-8086-b47182334299"
      },
      "execution_count": null,
      "outputs": [
        {
          "output_type": "execute_result",
          "data": {
            "text/plain": [
              "                  ID           var3         var15  imp_ent_var16_ult1  \\\n",
              "count   76020.000000   76020.000000  76020.000000        76020.000000   \n",
              "mean    75964.050723   -1523.199277     33.212865           86.208265   \n",
              "std     43781.947379   39033.462364     12.956486         1614.757313   \n",
              "min         1.000000 -999999.000000      5.000000            0.000000   \n",
              "25%     38104.750000       2.000000     23.000000            0.000000   \n",
              "50%     76043.000000       2.000000     28.000000            0.000000   \n",
              "75%    113748.750000       2.000000     40.000000            0.000000   \n",
              "max    151838.000000     238.000000    105.000000       210000.000000   \n",
              "\n",
              "       imp_op_var39_comer_ult1  imp_op_var39_comer_ult3  \\\n",
              "count             76020.000000             76020.000000   \n",
              "mean                 72.363067               119.529632   \n",
              "std                 339.315831               546.266294   \n",
              "min                   0.000000                 0.000000   \n",
              "25%                   0.000000                 0.000000   \n",
              "50%                   0.000000                 0.000000   \n",
              "75%                   0.000000                 0.000000   \n",
              "max               12888.030000             21024.810000   \n",
              "\n",
              "       imp_op_var40_comer_ult1  imp_op_var40_comer_ult3  \\\n",
              "count             76020.000000             76020.000000   \n",
              "mean                  3.559130                 6.472698   \n",
              "std                  93.155749               153.737066   \n",
              "min                   0.000000                 0.000000   \n",
              "25%                   0.000000                 0.000000   \n",
              "50%                   0.000000                 0.000000   \n",
              "75%                   0.000000                 0.000000   \n",
              "max                8237.820000             11073.570000   \n",
              "\n",
              "       imp_op_var40_efect_ult1  imp_op_var40_efect_ult3  ...  \\\n",
              "count             76020.000000             76020.000000  ...   \n",
              "mean                  0.412946                 0.567352  ...   \n",
              "std                  30.604864                36.513513  ...   \n",
              "min                   0.000000                 0.000000  ...   \n",
              "25%                   0.000000                 0.000000  ...   \n",
              "50%                   0.000000                 0.000000  ...   \n",
              "75%                   0.000000                 0.000000  ...   \n",
              "max                6600.000000              6600.000000  ...   \n",
              "\n",
              "       saldo_medio_var33_hace2  saldo_medio_var33_hace3  \\\n",
              "count             76020.000000             76020.000000   \n",
              "mean                  7.935824                 1.365146   \n",
              "std                 455.887218               113.959637   \n",
              "min                   0.000000                 0.000000   \n",
              "25%                   0.000000                 0.000000   \n",
              "50%                   0.000000                 0.000000   \n",
              "75%                   0.000000                 0.000000   \n",
              "max               50003.880000             20385.720000   \n",
              "\n",
              "       saldo_medio_var33_ult1  saldo_medio_var33_ult3  \\\n",
              "count            76020.000000            76020.000000   \n",
              "mean                12.215580                8.784074   \n",
              "std                783.207399              538.439211   \n",
              "min                  0.000000                0.000000   \n",
              "25%                  0.000000                0.000000   \n",
              "50%                  0.000000                0.000000   \n",
              "75%                  0.000000                0.000000   \n",
              "max             138831.630000            91778.730000   \n",
              "\n",
              "       saldo_medio_var44_hace2  saldo_medio_var44_hace3  \\\n",
              "count             76020.000000             76020.000000   \n",
              "mean                 31.505324                 1.858575   \n",
              "std                2013.125393               147.786584   \n",
              "min                   0.000000                 0.000000   \n",
              "25%                   0.000000                 0.000000   \n",
              "50%                   0.000000                 0.000000   \n",
              "75%                   0.000000                 0.000000   \n",
              "max              438329.220000             24650.010000   \n",
              "\n",
              "       saldo_medio_var44_ult1  saldo_medio_var44_ult3         var38  \\\n",
              "count            76020.000000            76020.000000  7.602000e+04   \n",
              "mean                76.026165               56.614351  1.172358e+05   \n",
              "std               4040.337842             2852.579397  1.826646e+05   \n",
              "min                  0.000000                0.000000  5.163750e+03   \n",
              "25%                  0.000000                0.000000  6.787061e+04   \n",
              "50%                  0.000000                0.000000  1.064092e+05   \n",
              "75%                  0.000000                0.000000  1.187563e+05   \n",
              "max             681462.900000           397884.300000  2.203474e+07   \n",
              "\n",
              "             TARGET  \n",
              "count  76020.000000  \n",
              "mean       0.039569  \n",
              "std        0.194945  \n",
              "min        0.000000  \n",
              "25%        0.000000  \n",
              "50%        0.000000  \n",
              "75%        0.000000  \n",
              "max        1.000000  \n",
              "\n",
              "[8 rows x 371 columns]"
            ],
            "text/html": [
              "\n",
              "  <div id=\"df-ba6b3930-c67a-4cdf-8741-2c8c22852cfd\">\n",
              "    <div class=\"colab-df-container\">\n",
              "      <div>\n",
              "<style scoped>\n",
              "    .dataframe tbody tr th:only-of-type {\n",
              "        vertical-align: middle;\n",
              "    }\n",
              "\n",
              "    .dataframe tbody tr th {\n",
              "        vertical-align: top;\n",
              "    }\n",
              "\n",
              "    .dataframe thead th {\n",
              "        text-align: right;\n",
              "    }\n",
              "</style>\n",
              "<table border=\"1\" class=\"dataframe\">\n",
              "  <thead>\n",
              "    <tr style=\"text-align: right;\">\n",
              "      <th></th>\n",
              "      <th>ID</th>\n",
              "      <th>var3</th>\n",
              "      <th>var15</th>\n",
              "      <th>imp_ent_var16_ult1</th>\n",
              "      <th>imp_op_var39_comer_ult1</th>\n",
              "      <th>imp_op_var39_comer_ult3</th>\n",
              "      <th>imp_op_var40_comer_ult1</th>\n",
              "      <th>imp_op_var40_comer_ult3</th>\n",
              "      <th>imp_op_var40_efect_ult1</th>\n",
              "      <th>imp_op_var40_efect_ult3</th>\n",
              "      <th>...</th>\n",
              "      <th>saldo_medio_var33_hace2</th>\n",
              "      <th>saldo_medio_var33_hace3</th>\n",
              "      <th>saldo_medio_var33_ult1</th>\n",
              "      <th>saldo_medio_var33_ult3</th>\n",
              "      <th>saldo_medio_var44_hace2</th>\n",
              "      <th>saldo_medio_var44_hace3</th>\n",
              "      <th>saldo_medio_var44_ult1</th>\n",
              "      <th>saldo_medio_var44_ult3</th>\n",
              "      <th>var38</th>\n",
              "      <th>TARGET</th>\n",
              "    </tr>\n",
              "  </thead>\n",
              "  <tbody>\n",
              "    <tr>\n",
              "      <th>count</th>\n",
              "      <td>76020.000000</td>\n",
              "      <td>76020.000000</td>\n",
              "      <td>76020.000000</td>\n",
              "      <td>76020.000000</td>\n",
              "      <td>76020.000000</td>\n",
              "      <td>76020.000000</td>\n",
              "      <td>76020.000000</td>\n",
              "      <td>76020.000000</td>\n",
              "      <td>76020.000000</td>\n",
              "      <td>76020.000000</td>\n",
              "      <td>...</td>\n",
              "      <td>76020.000000</td>\n",
              "      <td>76020.000000</td>\n",
              "      <td>76020.000000</td>\n",
              "      <td>76020.000000</td>\n",
              "      <td>76020.000000</td>\n",
              "      <td>76020.000000</td>\n",
              "      <td>76020.000000</td>\n",
              "      <td>76020.000000</td>\n",
              "      <td>7.602000e+04</td>\n",
              "      <td>76020.000000</td>\n",
              "    </tr>\n",
              "    <tr>\n",
              "      <th>mean</th>\n",
              "      <td>75964.050723</td>\n",
              "      <td>-1523.199277</td>\n",
              "      <td>33.212865</td>\n",
              "      <td>86.208265</td>\n",
              "      <td>72.363067</td>\n",
              "      <td>119.529632</td>\n",
              "      <td>3.559130</td>\n",
              "      <td>6.472698</td>\n",
              "      <td>0.412946</td>\n",
              "      <td>0.567352</td>\n",
              "      <td>...</td>\n",
              "      <td>7.935824</td>\n",
              "      <td>1.365146</td>\n",
              "      <td>12.215580</td>\n",
              "      <td>8.784074</td>\n",
              "      <td>31.505324</td>\n",
              "      <td>1.858575</td>\n",
              "      <td>76.026165</td>\n",
              "      <td>56.614351</td>\n",
              "      <td>1.172358e+05</td>\n",
              "      <td>0.039569</td>\n",
              "    </tr>\n",
              "    <tr>\n",
              "      <th>std</th>\n",
              "      <td>43781.947379</td>\n",
              "      <td>39033.462364</td>\n",
              "      <td>12.956486</td>\n",
              "      <td>1614.757313</td>\n",
              "      <td>339.315831</td>\n",
              "      <td>546.266294</td>\n",
              "      <td>93.155749</td>\n",
              "      <td>153.737066</td>\n",
              "      <td>30.604864</td>\n",
              "      <td>36.513513</td>\n",
              "      <td>...</td>\n",
              "      <td>455.887218</td>\n",
              "      <td>113.959637</td>\n",
              "      <td>783.207399</td>\n",
              "      <td>538.439211</td>\n",
              "      <td>2013.125393</td>\n",
              "      <td>147.786584</td>\n",
              "      <td>4040.337842</td>\n",
              "      <td>2852.579397</td>\n",
              "      <td>1.826646e+05</td>\n",
              "      <td>0.194945</td>\n",
              "    </tr>\n",
              "    <tr>\n",
              "      <th>min</th>\n",
              "      <td>1.000000</td>\n",
              "      <td>-999999.000000</td>\n",
              "      <td>5.000000</td>\n",
              "      <td>0.000000</td>\n",
              "      <td>0.000000</td>\n",
              "      <td>0.000000</td>\n",
              "      <td>0.000000</td>\n",
              "      <td>0.000000</td>\n",
              "      <td>0.000000</td>\n",
              "      <td>0.000000</td>\n",
              "      <td>...</td>\n",
              "      <td>0.000000</td>\n",
              "      <td>0.000000</td>\n",
              "      <td>0.000000</td>\n",
              "      <td>0.000000</td>\n",
              "      <td>0.000000</td>\n",
              "      <td>0.000000</td>\n",
              "      <td>0.000000</td>\n",
              "      <td>0.000000</td>\n",
              "      <td>5.163750e+03</td>\n",
              "      <td>0.000000</td>\n",
              "    </tr>\n",
              "    <tr>\n",
              "      <th>25%</th>\n",
              "      <td>38104.750000</td>\n",
              "      <td>2.000000</td>\n",
              "      <td>23.000000</td>\n",
              "      <td>0.000000</td>\n",
              "      <td>0.000000</td>\n",
              "      <td>0.000000</td>\n",
              "      <td>0.000000</td>\n",
              "      <td>0.000000</td>\n",
              "      <td>0.000000</td>\n",
              "      <td>0.000000</td>\n",
              "      <td>...</td>\n",
              "      <td>0.000000</td>\n",
              "      <td>0.000000</td>\n",
              "      <td>0.000000</td>\n",
              "      <td>0.000000</td>\n",
              "      <td>0.000000</td>\n",
              "      <td>0.000000</td>\n",
              "      <td>0.000000</td>\n",
              "      <td>0.000000</td>\n",
              "      <td>6.787061e+04</td>\n",
              "      <td>0.000000</td>\n",
              "    </tr>\n",
              "    <tr>\n",
              "      <th>50%</th>\n",
              "      <td>76043.000000</td>\n",
              "      <td>2.000000</td>\n",
              "      <td>28.000000</td>\n",
              "      <td>0.000000</td>\n",
              "      <td>0.000000</td>\n",
              "      <td>0.000000</td>\n",
              "      <td>0.000000</td>\n",
              "      <td>0.000000</td>\n",
              "      <td>0.000000</td>\n",
              "      <td>0.000000</td>\n",
              "      <td>...</td>\n",
              "      <td>0.000000</td>\n",
              "      <td>0.000000</td>\n",
              "      <td>0.000000</td>\n",
              "      <td>0.000000</td>\n",
              "      <td>0.000000</td>\n",
              "      <td>0.000000</td>\n",
              "      <td>0.000000</td>\n",
              "      <td>0.000000</td>\n",
              "      <td>1.064092e+05</td>\n",
              "      <td>0.000000</td>\n",
              "    </tr>\n",
              "    <tr>\n",
              "      <th>75%</th>\n",
              "      <td>113748.750000</td>\n",
              "      <td>2.000000</td>\n",
              "      <td>40.000000</td>\n",
              "      <td>0.000000</td>\n",
              "      <td>0.000000</td>\n",
              "      <td>0.000000</td>\n",
              "      <td>0.000000</td>\n",
              "      <td>0.000000</td>\n",
              "      <td>0.000000</td>\n",
              "      <td>0.000000</td>\n",
              "      <td>...</td>\n",
              "      <td>0.000000</td>\n",
              "      <td>0.000000</td>\n",
              "      <td>0.000000</td>\n",
              "      <td>0.000000</td>\n",
              "      <td>0.000000</td>\n",
              "      <td>0.000000</td>\n",
              "      <td>0.000000</td>\n",
              "      <td>0.000000</td>\n",
              "      <td>1.187563e+05</td>\n",
              "      <td>0.000000</td>\n",
              "    </tr>\n",
              "    <tr>\n",
              "      <th>max</th>\n",
              "      <td>151838.000000</td>\n",
              "      <td>238.000000</td>\n",
              "      <td>105.000000</td>\n",
              "      <td>210000.000000</td>\n",
              "      <td>12888.030000</td>\n",
              "      <td>21024.810000</td>\n",
              "      <td>8237.820000</td>\n",
              "      <td>11073.570000</td>\n",
              "      <td>6600.000000</td>\n",
              "      <td>6600.000000</td>\n",
              "      <td>...</td>\n",
              "      <td>50003.880000</td>\n",
              "      <td>20385.720000</td>\n",
              "      <td>138831.630000</td>\n",
              "      <td>91778.730000</td>\n",
              "      <td>438329.220000</td>\n",
              "      <td>24650.010000</td>\n",
              "      <td>681462.900000</td>\n",
              "      <td>397884.300000</td>\n",
              "      <td>2.203474e+07</td>\n",
              "      <td>1.000000</td>\n",
              "    </tr>\n",
              "  </tbody>\n",
              "</table>\n",
              "<p>8 rows × 371 columns</p>\n",
              "</div>\n",
              "      <button class=\"colab-df-convert\" onclick=\"convertToInteractive('df-ba6b3930-c67a-4cdf-8741-2c8c22852cfd')\"\n",
              "              title=\"Convert this dataframe to an interactive table.\"\n",
              "              style=\"display:none;\">\n",
              "        \n",
              "  <svg xmlns=\"http://www.w3.org/2000/svg\" height=\"24px\"viewBox=\"0 0 24 24\"\n",
              "       width=\"24px\">\n",
              "    <path d=\"M0 0h24v24H0V0z\" fill=\"none\"/>\n",
              "    <path d=\"M18.56 5.44l.94 2.06.94-2.06 2.06-.94-2.06-.94-.94-2.06-.94 2.06-2.06.94zm-11 1L8.5 8.5l.94-2.06 2.06-.94-2.06-.94L8.5 2.5l-.94 2.06-2.06.94zm10 10l.94 2.06.94-2.06 2.06-.94-2.06-.94-.94-2.06-.94 2.06-2.06.94z\"/><path d=\"M17.41 7.96l-1.37-1.37c-.4-.4-.92-.59-1.43-.59-.52 0-1.04.2-1.43.59L10.3 9.45l-7.72 7.72c-.78.78-.78 2.05 0 2.83L4 21.41c.39.39.9.59 1.41.59.51 0 1.02-.2 1.41-.59l7.78-7.78 2.81-2.81c.8-.78.8-2.07 0-2.86zM5.41 20L4 18.59l7.72-7.72 1.47 1.35L5.41 20z\"/>\n",
              "  </svg>\n",
              "      </button>\n",
              "      \n",
              "  <style>\n",
              "    .colab-df-container {\n",
              "      display:flex;\n",
              "      flex-wrap:wrap;\n",
              "      gap: 12px;\n",
              "    }\n",
              "\n",
              "    .colab-df-convert {\n",
              "      background-color: #E8F0FE;\n",
              "      border: none;\n",
              "      border-radius: 50%;\n",
              "      cursor: pointer;\n",
              "      display: none;\n",
              "      fill: #1967D2;\n",
              "      height: 32px;\n",
              "      padding: 0 0 0 0;\n",
              "      width: 32px;\n",
              "    }\n",
              "\n",
              "    .colab-df-convert:hover {\n",
              "      background-color: #E2EBFA;\n",
              "      box-shadow: 0px 1px 2px rgba(60, 64, 67, 0.3), 0px 1px 3px 1px rgba(60, 64, 67, 0.15);\n",
              "      fill: #174EA6;\n",
              "    }\n",
              "\n",
              "    [theme=dark] .colab-df-convert {\n",
              "      background-color: #3B4455;\n",
              "      fill: #D2E3FC;\n",
              "    }\n",
              "\n",
              "    [theme=dark] .colab-df-convert:hover {\n",
              "      background-color: #434B5C;\n",
              "      box-shadow: 0px 1px 3px 1px rgba(0, 0, 0, 0.15);\n",
              "      filter: drop-shadow(0px 1px 2px rgba(0, 0, 0, 0.3));\n",
              "      fill: #FFFFFF;\n",
              "    }\n",
              "  </style>\n",
              "\n",
              "      <script>\n",
              "        const buttonEl =\n",
              "          document.querySelector('#df-ba6b3930-c67a-4cdf-8741-2c8c22852cfd button.colab-df-convert');\n",
              "        buttonEl.style.display =\n",
              "          google.colab.kernel.accessAllowed ? 'block' : 'none';\n",
              "\n",
              "        async function convertToInteractive(key) {\n",
              "          const element = document.querySelector('#df-ba6b3930-c67a-4cdf-8741-2c8c22852cfd');\n",
              "          const dataTable =\n",
              "            await google.colab.kernel.invokeFunction('convertToInteractive',\n",
              "                                                     [key], {});\n",
              "          if (!dataTable) return;\n",
              "\n",
              "          const docLinkHtml = 'Like what you see? Visit the ' +\n",
              "            '<a target=\"_blank\" href=https://colab.research.google.com/notebooks/data_table.ipynb>data table notebook</a>'\n",
              "            + ' to learn more about interactive tables.';\n",
              "          element.innerHTML = '';\n",
              "          dataTable['output_type'] = 'display_data';\n",
              "          await google.colab.output.renderOutput(dataTable, element);\n",
              "          const docLink = document.createElement('div');\n",
              "          docLink.innerHTML = docLinkHtml;\n",
              "          element.appendChild(docLink);\n",
              "        }\n",
              "      </script>\n",
              "    </div>\n",
              "  </div>\n",
              "  "
            ]
          },
          "metadata": {},
          "execution_count": 7
        }
      ]
    },
    {
      "cell_type": "code",
      "source": [
        "# 데이터 전처리\n",
        "cust_df['var3'].replace(-999999, 2, inplace=True)\n",
        "cust_df.drop(\"ID\", axis=1, inplace=True)\n",
        "\n",
        "X_features = cust_df.iloc[:, :-1]\n",
        "y_labels = cust_df['TARGET']\n",
        "print(\"피처 데이터 shape:{0}\".format(X_features.shape))"
      ],
      "metadata": {
        "colab": {
          "base_uri": "https://localhost:8080/"
        },
        "id": "jGw5fx3-5vPh",
        "outputId": "d9b97813-ca0b-4699-9621-96b6506fd789"
      },
      "execution_count": null,
      "outputs": [
        {
          "output_type": "stream",
          "name": "stdout",
          "text": [
            "피처 데이터 shape:(76020, 369)\n"
          ]
        }
      ]
    },
    {
      "cell_type": "markdown",
      "source": [
        "### 분류 실습 - 캐글 산탄데르 고객 만족 예측\n",
        "### 1. 데이터 전처리\n",
        "- 학습과 성능 평가를 위해서 원본 데이터 세트에서 학습 데이터 세트와 테스트 데이터 세트를 분리한다.\n",
        "- 비대칭한 데이터 세트이므로, 클래스인 TARGET 값 분포도가 학습 데이터와 테스트 데이터 세트에 모두 비슷하게 추출되었는지 확인한다.\n",
        "- 학습 데이터 세트와 테스트 데이터 세트 모두 TARGET 값의 분포가 원본 데이터와 유사하게 전체 데이터의 4% 정도의 불만족(1) 값을 갖도록 만들어졌다."
      ],
      "metadata": {
        "id": "oHp-WpPd6wML"
      }
    },
    {
      "cell_type": "code",
      "source": [
        "from sklearn.model_selection import train_test_split\n",
        "\n",
        "X_train, X_test, y_train, y_test = train_test_split(X_features, y_labels, test_size=0.2, random_state=0)\n",
        "\n",
        "train_cnt = y_train.count()\n",
        "test_cnt = y_test.count()\n",
        "print(\"학습 세트 Shape:{0}, 테스트 세트 Shape:{1}\".format(X_train.shape, X_test.shape))\n",
        "\n",
        "print(\"학습 세트 레이블 값 분포 비율\")\n",
        "print(y_train.value_counts()/train_cnt)\n",
        "print(\"테스트 세트 레이블 값 분포 비율\")\n",
        "print(y_test.value_counts()/test_cnt)"
      ],
      "metadata": {
        "colab": {
          "base_uri": "https://localhost:8080/"
        },
        "id": "PA6BP0TO6XYZ",
        "outputId": "468c8ce8-7ac1-4712-ef3f-dc392dfb83d8"
      },
      "execution_count": null,
      "outputs": [
        {
          "output_type": "stream",
          "name": "stdout",
          "text": [
            "학습 세트 Shape:(60816, 369), 테스트 세트 Shape:(15204, 369)\n",
            "학습 세트 레이블 값 분포 비율\n",
            "0    0.960964\n",
            "1    0.039036\n",
            "Name: TARGET, dtype: float64\n",
            "테스트 세트 레이블 값 분포 비율\n",
            "0    0.9583\n",
            "1    0.0417\n",
            "Name: TARGET, dtype: float64\n"
          ]
        }
      ]
    },
    {
      "cell_type": "markdown",
      "source": [
        "### 분류 실습 - 캐글 산탄데르 고객 만족 예측\n",
        "### 2. XGBoost 모델 학습과 하이퍼 파라미터 튜닝\n",
        "- XGBoost 학습 모델을 생성하고 학습 및 예측을 수행하여 예측 결과를 ROC-AUC로 평가한다.\n",
        "- 사이킷런 래퍼인 **`XGBClassifier`**를 기반으로 학습을 수행하며, **`n_estimators`**=500, **`early_stopping_rounds`**=100으로 설정한다.\n",
        "- 성능 평가 기준이 ROC-AUC이므로 **`eval_metric`**은 'auc'로 한다.\n",
        "- 평가 데이터 세트는 앞에서 분리한 테스트 데이터 세트를 이용하여 **`eval_set`**는 [(X_train, y_train), (X_test, y_test)]로 설정한다.\n",
        "- 테스트 데이터 세트로 예측시 ROC-AUC 값은 약 **0.8419**이다."
      ],
      "metadata": {
        "id": "DwXQvUEJ73oB"
      }
    },
    {
      "cell_type": "code",
      "source": [
        "from xgboost import XGBClassifier\n",
        "from sklearn.metrics import roc_auc_score\n",
        "\n",
        "# n_estimators는 500으로 모델 선언\n",
        "xgb_clf = XGBClassifier(n_estimators=500, random_state=156)\n",
        "\n",
        "# 성능 평가 지료를 auc로, 조기 중단 파라미터는 100으로 설정하여 학습 수행\n",
        "xgb_clf.fit(X_train, y_train, early_stopping_rounds=100, eval_metric=\"auc\", eval_set=[(X_train, y_train), (X_test, y_test)])\n",
        "\n",
        "xgb_roc_score = roc_auc_score(y_test, xgb_clf.predict_proba(X_test)[:, 1], average='macro')"
      ],
      "metadata": {
        "id": "rVbEPmTq-tg7"
      },
      "execution_count": null,
      "outputs": []
    },
    {
      "cell_type": "code",
      "source": [
        "# 테스트 데이터 세트로 예측시 ROC-AUC 값\n",
        "print(\"ROC-AUC: {0:.4f}\".format(xgb_roc_score))"
      ],
      "metadata": {
        "colab": {
          "base_uri": "https://localhost:8080/"
        },
        "id": "juX9Ie2sBJR3",
        "outputId": "43985439-8dcd-4f4b-fbc9-0ccbeebb03fe"
      },
      "execution_count": null,
      "outputs": [
        {
          "output_type": "stream",
          "name": "stdout",
          "text": [
            "ROC-AUC: 0.8419\n"
          ]
        }
      ]
    },
    {
      "cell_type": "markdown",
      "source": [
        "### 분류 실습 - 캐글 산탄데르 고객 만족 예측\n",
        "### 2. XGBoost 모델 학습과 하이퍼 파라미터 튜닝\n",
        "- XGBoost의 하이퍼 파라미터 튜닝을 수행한다.\n",
        "- 칼럼의 개수가 많으므로 과적합 가능성을 가정하고, **`max_depth, min_child_weight, colsample_bytree`** 하이퍼 파라미터를 일차 튜닝 대상으로 지정한다.\n",
        "- 학습 시간이 많이 필요한 ML 모델의 경우 하이퍼 파라미터 튜닝을 수행하는 첫번째 요령은 먼저 2-3개의 파라미터를 결합하여 최적 파라미터를 찾아낸 뒤, 다시 이 최적 파라미터를 기반으로 1-2개 파라미터를 결합하여 파라미터 튜닝을 수행하는 것이다.\n",
        "- 다음의 하이퍼 파라미터 후보군에 대해서 **`GridSearchCV`**를 적용하여 최적 파라미터를 찾아보면 최적 파라미터는 {'colsample_bytree': 0.75, 'max_depth': 7, 'min_child_weight': 1}이다.\n",
        "- 최적 파라미터로 재학습된 Estimator에서 ROC-AUC 값을 평가해보면 **0.8448**로 조금 개선된 것을 확인할 수 있다."
      ],
      "metadata": {
        "id": "7ZOjmPRS_vt2"
      }
    },
    {
      "cell_type": "code",
      "source": [
        "# 수행 결과는 생략\n",
        "from sklearn.model_selection import GridSearchCV\n",
        "\n",
        "# 하이퍼 파라미터 테스트의 수행 속도를 향상시키기 위해 n_estimators를 100으로 감소\n",
        "xgb_clf = XGBClassifier(n_estimators=100)\n",
        "\n",
        "params = {'max_depth':[5,7], 'min_child_weight':[1,3], 'colsample_bytree':[0.5, 0.75]}\n",
        "\n",
        "gridcv = GridSearchCV(xgb_clf, param_grid=params, cv=3) # cv는 3으로 지정\n",
        "gridcv.fit(X_train, y_train, early_stopping_rounds=30, eval_metric=\"auc\", eval_set=[(X_train, y_train), (X_test, y_test)])\n",
        "\n",
        "print(\"GridSearchCV 최적 파라미터:\", gridcv.best_params_)\n",
        "\n",
        "xgb_roc_score = roc_auc_score(y_test, gridcv.predict_proba(X_test)[:, 1], average='macro')\n",
        "print(\"ROC-AUC: {0:.4f}\".format(xgb_roc_score))"
      ],
      "metadata": {
        "id": "ot1Izm_N_kcp"
      },
      "execution_count": null,
      "outputs": []
    },
    {
      "cell_type": "markdown",
      "source": [
        "### 분류 실습 - 캐글 산탄데르 고객 만족 예측\n",
        "### 2. XGBoost 모델 학습과 하이퍼 파라미터 튜닝\n",
        "- 위에서 구한 최적 하이퍼 파라미터를 기반으로, 다른 하이퍼 파라미터를 변경 또는 추가하며 다시 최적화를 진행한다.\n",
        "- GridSearchCV로 구한 최적 하이퍼 파라미터인 {'colsample_bytree': 0.75, 'max_depth': 7, 'min_child_weight': 1}로 설정한 뒤, **`n_estimators`**=1000으로 증가시키고 **`learning_rate`**=0.02로 감소시키고 **`reg_alpha`**=0.03을 추가한다.\n",
        "- 다시 XGBClassifier를 학습시킨 뒤 ROC-AUC를 구한다.\n",
        "- ROC-AUC가 약 **0.8456**으로 이전 테스트보다 살짝 향상된 결과를 나타낸다"
      ],
      "metadata": {
        "id": "S47wfvAJCseb"
      }
    },
    {
      "cell_type": "code",
      "source": [
        "xgb_clf = XGBClassifier(n_estimators=1000, random_state=156, max_depth=7, min_child_weight=1, colsample_bytree=0.75, learning_rate=0.02, reg_alpha=0.03)\n",
        "\n",
        "# 성능 평가 지료를 auc로, 조기 중단 파라미터는 100으로 설정하여 학습 수행\n",
        "xgb_clf.fit(X_train, y_train, early_stopping_rounds=200, eval_metric=\"auc\", eval_set=[(X_train, y_train), (X_test, y_test)])\n",
        "\n",
        "xgb_roc_score = roc_auc_score(y_test, xgb_clf.predict_proba(X_test)[:, 1], average='macro')"
      ],
      "metadata": {
        "id": "kJ6-C_YJDOA6"
      },
      "execution_count": null,
      "outputs": []
    },
    {
      "cell_type": "code",
      "source": [
        "print(\"ROC-AUC: {0:.4f}\".format(xgb_roc_score))"
      ],
      "metadata": {
        "colab": {
          "base_uri": "https://localhost:8080/"
        },
        "id": "s2XaDfieDrb3",
        "outputId": "82ad8dfa-2d3e-4281-cac1-4ae4e7ea696f"
      },
      "execution_count": null,
      "outputs": [
        {
          "output_type": "stream",
          "name": "stdout",
          "text": [
            "ROC-AUC: 0.8456\n"
          ]
        }
      ]
    },
    {
      "cell_type": "markdown",
      "source": [
        "### 분류 실습 - 캐글 산탄데르 고객 만족 예측\n",
        "### 2. XGBoost 모델 학습과 하이퍼 파라미터 튜닝\n",
        "- xgboost 모듈의 **`plot_importance()`** 메서드를 이용하여 튜닝된 모델에서 각 피처의 중요도를 피처 중요도 그래프로 나타낼 수 있다.\n",
        "- XGBoost의 예측 성능을 좌우하는 가장 중요한 피처는 var38, var15 순이다."
      ],
      "metadata": {
        "id": "Lhpr5T7eFSDs"
      }
    },
    {
      "cell_type": "code",
      "source": [
        "from xgboost import plot_importance\n",
        "import matplotlib.pyplot as plt\n",
        "%matplotlib inline\n",
        "\n",
        "fig, ax = plt.subplots(1, 1, figsize=(10, 8))\n",
        "plot_importance(xgb_clf, ax=ax, max_num_features=20, height=0.4)"
      ],
      "metadata": {
        "colab": {
          "base_uri": "https://localhost:8080/",
          "height": 532
        },
        "id": "Oubz4Z-FFh5h",
        "outputId": "18469c7b-ab99-4f17-96f2-574fe46616db"
      },
      "execution_count": null,
      "outputs": [
        {
          "output_type": "execute_result",
          "data": {
            "text/plain": [
              "<matplotlib.axes._subplots.AxesSubplot at 0x7fdd99695290>"
            ]
          },
          "metadata": {},
          "execution_count": 22
        },
        {
          "output_type": "display_data",
          "data": {
            "text/plain": [
              "<Figure size 720x576 with 1 Axes>"
            ],
            "image/png": "[encoded data removed]"
          },
          "metadata": {
            "needs_background": "light"
          }
        }
      ]
    },
    {
      "cell_type": "markdown",
      "source": [
        "### 분류 실습 - 캐글 산탄데르 고객 만족 예측\n",
        "### 3. LightGBM 모델 학습과 하이퍼 파라미터 튜닝\n",
        "- XGBoost 예제 코드에서 만들어진 데이터 세트를 기반으로 LightGBM을 이용하여 모델을 학습하고 하이퍼 파라미터를 튜닝하여 예측 성능을 평가한다.\n",
        "- 사이킷런 래퍼인 **`LGBMClassifier`**를 기반으로 학습을 수행한다.\n",
        "- 앞의 XGBoost 예제와 동일하게 **`n_estimators`**=500, **`early_stopping_rounds`**=100, **`eval_metric`**은 'auc'로, 평가 데이터 세트는 테스트 데이터 세트로 설정한다.\n",
        "- LightGBM 수행 결과 ROC-AUC가 약 **0.8396**으로 나타난다.\n",
        "- LightGBM으로 수행하면 XGBoost보다 학습에 걸리는 시간이 단축되었음을 확인할 수 있다."
      ],
      "metadata": {
        "id": "uUvuMo-2F9PK"
      }
    },
    {
      "cell_type": "code",
      "source": [
        "from lightgbm import LGBMClassifier\n",
        "\n",
        "lgbm_clf = LGBMClassifier(n_estimators=500)\n",
        "\n",
        "evals = [(X_test, y_test)] # 평가 데이터 세트는 테스트 데이터 세트\n",
        "lgbm_clf.fit(X_train, y_train, early_stopping_rounds=100, eval_metric=\"auc\", eval_set=evals, verbose=True)\n",
        "\n",
        "lgbm_roc_score = roc_auc_score(y_test, lgbm_clf.predict_proba(X_test)[:, 1], average='macro')"
      ],
      "metadata": {
        "id": "v1Adao-BHORL"
      },
      "execution_count": null,
      "outputs": []
    },
    {
      "cell_type": "code",
      "source": [
        "print(\"ROC-AUC: {0:.4f}\".format(lgbm_roc_score))"
      ],
      "metadata": {
        "colab": {
          "base_uri": "https://localhost:8080/"
        },
        "id": "x27QqGG3H5Lv",
        "outputId": "322ced2f-235a-4f60-afb3-7546388b4e04"
      },
      "execution_count": null,
      "outputs": [
        {
          "output_type": "stream",
          "name": "stdout",
          "text": [
            "ROC-AUC: 0.8396\n"
          ]
        }
      ]
    },
    {
      "cell_type": "markdown",
      "source": [
        "### 분류 실습 - 캐글 산탄데르 고객 만족 예측\n",
        "### 3. LightGBM 모델 학습과 하이퍼 파라미터 튜닝\n",
        "- **`GridSearchCV`**를 이용하여 다양한 하이퍼 파라미터에 대한 튜닝을 수행한다.\n",
        "- 튜닝 대상은 **`num_leaves, max_depth, min_child_samples, subsample`**이다.\n",
        "- 최적 하이퍼 파라미터는 {'max_depth': 128, 'min_child_samples': 100, 'num_leaves': 32, 'subsample': 0.8}이다."
      ],
      "metadata": {
        "id": "BLrthl9yIHkH"
      }
    },
    {
      "cell_type": "code",
      "source": [
        "from sklearn.model_selection import GridSearchCV\n",
        "\n",
        "# 하이퍼 파라미터 테스트의 수행 속도를 향상시키기 위해 n_estimators를 200으로 감소\n",
        "lgbm_clf = LGBMClassifier(n_estimators=200)\n",
        "\n",
        "params = {'num_leaves': [32, 64], 'max_depth': [ 128, 160], 'min_child_samples': [60, 100], 'subsample': [0.8, 1]}\n",
        "\n",
        "gridcv = GridSearchCV(lgbm_clf, param_grid=params, cv=3) # cv는 3으로 지정\n",
        "gridcv.fit(X_train, y_train, early_stopping_rounds=30, eval_metric=\"auc\", eval_set=[(X_train, y_train), (X_test, y_test)])\n",
        "\n",
        "lgbm_roc_score = roc_auc_score(y_test, gridcv.predict_proba(X_test)[:, 1], average='macro')"
      ],
      "metadata": {
        "id": "IS_dsX5xIYd5"
      },
      "execution_count": null,
      "outputs": []
    },
    {
      "cell_type": "code",
      "source": [
        "print(\"GridSearchCV 최적 파라미터:\", gridcv.best_params_)\n",
        "print(\"ROC-AUC: {0:.4f}\".format(xgb_roc_score))"
      ],
      "metadata": {
        "colab": {
          "base_uri": "https://localhost:8080/"
        },
        "id": "dGrThTHWJP07",
        "outputId": "181aa75c-ee35-474d-cfd3-2133dffe1234"
      },
      "execution_count": null,
      "outputs": [
        {
          "output_type": "stream",
          "name": "stdout",
          "text": [
            "GridSearchCV 최적 파라미터: {'max_depth': 128, 'min_child_samples': 100, 'num_leaves': 32, 'subsample': 0.8}\n",
            "ROC-AUC: 0.8456\n"
          ]
        }
      ]
    },
    {
      "cell_type": "markdown",
      "source": [
        "### 분류 실습 - 캐글 산탄데르 고객 만족 예측\n",
        "### 3. LightGBM 모델 학습과 하이퍼 파라미터 튜닝\n",
        "- 최적 하이퍼 파라미터는 {'max_depth': 128, 'min_child_samples': 100, 'num_leaves': 32, 'subsample': 0.8}이다.\n",
        "- 해당 하이퍼 파라미터를 LightGBM에 적용하고 다시 학습하여 ROC-AUC 측정 결과를 도출한다.\n",
        "- LightGBM의 경우 테스트 데이터 세트에서 ROC-AUC가 약 **0.8456**으로 측정된다."
      ],
      "metadata": {
        "id": "uXt-Tq_cKL1F"
      }
    },
    {
      "cell_type": "code",
      "source": [
        "lgbm_clf = LGBMClassifier(n_estimators=1000, num_leaves=32, subsample=0.8, min_child_samples=100, max_depth=128)\n",
        "\n",
        "evals = [(X_test, y_test)]\n",
        "lgbm_clf.fit(X_train, y_train, early_stopping_rounds=100, eval_metric=\"auc\", eval_set=evals, verbose=True)\n",
        "\n",
        "lgbm_roc_score = roc_auc_score(y_test, gridcv.predict_proba(X_test)[:, 1], average='macro')"
      ],
      "metadata": {
        "id": "nd05TJSPKYXX"
      },
      "execution_count": null,
      "outputs": []
    },
    {
      "cell_type": "code",
      "source": [
        "print(\"ROC-AUC: {0:.4f}\".format(xgb_roc_score))"
      ],
      "metadata": {
        "colab": {
          "base_uri": "https://localhost:8080/"
        },
        "id": "0SvL6YfDLZiS",
        "outputId": "9bb904f6-b620-4412-c566-c4c839deb07b"
      },
      "execution_count": null,
      "outputs": [
        {
          "output_type": "stream",
          "name": "stdout",
          "text": [
            "ROC-AUC: 0.8456\n"
          ]
        }
      ]
    },
    {
      "cell_type": "markdown",
      "source": [
        "### 분류 실습 - 캐글 신용카드 사기 검출\n",
        "- 해당 데이터 세트의 레이블인 Class 속성은 0과 1로 분류되는데 0은 사기가 아닌 정상적인 신용카드 트랜잭션 데이터, 1은 신용카드 사기 트랜잭션을 의미한다.\n",
        "- 전체 데이터의 약 0.172%만이 레이블 값이 1인 사기 트랜잭션으로, Class는 매우 불균형한 분포를 가지고 있다.\n",
        "- 일반적으로 사기 검출이나 이상 검출과 같은 데이터 세트에서는 사기와 같은 이상 현상은 전체에서 차지하는 비중이 매우 적을 수밖에 없으므로, 이처럼 레이블 값이 극도로 불균형한 분포를 가지기 쉽다."
      ],
      "metadata": {
        "id": "qAXL2PJNLuet"
      }
    },
    {
      "cell_type": "markdown",
      "source": [
        "### 분류 실습 - 캐글 신용카드 사기 검출\n",
        "### 1. 언더 샘플링과 오버 샘플링의 이해\n",
        "- 레이블이 불균형한 분포를 가진 데이터 세트를 학습시킬 때 예측 성능의 문제가 발생할 수 있는데, 정상 레이블을 가진 데이터 건수에 비해 이상 레이블을 가지는 데이터 건수가 너무 적기 때문이다.\n",
        "- 즉 이상 레이블을 가지는 데이터 건수는 매우 작기 때문에 제대로 다양한 유형을 학습하지 못하는 반면, 정상 레이블을 가지는 데이터 건수는 매우 많기 때문에 일방적으로 정상 레이블로 치우친 학습을 수행하여 제대로 된 이상 데이터 검출이 어려워지기 쉽다.\n",
        "- 지도학습에서는 극도로 불균형한 레이블 값 분포로 인한 문제점을 해결하기 위해서는 적절한 학습 데이터를 확보하는 방안이 필요한데, 대표적으로 **오버 샘플링**과 **언더 샘플링** 방법이 있으며, 오버 샘플링 방법이 예측 성능상 더 유리한 경우가 많아 주로 사용된다.\n",
        "\n",
        "> **언더 샘플링**(Undersampling)\n",
        " - 언더 샘플링은 **많은 데이터 세트를 적은 데이터 세트 수준으로 감소**시키는 방법이다.\n",
        " - 예를 들어 정상 레이블을 가진 데이터가 10000건, 이상 레이블을 가진 데이터가 100건이 있으면 정상 레이블 데이터를 100건으로 줄여버리는 방식이다.\n",
        " - 정상 레이블 데이터를 이상 레이블 데이터 수준으로 줄여버린 상태에서 학습을 수행하면 과도하게 정상 레이블로 학습 및 예측하는 부작용을 개선할 수 있지만, 너무 많은 정상 레이블 데이터를 감소시키므로 정상 레이블의 경우 오히려 제대로 된 학습을 수행할 수 없다는 단점이 있어 잘 적용하지 않는 방법이다.\n",
        "\n",
        "> **오버 샘플링**(Oversampling)\n",
        " - 오버 샘플링은 **이상 데이터와 같이 적은 데이터 세트를 증식하여 학습을 위한 충분한 데이터를 확보**하는 방법이다.\n",
        " - 동일한 데이터를 단순히 증식하는 방법은 과적합되어 의미가 없으므로, **원본 데이터의 피처 값들을 아주 약간만 변경하여 증식**한다.\n",
        " - 대표적으로 SMOTE 방법이 있는데, 적은 데이터 세트에 있는 개별 데이터들의 K 최근접 이웃을 찾아서 이 데이터와 K개 이웃들의 차이를 일정 값으로 만들어서 기존 데이터와 약간 차이가 나는 새로운 데이터를 생성하는 방법이다."
      ],
      "metadata": {
        "id": "DNT4x3_OQ4XW"
      }
    },
    {
      "cell_type": "markdown",
      "source": [
        "### 분류 실습 - 캐글 신용카드 사기 검출\n",
        "### 2. 데이터 전처리 및 모델 학습/예측/평가\n",
        "- Time 피처의 경우는 데이터 생성 관련한 작업용 속성으로 큰 의미가 없으므로 드롭한다.\n",
        "- Amount 피처는 신용카드 트랜잭션 금액을 의미하며, Class는 레이블로 0의 경우에는 정상, 1의 경우에는 사기 트랜잭션이다.\n",
        "- 전체 284807개의 자료에서 결측치 값은 없으며, Class 레이블만 int형이고 나머지 피처들은 모두 float형이다."
      ],
      "metadata": {
        "id": "QEVgMyWaTlqG"
      }
    },
    {
      "cell_type": "code",
      "source": [
        "import warnings\n",
        "warnings.filterwarnings(\"ignore\")\n",
        "\n",
        "card_df = pd.read_csv(\"/content/drive/MyDrive/ESAA/data/creditcard.csv\")\n",
        "card_df.head(3)"
      ],
      "metadata": {
        "colab": {
          "base_uri": "https://localhost:8080/",
          "height": 237
        },
        "id": "rrcu6_JoUfeL",
        "outputId": "c4c63e1c-5cdc-44c8-82ec-4a3eee977e88"
      },
      "execution_count": null,
      "outputs": [
        {
          "output_type": "execute_result",
          "data": {
            "text/plain": [
              "   Time        V1        V2        V3        V4        V5        V6        V7  \\\n",
              "0   0.0 -1.359807 -0.072781  2.536347  1.378155 -0.338321  0.462388  0.239599   \n",
              "1   0.0  1.191857  0.266151  0.166480  0.448154  0.060018 -0.082361 -0.078803   \n",
              "2   1.0 -1.358354 -1.340163  1.773209  0.379780 -0.503198  1.800499  0.791461   \n",
              "\n",
              "         V8        V9  ...       V21       V22       V23       V24       V25  \\\n",
              "0  0.098698  0.363787  ... -0.018307  0.277838 -0.110474  0.066928  0.128539   \n",
              "1  0.085102 -0.255425  ... -0.225775 -0.638672  0.101288 -0.339846  0.167170   \n",
              "2  0.247676 -1.514654  ...  0.247998  0.771679  0.909412 -0.689281 -0.327642   \n",
              "\n",
              "        V26       V27       V28  Amount  Class  \n",
              "0 -0.189115  0.133558 -0.021053  149.62      0  \n",
              "1  0.125895 -0.008983  0.014724    2.69      0  \n",
              "2 -0.139097 -0.055353 -0.059752  378.66      0  \n",
              "\n",
              "[3 rows x 31 columns]"
            ],
            "text/html": [
              "\n",
              "  <div id=\"df-f4670d83-5d3d-459a-9cce-8af385ff2a3c\">\n",
              "    <div class=\"colab-df-container\">\n",
              "      <div>\n",
              "<style scoped>\n",
              "    .dataframe tbody tr th:only-of-type {\n",
              "        vertical-align: middle;\n",
              "    }\n",
              "\n",
              "    .dataframe tbody tr th {\n",
              "        vertical-align: top;\n",
              "    }\n",
              "\n",
              "    .dataframe thead th {\n",
              "        text-align: right;\n",
              "    }\n",
              "</style>\n",
              "<table border=\"1\" class=\"dataframe\">\n",
              "  <thead>\n",
              "    <tr style=\"text-align: right;\">\n",
              "      <th></th>\n",
              "      <th>Time</th>\n",
              "      <th>V1</th>\n",
              "      <th>V2</th>\n",
              "      <th>V3</th>\n",
              "      <th>V4</th>\n",
              "      <th>V5</th>\n",
              "      <th>V6</th>\n",
              "      <th>V7</th>\n",
              "      <th>V8</th>\n",
              "      <th>V9</th>\n",
              "      <th>...</th>\n",
              "      <th>V21</th>\n",
              "      <th>V22</th>\n",
              "      <th>V23</th>\n",
              "      <th>V24</th>\n",
              "      <th>V25</th>\n",
              "      <th>V26</th>\n",
              "      <th>V27</th>\n",
              "      <th>V28</th>\n",
              "      <th>Amount</th>\n",
              "      <th>Class</th>\n",
              "    </tr>\n",
              "  </thead>\n",
              "  <tbody>\n",
              "    <tr>\n",
              "      <th>0</th>\n",
              "      <td>0.0</td>\n",
              "      <td>-1.359807</td>\n",
              "      <td>-0.072781</td>\n",
              "      <td>2.536347</td>\n",
              "      <td>1.378155</td>\n",
              "      <td>-0.338321</td>\n",
              "      <td>0.462388</td>\n",
              "      <td>0.239599</td>\n",
              "      <td>0.098698</td>\n",
              "      <td>0.363787</td>\n",
              "      <td>...</td>\n",
              "      <td>-0.018307</td>\n",
              "      <td>0.277838</td>\n",
              "      <td>-0.110474</td>\n",
              "      <td>0.066928</td>\n",
              "      <td>0.128539</td>\n",
              "      <td>-0.189115</td>\n",
              "      <td>0.133558</td>\n",
              "      <td>-0.021053</td>\n",
              "      <td>149.62</td>\n",
              "      <td>0</td>\n",
              "    </tr>\n",
              "    <tr>\n",
              "      <th>1</th>\n",
              "      <td>0.0</td>\n",
              "      <td>1.191857</td>\n",
              "      <td>0.266151</td>\n",
              "      <td>0.166480</td>\n",
              "      <td>0.448154</td>\n",
              "      <td>0.060018</td>\n",
              "      <td>-0.082361</td>\n",
              "      <td>-0.078803</td>\n",
              "      <td>0.085102</td>\n",
              "      <td>-0.255425</td>\n",
              "      <td>...</td>\n",
              "      <td>-0.225775</td>\n",
              "      <td>-0.638672</td>\n",
              "      <td>0.101288</td>\n",
              "      <td>-0.339846</td>\n",
              "      <td>0.167170</td>\n",
              "      <td>0.125895</td>\n",
              "      <td>-0.008983</td>\n",
              "      <td>0.014724</td>\n",
              "      <td>2.69</td>\n",
              "      <td>0</td>\n",
              "    </tr>\n",
              "    <tr>\n",
              "      <th>2</th>\n",
              "      <td>1.0</td>\n",
              "      <td>-1.358354</td>\n",
              "      <td>-1.340163</td>\n",
              "      <td>1.773209</td>\n",
              "      <td>0.379780</td>\n",
              "      <td>-0.503198</td>\n",
              "      <td>1.800499</td>\n",
              "      <td>0.791461</td>\n",
              "      <td>0.247676</td>\n",
              "      <td>-1.514654</td>\n",
              "      <td>...</td>\n",
              "      <td>0.247998</td>\n",
              "      <td>0.771679</td>\n",
              "      <td>0.909412</td>\n",
              "      <td>-0.689281</td>\n",
              "      <td>-0.327642</td>\n",
              "      <td>-0.139097</td>\n",
              "      <td>-0.055353</td>\n",
              "      <td>-0.059752</td>\n",
              "      <td>378.66</td>\n",
              "      <td>0</td>\n",
              "    </tr>\n",
              "  </tbody>\n",
              "</table>\n",
              "<p>3 rows × 31 columns</p>\n",
              "</div>\n",
              "      <button class=\"colab-df-convert\" onclick=\"convertToInteractive('df-f4670d83-5d3d-459a-9cce-8af385ff2a3c')\"\n",
              "              title=\"Convert this dataframe to an interactive table.\"\n",
              "              style=\"display:none;\">\n",
              "        \n",
              "  <svg xmlns=\"http://www.w3.org/2000/svg\" height=\"24px\"viewBox=\"0 0 24 24\"\n",
              "       width=\"24px\">\n",
              "    <path d=\"M0 0h24v24H0V0z\" fill=\"none\"/>\n",
              "    <path d=\"M18.56 5.44l.94 2.06.94-2.06 2.06-.94-2.06-.94-.94-2.06-.94 2.06-2.06.94zm-11 1L8.5 8.5l.94-2.06 2.06-.94-2.06-.94L8.5 2.5l-.94 2.06-2.06.94zm10 10l.94 2.06.94-2.06 2.06-.94-2.06-.94-.94-2.06-.94 2.06-2.06.94z\"/><path d=\"M17.41 7.96l-1.37-1.37c-.4-.4-.92-.59-1.43-.59-.52 0-1.04.2-1.43.59L10.3 9.45l-7.72 7.72c-.78.78-.78 2.05 0 2.83L4 21.41c.39.39.9.59 1.41.59.51 0 1.02-.2 1.41-.59l7.78-7.78 2.81-2.81c.8-.78.8-2.07 0-2.86zM5.41 20L4 18.59l7.72-7.72 1.47 1.35L5.41 20z\"/>\n",
              "  </svg>\n",
              "      </button>\n",
              "      \n",
              "  <style>\n",
              "    .colab-df-container {\n",
              "      display:flex;\n",
              "      flex-wrap:wrap;\n",
              "      gap: 12px;\n",
              "    }\n",
              "\n",
              "    .colab-df-convert {\n",
              "      background-color: #E8F0FE;\n",
              "      border: none;\n",
              "      border-radius: 50%;\n",
              "      cursor: pointer;\n",
              "      display: none;\n",
              "      fill: #1967D2;\n",
              "      height: 32px;\n",
              "      padding: 0 0 0 0;\n",
              "      width: 32px;\n",
              "    }\n",
              "\n",
              "    .colab-df-convert:hover {\n",
              "      background-color: #E2EBFA;\n",
              "      box-shadow: 0px 1px 2px rgba(60, 64, 67, 0.3), 0px 1px 3px 1px rgba(60, 64, 67, 0.15);\n",
              "      fill: #174EA6;\n",
              "    }\n",
              "\n",
              "    [theme=dark] .colab-df-convert {\n",
              "      background-color: #3B4455;\n",
              "      fill: #D2E3FC;\n",
              "    }\n",
              "\n",
              "    [theme=dark] .colab-df-convert:hover {\n",
              "      background-color: #434B5C;\n",
              "      box-shadow: 0px 1px 3px 1px rgba(0, 0, 0, 0.15);\n",
              "      filter: drop-shadow(0px 1px 2px rgba(0, 0, 0, 0.3));\n",
              "      fill: #FFFFFF;\n",
              "    }\n",
              "  </style>\n",
              "\n",
              "      <script>\n",
              "        const buttonEl =\n",
              "          document.querySelector('#df-f4670d83-5d3d-459a-9cce-8af385ff2a3c button.colab-df-convert');\n",
              "        buttonEl.style.display =\n",
              "          google.colab.kernel.accessAllowed ? 'block' : 'none';\n",
              "\n",
              "        async function convertToInteractive(key) {\n",
              "          const element = document.querySelector('#df-f4670d83-5d3d-459a-9cce-8af385ff2a3c');\n",
              "          const dataTable =\n",
              "            await google.colab.kernel.invokeFunction('convertToInteractive',\n",
              "                                                     [key], {});\n",
              "          if (!dataTable) return;\n",
              "\n",
              "          const docLinkHtml = 'Like what you see? Visit the ' +\n",
              "            '<a target=\"_blank\" href=https://colab.research.google.com/notebooks/data_table.ipynb>data table notebook</a>'\n",
              "            + ' to learn more about interactive tables.';\n",
              "          element.innerHTML = '';\n",
              "          dataTable['output_type'] = 'display_data';\n",
              "          await google.colab.output.renderOutput(dataTable, element);\n",
              "          const docLink = document.createElement('div');\n",
              "          docLink.innerHTML = docLinkHtml;\n",
              "          element.appendChild(docLink);\n",
              "        }\n",
              "      </script>\n",
              "    </div>\n",
              "  </div>\n",
              "  "
            ]
          },
          "metadata": {},
          "execution_count": 32
        }
      ]
    },
    {
      "cell_type": "code",
      "source": [
        "card_df.info()"
      ],
      "metadata": {
        "colab": {
          "base_uri": "https://localhost:8080/"
        },
        "id": "Eafoo2P5Ut6h",
        "outputId": "14cfdd5a-2776-47d0-f045-3ebe730fea5b"
      },
      "execution_count": null,
      "outputs": [
        {
          "output_type": "stream",
          "name": "stdout",
          "text": [
            "<class 'pandas.core.frame.DataFrame'>\n",
            "RangeIndex: 284807 entries, 0 to 284806\n",
            "Data columns (total 31 columns):\n",
            " #   Column  Non-Null Count   Dtype  \n",
            "---  ------  --------------   -----  \n",
            " 0   Time    284807 non-null  float64\n",
            " 1   V1      284807 non-null  float64\n",
            " 2   V2      284807 non-null  float64\n",
            " 3   V3      284807 non-null  float64\n",
            " 4   V4      284807 non-null  float64\n",
            " 5   V5      284807 non-null  float64\n",
            " 6   V6      284807 non-null  float64\n",
            " 7   V7      284807 non-null  float64\n",
            " 8   V8      284807 non-null  float64\n",
            " 9   V9      284807 non-null  float64\n",
            " 10  V10     284807 non-null  float64\n",
            " 11  V11     284807 non-null  float64\n",
            " 12  V12     284807 non-null  float64\n",
            " 13  V13     284807 non-null  float64\n",
            " 14  V14     284807 non-null  float64\n",
            " 15  V15     284807 non-null  float64\n",
            " 16  V16     284807 non-null  float64\n",
            " 17  V17     284807 non-null  float64\n",
            " 18  V18     284807 non-null  float64\n",
            " 19  V19     284807 non-null  float64\n",
            " 20  V20     284807 non-null  float64\n",
            " 21  V21     284807 non-null  float64\n",
            " 22  V22     284807 non-null  float64\n",
            " 23  V23     284807 non-null  float64\n",
            " 24  V24     284807 non-null  float64\n",
            " 25  V25     284807 non-null  float64\n",
            " 26  V26     284807 non-null  float64\n",
            " 27  V27     284807 non-null  float64\n",
            " 28  V28     284807 non-null  float64\n",
            " 29  Amount  284807 non-null  float64\n",
            " 30  Class   284807 non-null  int64  \n",
            "dtypes: float64(30), int64(1)\n",
            "memory usage: 67.4 MB\n"
          ]
        }
      ]
    },
    {
      "cell_type": "markdown",
      "source": [
        "### 분류 실습 - 캐글 신용카드 사기 검출\n",
        "### 2. 데이터 전처리 및 모델 학습/예측/평가\n",
        "- 실습을 위해 인자로 입력된 DataFrame을 복사한 뒤 이를 가공하여 반환하는 get_preprocessed_df() 함수와 데이터 가공 후 학습 데이터 세트와 테스트 데이터 세트를 반환하는 get_train_test_dataset() 함수를 생성한다.\n",
        "- get_preprocessed_df() 함수는 입력된 DataFrame을 복사하고 'Time' 칼럼을 드롭한다.\n",
        "- get_train_test_dataset() 함수는 train_test_split() 함수를 호출하여 테스트 데이터 세트를 전체의 30%인 **Stratified 방식으로 추출**하여 학습 데이터 세트와 테스트 데이터 세트의 **레이블 값 분포도를 서로 동일**하게 생성한다.\n",
        "- 생성한 학습 데이터 세트와 테스트 데이터 세트의 레이블 값 비율을 백분율로 환산하여 서로 비슷하게 분할되었는지 확인한다.\n",
        "- 학습 데이터 세트 레이블의 경우 1값이 약 0.172%, 테스트 데이터 세트 레이블의 경우 1값이 약 0.173%로 큰 차이 없이 비슷하게 잘 분할되었다."
      ],
      "metadata": {
        "id": "kg-VBPXeZMoj"
      }
    },
    {
      "cell_type": "code",
      "source": [
        "# 인자로 입력된 DataFrame을 복사한 뒤 Time 칼럼만을 제거하고 복사된 DataFrame을 반환\n",
        "def get_preprocessed_df(df=None):\n",
        "    df_copy = df.copy()\n",
        "    df_copy.drop('Time', axis=1, inplace=True)\n",
        "    return df_copy\n",
        "\n",
        "# 사전 데이터 가공 후 학습 데이터 세트와 테스트 데이터 세트를 반환\n",
        "def get_train_test_dataset(df=None):\n",
        "    # 사전 데이터 가공이 완료된 복사 DataFrame을 반환\n",
        "    df_copy = get_preprocessed_df(df)\n",
        "    # DataFrame의 맨 마지막 칼럼은 레이블, 나머지 칼럼은 피처\n",
        "    X_features = df_copy.iloc[:, :-1]\n",
        "    y_target = df_copy.iloc[:, -1]\n",
        "    # train_test_split()으로 학습과 테스트 데이터 분할\n",
        "    X_train, X_test, y_train, y_test = train_test_split(X_features, y_target, test_size=0.3, random_state=0, stratify=y_target) # Stratified 기반 분할\n",
        "    # 학습 데이터 세트와 테스트 데이터 세트 반환\n",
        "    return X_train, X_test, y_train, y_test\n",
        "\n",
        "X_train, X_test, y_train, y_test = get_train_test_dataset(card_df)"
      ],
      "metadata": {
        "id": "Uf6pR4ZNYqQL"
      },
      "execution_count": null,
      "outputs": []
    },
    {
      "cell_type": "code",
      "source": [
        "# 학습 데이터 세트와 테스트 데이터 세트의 레이블 값 비율을 백분율로 환산하여 서로 비슷하게 분할되었는지 확인\n",
        "print(\"학습 데이터 세트 레이블 값 비율\")\n",
        "print(y_train.value_counts()/y_train.shape[0] * 100)\n",
        "print(\"테스트 데이터 세트 레이블 값 비율\")\n",
        "print(y_test.value_counts()/y_test.shape[0] * 100)"
      ],
      "metadata": {
        "colab": {
          "base_uri": "https://localhost:8080/"
        },
        "id": "3wy5s8iPbv-O",
        "outputId": "86f7019f-9e89-478a-a3f8-a28947981708"
      },
      "execution_count": null,
      "outputs": [
        {
          "output_type": "stream",
          "name": "stdout",
          "text": [
            "학습 데이터 세트 레이블 값 비율\n",
            "0    99.827451\n",
            "1     0.172549\n",
            "Name: Class, dtype: float64\n",
            "테스트 데이터 세트 레이블 값 비율\n",
            "0    99.826785\n",
            "1     0.173215\n",
            "Name: Class, dtype: float64\n"
          ]
        }
      ]
    },
    {
      "cell_type": "markdown",
      "source": [
        "### 분류 실습 - 캐글 신용카드 사기 검출\n",
        "### 2. 데이터 전처리 및 모델 학습/예측/평가\n",
        "- 로지스틱 회귀와 LightGBM 기반의 모델을 이용하여 학습과 예측을 수행하면서 예측 성능을 평가한다.\n",
        "- 예측 성능 평가는 유틸리티 함수 get_clf_eval() 함수를 사용한다.\n",
        "- 로지스틱 회귀는 **`LogisticRegression`** 클래스를 이용한다."
      ],
      "metadata": {
        "id": "xcOsP0OZcc8I"
      }
    },
    {
      "cell_type": "code",
      "source": [
        "from sklearn.metrics import confusion_matrix, accuracy_score, precision_score, recall_score, f1_score, roc_auc_score\n",
        "\n",
        "def get_clf_eval(Y_test, pred, pred_proba):\n",
        "    confusion = confusion_matrix(Y_test, pred)\n",
        "    accuracy = accuracy_score(Y_test, pred)\n",
        "    precision = precision_score(Y_test, pred)\n",
        "    recall = recall_score(Y_test, pred)\n",
        "    f1 = f1_score(Y_test, pred)\n",
        "    roc_auc = roc_auc_score(Y_test, pred_proba)\n",
        "    print(\"오차 행렬\")\n",
        "    print(confusion)\n",
        "    print(\"정확도: {0:.4f}, 정밀도: {1:.4f}, 재현율: {2:.4f}, F1: {3:.4f}, AUC: {4:.4f}\".format(accuracy, precision, recall, f1, roc_auc))"
      ],
      "metadata": {
        "id": "MQ1DsSeVc94Q"
      },
      "execution_count": null,
      "outputs": []
    },
    {
      "cell_type": "code",
      "source": [
        "from sklearn.linear_model import LogisticRegression\n",
        "\n",
        "lr_clf = LogisticRegression()\n",
        "lr_clf.fit(X_train, y_train)\n",
        "lr_pred = lr_clf.predict(X_test)\n",
        "lr_pred_proba = lr_clf.predict_proba(X_test)[:, 1]\n",
        "\n",
        "get_clf_eval(y_test, lr_pred, lr_pred_proba)"
      ],
      "metadata": {
        "colab": {
          "base_uri": "https://localhost:8080/"
        },
        "id": "b8lam_QvdO3E",
        "outputId": "b69ffb65-8766-4135-9631-a02052ddb6fa"
      },
      "execution_count": null,
      "outputs": [
        {
          "output_type": "stream",
          "name": "stdout",
          "text": [
            "오차 행렬\n",
            "[[85281    14]\n",
            " [   56    92]]\n",
            "정확도: 0.9992, 정밀도: 0.8679, 재현율: 0.6216, F1: 0.7244, AUC: 0.9609\n"
          ]
        }
      ]
    },
    {
      "cell_type": "markdown",
      "source": [
        "### 분류 실습 - 캐글 신용카드 사기 검출\n",
        "### 2. 데이터 전처리 및 모델 학습/예측/평가\n",
        "- 앞으로 모델 학습/예측/평가는 반복적으로 수행할 것이므로 이를 위한 별도의 함수를 생성한다.\n",
        "- get_model_train_eval() 함수는 인자로 **사이킷런의 Estimator 객체**와 **학습 데이터 세트/테스트 데이터 세트**를 입력 받아서 **학습, 예측, 평가를 수행**한다.\n",
        "- LightGBM은 **`LGBMClassifier`** 클래스를 이용한다.\n",
        "- 주어진 데이터 세트는 극도로 불균형한 레이블 값 분포도를 가지고 있으므로 LightGBMClassifier 객체 생성시 `boost_from_average=False`로 파라미터를 설정한다.\n",
        "- 로지스틱 회귀보다는 높은 수치를 나타낸다."
      ],
      "metadata": {
        "id": "25OHumNFd3ox"
      }
    },
    {
      "cell_type": "code",
      "source": [
        "# 인자로 사이킷런의 Estimator 객체와 학습 데이터 세트/테스트 데이터 세트를 입력 받아서 학습/예측/평가를 수행\n",
        "def get_model_train_eval(model, ftr_train=None, ftr_test=None, tgt_train=None, tgt_test=None):\n",
        "    model.fit(ftr_train, tgt_train)\n",
        "    pred = model.predict(ftr_test)\n",
        "    pred_proba = model.predict_proba(ftr_test)[:, 1]\n",
        "    get_clf_eval(tgt_test, pred, pred_proba)"
      ],
      "metadata": {
        "id": "rdwdcqYQdq-y"
      },
      "execution_count": null,
      "outputs": []
    },
    {
      "cell_type": "code",
      "source": [
        "from lightgbm import LGBMClassifier\n",
        "\n",
        "lgbm_clf = LGBMClassifier(n_estimators=1000, num_leaves=64, n_jobs=-1, boost_from_average=False)\n",
        "get_model_train_eval(lgbm_clf, ftr_train=X_train, ftr_test=X_test, tgt_train=y_train, tgt_test=y_test)"
      ],
      "metadata": {
        "colab": {
          "base_uri": "https://localhost:8080/"
        },
        "id": "lEHtGETDfLF6",
        "outputId": "d877463b-ad3b-41cf-8d16-20336952239a"
      },
      "execution_count": null,
      "outputs": [
        {
          "output_type": "stream",
          "name": "stdout",
          "text": [
            "오차 행렬\n",
            "[[85290     5]\n",
            " [   35   113]]\n",
            "정확도: 0.9995, 정밀도: 0.9576, 재현율: 0.7635, F1: 0.8496, AUC: 0.9786\n"
          ]
        }
      ]
    },
    {
      "cell_type": "markdown",
      "source": [
        "### 분류 실습 - 캐글 신용카드 사기 검출\n",
        "### 3. 데이터 분포도 변환 후 모델 학습/예측/평가\n",
        "- 왜곡된 분포도를 가지는 데이터를 재가공한 뒤에 모델을 다시 테스트한다.\n",
        "- 데이터의 Amount 피처는 신용 카드 사용 금액으로 정상/사기 트랜잭션을 결정하는 매우 중요한 속성일 가능성이 높으므로, Amount 피처의 분포도를 확인한다.\n",
        "- Amount, 즉 카드 사용 금액이 1000불 이하인 데이터가 대부분이며, 27000불까지 드물지만 많은 금액을 사용한 경우가 발생하면서 꼬리가 긴 형태의 분포 곡선을 나타낸다."
      ],
      "metadata": {
        "id": "5xcqk6INixhb"
      }
    },
    {
      "cell_type": "code",
      "source": [
        "import seaborn as sns\n",
        "plt.figure(figsize=(8,4))\n",
        "plt.xticks(range(0, 30000, 1000), rotation=60)\n",
        "sns.distplot(card_df['Amount'])"
      ],
      "metadata": {
        "colab": {
          "base_uri": "https://localhost:8080/",
          "height": 321
        },
        "id": "bNelth_Qfnat",
        "outputId": "c0ceccf5-6734-4c72-8596-70cf08ebaa2e"
      },
      "execution_count": null,
      "outputs": [
        {
          "output_type": "execute_result",
          "data": {
            "text/plain": [
              "<matplotlib.axes._subplots.AxesSubplot at 0x7fdd95901ad0>"
            ]
          },
          "metadata": {},
          "execution_count": 44
        },
        {
          "output_type": "display_data",
          "data": {
            "text/plain": [
              "<Figure size 576x288 with 1 Axes>"
            ],
            "image/png": "[encoded data removed]"
          },
          "metadata": {
            "needs_background": "light"
          }
        }
      ]
    },
    {
      "cell_type": "markdown",
      "source": [
        "### 분류 실습 - 캐글 신용카드 사기 검출\n",
        "### 3. 데이터 분포도 변환 후 모델 학습/예측/평가\n",
        "- Amount 값을 **표준 정규 분포 형태로 변환**한 뒤에 로지스틱 회귀와 LightGBM의 예측 성능을 측정한다.\n",
        "- 앞에서 만든 get_preprocessed_df() 함수를 사이킷런의 **`StandardScaler`** 클래스를 이용하여 Amount 피처를 정규 분포 형태로 변환하는 로직으로 변경한다.\n",
        "- 수정한 get_preprocessed_df() 함수가 반영된 get_train_test_dataset()을 호출하여 학습 데이터 세트와 테스트 데이터 세트를 생성한 후에 get_model_train_eval()를 이용하여 로지스틱 회귀와 LigthGBM 모델을 각각 학습/예측/평가한다.\n",
        "- 두 모델 모두 Amount 피처값을 정규 분포 형태로 변환하기 이전과 비교하여 성능이 크게 개선되지는 않았다."
      ],
      "metadata": {
        "id": "NOc90nHzkDoe"
      }
    },
    {
      "cell_type": "code",
      "source": [
        "from sklearn.preprocessing import StandardScaler\n",
        "\n",
        "def get_preprocessed_df(df=None):\n",
        "    df_copy = df.copy()\n",
        "    scaler = StandardScaler()\n",
        "    # Amount 칼럼을 정규 분포로 변환\n",
        "    amount_n = scaler.fit_transform(df_copy['Amount'].values.reshape(-1,1))\n",
        "    # 변환된 Amount를 Amount_Scaled로 피처명을 변경한 후 DataFrame의 맨 앞 칼럼으로 입력\n",
        "    df_copy.insert(0, 'Amount_Scaled', amount_n)\n",
        "    # 기존 Time, Amount 칼럼 삭제\n",
        "    df_copy.drop(['Time', 'Amount'], axis=1, inplace=True)\n",
        "    return df_copy\n",
        "\n",
        "# 사전 데이터 가공 후 학습 데이터 세트와 테스트 데이터 세트를 반환\n",
        "def get_train_test_dataset(df=None):\n",
        "    # 사전 데이터 가공이 완료된 복사 DataFrame을 반환\n",
        "    df_copy = get_preprocessed_df(df)\n",
        "    # DataFrame의 맨 마지막 칼럼은 레이블, 나머지 칼럼은 피처\n",
        "    X_features = df_copy.iloc[:, :-1]\n",
        "    y_target = df_copy.iloc[:, -1]\n",
        "    # train_test_split()으로 학습과 테스트 데이터 분할\n",
        "    X_train, X_test, y_train, y_test = train_test_split(X_features, y_target, test_size=0.3, random_state=0, stratify=y_target) # Stratified 기반 분할\n",
        "    # 학습 데이터 세트와 테스트 데이터 세트 반환\n",
        "    return X_train, X_test, y_train, y_test"
      ],
      "metadata": {
        "id": "uOQTBjVakO0R"
      },
      "execution_count": null,
      "outputs": []
    },
    {
      "cell_type": "code",
      "source": [
        "# Amount를 정규 분포 형태로 변환 후 학습 데이터 세트와 테스트 데이터 세트 생성\n",
        "X_train, X_test, y_train, y_test = get_train_test_dataset(card_df)\n",
        "\n",
        "# 로지스틱 회귀 학습/예측/평가 수행\n",
        "print(\"### 로지스틱 회귀 예측 성능 ###\")\n",
        "lr_clf = LogisticRegression()\n",
        "get_model_train_eval(lr_clf, ftr_train=X_train, ftr_test=X_test, tgt_train=y_train, tgt_test=y_test)\n",
        "\n",
        "# LigthGBM 학습/예측/평가 수행\n",
        "print(\"### LightGBM 예측 성능 ###\")\n",
        "lgbm_clf = LGBMClassifier(n_estimators=1000, num_leaves=64, n_jobs=-1)\n",
        "get_model_train_eval(lgbm_clf, ftr_train=X_train, ftr_test=X_test, tgt_train=y_train, tgt_test=y_test)"
      ],
      "metadata": {
        "colab": {
          "base_uri": "https://localhost:8080/"
        },
        "id": "-jUhGauyknZf",
        "outputId": "a6f74c39-0775-4850-857e-65c6f36a6aea"
      },
      "execution_count": null,
      "outputs": [
        {
          "output_type": "stream",
          "name": "stdout",
          "text": [
            "### 로지스틱 회귀 예측 성능 ###\n",
            "오차 행렬\n",
            "[[85281    14]\n",
            " [   58    90]]\n",
            "정확도: 0.9992, 정밀도: 0.8654, 재현율: 0.6081, F1: 0.7143, AUC: 0.9702\n",
            "### LightGBM 예측 성능 ###\n",
            "오차 행렬\n",
            "[[85263    32]\n",
            " [  107    41]]\n",
            "정확도: 0.9984, 정밀도: 0.5616, 재현율: 0.2770, F1: 0.3710, AUC: 0.6383\n"
          ]
        }
      ]
    },
    {
      "cell_type": "markdown",
      "source": [
        "### 분류 실습 - 캐글 신용카드 사기 검출\n",
        "### 3. 데이터 분포도 변환 후 모델 학습/예측/평가\n",
        "- 이번에는 표준화 대신 **로그 변환**을 수행하는데, 로그 변환은 데이터 분포도가 심하게 왜곡되어 있을 경우 적용하는 중요 기법 중 하나이다.\n",
        "- 원래 값을 log 값으로 변환하므로 원래의 큰 값을 상대적으로 작은 값으로 변환한기 때문에 데이터 분포도의 왜곡을 상당 수준 개선한다.\n",
        "- 로그 변환은 넘파이의 **`log1p()`** 함수를 이용하여 변환이 가능하다.\n",
        "- 데이터 가공 함수인 get_preprocessed_df()를 로그 변환 로직으로 변경한다.\n",
        "- Amount 피처를 로그 변환한 후 다시 로지스틱 회귀와 LightGBM 모델을 적용한 후 예측 성능을 확인한다.\n",
        "- 두 모델 모두 정밀도, 재현율, ROC-AUC에서 약간씩 성능이 개선되었다."
      ],
      "metadata": {
        "id": "kefqqSKTnN64"
      }
    },
    {
      "cell_type": "code",
      "source": [
        "def get_preprocessed_df(df=None):\n",
        "    df_copy = df.copy()\n",
        "    # 넘파이의 log1p()를 이용하여 Amount 칼럼을 로그 변환\n",
        "    amount_n = np.log1p(df_copy['Amount'])\n",
        "    # 변환된 Amount를 Amount_Scaled로 피처명을 변경한 후 DataFrame의 맨 앞 칼럼으로 입력\n",
        "    df_copy.insert(0, 'Amount_Scaled', amount_n)\n",
        "    # 기존 Time, Amount 칼럼 삭제\n",
        "    df_copy.drop(['Time', 'Amount'], axis=1, inplace=True)\n",
        "    return df_copy\n",
        "\n",
        "# 사전 데이터 가공 후 학습 데이터 세트와 테스트 데이터 세트를 반환\n",
        "def get_train_test_dataset(df=None):\n",
        "    # 사전 데이터 가공이 완료된 복사 DataFrame을 반환\n",
        "    df_copy = get_preprocessed_df(df)\n",
        "    # DataFrame의 맨 마지막 칼럼은 레이블, 나머지 칼럼은 피처\n",
        "    X_features = df_copy.iloc[:, :-1]\n",
        "    y_target = df_copy.iloc[:, -1]\n",
        "    # train_test_split()으로 학습과 테스트 데이터 분할\n",
        "    X_train, X_test, y_train, y_test = train_test_split(X_features, y_target, test_size=0.3, random_state=0, stratify=y_target) # Stratified 기반 분할\n",
        "    # 학습 데이터 세트와 테스트 데이터 세트 반환\n",
        "    return X_train, X_test, y_train, y_test"
      ],
      "metadata": {
        "id": "OgM41xbOn1n4"
      },
      "execution_count": null,
      "outputs": []
    },
    {
      "cell_type": "code",
      "source": [
        "# Amount를 정규 분포 형태로 변환 후 학습 데이터 세트와 테스트 데이터 세트 생성\n",
        "X_train, X_test, y_train, y_test = get_train_test_dataset(card_df)\n",
        "\n",
        "# 로지스틱 회귀 학습/예측/평가 수행\n",
        "print(\"### 로지스틱 회귀 예측 성능 ###\")\n",
        "lr_clf = LogisticRegression()\n",
        "get_model_train_eval(lr_clf, ftr_train=X_train, ftr_test=X_test, tgt_train=y_train, tgt_test=y_test)\n",
        "\n",
        "# LigthGBM 학습/예측/평가 수행\n",
        "print(\"### LightGBM 예측 성능 ###\")\n",
        "lgbm_clf = LGBMClassifier(n_estimators=1000, num_leaves=64, n_jobs=-1)\n",
        "get_model_train_eval(lgbm_clf, ftr_train=X_train, ftr_test=X_test, tgt_train=y_train, tgt_test=y_test)"
      ],
      "metadata": {
        "colab": {
          "base_uri": "https://localhost:8080/"
        },
        "id": "F0RGZrJMoEuv",
        "outputId": "7f9afecf-8b54-48a6-dd1b-f9b201e8c3cc"
      },
      "execution_count": null,
      "outputs": [
        {
          "output_type": "stream",
          "name": "stdout",
          "text": [
            "### 로지스틱 회귀 예측 성능 ###\n",
            "오차 행렬\n",
            "[[85283    12]\n",
            " [   59    89]]\n",
            "정확도: 0.9992, 정밀도: 0.8812, 재현율: 0.6014, F1: 0.7149, AUC: 0.9727\n",
            "### LightGBM 예측 성능 ###\n",
            "오차 행렬\n",
            "[[85266    29]\n",
            " [   65    83]]\n",
            "정확도: 0.9989, 정밀도: 0.7411, 재현율: 0.5608, F1: 0.6385, AUC: 0.7801\n"
          ]
        }
      ]
    },
    {
      "cell_type": "markdown",
      "source": [
        "### 분류 실습 - 캐글 신용카드 사기 검출\n",
        "### 4. 이상치 데이터 제거 후 모델 학습/예측/평가\n",
        "- 이상치 데이터(Outlier)는 전체 데이터의 패턴에서 벗어난 이상 값을 가진 데이터로, 이상치로 인해 머신러닝 모델의 성능에 영향을 받는 경우가 발생하기 쉽다.\n",
        "- 이상치를 찾는 방법은 여러 가지가 있지만, 이 중에서 IQR(Inter Quantile Range) 방식은 사분위 값의 편차를 이용하는 기법으로 흔히 박스 플롯(Box Plot) 방식으로 시각화할 수 있다.\n",
        "- 사분위는 전체 데이터를 값이 높은 순으로 정렬하고 이를 1/4(25%)씩 구간을 분할하여 각 구간을 Q1, Q2, Q3, Q4로 지칭하는 것이다. 이들 중 25% 구간인 Q1부터 75% 구간인 Q3까지의 범위를 IQR이라고 한다.\n",
        "- IQR을 이용하여 이상치 데이터를 검출하는 방식은 보통 **IQR에 1.5를 곱해서 생성된 범위**를 이용하여 최댓값과 최솟값을 결정한 뒤, **최댓값을 초과하거나 최솟값에 미달하는 데이터를 이상치로 간주**하는 것이다.\n",
        "- IQR을 이용하여 이상치를 제거하기 위해서는 먼저 어떤 피처의 이상치 데이터를 검출할 것인지 선택해야 한다. 매우 많은 피처가 있을 경우 이들 중 결정값인 **레이블과 가장 상관성이 높은 피처들을 위주로 이상치를 검출**하는 것이 좋다. 모든 피처들의 이상치를 검출하는 것은 많은 시간이 소요되며, 결정값과 상관성이 높지 않은 피처들의 경우 이상치를 제거하더라도 크게 성능 향상에 기여하지 않기 때문이다.\n",
        "- DataFrame의 **`corr()`** 함수를 이용하여 각 피처별로 상관도를 구한 뒤, seaborn의 heatmap을 통해 시각화한다."
      ],
      "metadata": {
        "id": "R6ULqCnZpvpy"
      }
    },
    {
      "cell_type": "code",
      "source": [
        "plt.figure(figsize=(9, 9))\n",
        "corr = card_df.corr()\n",
        "sns.heatmap(corr, cmap=\"RdBu\")"
      ],
      "metadata": {
        "colab": {
          "base_uri": "https://localhost:8080/",
          "height": 589
        },
        "id": "g_lEX0RlrwmK",
        "outputId": "3038ef40-5724-48b9-a99e-ad64a08f12b7"
      },
      "execution_count": null,
      "outputs": [
        {
          "output_type": "execute_result",
          "data": {
            "text/plain": [
              "<matplotlib.axes._subplots.AxesSubplot at 0x7fdd92e687d0>"
            ]
          },
          "metadata": {},
          "execution_count": 59
        },
        {
          "output_type": "display_data",
          "data": {
            "text/plain": [
              "<Figure size 648x648 with 2 Axes>"
            ],
            "image/png": "[encoded data removed]"
          },
          "metadata": {
            "needs_background": "light"
          }
        }
      ]
    },
    {
      "cell_type": "markdown",
      "source": [
        "### 분류 실습 - 캐글 신용카드 사기 검출\n",
        "### 4. 이상치 데이터 제거 후 모델 학습/예측/평가\n",
        "- 상관관계 히트맵에서 `cmap`을 \"RdBu\"로 지정하여 **양의 상관관계**가 높을수록 색깔이 **진한 파란색**에 가까우며, **음의 상관관계**가 높을수록 색깔이 **진한 빨강색**에 가깝게 표현된다.\n",
        "- 가장 마지막에 위치한 결정 레이블 Class 피처와 음의 상관관계가 가장 높은 피처는 V14와 V17이며, 이중 V14에 대하여 이상치를 찾아서 제거한다.\n",
        "- IQR을 이용하여 이상치를 검출하는 함수 get_outlier()를 생성하고, 이를 이용하여 검출된 이상치를 삭제한다.\n",
        "- get_outlier() 함수는 인자로 DataFrame과 이상치를 검출할 칼럼을 입력 받고, 함수 내에서 넘파이의 **`percentile()`**을 이용하여 1/4 분위(Q1)와 3/4 분위(Q3)을 구하고 이에 기반하여 IQR을 계산한다. 계산된 IQR에 1.5를 곱해서 최댓값과 최솟값 지점을 구하고, 최댓값보다 크거나 최솟값보다 작은 값을 이상치로 설정하고 해당 이상치가 있는 DataFrame의 Index를 반환한다.\n",
        "- 총 4개의 데이터인 8296, 8615, 9035, 9252번 Index가 이상치로 추출되었다."
      ],
      "metadata": {
        "id": "JTuAEK9JsCnG"
      }
    },
    {
      "cell_type": "code",
      "source": [
        "def get_outlier(df=None, column=None, weight=1.5):\n",
        "    # fraud에 해당하는 column 데이터만 추출\n",
        "    fraud = df[df['Class']==1][column]\n",
        "    # 1/4 분위와 3/4 분위 지점을 np.percentile로 구함\n",
        "    quantile_25 = np.percentile(fraud.values, 25)\n",
        "    quantile_75 = np.percentile(fraud.values, 75)\n",
        "    # IQR를 구하고, 1.5를 곱해 최댓값과 최솟값 지점을 구함\n",
        "    iqr = quantile_75 - quantile_25\n",
        "    iqr_weight = iqr * weight\n",
        "    lowest_val = quantile_25 - iqr_weight # 최솟값\n",
        "    highest_val = quantile_75 + iqr_weight # 최댓값\n",
        "    # 최댓값보다 크거나 최솟값보다 작은 값을 이상치 데이터로 설정하고 DataFrame Index를 반환\n",
        "    outlier_index = fraud[ (fraud < lowest_val) | (fraud > highest_val) ].index\n",
        "    return outlier_index\n",
        "\n",
        "outlier_index = get_outlier(df=card_df, column=\"V14\", weight=1.5)\n",
        "print(\"이상치 데이터 인덱스:\", outlier_index)"
      ],
      "metadata": {
        "colab": {
          "base_uri": "https://localhost:8080/"
        },
        "id": "oui97xcBr4-1",
        "outputId": "e76c6185-57ee-46ef-8e16-e177e0a5b4e6"
      },
      "execution_count": null,
      "outputs": [
        {
          "output_type": "stream",
          "name": "stdout",
          "text": [
            "이상치 데이터 인덱스: Int64Index([8296, 8615, 9035, 9252], dtype='int64')\n"
          ]
        }
      ]
    },
    {
      "cell_type": "markdown",
      "source": [
        "### 분류 실습 - 캐글 신용카드 사기 검출\n",
        "### 4. 이상치 데이터 제거 후 모델 학습/예측/평가\n",
        "- 데이터 가공함수인 get_preprocessed_df()에 get_outlier()를 이용하여 이상치를 추출하고 이를 삭제하는 로직을 추가하여 데이터를 가공한다.\n",
        "- get_train_test_dataset() 함수를 이용하여 학습 데이터 세트와 테스트 데이터 세트를 생성하고, get_model_train_eval() 함수를 이용하여 로지스틱 회귀와 LightGBM 모델을 다시 적용하여 예측 성능을 평가한다."
      ],
      "metadata": {
        "id": "W8bYGdILv8_u"
      }
    },
    {
      "cell_type": "code",
      "source": [
        "def get_preprocessed_df(df=None):\n",
        "    df_copy = df.copy()\n",
        "    # 넘파이의 log1p()를 이용하여 Amount 칼럼을 로그 변환\n",
        "    amount_n = np.log1p(df_copy['Amount'])\n",
        "    # 변환된 Amount를 Amount_Scaled로 피처명을 변경한 후 DataFrame의 맨 앞 칼럼으로 입력\n",
        "    df_copy.insert(0, 'Amount_Scaled', amount_n)\n",
        "    # 기존 Time, Amount 칼럼 삭제\n",
        "    df_copy.drop(['Time', 'Amount'], axis=1, inplace=True)\n",
        "    # 이상치 데이터를 삭제하는 로직 추가\n",
        "    outlier_index = get_outlier(df=df_copy, column=\"V14\", weight=1.5)\n",
        "    df_copy.drop(outlier_index, axis=0, inplace=True)\n",
        "    return df_copy\n",
        "\n",
        "# 사전 데이터 가공 후 학습 데이터 세트와 테스트 데이터 세트를 반환\n",
        "def get_train_test_dataset(df=None):\n",
        "    # 사전 데이터 가공이 완료된 복사 DataFrame을 반환\n",
        "    df_copy = get_preprocessed_df(df)\n",
        "    # DataFrame의 맨 마지막 칼럼은 레이블, 나머지 칼럼은 피처\n",
        "    X_features = df_copy.iloc[:, :-1]\n",
        "    y_target = df_copy.iloc[:, -1]\n",
        "    # train_test_split()으로 학습과 테스트 데이터 분할\n",
        "    X_train, X_test, y_train, y_test = train_test_split(X_features, y_target, test_size=0.3, random_state=0, stratify=y_target) # Stratified 기반 분할\n",
        "    # 학습 데이터 세트와 테스트 데이터 세트 반환\n",
        "    return X_train, X_test, y_train, y_test"
      ],
      "metadata": {
        "id": "w8AZiv5jv4NT"
      },
      "execution_count": null,
      "outputs": []
    },
    {
      "cell_type": "code",
      "source": [
        "X_train, X_test, y_train, y_test = get_train_test_dataset(card_df)\n",
        "\n",
        "# 로지스틱 회귀 학습/예측/평가 수행\n",
        "print(\"### 로지스틱 회귀 예측 성능 ###\")\n",
        "lr_clf = LogisticRegression()\n",
        "get_model_train_eval(lr_clf, ftr_train=X_train, ftr_test=X_test, tgt_train=y_train, tgt_test=y_test)\n",
        "\n",
        "# LigthGBM 학습/예측/평가 수행\n",
        "print(\"### LightGBM 예측 성능 ###\")\n",
        "lgbm_clf = LGBMClassifier(n_estimators=1000, num_leaves=64, n_jobs=-1)\n",
        "get_model_train_eval(lgbm_clf, ftr_train=X_train, ftr_test=X_test, tgt_train=y_train, tgt_test=y_test)"
      ],
      "metadata": {
        "colab": {
          "base_uri": "https://localhost:8080/"
        },
        "id": "CtZblURcxBqP",
        "outputId": "11323944-73f3-4f43-f63e-b28fb4262848"
      },
      "execution_count": null,
      "outputs": [
        {
          "output_type": "stream",
          "name": "stdout",
          "text": [
            "### 로지스틱 회귀 예측 성능 ###\n",
            "오차 행렬\n",
            "[[85281    14]\n",
            " [   48    98]]\n",
            "정확도: 0.9993, 정밀도: 0.8750, 재현율: 0.6712, F1: 0.7597, AUC: 0.9743\n",
            "### LightGBM 예측 성능 ###\n",
            "오차 행렬\n",
            "[[85233    62]\n",
            " [  110    36]]\n",
            "정확도: 0.9980, 정밀도: 0.3673, 재현율: 0.2466, F1: 0.2951, AUC: 0.6229\n"
          ]
        }
      ]
    },
    {
      "cell_type": "markdown",
      "source": [
        "### 분류 실습 - 캐글 신용카드 사기 검출\n",
        "### 5. SMOTE 오버 샘플링 적용 후 모델 학습/예측/평가\n",
        "- SMOTE를 적용할 때는 반드시 **학습 데이터 세트만 오버 샘플링**을 해야 하는데, 검증 데이터 세트나 테스트 데이터 세트를 오버 샘플링할 경우 결국은 원본 데이터 세트가 아닌 데이터 세트에서 검증/테스트를 수행하기 때문에 올바른 검증/테스트가 될 수 없기 때문이다.\n",
        "- 앞에서 생성한 학습 피처 데이터와 레이블 데이터를 **SMOTE** 객체의 **`fit_resample()`** 메서드를 이용하여 증식한 뒤, 데이터를 증식 전과 비교한다.\n",
        "- SMOTE 적용 전 학습 데이터 세트는 199362건이었지만, SMOTE 적용 후 2배에 가까운 398040건으로 데이터가 증식되었다. 그리고 SMOTE 적용 후 레이블 값이 0과 1의 분포가 동일하게 199020건으로 생성되었다.\n",
        "- 이렇게 생성된 학습 데이터 세트를 기반으로 먼저 로지스틱 회귀 모델을 학습한 뒤 성능을 평가한다."
      ],
      "metadata": {
        "id": "3qxtXCMKx63w"
      }
    },
    {
      "cell_type": "code",
      "source": [
        "from imblearn.over_sampling import SMOTE\n",
        "\n",
        "smote = SMOTE(random_state=0)\n",
        "X_train_over, y_train_over = smote.fit_resample(X_train, y_train)\n",
        "\n",
        "print(\"SMOTE 적용 전 학습용 피처/레이블 데이터 세트: \", X_train.shape, y_train.shape)\n",
        "print(\"SMOTE 적용 후 학습용 피처/레이블 데이터 세트: \", X_train_over.shape, y_train_over.shape)\n",
        "print(\"SMOTE 적용 후 레이블 값 분포: \\n\", pd.Series(y_train_over).value_counts())"
      ],
      "metadata": {
        "colab": {
          "base_uri": "https://localhost:8080/"
        },
        "id": "pojQm5gJybbR",
        "outputId": "5c20bd66-44e2-4712-f8d3-15eb6ab41da9"
      },
      "execution_count": null,
      "outputs": [
        {
          "output_type": "stream",
          "name": "stdout",
          "text": [
            "SMOTE 적용 전 학습용 피처/레이블 데이터 세트:  (199362, 29) (199362,)\n",
            "SMOTE 적용 후 학습용 피처/레이블 데이터 세트:  (398040, 29) (398040,)\n",
            "SMOTE 적용 후 레이블 값 분포: \n",
            " 0    199020\n",
            "1    199020\n",
            "Name: Class, dtype: int64\n"
          ]
        }
      ]
    },
    {
      "cell_type": "code",
      "source": [
        "lr_clf = LogisticRegression()\n",
        "# ftr_train과 tgt_train의 인자값이 SMOTE 증식된 X_train_over와 y_train_over로 변경됨\n",
        "get_model_train_eval(lr_clf, ftr_train=X_train_over, ftr_test=X_test, tgt_train=y_train_over, tgt_test=y_test)"
      ],
      "metadata": {
        "colab": {
          "base_uri": "https://localhost:8080/"
        },
        "id": "Oz5ssg9sy8rE",
        "outputId": "d2ec8d83-6385-436f-e3de-ce55974d32fd"
      },
      "execution_count": null,
      "outputs": [
        {
          "output_type": "stream",
          "name": "stdout",
          "text": [
            "오차 행렬\n",
            "[[82937  2358]\n",
            " [   11   135]]\n",
            "정확도: 0.9723, 정밀도: 0.0542, 재현율: 0.9247, F1: 0.1023, AUC: 0.9737\n"
          ]
        }
      ]
    },
    {
      "cell_type": "markdown",
      "source": [
        "### 분류 실습 - 캐글 신용카드 사기 검출\n",
        "### 5. SMOTE 오버 샘플링 적용 후 모델 학습/예측/평가\n",
        "- 로지스틱 회귀 모델의 경우 SMOTE로 오버 샘플링된 데이터로 학습할 경우 재현율이 92.47%로 크게 증가하지만, 반대로 정밀도가 5.4%로 급격하게 저하된다.\n",
        "- 이는 로지스틱 회귀 모델이 오버 샘플링으로 인해 실제 원본 데이터의 유형보다 너무나 많은 Class=1 데이터를 학습하면서, 실제 테스트 데이터 세트에서 예측을 지나치게 Class=1로 적용하여 정밀도가 급격하게 떨어지게 된 것이다.\n",
        "- 분류 결정 임계값에 따른 정밀도와 재현율 곡선을 그려주는 precision_recall_curve_plot() 함수를 통해 SMOTE로 학습된 로지스틱 회귀 모델에 발생하는 문제점을 시각적으로 확인할 수 있다.\n",
        "- 임계값이 0.99 이하에서는 재현율이 매우 좋고 정밀도가 극단적으로 낮다가 0.99 이상에서는 반대로 재현율이 대폭 떨어지고 정밀도가 높아진다.\n",
        "- 분류 결정 임계값을 조정하더라도 임계값의 민감도가 너무 심해 올바른 재현율/정밀도 성능을 얻을 수 없으므로 로지스틱 회귀 모델의 경우 SMOTE 적용 후 올바른 예측 모델이 생성되지 못 했다."
      ],
      "metadata": {
        "id": "kNKyjFiD1XBt"
      }
    },
    {
      "cell_type": "code",
      "source": [
        "import matplotlib.pyplot as plt\n",
        "import matplotlib.ticker as ticker\n",
        "from sklearn.metrics import precision_recall_curve\n",
        "\n",
        "def precision_recall_curve_plot(Y_test, pred_proba_c1):\n",
        "    # 실제값 데이터 세트와 레이블 값이 1일 때의 예측 확률을 입력하여 threshold array와 이 threshold에 따른 정밀도, 재현율 ndarray 추출\n",
        "    precisions, recalls, thresholds = precision_recall_curve(Y_test, pred_proba_c1)\n",
        "\n",
        "    # X축을 threshold 값으로, Y축은 정밀도, 재현율 값으로 각각 plot 수행하고 정밀도는 점선으로 표시\n",
        "    plt.figure(figsize=(8,6))\n",
        "    threshold_boundary = thresholds.shape[0]\n",
        "    plt.plot(thresholds, precisions[0:threshold_boundary], linestyle='--', label='precision')\n",
        "    plt.plot(thresholds, recalls[0:threshold_boundary], label='recall')\n",
        "\n",
        "    # threshold 값 X축의 Scale을 0.1 단위로 변경\n",
        "    start, end = plt.xlim()\n",
        "    plt.xticks(np.round(np.arange(start, end, 0.1), 2))\n",
        "\n",
        "    # X축, Y축 label과 legend, grid 설정\n",
        "    plt.xlabel(\"Threshold value\")\n",
        "    plt.ylabel(\"Precision and Recall value\")\n",
        "    plt.legend()\n",
        "    plt.grid()\n",
        "    plt.show()\n",
        "\n",
        "precision_recall_curve_plot(y_test, lr_clf.predict_proba(X_test)[:,1])"
      ],
      "metadata": {
        "colab": {
          "base_uri": "https://localhost:8080/",
          "height": 388
        },
        "id": "C6_KDmIS16bJ",
        "outputId": "e7051832-82a3-4d73-833c-7e55a9c6f48b"
      },
      "execution_count": null,
      "outputs": [
        {
          "output_type": "display_data",
          "data": {
            "text/plain": [
              "<Figure size 576x432 with 1 Axes>"
            ],
            "image/png": "[encoded data removed]"
          },
          "metadata": {
            "needs_background": "light"
          }
        }
      ]
    },
    {
      "cell_type": "markdown",
      "source": [
        "### 분류 실습 - 캐글 신용카드 사기 검출\n",
        "### 5. SMOTE 오버 샘플링 적용 후 모델 학습/예측/평가\n",
        "- LigthGBM 모델을 이용하여 SMOTE로 오버 샘플링된 데이터 세트로 학습/예측/평가를 수행한다."
      ],
      "metadata": {
        "id": "Q-3FuFZZ2xWa"
      }
    },
    {
      "cell_type": "code",
      "source": [
        "lgbm_clf = LGBMClassifier(n_estimators=1000, num_leaves=64, n_jobs=-1, boost_from_average=False)\n",
        "get_model_train_eval(lgbm_clf, ftr_train=X_train_over, ftr_test=X_test, tgt_train=y_train_over, tgt_test=y_test)"
      ],
      "metadata": {
        "colab": {
          "base_uri": "https://localhost:8080/"
        },
        "id": "2XrCbD2Q24Rl",
        "outputId": "f19e9047-6f4a-4afa-a4b9-d24974491d77"
      },
      "execution_count": null,
      "outputs": [
        {
          "output_type": "stream",
          "name": "stdout",
          "text": [
            "오차 행렬\n",
            "[[85286     9]\n",
            " [   22   124]]\n",
            "정확도: 0.9996, 정밀도: 0.9323, 재현율: 0.8493, F1: 0.8889, AUC: 0.9789\n"
          ]
        }
      ]
    },
    {
      "cell_type": "markdown",
      "source": [
        "### 분류 실습 - 캐글 신용카드 사기 검출\n",
        "### 5. SMOTE 오버 샘플링 적용 후 모델 학습/예측/평가\n",
        "- 일반적으로 SMOTE를 적용하면 재현율은 높아지나, 정밀도는 낮아진다.\n",
        "- 좋은 SMOTE 패키지일수록 재현율 증가율은 높이고 정밀도 감소율은 낮출 수 있도록 효과적으로 데이터를 증식한다."
      ],
      "metadata": {
        "id": "V5e9hsnp3Prw"
      }
    }
  ]
}