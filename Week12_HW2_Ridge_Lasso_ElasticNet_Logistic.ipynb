{
  "nbformat": 4,
  "nbformat_minor": 0,
  "metadata": {
    "colab": {
      "name": "Week12 HW2 Ridge Lasso ElasticNet Logistic ",
      "provenance": [],
      "collapsed_sections": [],
      "authorship_tag": "ABX9TyNM9Rn/6bYrZq3RIc6atv6t",
      "include_colab_link": true
    },
    "kernelspec": {
      "name": "python3",
      "display_name": "Python 3"
    },
    "language_info": {
      "name": "python"
    }
  },
  "cells": [
    {
      "cell_type": "markdown",
      "metadata": {
        "id": "view-in-github",
        "colab_type": "text"
      },
      "source": [
        "<a href=\"https://colab.research.google.com/github/hida0/ESAA/blob/HW/Week12_HW2_Ridge_Lasso_ElasticNet_Logistic.ipynb\" target=\"_parent\"><img src=\"https://colab.research.google.com/assets/colab-badge.svg\" alt=\"Open In Colab\"/></a>"
      ]
    },
    {
      "cell_type": "markdown",
      "source": [
        "### 개념 정리 & 필사\n",
        "(파이썬 머신러닝 완벽가이드  ch5. 6-8 pg. 319-341)\n",
        "## 1. 규제 선형 모델 - 릿지, 라쏘, 엘라스틱넷\n",
        "### 1-1. 규제 선형 모델의 개요\n",
        "- 좋은 회귀 모델은 적절히 데이터에 적합하면서도 회귀 계수가 기하급수적으로 커지는 것을 제어해야 한다.\n",
        "- 이전까지 선형 모델의 비용 함수는 RSS를 최소화하는, 즉 실제값과 예측값의 차이를 최소화하는 것만 고려했다. 그러다 보니 학습 데이터에 지나치게 맞추게 되고, 회귀 계수가 쉽게 커졌다. 이런 경우 변동성이 오히려 심해져서 테스트 데이터 세트에서 예측 성능이 저하되기 쉽다.\n",
        "- 비용 함수는 학습 데이터의 **오류값을 최소로 하는 RSS 최소화 방법**과 **과적합을 방지하기 위해 회귀 계수 값이 커지지 않도록 하는 방법**이 **서로 균형**을 이뤄야 한다.\n",
        "- 비용 함수 목표 = $Min(RSS(W) + alpha * ||W||_2^2)$\n",
        "- alpha는 학습 데이터 적합 정도와 회귀 계수 값의 크기 제어를 수행하는 튜닝 파라미터로 값에 따라 다른 역할을 한다.\n",
        " - alpha = 0: 비용 함수 식은 기존과 동일한 $Min(RSS(W) + 0)$\n",
        " - alpha = 무한대: 비용 함수 식은 RSS(W)에 비해 $alpha * ||W||_2^2$가 너무 커지므로 **W 값을 0으로** 만들어야 Cost가 최소화되는 비용 함수 목표를 달성할 수 있다.\n",
        " - 즉  alpha 값을 작게 하면 회귀 계수 W 값이 커져도 어느 정도 상쇄가 가능하여 과적합을 개선할 수 있고, alpha 값을 크게 하면 비용 함수는 회귀 계수 W의 값을 작게 하여 과적합을 개선할 수 있다.\n",
        " - alpha를 0에서부터 지속적으로 값을 증가시키면 회귀 계수 값의 크기를 감소시킬 수 있다.\n",
        "\n",
        "- 비용 함수에 alpha 값으로 페널티를 부여하여 회귀 계수 값의 크기를 감소시켜 과적합을 개선하는 방식을 규제(Regularization)라고 한다.\n",
        "- 규제는 크게 L2 방식과 L1 방식으로 구분된다.\n",
        " - L2 규제는 위에서 설명한 바와 같이 $alpha * ||W||_2^2$ 처럼 **W의 제곱에 대해 페널티를 부여하는 방식**을 말하며, **L2 규제를 적용한 회귀를 릿지 회귀**라고 \n",
        "한다.\n",
        "- L1 규제는 $alpha * ||W||_1 처럼$ **W의 절대값에 대해 페널티를 부여하는 방식**을 말하며, **L1 규제를 적용한 회귀를 라쏘 회귀**라고 한다. L1 규제를 적용하면 영향력이 크지 않은 회귀 계수 값을 0으로 변환한다."
      ],
      "metadata": {
        "id": "yvdtgMnXbp4j"
      }
    },
    {
      "cell_type": "markdown",
      "source": [
        "### 2. 릿지(Ridge) 회귀\n",
        "- 사이킷런의 **`Ridge`** 클래스를 이용하여 릿지 회귀를 구현한다.\n",
        "- **`Ridge`** 클래스의 주요 생성 파라미터는 alpha이며, 이는 릿지 회귀의 alpha L2 규제 계수에 해당한다.\n",
        "- 보스턴 주택 가격을 Ridge 클래스를 이용하여 다시 예측하고, 예측 성능을 `cross_val_score()`로 평가한다.\n",
        "- 릿지의 5개 폴드 세트의 평균 RMSE가 5.518로, 규제가 없는 LinearRegression의 RMSE 평균인 5.829보다 더 뛰어난 예측 성능을 보인다.\n",
        "\n"
      ],
      "metadata": {
        "id": "O_eQhmk3fYGD"
      }
    },
    {
      "cell_type": "code",
      "source": [
        "import pandas as pd\n",
        "\n",
        "# boston 데이터 세트 로드\n",
        "from sklearn.datasets import load_boston\n",
        "boston = load_boston()\n",
        "\n",
        "# boston 데이터 세트 DataFrame 변환\n",
        "bostonDF = pd.DataFrame(boston.data, columns=boston.feature_names)\n",
        "\n",
        "# boston 데이터 세트의 target 배열은 주택 가격이며 이를 PRICE 칼럼으로 DataFrame에 추가\n",
        "bostonDF['PRICE'] = boston.target"
      ],
      "metadata": {
        "id": "rtx0ZztHbyf3"
      },
      "execution_count": null,
      "outputs": []
    },
    {
      "cell_type": "code",
      "source": [
        "y_target = bostonDF['PRICE']\n",
        "X_data = bostonDF.drop(['PRICE'], axis=1, inplace=False)\n",
        "\n",
        "from sklearn.linear_model import Ridge\n",
        "# alpha=10으로 설정하여 릿지 회귀를 수행\n",
        "ridge = Ridge(alpha=10)\n",
        "\n",
        "# cross_val_score()로 5개 폴드 세트로 MSE를 구한 뒤 이를 기반으로 다시 RMSE를 구함\n",
        "import numpy as np\n",
        "from sklearn.model_selection import cross_val_score\n",
        "neg_mse_scores = cross_val_score(ridge, X_data, y_target, scoring=\"neg_mean_squared_error\", cv=5) \n",
        "mse_scores = -1 * neg_mse_scores\n",
        "rmse_scores = np.sqrt(mse_scores)\n",
        "avg_rmse = np.mean(rmse_scores)\n",
        "\n",
        "# cross_val_score(scoring=\"neg_mean_squared_error\")로 반환된 값은 모두 음수\n",
        "print(\"5 folds의 개별 Negative MSE scores:\", np.round(neg_mse_scores, 3))\n",
        "print(\"5 folds의 개별 MSE scores:\", np.round(mse_scores, 3))\n",
        "print(\"5 folds의 개별 RMSE scores:\", np.round(rmse_scores, 3))\n",
        "print(\"5 folds의 평균 RMSE: {0:.3f}\".format(avg_rmse))"
      ],
      "metadata": {
        "colab": {
          "base_uri": "https://localhost:8080/"
        },
        "id": "B7zW5j-7mYIK",
        "outputId": "0aefbbf0-7275-417e-a73f-ef3fd2647347"
      },
      "execution_count": null,
      "outputs": [
        {
          "output_type": "stream",
          "name": "stdout",
          "text": [
            "5 folds의 개별 Negative MSE scores: [-11.422 -24.294 -28.144 -74.599 -28.517]\n",
            "5 folds의 개별 MSE scores: [11.422 24.294 28.144 74.599 28.517]\n",
            "5 folds의 개별 RMSE scores: [3.38  4.929 5.305 8.637 5.34 ]\n",
            "5 folds의 평균 RMSE: 5.518\n"
          ]
        }
      ]
    },
    {
      "cell_type": "markdown",
      "source": [
        "### 2. 릿지(Ridge) 회귀\n",
        "- 릿지의 alpha 값을 [0, 0.1, 1, 10, 100]으로 변화시키면서 RMSE와 회귀 계수 값의 변화를 살펴본다.\n",
        "- alpha 값을 변화시키면서 RMSE 값과 각 피처의 회귀 계수를 시각화하고 DataFrame에 저장한다.\n",
        "- 릿지 회귀는 **alpha 값이 커질수록 평균 RMSE가 좋아진다**.\n",
        "- **alpha 값을 계속 증가시킬수록 회귀 계수 값은 지속적으로 작아지며**, 특히 NOX 피처의 경우 alpha 값을 계속 증가시킴에 따라 회귀 계수가 크게 작아진다.\n"
      ],
      "metadata": {
        "id": "mzzkAUR1oBCH"
      }
    },
    {
      "cell_type": "code",
      "source": [
        "# 릿지에 사용될 alpha 파라미터의 값을 정의\n",
        "alphas = [0, 0.1, 1, 10, 100]\n",
        "\n",
        "# alphas list 값을 반복하면서 alpha에 따른 평균 RMSE를 구함\n",
        "for alpha in alphas:\n",
        "    ridge = Ridge(alpha=alpha)\n",
        "\n",
        "    # cross_val_score를 이용하여 5 폴드의 평균 RMSE를 계산\n",
        "    neg_mse_scores = cross_val_score(ridge, X_data, y_target, scoring=\"neg_mean_squared_error\", cv=5)\n",
        "    mse_scores = -1 * neg_mse_scores\n",
        "    rmse_scores = np.sqrt(mse_scores)\n",
        "    avg_rmse = np.mean(rmse_scores)\n",
        "    print(\"alpha {0} 일 때, 5 folds 의 평균 RMSE: {1:.3f}\".format(alpha, avg_rmse))"
      ],
      "metadata": {
        "colab": {
          "base_uri": "https://localhost:8080/"
        },
        "id": "HGkrGdROrF49",
        "outputId": "abb31ec3-c8d3-4952-9da9-4784b1ed21ef"
      },
      "execution_count": null,
      "outputs": [
        {
          "output_type": "stream",
          "name": "stdout",
          "text": [
            "alpha 0 일 때, 5 folds 의 평균 RMSE: 5.829\n",
            "alpha 0.1 일 때, 5 folds 의 평균 RMSE: 5.788\n",
            "alpha 1 일 때, 5 folds 의 평균 RMSE: 5.653\n",
            "alpha 10 일 때, 5 folds 의 평균 RMSE: 5.518\n",
            "alpha 100 일 때, 5 folds 의 평균 RMSE: 5.330\n"
          ]
        }
      ]
    },
    {
      "cell_type": "code",
      "source": [
        "import matplotlib.pyplot as plt\n",
        "import seaborn as sns\n",
        "# 각 alpha에 따른 회귀 계수 값을 시각화하기 위해 1행 5열로 된 맷플롯립 축을 생성\n",
        "fig, axs = plt.subplots(figsize=(18, 6), nrows=1, ncols=5)\n",
        "\n",
        "# 각 alpha에 따른 회귀 계수 값을 데이터로 저장하기 위한 DataFrame을 생성\n",
        "coeff_df = pd.DataFrame()\n",
        "\n",
        "# alphas 리스트 값을 차례로 입력하여 회귀 계수 값을 시각화 및 데이터 저장, pos는 axis의 위치를 지정\n",
        "for pos, alpha in enumerate(alphas):\n",
        "    ridge = Ridge(alpha=alpha)\n",
        "    ridge.fit(X_data, y_target)\n",
        "    # alpha에 따른 피처별로 회귀 계수를 Series로 변환하고 이를 DataFrame의 칼럼으로 추가\n",
        "    coeff = pd.Series(data=ridge.coef_, index=X_data.columns)\n",
        "    colname = \"alpha\"+str(alpha)\n",
        "    coeff_df[colname] = coeff\n",
        "    # 막대 그래프로 각 alpha 값에서의 회귀 계수를 시각화하고 회귀 계수 값이 높은 순서로 표현\n",
        "    coeff = coeff.sort_values(ascending=False)\n",
        "    axs[pos].set_title(colname)\n",
        "    axs[pos].set_xlim(-3, 6)\n",
        "    sns.barplot(x=coeff.values, y=coeff.index, ax=axs[pos])\n",
        "\n",
        "# for 문 바깥에서 맷플롯립의 show 호출 및 alpha에 따른 피처별 회귀 계수를 DataFrame으로 표시\n",
        "plt.show()\n",
        "\n",
        "coeff_df"
      ],
      "metadata": {
        "colab": {
          "base_uri": "https://localhost:8080/",
          "height": 830
        },
        "id": "79L0q0dur2RN",
        "outputId": "22933f41-4397-4673-ff67-0685c2259de6"
      },
      "execution_count": null,
      "outputs": [
        {
          "output_type": "display_data",
          "data": {
            "text/plain": [
              "<Figure size 1296x432 with 5 Axes>"
            ],
            "image/png": "[encoded data removed]"
          },
          "metadata": {
            "needs_background": "light"
          }
        },
        {
          "output_type": "execute_result",
          "data": {
            "text/plain": [
              "            alpha0   alpha0.1     alpha1   alpha10  alpha100\n",
              "CRIM     -0.108011  -0.107474  -0.104595 -0.101435 -0.102202\n",
              "ZN        0.046420   0.046572   0.047443  0.049579  0.054496\n",
              "INDUS     0.020559   0.015999  -0.008805 -0.042962 -0.052826\n",
              "CHAS      2.686734   2.670019   2.552393  1.952021  0.638335\n",
              "NOX     -17.766611 -16.684645 -10.777015 -2.371619 -0.262847\n",
              "RM        3.809865   3.818233   3.854000  3.702272  2.334536\n",
              "AGE       0.000692  -0.000269  -0.005415 -0.010707  0.001212\n",
              "DIS      -1.475567  -1.459626  -1.372654 -1.248808 -1.153390\n",
              "RAD       0.306049   0.303515   0.290142  0.279596  0.315358\n",
              "TAX      -0.012335  -0.012421  -0.012912 -0.013993 -0.015856\n",
              "PTRATIO  -0.952747  -0.940759  -0.876074 -0.797945 -0.829218\n",
              "B         0.009312   0.009368   0.009673  0.010037  0.009393\n",
              "LSTAT    -0.524758  -0.525966  -0.533343 -0.559366 -0.660764"
            ],
            "text/html": [
              "\n",
              "  <div id=\"df-702c3b26-7d1e-4748-8b96-26ded9f64b6c\">\n",
              "    <div class=\"colab-df-container\">\n",
              "      <div>\n",
              "<style scoped>\n",
              "    .dataframe tbody tr th:only-of-type {\n",
              "        vertical-align: middle;\n",
              "    }\n",
              "\n",
              "    .dataframe tbody tr th {\n",
              "        vertical-align: top;\n",
              "    }\n",
              "\n",
              "    .dataframe thead th {\n",
              "        text-align: right;\n",
              "    }\n",
              "</style>\n",
              "<table border=\"1\" class=\"dataframe\">\n",
              "  <thead>\n",
              "    <tr style=\"text-align: right;\">\n",
              "      <th></th>\n",
              "      <th>alpha0</th>\n",
              "      <th>alpha0.1</th>\n",
              "      <th>alpha1</th>\n",
              "      <th>alpha10</th>\n",
              "      <th>alpha100</th>\n",
              "    </tr>\n",
              "  </thead>\n",
              "  <tbody>\n",
              "    <tr>\n",
              "      <th>CRIM</th>\n",
              "      <td>-0.108011</td>\n",
              "      <td>-0.107474</td>\n",
              "      <td>-0.104595</td>\n",
              "      <td>-0.101435</td>\n",
              "      <td>-0.102202</td>\n",
              "    </tr>\n",
              "    <tr>\n",
              "      <th>ZN</th>\n",
              "      <td>0.046420</td>\n",
              "      <td>0.046572</td>\n",
              "      <td>0.047443</td>\n",
              "      <td>0.049579</td>\n",
              "      <td>0.054496</td>\n",
              "    </tr>\n",
              "    <tr>\n",
              "      <th>INDUS</th>\n",
              "      <td>0.020559</td>\n",
              "      <td>0.015999</td>\n",
              "      <td>-0.008805</td>\n",
              "      <td>-0.042962</td>\n",
              "      <td>-0.052826</td>\n",
              "    </tr>\n",
              "    <tr>\n",
              "      <th>CHAS</th>\n",
              "      <td>2.686734</td>\n",
              "      <td>2.670019</td>\n",
              "      <td>2.552393</td>\n",
              "      <td>1.952021</td>\n",
              "      <td>0.638335</td>\n",
              "    </tr>\n",
              "    <tr>\n",
              "      <th>NOX</th>\n",
              "      <td>-17.766611</td>\n",
              "      <td>-16.684645</td>\n",
              "      <td>-10.777015</td>\n",
              "      <td>-2.371619</td>\n",
              "      <td>-0.262847</td>\n",
              "    </tr>\n",
              "    <tr>\n",
              "      <th>RM</th>\n",
              "      <td>3.809865</td>\n",
              "      <td>3.818233</td>\n",
              "      <td>3.854000</td>\n",
              "      <td>3.702272</td>\n",
              "      <td>2.334536</td>\n",
              "    </tr>\n",
              "    <tr>\n",
              "      <th>AGE</th>\n",
              "      <td>0.000692</td>\n",
              "      <td>-0.000269</td>\n",
              "      <td>-0.005415</td>\n",
              "      <td>-0.010707</td>\n",
              "      <td>0.001212</td>\n",
              "    </tr>\n",
              "    <tr>\n",
              "      <th>DIS</th>\n",
              "      <td>-1.475567</td>\n",
              "      <td>-1.459626</td>\n",
              "      <td>-1.372654</td>\n",
              "      <td>-1.248808</td>\n",
              "      <td>-1.153390</td>\n",
              "    </tr>\n",
              "    <tr>\n",
              "      <th>RAD</th>\n",
              "      <td>0.306049</td>\n",
              "      <td>0.303515</td>\n",
              "      <td>0.290142</td>\n",
              "      <td>0.279596</td>\n",
              "      <td>0.315358</td>\n",
              "    </tr>\n",
              "    <tr>\n",
              "      <th>TAX</th>\n",
              "      <td>-0.012335</td>\n",
              "      <td>-0.012421</td>\n",
              "      <td>-0.012912</td>\n",
              "      <td>-0.013993</td>\n",
              "      <td>-0.015856</td>\n",
              "    </tr>\n",
              "    <tr>\n",
              "      <th>PTRATIO</th>\n",
              "      <td>-0.952747</td>\n",
              "      <td>-0.940759</td>\n",
              "      <td>-0.876074</td>\n",
              "      <td>-0.797945</td>\n",
              "      <td>-0.829218</td>\n",
              "    </tr>\n",
              "    <tr>\n",
              "      <th>B</th>\n",
              "      <td>0.009312</td>\n",
              "      <td>0.009368</td>\n",
              "      <td>0.009673</td>\n",
              "      <td>0.010037</td>\n",
              "      <td>0.009393</td>\n",
              "    </tr>\n",
              "    <tr>\n",
              "      <th>LSTAT</th>\n",
              "      <td>-0.524758</td>\n",
              "      <td>-0.525966</td>\n",
              "      <td>-0.533343</td>\n",
              "      <td>-0.559366</td>\n",
              "      <td>-0.660764</td>\n",
              "    </tr>\n",
              "  </tbody>\n",
              "</table>\n",
              "</div>\n",
              "      <button class=\"colab-df-convert\" onclick=\"convertToInteractive('df-702c3b26-7d1e-4748-8b96-26ded9f64b6c')\"\n",
              "              title=\"Convert this dataframe to an interactive table.\"\n",
              "              style=\"display:none;\">\n",
              "        \n",
              "  <svg xmlns=\"http://www.w3.org/2000/svg\" height=\"24px\"viewBox=\"0 0 24 24\"\n",
              "       width=\"24px\">\n",
              "    <path d=\"M0 0h24v24H0V0z\" fill=\"none\"/>\n",
              "    <path d=\"M18.56 5.44l.94 2.06.94-2.06 2.06-.94-2.06-.94-.94-2.06-.94 2.06-2.06.94zm-11 1L8.5 8.5l.94-2.06 2.06-.94-2.06-.94L8.5 2.5l-.94 2.06-2.06.94zm10 10l.94 2.06.94-2.06 2.06-.94-2.06-.94-.94-2.06-.94 2.06-2.06.94z\"/><path d=\"M17.41 7.96l-1.37-1.37c-.4-.4-.92-.59-1.43-.59-.52 0-1.04.2-1.43.59L10.3 9.45l-7.72 7.72c-.78.78-.78 2.05 0 2.83L4 21.41c.39.39.9.59 1.41.59.51 0 1.02-.2 1.41-.59l7.78-7.78 2.81-2.81c.8-.78.8-2.07 0-2.86zM5.41 20L4 18.59l7.72-7.72 1.47 1.35L5.41 20z\"/>\n",
              "  </svg>\n",
              "      </button>\n",
              "      \n",
              "  <style>\n",
              "    .colab-df-container {\n",
              "      display:flex;\n",
              "      flex-wrap:wrap;\n",
              "      gap: 12px;\n",
              "    }\n",
              "\n",
              "    .colab-df-convert {\n",
              "      background-color: #E8F0FE;\n",
              "      border: none;\n",
              "      border-radius: 50%;\n",
              "      cursor: pointer;\n",
              "      display: none;\n",
              "      fill: #1967D2;\n",
              "      height: 32px;\n",
              "      padding: 0 0 0 0;\n",
              "      width: 32px;\n",
              "    }\n",
              "\n",
              "    .colab-df-convert:hover {\n",
              "      background-color: #E2EBFA;\n",
              "      box-shadow: 0px 1px 2px rgba(60, 64, 67, 0.3), 0px 1px 3px 1px rgba(60, 64, 67, 0.15);\n",
              "      fill: #174EA6;\n",
              "    }\n",
              "\n",
              "    [theme=dark] .colab-df-convert {\n",
              "      background-color: #3B4455;\n",
              "      fill: #D2E3FC;\n",
              "    }\n",
              "\n",
              "    [theme=dark] .colab-df-convert:hover {\n",
              "      background-color: #434B5C;\n",
              "      box-shadow: 0px 1px 3px 1px rgba(0, 0, 0, 0.15);\n",
              "      filter: drop-shadow(0px 1px 2px rgba(0, 0, 0, 0.3));\n",
              "      fill: #FFFFFF;\n",
              "    }\n",
              "  </style>\n",
              "\n",
              "      <script>\n",
              "        const buttonEl =\n",
              "          document.querySelector('#df-702c3b26-7d1e-4748-8b96-26ded9f64b6c button.colab-df-convert');\n",
              "        buttonEl.style.display =\n",
              "          google.colab.kernel.accessAllowed ? 'block' : 'none';\n",
              "\n",
              "        async function convertToInteractive(key) {\n",
              "          const element = document.querySelector('#df-702c3b26-7d1e-4748-8b96-26ded9f64b6c');\n",
              "          const dataTable =\n",
              "            await google.colab.kernel.invokeFunction('convertToInteractive',\n",
              "                                                     [key], {});\n",
              "          if (!dataTable) return;\n",
              "\n",
              "          const docLinkHtml = 'Like what you see? Visit the ' +\n",
              "            '<a target=\"_blank\" href=https://colab.research.google.com/notebooks/data_table.ipynb>data table notebook</a>'\n",
              "            + ' to learn more about interactive tables.';\n",
              "          element.innerHTML = '';\n",
              "          dataTable['output_type'] = 'display_data';\n",
              "          await google.colab.output.renderOutput(dataTable, element);\n",
              "          const docLink = document.createElement('div');\n",
              "          docLink.innerHTML = docLinkHtml;\n",
              "          element.appendChild(docLink);\n",
              "        }\n",
              "      </script>\n",
              "    </div>\n",
              "  </div>\n",
              "  "
            ]
          },
          "metadata": {},
          "execution_count": 4
        }
      ]
    },
    {
      "cell_type": "code",
      "source": [
        "ridge_alphas = [0, 0.1, 1, 10, 100]\n",
        "coeff_df.sort_values(by='alpha0', ascending=False)"
      ],
      "metadata": {
        "colab": {
          "base_uri": "https://localhost:8080/",
          "height": 457
        },
        "id": "TQaZAyp5wLTM",
        "outputId": "cd194c35-7186-4c39-f8e6-47e30331fb79"
      },
      "execution_count": null,
      "outputs": [
        {
          "output_type": "execute_result",
          "data": {
            "text/plain": [
              "            alpha0   alpha0.1     alpha1   alpha10  alpha100\n",
              "RM        3.809865   3.818233   3.854000  3.702272  2.334536\n",
              "CHAS      2.686734   2.670019   2.552393  1.952021  0.638335\n",
              "RAD       0.306049   0.303515   0.290142  0.279596  0.315358\n",
              "ZN        0.046420   0.046572   0.047443  0.049579  0.054496\n",
              "INDUS     0.020559   0.015999  -0.008805 -0.042962 -0.052826\n",
              "B         0.009312   0.009368   0.009673  0.010037  0.009393\n",
              "AGE       0.000692  -0.000269  -0.005415 -0.010707  0.001212\n",
              "TAX      -0.012335  -0.012421  -0.012912 -0.013993 -0.015856\n",
              "CRIM     -0.108011  -0.107474  -0.104595 -0.101435 -0.102202\n",
              "LSTAT    -0.524758  -0.525966  -0.533343 -0.559366 -0.660764\n",
              "PTRATIO  -0.952747  -0.940759  -0.876074 -0.797945 -0.829218\n",
              "DIS      -1.475567  -1.459626  -1.372654 -1.248808 -1.153390\n",
              "NOX     -17.766611 -16.684645 -10.777015 -2.371619 -0.262847"
            ],
            "text/html": [
              "\n",
              "  <div id=\"df-519f6997-040a-4fa6-b2f9-cb288057e12f\">\n",
              "    <div class=\"colab-df-container\">\n",
              "      <div>\n",
              "<style scoped>\n",
              "    .dataframe tbody tr th:only-of-type {\n",
              "        vertical-align: middle;\n",
              "    }\n",
              "\n",
              "    .dataframe tbody tr th {\n",
              "        vertical-align: top;\n",
              "    }\n",
              "\n",
              "    .dataframe thead th {\n",
              "        text-align: right;\n",
              "    }\n",
              "</style>\n",
              "<table border=\"1\" class=\"dataframe\">\n",
              "  <thead>\n",
              "    <tr style=\"text-align: right;\">\n",
              "      <th></th>\n",
              "      <th>alpha0</th>\n",
              "      <th>alpha0.1</th>\n",
              "      <th>alpha1</th>\n",
              "      <th>alpha10</th>\n",
              "      <th>alpha100</th>\n",
              "    </tr>\n",
              "  </thead>\n",
              "  <tbody>\n",
              "    <tr>\n",
              "      <th>RM</th>\n",
              "      <td>3.809865</td>\n",
              "      <td>3.818233</td>\n",
              "      <td>3.854000</td>\n",
              "      <td>3.702272</td>\n",
              "      <td>2.334536</td>\n",
              "    </tr>\n",
              "    <tr>\n",
              "      <th>CHAS</th>\n",
              "      <td>2.686734</td>\n",
              "      <td>2.670019</td>\n",
              "      <td>2.552393</td>\n",
              "      <td>1.952021</td>\n",
              "      <td>0.638335</td>\n",
              "    </tr>\n",
              "    <tr>\n",
              "      <th>RAD</th>\n",
              "      <td>0.306049</td>\n",
              "      <td>0.303515</td>\n",
              "      <td>0.290142</td>\n",
              "      <td>0.279596</td>\n",
              "      <td>0.315358</td>\n",
              "    </tr>\n",
              "    <tr>\n",
              "      <th>ZN</th>\n",
              "      <td>0.046420</td>\n",
              "      <td>0.046572</td>\n",
              "      <td>0.047443</td>\n",
              "      <td>0.049579</td>\n",
              "      <td>0.054496</td>\n",
              "    </tr>\n",
              "    <tr>\n",
              "      <th>INDUS</th>\n",
              "      <td>0.020559</td>\n",
              "      <td>0.015999</td>\n",
              "      <td>-0.008805</td>\n",
              "      <td>-0.042962</td>\n",
              "      <td>-0.052826</td>\n",
              "    </tr>\n",
              "    <tr>\n",
              "      <th>B</th>\n",
              "      <td>0.009312</td>\n",
              "      <td>0.009368</td>\n",
              "      <td>0.009673</td>\n",
              "      <td>0.010037</td>\n",
              "      <td>0.009393</td>\n",
              "    </tr>\n",
              "    <tr>\n",
              "      <th>AGE</th>\n",
              "      <td>0.000692</td>\n",
              "      <td>-0.000269</td>\n",
              "      <td>-0.005415</td>\n",
              "      <td>-0.010707</td>\n",
              "      <td>0.001212</td>\n",
              "    </tr>\n",
              "    <tr>\n",
              "      <th>TAX</th>\n",
              "      <td>-0.012335</td>\n",
              "      <td>-0.012421</td>\n",
              "      <td>-0.012912</td>\n",
              "      <td>-0.013993</td>\n",
              "      <td>-0.015856</td>\n",
              "    </tr>\n",
              "    <tr>\n",
              "      <th>CRIM</th>\n",
              "      <td>-0.108011</td>\n",
              "      <td>-0.107474</td>\n",
              "      <td>-0.104595</td>\n",
              "      <td>-0.101435</td>\n",
              "      <td>-0.102202</td>\n",
              "    </tr>\n",
              "    <tr>\n",
              "      <th>LSTAT</th>\n",
              "      <td>-0.524758</td>\n",
              "      <td>-0.525966</td>\n",
              "      <td>-0.533343</td>\n",
              "      <td>-0.559366</td>\n",
              "      <td>-0.660764</td>\n",
              "    </tr>\n",
              "    <tr>\n",
              "      <th>PTRATIO</th>\n",
              "      <td>-0.952747</td>\n",
              "      <td>-0.940759</td>\n",
              "      <td>-0.876074</td>\n",
              "      <td>-0.797945</td>\n",
              "      <td>-0.829218</td>\n",
              "    </tr>\n",
              "    <tr>\n",
              "      <th>DIS</th>\n",
              "      <td>-1.475567</td>\n",
              "      <td>-1.459626</td>\n",
              "      <td>-1.372654</td>\n",
              "      <td>-1.248808</td>\n",
              "      <td>-1.153390</td>\n",
              "    </tr>\n",
              "    <tr>\n",
              "      <th>NOX</th>\n",
              "      <td>-17.766611</td>\n",
              "      <td>-16.684645</td>\n",
              "      <td>-10.777015</td>\n",
              "      <td>-2.371619</td>\n",
              "      <td>-0.262847</td>\n",
              "    </tr>\n",
              "  </tbody>\n",
              "</table>\n",
              "</div>\n",
              "      <button class=\"colab-df-convert\" onclick=\"convertToInteractive('df-519f6997-040a-4fa6-b2f9-cb288057e12f')\"\n",
              "              title=\"Convert this dataframe to an interactive table.\"\n",
              "              style=\"display:none;\">\n",
              "        \n",
              "  <svg xmlns=\"http://www.w3.org/2000/svg\" height=\"24px\"viewBox=\"0 0 24 24\"\n",
              "       width=\"24px\">\n",
              "    <path d=\"M0 0h24v24H0V0z\" fill=\"none\"/>\n",
              "    <path d=\"M18.56 5.44l.94 2.06.94-2.06 2.06-.94-2.06-.94-.94-2.06-.94 2.06-2.06.94zm-11 1L8.5 8.5l.94-2.06 2.06-.94-2.06-.94L8.5 2.5l-.94 2.06-2.06.94zm10 10l.94 2.06.94-2.06 2.06-.94-2.06-.94-.94-2.06-.94 2.06-2.06.94z\"/><path d=\"M17.41 7.96l-1.37-1.37c-.4-.4-.92-.59-1.43-.59-.52 0-1.04.2-1.43.59L10.3 9.45l-7.72 7.72c-.78.78-.78 2.05 0 2.83L4 21.41c.39.39.9.59 1.41.59.51 0 1.02-.2 1.41-.59l7.78-7.78 2.81-2.81c.8-.78.8-2.07 0-2.86zM5.41 20L4 18.59l7.72-7.72 1.47 1.35L5.41 20z\"/>\n",
              "  </svg>\n",
              "      </button>\n",
              "      \n",
              "  <style>\n",
              "    .colab-df-container {\n",
              "      display:flex;\n",
              "      flex-wrap:wrap;\n",
              "      gap: 12px;\n",
              "    }\n",
              "\n",
              "    .colab-df-convert {\n",
              "      background-color: #E8F0FE;\n",
              "      border: none;\n",
              "      border-radius: 50%;\n",
              "      cursor: pointer;\n",
              "      display: none;\n",
              "      fill: #1967D2;\n",
              "      height: 32px;\n",
              "      padding: 0 0 0 0;\n",
              "      width: 32px;\n",
              "    }\n",
              "\n",
              "    .colab-df-convert:hover {\n",
              "      background-color: #E2EBFA;\n",
              "      box-shadow: 0px 1px 2px rgba(60, 64, 67, 0.3), 0px 1px 3px 1px rgba(60, 64, 67, 0.15);\n",
              "      fill: #174EA6;\n",
              "    }\n",
              "\n",
              "    [theme=dark] .colab-df-convert {\n",
              "      background-color: #3B4455;\n",
              "      fill: #D2E3FC;\n",
              "    }\n",
              "\n",
              "    [theme=dark] .colab-df-convert:hover {\n",
              "      background-color: #434B5C;\n",
              "      box-shadow: 0px 1px 3px 1px rgba(0, 0, 0, 0.15);\n",
              "      filter: drop-shadow(0px 1px 2px rgba(0, 0, 0, 0.3));\n",
              "      fill: #FFFFFF;\n",
              "    }\n",
              "  </style>\n",
              "\n",
              "      <script>\n",
              "        const buttonEl =\n",
              "          document.querySelector('#df-519f6997-040a-4fa6-b2f9-cb288057e12f button.colab-df-convert');\n",
              "        buttonEl.style.display =\n",
              "          google.colab.kernel.accessAllowed ? 'block' : 'none';\n",
              "\n",
              "        async function convertToInteractive(key) {\n",
              "          const element = document.querySelector('#df-519f6997-040a-4fa6-b2f9-cb288057e12f');\n",
              "          const dataTable =\n",
              "            await google.colab.kernel.invokeFunction('convertToInteractive',\n",
              "                                                     [key], {});\n",
              "          if (!dataTable) return;\n",
              "\n",
              "          const docLinkHtml = 'Like what you see? Visit the ' +\n",
              "            '<a target=\"_blank\" href=https://colab.research.google.com/notebooks/data_table.ipynb>data table notebook</a>'\n",
              "            + ' to learn more about interactive tables.';\n",
              "          element.innerHTML = '';\n",
              "          dataTable['output_type'] = 'display_data';\n",
              "          await google.colab.output.renderOutput(dataTable, element);\n",
              "          const docLink = document.createElement('div');\n",
              "          docLink.innerHTML = docLinkHtml;\n",
              "          element.appendChild(docLink);\n",
              "        }\n",
              "      </script>\n",
              "    </div>\n",
              "  </div>\n",
              "  "
            ]
          },
          "metadata": {},
          "execution_count": 5
        }
      ]
    },
    {
      "cell_type": "markdown",
      "source": [
        "### 3. 라쏘(Lasso) 회귀\n",
        "- W의 절대값에 페널티를 부여하는 L1 규제를 선형 회귀에 적용한 것이다.\n",
        "- **L1 규제**는 $alpha * ||W||_1$를 의미하며, **라쏘 회귀 비용 함수의 목표**는 **$RSS(W) + alpha * ||W||_1$을 최소화하는 W를 찾는 것**이다.\n",
        "- L2 규제가 회귀 계수의 크기를 감소시키는 반면, L1 규제는 **불필요한 회귀 계수를 급격하게 감소시켜 0으로 만들고 제거**한다. 이러한 측면에서 L1 규제는 적절한 피처만 회귀에 포함시키는 **피처 선택**의 특성을 가지고 있다.\n",
        "- 사이킷런의 **`Lasso`** 클래스를 이용하여 라쏘 회귀를 구현한다.\n",
        "-  **`Lasso`** 클래스의 주요 생성 파라미터는 alpha이며, 이는 라쏘 회귀의 alpha L1 규제 계수에 해당한다.\n",
        "- Lasso 클래스를 이용하여 alpha 값을 변화시키면서 RMSE와 각 피처의 회귀 계수를 출력한다.\n",
        "- RMSE와 각 피처의 회귀 계수를 출력하는 유틸리티 함수를 생성한다. get_linear_reg_eval( )는 인자로 회귀 모델의 이름, alpha값들의 리스트, 피처 데이터 세트와 타깃 데이터 세트를 입력 받아서 alpha 값에 따른 폴드 평균 RMSE를 출력하고 회귀 계수값들을 DataFrame으로 반환한다.\n"
      ],
      "metadata": {
        "id": "L4XhTsxQylFv"
      }
    },
    {
      "cell_type": "code",
      "source": [
        "from sklearn.linear_model import Lasso, ElasticNet\n",
        "# alpha 값에 따른 회귀 모델의 폴드 평균 RMSE를 출력하고, 회귀 계수 값들을 DataFrame으로 반환\n",
        "def get_linear_reg_eval(model_name, params=None, X_data_n=None, y_target_n=None, verbose=True):\n",
        "    coeff_df = pd.DataFrame()\n",
        "    if verbose : print(\"#######\", model_name, \"#######\")\n",
        "    for param in params:\n",
        "        if model_name == \"Ridge\" : model = Ridge(alpha=param)\n",
        "        elif model_name == \"Lasso\" : model = Lasso(alpha=param)\n",
        "        elif model_name == \"ElasticNet\" : model = ElasticNet(alpha=param, l1_ratio=0.7)\n",
        "        neg_mse_scores = cross_val_score(model, X_data_n, y_target_n, scoring=\"neg_mean_squared_error\", cv=5)\n",
        "        mse_scores = -1 * neg_mse_scores\n",
        "        rmse_scores = np.sqrt(mse_scores)\n",
        "        avg_rmse = np.mean(rmse_scores)\n",
        "        print(\"alpha {0} 일 때, 5 folds 의 평균 RMSE: {1:.3f}\".format(param, avg_rmse))\n",
        "\n",
        "        # cross_val_score는 evaluation metric만 반환하므로 모델을 다시 학습하여 회귀 계수를 추출\n",
        "        model.fit(X_data, y_target)\n",
        "        \n",
        "        # alpha에 따른 피처별 회귀 계수를 Series로변환하고 이를 DataFrame의 칼럼으로 추가\n",
        "        coeff = pd.Series(data=model.coef_, index=X_data.columns)\n",
        "        colname = \"alpha\" + str(param)\n",
        "        coeff_df[colname] = coeff\n",
        "\n",
        "    return coeff_df"
      ],
      "metadata": {
        "id": "aoLuq58PyMQG"
      },
      "execution_count": null,
      "outputs": []
    },
    {
      "cell_type": "markdown",
      "source": [
        "### 3. 라쏘(Lasso) 회귀\n",
        "- 생성한 유틸리티 함수를 이용하여 alpha 값을 [0.07, 0.1, 0.5, 1, 3] 으로 변화시키면서 평균 RMSE와 그때의 회귀 계수들을 출력한다.\n",
        "- get_linear_reg_eval()에 alpha값을 [0.07, 0.1, 0.5, 1, 3]로, 모델명을 \"Lasso\"로 입력하여 라쏘 모델 기반으로 수행한다.\n",
        "- alpha가 0.07일 때 평균 RMSE이 가장 좋다.\n",
        "- alpha의 크기가 증가함에 따라 일부 피처의 회귀 계수는 아예 0이 된다. 회귀 계수가 0인 피처는 회귀 식에서 제외되면서 피처 선택의 효과를 얻는다."
      ],
      "metadata": {
        "id": "mqH8gFly-DeC"
      }
    },
    {
      "cell_type": "code",
      "source": [
        "# 라쏘에 사용될 alpha 파라미터 값을 정의하고 get_linear_reg_eval() 함수를 호출\n",
        "lasso_alphas = [0.07, 0.1, 0.5, 1, 3]\n",
        "coeff_lasso_df = get_linear_reg_eval(\"Lasso\", params=lasso_alphas, X_data_n=X_data, y_target_n=y_target)"
      ],
      "metadata": {
        "id": "DEO9h2v4-eLF",
        "colab": {
          "base_uri": "https://localhost:8080/"
        },
        "outputId": "3b812b22-a211-4fa6-ce50-35ec9f2c1255"
      },
      "execution_count": null,
      "outputs": [
        {
          "output_type": "stream",
          "name": "stdout",
          "text": [
            "####### Lasso #######\n",
            "alpha 0.07 일 때, 5 folds 의 평균 RMSE: 5.612\n",
            "alpha 0.1 일 때, 5 folds 의 평균 RMSE: 5.615\n",
            "alpha 0.5 일 때, 5 folds 의 평균 RMSE: 5.669\n",
            "alpha 1 일 때, 5 folds 의 평균 RMSE: 5.776\n",
            "alpha 3 일 때, 5 folds 의 평균 RMSE: 6.189\n"
          ]
        }
      ]
    },
    {
      "cell_type": "code",
      "source": [
        "# 반환된 coeff_lasso_df를 첫번째 칼럼순으로 내림차순 정렬하여 회귀 계수 DataFrame을 출력\n",
        "sort_column = \"alpha\" + str(lasso_alphas[0])\n",
        "coeff_lasso_df.sort_values(by=sort_column, ascending=False)"
      ],
      "metadata": {
        "colab": {
          "base_uri": "https://localhost:8080/",
          "height": 457
        },
        "id": "8WOvcuqxpbOD",
        "outputId": "ba1fd338-e92f-42a3-f15b-79fbfb5a1b46"
      },
      "execution_count": null,
      "outputs": [
        {
          "output_type": "execute_result",
          "data": {
            "text/plain": [
              "         alpha0.07  alpha0.1  alpha0.5    alpha1    alpha3\n",
              "RM        3.789725  3.703202  2.498212  0.949811  0.000000\n",
              "CHAS      1.434343  0.955190  0.000000  0.000000  0.000000\n",
              "RAD       0.270936  0.274707  0.277451  0.264206  0.061864\n",
              "ZN        0.049059  0.049211  0.049544  0.049165  0.037231\n",
              "B         0.010248  0.010249  0.009469  0.008247  0.006510\n",
              "NOX      -0.000000 -0.000000 -0.000000 -0.000000  0.000000\n",
              "AGE      -0.011706 -0.010037  0.003604  0.020910  0.042495\n",
              "TAX      -0.014290 -0.014570 -0.015442 -0.015212 -0.008602\n",
              "INDUS    -0.042120 -0.036619 -0.005253 -0.000000 -0.000000\n",
              "CRIM     -0.098193 -0.097894 -0.083289 -0.063437 -0.000000\n",
              "LSTAT    -0.560431 -0.568769 -0.656290 -0.761115 -0.807679\n",
              "PTRATIO  -0.765107 -0.770654 -0.758752 -0.722966 -0.265072\n",
              "DIS      -1.176583 -1.160538 -0.936605 -0.668790 -0.000000"
            ],
            "text/html": [
              "\n",
              "  <div id=\"df-5b9b69f2-ad7d-4325-bcca-83cf82719336\">\n",
              "    <div class=\"colab-df-container\">\n",
              "      <div>\n",
              "<style scoped>\n",
              "    .dataframe tbody tr th:only-of-type {\n",
              "        vertical-align: middle;\n",
              "    }\n",
              "\n",
              "    .dataframe tbody tr th {\n",
              "        vertical-align: top;\n",
              "    }\n",
              "\n",
              "    .dataframe thead th {\n",
              "        text-align: right;\n",
              "    }\n",
              "</style>\n",
              "<table border=\"1\" class=\"dataframe\">\n",
              "  <thead>\n",
              "    <tr style=\"text-align: right;\">\n",
              "      <th></th>\n",
              "      <th>alpha0.07</th>\n",
              "      <th>alpha0.1</th>\n",
              "      <th>alpha0.5</th>\n",
              "      <th>alpha1</th>\n",
              "      <th>alpha3</th>\n",
              "    </tr>\n",
              "  </thead>\n",
              "  <tbody>\n",
              "    <tr>\n",
              "      <th>RM</th>\n",
              "      <td>3.789725</td>\n",
              "      <td>3.703202</td>\n",
              "      <td>2.498212</td>\n",
              "      <td>0.949811</td>\n",
              "      <td>0.000000</td>\n",
              "    </tr>\n",
              "    <tr>\n",
              "      <th>CHAS</th>\n",
              "      <td>1.434343</td>\n",
              "      <td>0.955190</td>\n",
              "      <td>0.000000</td>\n",
              "      <td>0.000000</td>\n",
              "      <td>0.000000</td>\n",
              "    </tr>\n",
              "    <tr>\n",
              "      <th>RAD</th>\n",
              "      <td>0.270936</td>\n",
              "      <td>0.274707</td>\n",
              "      <td>0.277451</td>\n",
              "      <td>0.264206</td>\n",
              "      <td>0.061864</td>\n",
              "    </tr>\n",
              "    <tr>\n",
              "      <th>ZN</th>\n",
              "      <td>0.049059</td>\n",
              "      <td>0.049211</td>\n",
              "      <td>0.049544</td>\n",
              "      <td>0.049165</td>\n",
              "      <td>0.037231</td>\n",
              "    </tr>\n",
              "    <tr>\n",
              "      <th>B</th>\n",
              "      <td>0.010248</td>\n",
              "      <td>0.010249</td>\n",
              "      <td>0.009469</td>\n",
              "      <td>0.008247</td>\n",
              "      <td>0.006510</td>\n",
              "    </tr>\n",
              "    <tr>\n",
              "      <th>NOX</th>\n",
              "      <td>-0.000000</td>\n",
              "      <td>-0.000000</td>\n",
              "      <td>-0.000000</td>\n",
              "      <td>-0.000000</td>\n",
              "      <td>0.000000</td>\n",
              "    </tr>\n",
              "    <tr>\n",
              "      <th>AGE</th>\n",
              "      <td>-0.011706</td>\n",
              "      <td>-0.010037</td>\n",
              "      <td>0.003604</td>\n",
              "      <td>0.020910</td>\n",
              "      <td>0.042495</td>\n",
              "    </tr>\n",
              "    <tr>\n",
              "      <th>TAX</th>\n",
              "      <td>-0.014290</td>\n",
              "      <td>-0.014570</td>\n",
              "      <td>-0.015442</td>\n",
              "      <td>-0.015212</td>\n",
              "      <td>-0.008602</td>\n",
              "    </tr>\n",
              "    <tr>\n",
              "      <th>INDUS</th>\n",
              "      <td>-0.042120</td>\n",
              "      <td>-0.036619</td>\n",
              "      <td>-0.005253</td>\n",
              "      <td>-0.000000</td>\n",
              "      <td>-0.000000</td>\n",
              "    </tr>\n",
              "    <tr>\n",
              "      <th>CRIM</th>\n",
              "      <td>-0.098193</td>\n",
              "      <td>-0.097894</td>\n",
              "      <td>-0.083289</td>\n",
              "      <td>-0.063437</td>\n",
              "      <td>-0.000000</td>\n",
              "    </tr>\n",
              "    <tr>\n",
              "      <th>LSTAT</th>\n",
              "      <td>-0.560431</td>\n",
              "      <td>-0.568769</td>\n",
              "      <td>-0.656290</td>\n",
              "      <td>-0.761115</td>\n",
              "      <td>-0.807679</td>\n",
              "    </tr>\n",
              "    <tr>\n",
              "      <th>PTRATIO</th>\n",
              "      <td>-0.765107</td>\n",
              "      <td>-0.770654</td>\n",
              "      <td>-0.758752</td>\n",
              "      <td>-0.722966</td>\n",
              "      <td>-0.265072</td>\n",
              "    </tr>\n",
              "    <tr>\n",
              "      <th>DIS</th>\n",
              "      <td>-1.176583</td>\n",
              "      <td>-1.160538</td>\n",
              "      <td>-0.936605</td>\n",
              "      <td>-0.668790</td>\n",
              "      <td>-0.000000</td>\n",
              "    </tr>\n",
              "  </tbody>\n",
              "</table>\n",
              "</div>\n",
              "      <button class=\"colab-df-convert\" onclick=\"convertToInteractive('df-5b9b69f2-ad7d-4325-bcca-83cf82719336')\"\n",
              "              title=\"Convert this dataframe to an interactive table.\"\n",
              "              style=\"display:none;\">\n",
              "        \n",
              "  <svg xmlns=\"http://www.w3.org/2000/svg\" height=\"24px\"viewBox=\"0 0 24 24\"\n",
              "       width=\"24px\">\n",
              "    <path d=\"M0 0h24v24H0V0z\" fill=\"none\"/>\n",
              "    <path d=\"M18.56 5.44l.94 2.06.94-2.06 2.06-.94-2.06-.94-.94-2.06-.94 2.06-2.06.94zm-11 1L8.5 8.5l.94-2.06 2.06-.94-2.06-.94L8.5 2.5l-.94 2.06-2.06.94zm10 10l.94 2.06.94-2.06 2.06-.94-2.06-.94-.94-2.06-.94 2.06-2.06.94z\"/><path d=\"M17.41 7.96l-1.37-1.37c-.4-.4-.92-.59-1.43-.59-.52 0-1.04.2-1.43.59L10.3 9.45l-7.72 7.72c-.78.78-.78 2.05 0 2.83L4 21.41c.39.39.9.59 1.41.59.51 0 1.02-.2 1.41-.59l7.78-7.78 2.81-2.81c.8-.78.8-2.07 0-2.86zM5.41 20L4 18.59l7.72-7.72 1.47 1.35L5.41 20z\"/>\n",
              "  </svg>\n",
              "      </button>\n",
              "      \n",
              "  <style>\n",
              "    .colab-df-container {\n",
              "      display:flex;\n",
              "      flex-wrap:wrap;\n",
              "      gap: 12px;\n",
              "    }\n",
              "\n",
              "    .colab-df-convert {\n",
              "      background-color: #E8F0FE;\n",
              "      border: none;\n",
              "      border-radius: 50%;\n",
              "      cursor: pointer;\n",
              "      display: none;\n",
              "      fill: #1967D2;\n",
              "      height: 32px;\n",
              "      padding: 0 0 0 0;\n",
              "      width: 32px;\n",
              "    }\n",
              "\n",
              "    .colab-df-convert:hover {\n",
              "      background-color: #E2EBFA;\n",
              "      box-shadow: 0px 1px 2px rgba(60, 64, 67, 0.3), 0px 1px 3px 1px rgba(60, 64, 67, 0.15);\n",
              "      fill: #174EA6;\n",
              "    }\n",
              "\n",
              "    [theme=dark] .colab-df-convert {\n",
              "      background-color: #3B4455;\n",
              "      fill: #D2E3FC;\n",
              "    }\n",
              "\n",
              "    [theme=dark] .colab-df-convert:hover {\n",
              "      background-color: #434B5C;\n",
              "      box-shadow: 0px 1px 3px 1px rgba(0, 0, 0, 0.15);\n",
              "      filter: drop-shadow(0px 1px 2px rgba(0, 0, 0, 0.3));\n",
              "      fill: #FFFFFF;\n",
              "    }\n",
              "  </style>\n",
              "\n",
              "      <script>\n",
              "        const buttonEl =\n",
              "          document.querySelector('#df-5b9b69f2-ad7d-4325-bcca-83cf82719336 button.colab-df-convert');\n",
              "        buttonEl.style.display =\n",
              "          google.colab.kernel.accessAllowed ? 'block' : 'none';\n",
              "\n",
              "        async function convertToInteractive(key) {\n",
              "          const element = document.querySelector('#df-5b9b69f2-ad7d-4325-bcca-83cf82719336');\n",
              "          const dataTable =\n",
              "            await google.colab.kernel.invokeFunction('convertToInteractive',\n",
              "                                                     [key], {});\n",
              "          if (!dataTable) return;\n",
              "\n",
              "          const docLinkHtml = 'Like what you see? Visit the ' +\n",
              "            '<a target=\"_blank\" href=https://colab.research.google.com/notebooks/data_table.ipynb>data table notebook</a>'\n",
              "            + ' to learn more about interactive tables.';\n",
              "          element.innerHTML = '';\n",
              "          dataTable['output_type'] = 'display_data';\n",
              "          await google.colab.output.renderOutput(dataTable, element);\n",
              "          const docLink = document.createElement('div');\n",
              "          docLink.innerHTML = docLinkHtml;\n",
              "          element.appendChild(docLink);\n",
              "        }\n",
              "      </script>\n",
              "    </div>\n",
              "  </div>\n",
              "  "
            ]
          },
          "metadata": {},
          "execution_count": 9
        }
      ]
    },
    {
      "cell_type": "markdown",
      "source": [
        "### 4. 엘라스틱넷(ElasticNet) 회귀\n",
        "- 엘라스틱넷 회귀는 L1 규제와 L2 규제를 결합한 회귀로, 엘라스틱넷 회귀 비용 함수의 목표는 **$RSS(W) + alpha2 * ||W||_2^2 + alpha1 * ||W||_1$ 식을 최소화하는 W를 찾는 것**이다.\n",
        "- 엘라스틱넷은 라쏘 회귀가 서로 상관관계가 높은 피처들의 경우에 이들 중에서 중요 피처만을 선택하고 다른 피처들은 모두 회귀 계수를 0으로 만드는 성향이 강하여 alpha 값에 따라 회귀 계수의 값이 급격하게 변동하는 것을 완화하기 위해, L2 규제를 라쏘 회귀에 추가한 것이다.\n",
        "- L1 규제와 L2 규제가 결합되었기 때문에 수행 시간이 상대적으로 오래 걸린다는 단점이 있다.\n",
        "- 사이킷런의 **`ElasticNet`** 클래스를 이용하여 엘라스틱넷 회귀를 구현한다.\n",
        "- **`ElasticNet`** 클래스의 주요 생성 파라미터는 `alpha`와 `l1_ratio`이며, 이때의 alpha는 Ridge와 Lasso 클래스의 alpha 값과는 다르다.\n",
        "- 엘라스틱넷의 규제는 a*L1 + b*L2로 정의될 수 있으며, a는 L1 규제의 alpha 값, b는 L2 규제의 alpha 값이다. 따라서 ElasticNet 클래스의 `alpha` 파라미터 값은 **a+b**이다.\n",
        "- ElasticNet 클래스의 `l1_ratio` 파라미터 값은 **a/(a+b)**이다. l1_ratio가 0이면 a가 0이므로 L2 규제와 동일하고, l1_ratio가 1이면 b가 0이므로 L1 규제와 동일하다."
      ],
      "metadata": {
        "id": "LDOnDfnKp_6D"
      }
    },
    {
      "cell_type": "markdown",
      "source": [
        "### 4. 엘라스틱넷(ElasticNet) 회귀\n",
        "- ElasticNet 클래스를 이용하여 바로 이전의 릿지, 라쏘 회귀와 같이 엘라스틱넷 alpha 값을 변화시켜먼서 RMSE와 각 피처의 회귀 계수를 출력한다.\n",
        "- 생성한 유틸리티 함수 get_linear_reg_eval( )를 이용한다. 이때 엘라스틱넷 모델을 선언할 때 l1_ratio를 0.7로 고정했는데, 이는 단순히 alpha 값의 변화만 살피기 위해서이다.\n",
        "- alpha가 0.5일때, 평균 RMSE가 5.467로 가장 좋은 예측 성능을 보인다.\n",
        "- alpha 값에 따른 피처들의 회귀 계수 값이 라쏘 회귀보다는 상대적으로 0이 되는 값이 적다는 것을 알 수 있다."
      ],
      "metadata": {
        "id": "i-81ksqRvv95"
      }
    },
    {
      "cell_type": "code",
      "source": [
        "# 엘라스틱넷에 사용될 alpha 파라미터의 값들을 정의하고 get_linear_reg_eval() 함수를 호출\n",
        "elastic_alphas = [0.07, 0.1, 0.5, 1, 3]\n",
        "coeff_elastic_df = get_linear_reg_eval(\"ElasticNet\", params=elastic_alphas, X_data_n=X_data, y_target_n=y_target)"
      ],
      "metadata": {
        "colab": {
          "base_uri": "https://localhost:8080/"
        },
        "id": "i5FjEQEBpqDF",
        "outputId": "5b69330b-83de-498c-b9e8-36bd707c7132"
      },
      "execution_count": null,
      "outputs": [
        {
          "output_type": "stream",
          "name": "stdout",
          "text": [
            "####### ElasticNet #######\n",
            "alpha 0.07 일 때, 5 folds 의 평균 RMSE: 5.542\n",
            "alpha 0.1 일 때, 5 folds 의 평균 RMSE: 5.526\n",
            "alpha 0.5 일 때, 5 folds 의 평균 RMSE: 5.467\n",
            "alpha 1 일 때, 5 folds 의 평균 RMSE: 5.597\n",
            "alpha 3 일 때, 5 folds 의 평균 RMSE: 6.068\n"
          ]
        }
      ]
    },
    {
      "cell_type": "code",
      "source": [
        "# 반환된 coeff_elastic_df를 첫번째 칼럼순으로 내림차순 정렬하여 회귀 계수 DataFrame을 출력\n",
        "sort_column = \"alpha\" + str(elastic_alphas[0])\n",
        "coeff_elastic_df.sort_values(by=sort_column, ascending=False)"
      ],
      "metadata": {
        "colab": {
          "base_uri": "https://localhost:8080/",
          "height": 457
        },
        "id": "bXmhazLVwud4",
        "outputId": "09a80d60-6477-4678-d1af-e06e8e4b6e86"
      },
      "execution_count": null,
      "outputs": [
        {
          "output_type": "execute_result",
          "data": {
            "text/plain": [
              "         alpha0.07  alpha0.1  alpha0.5    alpha1    alpha3\n",
              "RM        3.574162  3.414154  1.918419  0.938789  0.000000\n",
              "CHAS      1.330724  0.979706  0.000000  0.000000  0.000000\n",
              "RAD       0.278880  0.283443  0.300761  0.289299  0.146846\n",
              "ZN        0.050107  0.050617  0.052878  0.052136  0.038268\n",
              "B         0.010122  0.010067  0.009114  0.008320  0.007020\n",
              "AGE      -0.010116 -0.008276  0.007760  0.020348  0.043446\n",
              "TAX      -0.014522 -0.014814 -0.016046 -0.016218 -0.011417\n",
              "INDUS    -0.044855 -0.042719 -0.023252 -0.000000 -0.000000\n",
              "CRIM     -0.099468 -0.099213 -0.089070 -0.073577 -0.019058\n",
              "NOX      -0.175072 -0.000000 -0.000000 -0.000000 -0.000000\n",
              "LSTAT    -0.574822 -0.587702 -0.693861 -0.760457 -0.800368\n",
              "PTRATIO  -0.779498 -0.784725 -0.790969 -0.738672 -0.423065\n",
              "DIS      -1.189438 -1.173647 -0.975902 -0.725174 -0.031208"
            ],
            "text/html": [
              "\n",
              "  <div id=\"df-99007102-dfa4-4fe0-9c03-893a64d508ea\">\n",
              "    <div class=\"colab-df-container\">\n",
              "      <div>\n",
              "<style scoped>\n",
              "    .dataframe tbody tr th:only-of-type {\n",
              "        vertical-align: middle;\n",
              "    }\n",
              "\n",
              "    .dataframe tbody tr th {\n",
              "        vertical-align: top;\n",
              "    }\n",
              "\n",
              "    .dataframe thead th {\n",
              "        text-align: right;\n",
              "    }\n",
              "</style>\n",
              "<table border=\"1\" class=\"dataframe\">\n",
              "  <thead>\n",
              "    <tr style=\"text-align: right;\">\n",
              "      <th></th>\n",
              "      <th>alpha0.07</th>\n",
              "      <th>alpha0.1</th>\n",
              "      <th>alpha0.5</th>\n",
              "      <th>alpha1</th>\n",
              "      <th>alpha3</th>\n",
              "    </tr>\n",
              "  </thead>\n",
              "  <tbody>\n",
              "    <tr>\n",
              "      <th>RM</th>\n",
              "      <td>3.574162</td>\n",
              "      <td>3.414154</td>\n",
              "      <td>1.918419</td>\n",
              "      <td>0.938789</td>\n",
              "      <td>0.000000</td>\n",
              "    </tr>\n",
              "    <tr>\n",
              "      <th>CHAS</th>\n",
              "      <td>1.330724</td>\n",
              "      <td>0.979706</td>\n",
              "      <td>0.000000</td>\n",
              "      <td>0.000000</td>\n",
              "      <td>0.000000</td>\n",
              "    </tr>\n",
              "    <tr>\n",
              "      <th>RAD</th>\n",
              "      <td>0.278880</td>\n",
              "      <td>0.283443</td>\n",
              "      <td>0.300761</td>\n",
              "      <td>0.289299</td>\n",
              "      <td>0.146846</td>\n",
              "    </tr>\n",
              "    <tr>\n",
              "      <th>ZN</th>\n",
              "      <td>0.050107</td>\n",
              "      <td>0.050617</td>\n",
              "      <td>0.052878</td>\n",
              "      <td>0.052136</td>\n",
              "      <td>0.038268</td>\n",
              "    </tr>\n",
              "    <tr>\n",
              "      <th>B</th>\n",
              "      <td>0.010122</td>\n",
              "      <td>0.010067</td>\n",
              "      <td>0.009114</td>\n",
              "      <td>0.008320</td>\n",
              "      <td>0.007020</td>\n",
              "    </tr>\n",
              "    <tr>\n",
              "      <th>AGE</th>\n",
              "      <td>-0.010116</td>\n",
              "      <td>-0.008276</td>\n",
              "      <td>0.007760</td>\n",
              "      <td>0.020348</td>\n",
              "      <td>0.043446</td>\n",
              "    </tr>\n",
              "    <tr>\n",
              "      <th>TAX</th>\n",
              "      <td>-0.014522</td>\n",
              "      <td>-0.014814</td>\n",
              "      <td>-0.016046</td>\n",
              "      <td>-0.016218</td>\n",
              "      <td>-0.011417</td>\n",
              "    </tr>\n",
              "    <tr>\n",
              "      <th>INDUS</th>\n",
              "      <td>-0.044855</td>\n",
              "      <td>-0.042719</td>\n",
              "      <td>-0.023252</td>\n",
              "      <td>-0.000000</td>\n",
              "      <td>-0.000000</td>\n",
              "    </tr>\n",
              "    <tr>\n",
              "      <th>CRIM</th>\n",
              "      <td>-0.099468</td>\n",
              "      <td>-0.099213</td>\n",
              "      <td>-0.089070</td>\n",
              "      <td>-0.073577</td>\n",
              "      <td>-0.019058</td>\n",
              "    </tr>\n",
              "    <tr>\n",
              "      <th>NOX</th>\n",
              "      <td>-0.175072</td>\n",
              "      <td>-0.000000</td>\n",
              "      <td>-0.000000</td>\n",
              "      <td>-0.000000</td>\n",
              "      <td>-0.000000</td>\n",
              "    </tr>\n",
              "    <tr>\n",
              "      <th>LSTAT</th>\n",
              "      <td>-0.574822</td>\n",
              "      <td>-0.587702</td>\n",
              "      <td>-0.693861</td>\n",
              "      <td>-0.760457</td>\n",
              "      <td>-0.800368</td>\n",
              "    </tr>\n",
              "    <tr>\n",
              "      <th>PTRATIO</th>\n",
              "      <td>-0.779498</td>\n",
              "      <td>-0.784725</td>\n",
              "      <td>-0.790969</td>\n",
              "      <td>-0.738672</td>\n",
              "      <td>-0.423065</td>\n",
              "    </tr>\n",
              "    <tr>\n",
              "      <th>DIS</th>\n",
              "      <td>-1.189438</td>\n",
              "      <td>-1.173647</td>\n",
              "      <td>-0.975902</td>\n",
              "      <td>-0.725174</td>\n",
              "      <td>-0.031208</td>\n",
              "    </tr>\n",
              "  </tbody>\n",
              "</table>\n",
              "</div>\n",
              "      <button class=\"colab-df-convert\" onclick=\"convertToInteractive('df-99007102-dfa4-4fe0-9c03-893a64d508ea')\"\n",
              "              title=\"Convert this dataframe to an interactive table.\"\n",
              "              style=\"display:none;\">\n",
              "        \n",
              "  <svg xmlns=\"http://www.w3.org/2000/svg\" height=\"24px\"viewBox=\"0 0 24 24\"\n",
              "       width=\"24px\">\n",
              "    <path d=\"M0 0h24v24H0V0z\" fill=\"none\"/>\n",
              "    <path d=\"M18.56 5.44l.94 2.06.94-2.06 2.06-.94-2.06-.94-.94-2.06-.94 2.06-2.06.94zm-11 1L8.5 8.5l.94-2.06 2.06-.94-2.06-.94L8.5 2.5l-.94 2.06-2.06.94zm10 10l.94 2.06.94-2.06 2.06-.94-2.06-.94-.94-2.06-.94 2.06-2.06.94z\"/><path d=\"M17.41 7.96l-1.37-1.37c-.4-.4-.92-.59-1.43-.59-.52 0-1.04.2-1.43.59L10.3 9.45l-7.72 7.72c-.78.78-.78 2.05 0 2.83L4 21.41c.39.39.9.59 1.41.59.51 0 1.02-.2 1.41-.59l7.78-7.78 2.81-2.81c.8-.78.8-2.07 0-2.86zM5.41 20L4 18.59l7.72-7.72 1.47 1.35L5.41 20z\"/>\n",
              "  </svg>\n",
              "      </button>\n",
              "      \n",
              "  <style>\n",
              "    .colab-df-container {\n",
              "      display:flex;\n",
              "      flex-wrap:wrap;\n",
              "      gap: 12px;\n",
              "    }\n",
              "\n",
              "    .colab-df-convert {\n",
              "      background-color: #E8F0FE;\n",
              "      border: none;\n",
              "      border-radius: 50%;\n",
              "      cursor: pointer;\n",
              "      display: none;\n",
              "      fill: #1967D2;\n",
              "      height: 32px;\n",
              "      padding: 0 0 0 0;\n",
              "      width: 32px;\n",
              "    }\n",
              "\n",
              "    .colab-df-convert:hover {\n",
              "      background-color: #E2EBFA;\n",
              "      box-shadow: 0px 1px 2px rgba(60, 64, 67, 0.3), 0px 1px 3px 1px rgba(60, 64, 67, 0.15);\n",
              "      fill: #174EA6;\n",
              "    }\n",
              "\n",
              "    [theme=dark] .colab-df-convert {\n",
              "      background-color: #3B4455;\n",
              "      fill: #D2E3FC;\n",
              "    }\n",
              "\n",
              "    [theme=dark] .colab-df-convert:hover {\n",
              "      background-color: #434B5C;\n",
              "      box-shadow: 0px 1px 3px 1px rgba(0, 0, 0, 0.15);\n",
              "      filter: drop-shadow(0px 1px 2px rgba(0, 0, 0, 0.3));\n",
              "      fill: #FFFFFF;\n",
              "    }\n",
              "  </style>\n",
              "\n",
              "      <script>\n",
              "        const buttonEl =\n",
              "          document.querySelector('#df-99007102-dfa4-4fe0-9c03-893a64d508ea button.colab-df-convert');\n",
              "        buttonEl.style.display =\n",
              "          google.colab.kernel.accessAllowed ? 'block' : 'none';\n",
              "\n",
              "        async function convertToInteractive(key) {\n",
              "          const element = document.querySelector('#df-99007102-dfa4-4fe0-9c03-893a64d508ea');\n",
              "          const dataTable =\n",
              "            await google.colab.kernel.invokeFunction('convertToInteractive',\n",
              "                                                     [key], {});\n",
              "          if (!dataTable) return;\n",
              "\n",
              "          const docLinkHtml = 'Like what you see? Visit the ' +\n",
              "            '<a target=\"_blank\" href=https://colab.research.google.com/notebooks/data_table.ipynb>data table notebook</a>'\n",
              "            + ' to learn more about interactive tables.';\n",
              "          element.innerHTML = '';\n",
              "          dataTable['output_type'] = 'display_data';\n",
              "          await google.colab.output.renderOutput(dataTable, element);\n",
              "          const docLink = document.createElement('div');\n",
              "          docLink.innerHTML = docLinkHtml;\n",
              "          element.appendChild(docLink);\n",
              "        }\n",
              "      </script>\n",
              "    </div>\n",
              "  </div>\n",
              "  "
            ]
          },
          "metadata": {},
          "execution_count": 13
        }
      ]
    },
    {
      "cell_type": "markdown",
      "source": [
        "### 5. 선형 회귀 모델을 위한 데이터 변환\n",
        "- 선형 회귀 모델과 같은 선형 모델은 일반적으로 **피처와 타겟값 간의 선형 관계가 있다**고 가정하고, 이러한 최적의 선형함수를 찾아내 결과값을 예측한다.\n",
        "- 선형 회귀 모델은 **피처값과 타겟값의 분포가 정규 분포의 형태**를 매우 선호한다. 특히 **타겟값**의 경우 정규 분포가 아닌 특정값의 분포가 치우친 **왜곡된 형태의 분포도**일 경우 **예측 성능에 부정적인 영향**을 미칠 가능성이 높다. 정도는 덜하지만 피처값도 마찬가지다.\n",
        "- 따라서 선형 회귀 모델을 적용하기 전에 먼저 데이터에 대한 **스케일링**과 **정규화** 작업을 수행하는 것이 일반적이다.\n",
        "- 스케일링/정규화 작업을 선행한다고 해서 무조건 예측 성능이 향상되는 것은 아니며, 일반적으로 중요 피처들이나 타겟값의 분포도가 심하게 왜곡되었을 경우에 이러한 변환 작업을 수행한다.\n",
        "- 피처 데이터 세트와 타겟 데이터 세트에 스케일링/정규화 작업을 수행하는 방법이 조금 다르다.\n",
        "\n",
        "- 사이킷런을 이용한 피처 데이터 세트 변환\n",
        " 1. **`StandardScaler`** 클래스를 이용하여 평균이 0이고 분산이 1인 표준 정규 분포를 가진 데이터 세트로 변환하거나, **`MinMaxScaler`** 클래스를 이용하여 최솟값이 0이고 최댓값이 1인 값으로 정규화를 수행한다.\n",
        " 2. 스케일링/정규화를 수행한 데이터 세트에 다시 다항 특성을 적용하여 변환하는 방법이다. 보통 1번 방법을 통해 예측 성능의 향상이 없을 경우 이와 같은 방법을 적용한다.\n",
        " 3. 원래 값에 log 함수를 적용하면 보다 정규 분포에 가까운 형태로 값이 분포된다. 이러한 변환을 **로그 변환**이라고 하며 1,2번 방법보다 훨씬 많이 사용되는 변환 방법이다.\n",
        "\n",
        "- 타겟값의 경우는 일반적으로 **로그 변환**을 적용한다. 결정값을 정규 분포나 다른 정규값으로 변환하면 변환된 값을 최종적으로 다시 원본 타겟값으로 변환하기 어려울 수 있다.\n"
      ],
      "metadata": {
        "id": "_8JI74U9xanl"
      }
    },
    {
      "cell_type": "markdown",
      "source": [
        "### 5. 선형 회귀 모델을 위한 데이터 변환\n",
        "- 보스턴 주택가격 피처 데이터 세트에 표준 정규 분포 변환, 최댓값/최솟값 정규화, 로그 변환을 차례로 적용한 후에 RMSE로 각 경우별 예측 성능을 측정한다.\n",
        "- 이를 위한 유틸리티 함수 get_scaled_data( ) 함수를 생성한다. \n",
        " - 이 함수는 method 인자로 변환 방법을 결정하며 **표준 정규 분포 변환(Standard)**, **최댓값/최솟값 정규화(MinMax)**, **로그 변환(Log)** 중에 하나를 선택한다. \n",
        " - 로그 변환인 경우 np.log( )가 아닌 np.log1p( )를 사용하여, log( ) 함수를 적용할 때  언더 플로우의 발생을 방지하여 1+log( ) 함수를 적용하는 효과를 가진다.\n",
        " - p_degree는 다항식 특성을 추가할 때 다항식 차수가 입력되며, 다항식 차수는 2를 넘기지 않는다.\n",
        "\n",
        "- `Ridge` 클래스의 alpha 값을 변화시키면서 피처 데이터 세트를 여러 가지 방법으로 변환한 데이터 세트를 입력 받을 경우 RMSE 값이 어떻게 변하는지 알아본다. 이를 위해서는 생성한 유틸리티 함수 get_linear_reg_eval( ) 함수를 이용한다.\n",
        "- 피처 데이터 구성은 원본 1가지와 변환 5가지이다. \n",
        " 1. (None, None) : 아무런 변환을 하지 않은 원본 데이터\n",
        " 2. (\"Standard\", None) : 표준 정규 분포 변환\n",
        " 3. (\"Standard\", 2) : 표준 정규 분포를 다시 2차 다항식 변환\n",
        " 4. (\"MinMax\", None) : 최솟값/최댓값 정규화 변환\n",
        " 5. (\"MinMax\", 2) : 최솟값/최댓값 정규화를 다시 2차 다항식 변환\n",
        " 6. (\"Log\", None) : 로그 변환"
      ],
      "metadata": {
        "id": "4oXoT27HzsnU"
      }
    },
    {
      "cell_type": "code",
      "source": [
        "from sklearn.preprocessing import StandardScaler, MinMaxScaler, PolynomialFeatures\n",
        "\n",
        "# method는 표준 정규 분포 변환(Standard), 최댓값/최솟값 정규화(MinMax), 로그 변환(Log) 중 하나로 결정\n",
        "# p_degree는 다항식 특성을 추가할 때 적용하며, 2 이상 부여하지 않음\n",
        "def get_scaled_data(method=\"None\", p_degree=None, input_data=None):\n",
        "    if method == \"Standard\":\n",
        "        scaled_data = StandardScaler().fit_transform(input_data)\n",
        "    elif method == \"MinMax\":\n",
        "        scaled_data = MinMaxScaler().fit_transform(input_data)\n",
        "    elif method == \"Log\":\n",
        "        scaled_data = np.log1p(input_data)\n",
        "    else:\n",
        "        scaled_data = input_data\n",
        "\n",
        "    if p_degree != None:\n",
        "        scaled_data = PolynomialFeatures(degree=p_degree, include_bias=False).fit_transform(scaled_data)\n",
        "\n",
        "    return scaled_data"
      ],
      "metadata": {
        "id": "OfryIW5jxDc3"
      },
      "execution_count": null,
      "outputs": []
    },
    {
      "cell_type": "code",
      "source": [
        "# Ridge의 alpha 값을 다르게 적용하고 다양한 데이터 변환 방법에 따른 RMSE를 추출\n",
        "ridge_alphas = [0.1, 1, 10, 100]\n",
        "\n",
        "# 원본 1개와 5개의 방식으로 변환\n",
        "scale_methods = [(None, None), (\"Standard\", None), (\"Standard\", 2), (\"MinMax\", None), (\"MinMax\", 2), (\"Log\", None)]\n",
        "\n",
        "for scale_method in scale_methods:\n",
        "    X_data_scaled = get_scaled_data(method=scale_method[0], p_degree=scale_method[1], input_data=X_data)\n",
        "    print(\"\\n## 변환 유형: {0}, Polynomial Degree: {1}\".format(scale_method[0], scale_method[1]))\n",
        "    get_linear_reg_eval(\"Ridge\", params=ridge_alphas, X_data_n=X_data_scaled, y_target_n=y_target, verbose=False)"
      ],
      "metadata": {
        "colab": {
          "base_uri": "https://localhost:8080/"
        },
        "id": "jQRQNS5u2kB5",
        "outputId": "a2bc0226-57b1-4b40-cc58-23abd04cc508"
      },
      "execution_count": null,
      "outputs": [
        {
          "output_type": "stream",
          "name": "stdout",
          "text": [
            "\n",
            "## 변환 유형: None, Polynomial Degree: None\n",
            "alpha 0.1 일 때, 5 folds 의 평균 RMSE: 5.788\n",
            "alpha 1 일 때, 5 folds 의 평균 RMSE: 5.653\n",
            "alpha 10 일 때, 5 folds 의 평균 RMSE: 5.518\n",
            "alpha 100 일 때, 5 folds 의 평균 RMSE: 5.330\n",
            "\n",
            "## 변환 유형: Standard, Polynomial Degree: None\n",
            "alpha 0.1 일 때, 5 folds 의 평균 RMSE: 5.826\n",
            "alpha 1 일 때, 5 folds 의 평균 RMSE: 5.803\n",
            "alpha 10 일 때, 5 folds 의 평균 RMSE: 5.637\n",
            "alpha 100 일 때, 5 folds 의 평균 RMSE: 5.421\n",
            "\n",
            "## 변환 유형: Standard, Polynomial Degree: 2\n",
            "alpha 0.1 일 때, 5 folds 의 평균 RMSE: 8.827\n",
            "alpha 1 일 때, 5 folds 의 평균 RMSE: 6.871\n",
            "alpha 10 일 때, 5 folds 의 평균 RMSE: 5.485\n",
            "alpha 100 일 때, 5 folds 의 평균 RMSE: 4.634\n",
            "\n",
            "## 변환 유형: MinMax, Polynomial Degree: None\n",
            "alpha 0.1 일 때, 5 folds 의 평균 RMSE: 5.764\n",
            "alpha 1 일 때, 5 folds 의 평균 RMSE: 5.465\n",
            "alpha 10 일 때, 5 folds 의 평균 RMSE: 5.754\n",
            "alpha 100 일 때, 5 folds 의 평균 RMSE: 7.635\n",
            "\n",
            "## 변환 유형: MinMax, Polynomial Degree: 2\n",
            "alpha 0.1 일 때, 5 folds 의 평균 RMSE: 5.298\n",
            "alpha 1 일 때, 5 folds 의 평균 RMSE: 4.323\n",
            "alpha 10 일 때, 5 folds 의 평균 RMSE: 5.185\n",
            "alpha 100 일 때, 5 folds 의 평균 RMSE: 6.538\n",
            "\n",
            "## 변환 유형: Log, Polynomial Degree: None\n",
            "alpha 0.1 일 때, 5 folds 의 평균 RMSE: 4.770\n",
            "alpha 1 일 때, 5 folds 의 평균 RMSE: 4.676\n",
            "alpha 10 일 때, 5 folds 의 평균 RMSE: 4.836\n",
            "alpha 100 일 때, 5 folds 의 평균 RMSE: 6.241\n"
          ]
        }
      ]
    },
    {
      "cell_type": "markdown",
      "source": [
        "### 6. 로지스틱 회귀(Logistic Regression)\n",
        "- 로지스틱 회귀는 선형 회귀 방식을 분류에 적용한 알고리즘이다.\n",
        "- 로지스틱 회귀와 선형 회귀의 다른 점은 학습을 통해 선형 함수의 회귀 최적선을 찾는 것이 아니라 시그모이드(Sigmoid) 함수 최적선을 찾고, 이 **시그모이드 함수의 반환 값을 확률로 간주**하여 **확률에 따라 분류를 결정**한다.\n",
        "- 시그모이드 함수의 정의는 $y = \\frac{1}{1+e^{-x}}$ 이다. \n",
        "- 시그모이드 함수는 x 값이 +, -로 아무리 커지거나 작아져도 y 값은 항상 0과 1 사이의 값을 반환한다. y 값은 x 값이 커지면 1에 , x 값이 작아지면 0에 근사하고 x 값이 0일 때는 0.5이다. \n",
        "- 회귀 문제를 약간 비틀어서 분류 문제에 적용한다. 예를 들어 악성 종양인지(Yes=1), 그렇지 않은지(No=0)를 회귀를 이용하여 1과 0의 값으로 예측하는 것이다.\n",
        "-  종양 크기를 X축, 악성 종양 여부를 Y축으로 하여 S자 커브 형태의 시그모이드 함수를 이용하면 선형 회귀 선을 그릴 때보다 좀 더 정확하게 0과 1에 대해 분류를 할 수 있다.\n",
        "\n",
        "\n"
      ],
      "metadata": {
        "id": "wHjRkFs04krd"
      }
    },
    {
      "cell_type": "markdown",
      "source": [
        "## 6. 로지스틱 회귀(Logistic Regression)\n",
        "### 6-1. 위스콘신 유방암 데이터 세트를 이용한 로지스틱 회귀\n",
        "- 위스콘신 유방암 데이터 세트를 이용하여 로지스틱 회귀로 암 여부를 판단하는 실습을 수행한다.\n",
        "- 사이킷런의 `load_breast_cancer( )`를 호출하여 전체 데이터 세트를 생성한다.\n",
        "- 선형 회귀 계열의 로지스틱 회귀는 데이터의 정규 분포도에 따라 예측 성능의 영향을 받을 수 있으므로, 데이터에 먼저 정규 분포 형태의 표준 스케일링을 적용한 뒤에 `train_test_split( )`을 이용하여 데이터 세트를 학습 데이터 세트와 테스트 데이터 세트로 나눈다.\n",
        "- 로지스틱 회귀는 사이킷런의 **`LogisticRegression`**을 이용한다."
      ],
      "metadata": {
        "id": "4cBSHhLSBB7c"
      }
    },
    {
      "cell_type": "code",
      "source": [
        "# 데이터 로드\n",
        "from sklearn.datasets import load_breast_cancer\n",
        "cancer = load_breast_cancer()\n",
        "\n",
        "# StandardScaler( )로 평균이 0이고 분산이 1인 데이터 분포도 변환\n",
        "from sklearn.preprocessing import StandardScaler\n",
        "scaler = StandardScaler()\n",
        "data_scaled = scaler.fit_transform(cancer.data)\n",
        "\n",
        "from sklearn.model_selection import train_test_split\n",
        "X_train, X_test, y_train, y_test = train_test_split(data_scaled, cancer.target, test_size=0.3, random_state=0)"
      ],
      "metadata": {
        "id": "34GhzIPB4GCp"
      },
      "execution_count": null,
      "outputs": []
    },
    {
      "cell_type": "code",
      "source": [
        "# 로지스틱 회귀를 이용하여 학습 및 예측 수행\n",
        "from sklearn.linear_model import LogisticRegression\n",
        "lr_clf = LogisticRegression()\n",
        "lr_clf.fit(X_train, y_train)\n",
        "lr_preds = lr_clf.predict(X_test)\n",
        "\n",
        "# 정확도와 roc_auc 측정\n",
        "from sklearn.metrics import accuracy_score, roc_auc_score\n",
        "print(\"accuracy: {0:.3f}\".format(accuracy_score(y_test, lr_preds)))\n",
        "print(\"roc_auc: {0:.3f}\".format(roc_auc_score(y_test, lr_preds)))"
      ],
      "metadata": {
        "colab": {
          "base_uri": "https://localhost:8080/"
        },
        "id": "YF4sbZlACQZI",
        "outputId": "20991933-7525-42d0-899a-f061d54186f4"
      },
      "execution_count": null,
      "outputs": [
        {
          "output_type": "stream",
          "name": "stdout",
          "text": [
            "accuracy: 0.977\n",
            "roc_auc: 0.972\n"
          ]
        }
      ]
    },
    {
      "cell_type": "markdown",
      "source": [
        "## 6. 로지스틱 회귀(Logistic Regression)\n",
        "### 6-1. 위스콘신 유방암 데이터 세트를 이용한 로지스틱 회귀\n",
        "- 사이킷런 `LogisticRegression` 클래스의 주요 하이퍼 파라미터로 `penalty`와 `C`가 있다. \n",
        " - `penalty`는 규제의 유형을 설정하며, **\"l2\"**로 설정시 L2 규제를, **\"l1\"**로 설정시 L1 규제를 의미하고 기본은 \"l2\"이다.\n",
        " - `C`는 규제 강도를 조절하는 alpha 값의 역수이다. 즉 $C=\\frac{1}{alpha}$이다. C값이 작을수록 규제 강도가 크다.\n",
        "- **`GridSearchCV`**를 이용하여 위스콘신 유방암 데이터 세트에서 이 하이퍼 파라미터를 최적화한다."
      ],
      "metadata": {
        "id": "w5m8VXbxC_Ig"
      }
    },
    {
      "cell_type": "code",
      "source": [
        "from sklearn.model_selection import GridSearchCV\n",
        "\n",
        "params = { \"penalty\": [\"l2\", \"l1\"], \n",
        "          \"C\": [0.01, 0.1, 1, 1, 5, 10] }\n",
        "\n",
        "grid_clf = GridSearchCV(lr_clf, param_grid=params, scoring=\"accuracy\", cv=3)\n",
        "grid_clf.fit(data_scaled, cancer.target)"
      ],
      "metadata": {
        "id": "-RyaD_0wC1-k"
      },
      "execution_count": null,
      "outputs": []
    },
    {
      "cell_type": "code",
      "source": [
        "print(\"최적 하이퍼 파라미터: {0}, 최적 평균 정확도: {1:.3f}\".format(grid_clf.best_params_, grid_clf.best_score_))"
      ],
      "metadata": {
        "colab": {
          "base_uri": "https://localhost:8080/"
        },
        "id": "wusqvPcQMnbh",
        "outputId": "19b3a9d1-afe6-4037-d1bd-7ea106f90698"
      },
      "execution_count": null,
      "outputs": [
        {
          "output_type": "stream",
          "name": "stdout",
          "text": [
            "최적 하이퍼 파라미터: {'C': 1, 'penalty': 'l2'}, 최적 평균 정확도: 0.975\n"
          ]
        }
      ]
    },
    {
      "cell_type": "markdown",
      "source": [
        "### 7. 회귀 트리\n",
        "- 선형 회귀는 회귀 계수의 관계를 모두 선형으로 가정하고, 회귀 계수를 선형으로 결합하는 회귀 함수를 구하여 여기에 독립 변수를 입력하여 결과값을 예측하는 것이다.\n",
        "- 비선형 회귀 역시 비선형 회귀 함수를 통해 결과값을 예측하는데, 회귀 계수를 비선형으로 결합하는 회귀 함수를 사용한다.\n",
        "- 트리 기반의 회귀는 회귀 트리를 이용한다. 즉 회귀를 위한 트리를 생성하고 이를 기반으로 회귀 예측을 진행한다. \n",
        "- 회귀 트리는 분류에서 언급한 분류 트리와 크게 다르지 않은데, 리프 노드에서 예측 결정값을 만드는 과정의 차이가 있다. 분류 트리가 특정 클래스 레이블을 결정하는 것과는 달리 회귀 트리는 **리프 노드에 속한 데이터 값의 평균값을 구해 회귀 예측값을 계산**한다.\n",
        "- 회귀 트리는 다음과 같이 동작한다. \n",
        " 1. 데이터 세트의 X 피처를 결정 트리 기반으로 분할하면 X값의 균일도를 반영한 지니 계수에 따라 다음 그림의 왼쪽과 같이 분할 할 수 있다. 루프 노드를 split 0 기준으로 분할하고 이렇게 분할된 규칙 노드에서 다시 split 1 과 split 2 규칙 노드로 분할할 수 있다. \n",
        " 2. 그리고 split 2는 다시 재귀적으로 split 3 규칙 노드로 다음 그림의 오른쪽과 같이 트리 규칙으로 변환한다. \n",
        " 3. 리프 노드 생성 기준에 부합하는 트리 분할이 완료됐다면 **리프 노드에 소속된 데이터 값의 평균값**을 구해서 **최종적으로 리프 노드에 결정값으로 할당**한다.\n"
      ],
      "metadata": {
        "id": "sPXUceZyM-uo"
      }
    },
    {
      "cell_type": "markdown",
      "source": [
        "![KakaoTalk_20220529_001228166.jpg](data:image/jpeg;base64,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)"
      ],
      "metadata": {
        "id": "1qtw4_qmPUx4"
      }
    },
    {
      "cell_type": "markdown",
      "source": [
        "### 7. 회귀 트리\n",
        "- 회귀는 **결정 트리, 랜덤 포레스트, GBM, XGBoost, LightGBM** 등의 분류에서 소개한 모든 트리 기반의 알고리즘이 가능하다.\n",
        "- 트리 생성이 CART 알고리즘에 기반하고 있기 때문인데, CART(Classification And Regression Trees)는 이름에서도 알 수 있듯이 분류뿐만 아니라 회귀도 가능하게 해주는 트리 생성 알고리즘이다.\n",
        "- 사이킷런은 결정 트리, 랜덤 포레스트, GBM에서 CART 기반의 회귀 수행을 할 수 있는 Estimator 클래스를 제공한다. 또한XGBoost, LigthGBM도 사이킷런 래퍼 클래스를 통해 이를 제공한다.\n",
        "\n",
        "\n",
        "| 알고리즘 | 회귀 Estimator 클래스 | 분류 Estimator 클래스 | \n",
        "|:--- | :--- | :--- | \n",
        "| Decision Tree |  DecisionTreeRegressor | DecisionTreeClassifier | \n",
        "| Random Forest | RandomForestRegressor | RandomForestClassifier |\n",
        "| Gradient Boosting |  GradientBoostingRegressor | GradientBoostingClassifier | \n",
        "| XGBoost |  XGBRegressor | XGBClassifier | \n",
        "| LightGBM |  LGBMRegressor | LGBMClassifier | \n",
        "\n",
        "- 사이킷런의 랜덤 포레스트 회귀 트리인 **`RandomForestRegressor`**를 이용하여 보스턴 주택 가격 예측을 수행한다."
      ],
      "metadata": {
        "id": "5m9rParPPWvm"
      }
    },
    {
      "cell_type": "code",
      "source": [
        "# 보스턴 데이터 세트 로드\n",
        "from sklearn.datasets import load_boston\n",
        "boston = load_boston()\n",
        "bostonDF = pd.DataFrame(boston.data, columns=boston.feature_names)\n",
        "bostonDF[\"PRICE\"] = boston.target\n",
        "y_target = bostonDF[\"PRICE\"]\n",
        "X_data = bostonDF.drop([\"PRICE\"], axis=1, inplace=False)\n",
        "\n",
        "# 랜덤 포레스트 회귀 트리를 이용하여 MSE 및 RMSE 측정\n",
        "from sklearn.ensemble import RandomForestRegressor\n",
        "rf = RandomForestRegressor(random_state=0, n_estimators=100)\n",
        "neg_mse_scores = cross_val_score(rf, X_data, y_target, scoring=\"neg_mean_squared_error\", cv=5)\n",
        "mse_scores = -1 * neg_mse_scores\n",
        "rmse_scores = np.sqrt(mse_scores)\n",
        "avg_rmse = np.mean(rmse_scores)"
      ],
      "metadata": {
        "id": "sPmHc6LgS_ZD"
      },
      "execution_count": null,
      "outputs": []
    },
    {
      "cell_type": "code",
      "source": [
        "print(\"5 교차 검증의 개별 Negative MSE scores: \", np.round(neg_mse_scores, 2))\n",
        "print(\"5 교차 검증의 개별 MSE scores: \", np.round(mse_scores, 2))\n",
        "print(\"5 교차 검증의 개별 RMSE scores: \", np.round(rmse_scores, 2))\n",
        "print(\"5 교차 검증의 평균 RMSE: {0:.3f}\".format(avg_rmse))"
      ],
      "metadata": {
        "colab": {
          "base_uri": "https://localhost:8080/"
        },
        "id": "EM_2KVw1WsYX",
        "outputId": "791a802f-9a2f-4898-c82f-32223dd74e63"
      },
      "execution_count": null,
      "outputs": [
        {
          "output_type": "stream",
          "name": "stdout",
          "text": [
            "5 교차 검증의 개별 Negative MSE scores:  [ -8.04 -13.58 -18.16 -47.62 -20.45]\n",
            "5 교차 검증의 개별 MSE scores:  [ 8.04 13.58 18.16 47.62 20.45]\n",
            "5 교차 검증의 개별 RMSE scores:  [2.84 3.68 4.26 6.9  4.52]\n",
            "5 교차 검증의 평균 RMSE: 4.441\n"
          ]
        }
      ]
    },
    {
      "cell_type": "markdown",
      "source": [
        "### 7. 회귀 트리\n",
        "- 랜덤 포레스트 뿐만 아니라 결정 트리, GBM, XGBoost, LightGBM의 Regressor를 모두 이용하여 보스턴 주택 가격 예측을 수행한다.\n",
        "- 이를 위하여 유틸리티 함수 get_model_cv_prediction( ) 함수를 생성한다. 이 함수는 입력 모델과 데이터 세트를 입력 받아 교차 검증으로 평균 RMSE를 계산한다.\n",
        "- 회귀 트리 Regressor 클래스는 선형 회귀와 다른 처리 방식이므로 회귀 계수를 제공하는 `coef_` 속성이 없다. 대신 **`feature_importance_`**를 이용하여 피처별 중요도를 알 수 있다."
      ],
      "metadata": {
        "id": "W7SCI1PjRvTi"
      }
    },
    {
      "cell_type": "code",
      "source": [
        "def get_model_cv_prediction(model, X_data, y_target):\n",
        "    neg_mse_scores = cross_val_score(model, X_data, y_target, scoring=\"neg_mean_squared_error\", cv=5)\n",
        "    mse_scores = -1 * neg_mse_scores\n",
        "    rmse_scores = np.sqrt(mse_scores)\n",
        "    avg_rmse = np.mean(rmse_scores)\n",
        "    print(\"##### \", model.__class__.__name__, \" #####\")\n",
        "    print(\"5 교차 검증의 평균 RMSE : {0:.3f}\".format(avg_rmse))"
      ],
      "metadata": {
        "id": "IsE7mhAcXQx7"
      },
      "execution_count": null,
      "outputs": []
    },
    {
      "cell_type": "code",
      "source": [
        "# 결정 트리\n",
        "from sklearn.tree import DecisionTreeRegressor\n",
        "dt_reg = DecisionTreeRegressor(random_state=0, max_depth=4)\n",
        "\n",
        "# 랜덤 포레스트\n",
        "from sklearn.ensemble import RandomForestRegressor\n",
        "rf_reg = RandomForestRegressor(random_state=0, n_estimators=1000)\n",
        "\n",
        "# GBM\n",
        "from sklearn.ensemble import GradientBoostingRegressor\n",
        "gb_reg = GradientBoostingRegressor(random_state=0, n_estimators=1000)\n",
        "\n",
        "# XGB\n",
        "from xgboost import XGBRegressor\n",
        "xgb_reg = XGBRegressor(n_estimators=1000)\n",
        "\n",
        "# LGBM\n",
        "from lightgbm import LGBMRegressor\n",
        "lgb_reg = LGBMRegressor(n_estimators=1000)\n",
        "\n",
        "# 트리 기반의 회귀 모델을 반복하면서 평가를 수행\n",
        "models = [dt_reg, rf_reg, gb_reg, xgb_reg, lgb_reg]\n",
        "for model in models:\n",
        "    get_model_cv_prediction(model, X_data, y_target)"
      ],
      "metadata": {
        "colab": {
          "base_uri": "https://localhost:8080/"
        },
        "id": "vARcoCxGZdmK",
        "outputId": "648f6a8d-71e9-4299-e0a0-87d097b9bfa3"
      },
      "execution_count": null,
      "outputs": [
        {
          "output_type": "stream",
          "name": "stdout",
          "text": [
            "#####  DecisionTreeRegressor  #####\n",
            "5 교차 검증의 평균 RMSE : 5.978\n",
            "#####  RandomForestRegressor  #####\n",
            "5 교차 검증의 평균 RMSE : 4.423\n",
            "#####  GradientBoostingRegressor  #####\n",
            "5 교차 검증의 평균 RMSE : 4.269\n",
            "[16:06:48] WARNING: /workspace/src/objective/regression_obj.cu:152: reg:linear is now deprecated in favor of reg:squarederror.\n",
            "[16:06:48] WARNING: /workspace/src/objective/regression_obj.cu:152: reg:linear is now deprecated in favor of reg:squarederror.\n",
            "[16:06:49] WARNING: /workspace/src/objective/regression_obj.cu:152: reg:linear is now deprecated in favor of reg:squarederror.\n",
            "[16:06:49] WARNING: /workspace/src/objective/regression_obj.cu:152: reg:linear is now deprecated in favor of reg:squarederror.\n",
            "[16:06:50] WARNING: /workspace/src/objective/regression_obj.cu:152: reg:linear is now deprecated in favor of reg:squarederror.\n",
            "#####  XGBRegressor  #####\n",
            "5 교차 검증의 평균 RMSE : 4.089\n",
            "#####  LGBMRegressor  #####\n",
            "5 교차 검증의 평균 RMSE : 4.646\n"
          ]
        }
      ]
    },
    {
      "cell_type": "code",
      "source": [
        "# 피처별 중요도를 시각화\n",
        "rf_reg = RandomForestRegressor(n_estimators=1000)\n",
        "rf_reg.fit(X_data, y_target)\n",
        "\n",
        "feature_series = pd.Series(data=rf_reg.feature_importances_, index=X_data.columns)\n",
        "feature_series = feature_series.sort_values(ascending=False)\n",
        "sns.barplot(x=feature_series, y=feature_series.index)\n",
        "plt.show()"
      ],
      "metadata": {
        "colab": {
          "base_uri": "https://localhost:8080/",
          "height": 265
        },
        "id": "FkPGjF4QaoLd",
        "outputId": "dec39ebc-ec0c-4858-ae2a-052a321ae607"
      },
      "execution_count": null,
      "outputs": [
        {
          "output_type": "display_data",
          "data": {
            "text/plain": [
              "<Figure size 432x288 with 1 Axes>"
            ],
            "image/png": "[encoded data removed]"
          },
          "metadata": {
            "needs_background": "light"
          }
        }
      ]
    },
    {
      "cell_type": "markdown",
      "source": [
        "### 7. 회귀 트리\n",
        "- 회귀 트리 Regressor가 어떻게 예측값을 판단하는지 선형 회귀와 비교하여 시각화한다.\n",
        "- 결정 트리의 하이퍼 파라미터인 `max_depth`의 크기를 변화시키면서 **어떻게 회귀 트리 예측선이 변화**하는지 살펴본다. \n",
        "- 보스턴 주택 데이터 세트를 이용하며, 2차원 평면상에서 회귀 예측선을 쉽게 표현하기 위하여 단 1개의 변수만 추출한다. 타겟 변수인 Price와 가장 밀접한 양의 상관관계를 가지는 RM 칼럼만 이용하여 선형 회귀와 결정 트리 회귀로 PRICE 예측 회귀선을 표현한다.\n",
        "- 보스턴 데이터 세트의 개수를 100개만 샘플링하고, RM과 PRICE 칼럼만 추출한다. 좀 더 직관적으로 예측값을 시각화하기 위하여 2차원 평면상에서 X축에 독립 변수인 RM, Y축에 종속 변수인 PRICE를 산점도 형태로 나타낸다."
      ],
      "metadata": {
        "id": "nI5VBob3cZZv"
      }
    },
    {
      "cell_type": "code",
      "source": [
        "bostonDF_sample = bostonDF[['RM', 'PRICE']]\n",
        "bostonDF_sample = bostonDF_sample.sample(n=100, random_state=0)\n",
        "print(bostonDF_sample.shape)\n",
        "\n",
        "plt.figure()\n",
        "plt.scatter(bostonDF_sample.RM, bostonDF_sample.PRICE, c=\"darkorange\")\n",
        "plt.show()"
      ],
      "metadata": {
        "colab": {
          "base_uri": "https://localhost:8080/",
          "height": 282
        },
        "id": "no1AwMKVcEpQ",
        "outputId": "9d3a3464-af82-4388-badd-7c6b8fe937c2"
      },
      "execution_count": null,
      "outputs": [
        {
          "output_type": "stream",
          "name": "stdout",
          "text": [
            "(100, 2)\n"
          ]
        },
        {
          "output_type": "display_data",
          "data": {
            "text/plain": [
              "<Figure size 432x288 with 1 Axes>"
            ],
            "image/png": "[encoded data removed]"
          },
          "metadata": {
            "needs_background": "light"
          }
        }
      ]
    },
    {
      "cell_type": "markdown",
      "source": [
        "### 7. 회귀 트리\n",
        "- 보스턴 데이터 세트에 대해 **`LinearRegression`**과 **`DecisionTreeRegressor`**의 **`max_depth`**을 각각 2와 7로 하여 학습한다.\n",
        "- 이렇게 학습된 Regressor에 RM 값을 4.5~8.5까지의 100개의 테스트 데이터 세트로 제공했을 때의 예측값을 구한다.\n",
        "- 학습된 Regressor에서 예측한 Price 회귀선을 그린다.\n",
        "- 첫번째 그림인 선형 회귀는 예측 회귀선을 직선으로 표현한다. 반면 두번째, 세번째 그림인 회귀 트리의 경우 분할되는 데이터 지점에 따라 브랜치를 만들면서 계단 형태로 회귀선을 만든다.\n",
        "- DecisionTreeRegressor의 max_depth=7인 경우에는 학습 데이터 세트의 이상치 데이터도 학습하면서 복잡한 계단 형태의 회귀선을 만들어 과적합이 되기 쉬운 모델이 되었음을 알 수 있다."
      ],
      "metadata": {
        "id": "r-GrWsUnd6EE"
      }
    },
    {
      "cell_type": "code",
      "source": [
        "from sklearn.linear_model import LinearRegression\n",
        "from sklearn.tree import DecisionTreeRegressor\n",
        "\n",
        "# 선형 회귀와 결정 트리 기반의 Regressor를 생성하고, 결정 트리의 max_depth을 각각 2와 7로 지정\n",
        "lr_reg = LinearRegression()\n",
        "dt_reg2 = DecisionTreeRegressor(max_depth=2)\n",
        "dt_reg7 = DecisionTreeRegressor(max_depth=7)\n",
        "\n",
        "# 실제 예측을 적용할 테스트용 데이터 세트를 4.5~8.5까지의 100개의 데이터 세트로 생성\n",
        "X_test = np.arange(4.5, 8.5, 0.04).reshape(-1, 1)\n",
        "\n",
        "# 보스턴 주택 가격 데이터에서 시각화를 위해 피처는 RM만, 결정 데이터인 PRICE 추출\n",
        "X_feature = bostonDF_sample[\"RM\"].values.reshape(-1, 1)\n",
        "y_target = bostonDF_sample[\"PRICE\"].values.reshape(-1, 1)\n",
        "\n",
        "# 학습과 예측 수행\n",
        "lr_reg.fit(X_feature, y_target)\n",
        "dt_reg2.fit(X_feature, y_target)\n",
        "dt_reg7.fit(X_feature, y_target)\n",
        "\n",
        "pred_lr = lr_reg.predict(X_test)\n",
        "pred_dt2 = dt_reg2.predict(X_test)\n",
        "pred_dt7 = dt_reg7.predict(X_test)"
      ],
      "metadata": {
        "id": "H1W5RcOadyhf"
      },
      "execution_count": null,
      "outputs": []
    },
    {
      "cell_type": "code",
      "source": [
        "fig, (ax1, ax2, ax3) = plt.subplots(figsize=(14, 4), ncols=3)\n",
        "\n",
        "# X축 값을 4.5~8.5로 변환하여 입력했을 때, 선형 회귀와 결정 트리 회귀 예측선을 시각화\n",
        "# 선형 회귀로 학습된 모델 회귀 예측선\n",
        "ax1.set_title(\"Linear Regression\")\n",
        "ax1.scatter(bostonDF_sample.RM, bostonDF_sample.PRICE, c=\"darkorange\")   # 원래 데이터를 산점도로 그림\n",
        "ax1.plot(X_test, pred_lr, label=\"linear\", linewidth=2)  # 모델 예측 결과를 직선으로 연결하여 그림\n",
        "\n",
        "# DecisionTreeRegressor의 max_depth을 2로 했을 때의 모델 회귀 예측선\n",
        "ax2.set_title(\"Decision Tree Regression \\n max_depth=2\")\n",
        "ax2.scatter(bostonDF_sample.RM, bostonDF_sample.PRICE, c=\"darkorange\")   # 원래 데이터를 산점도로 그림\n",
        "ax2.plot(X_test, pred_dt2, label=\"max_depth:2\", linewidth=2)   # 모델 예측 결과를 직선으로 연결하여 그림\n",
        "\n",
        "# DecisionTreeRegressor의 max_depth을 7로 했을 때의 모델 회귀 예측선\n",
        "ax3.set_title(\"Decision Tree Regression \\n max_depth=7\")\n",
        "ax3.scatter(bostonDF_sample.RM, bostonDF_sample.PRICE, c=\"darkorange\")   # 원래 데이터를 산점도로 그림\n",
        "ax3.plot(X_test, pred_dt7, label=\"max_depth:7\", linewidth=2)   # 모델 예측 결과를 직선으로 연결하여 그림\n",
        "\n",
        "plt.show()"
      ],
      "metadata": {
        "colab": {
          "base_uri": "https://localhost:8080/",
          "height": 296
        },
        "id": "lFR73HIKf-M_",
        "outputId": "34142955-d618-4c74-c2e7-b74c440fa64d"
      },
      "execution_count": null,
      "outputs": [
        {
          "output_type": "display_data",
          "data": {
            "text/plain": [
              "<Figure size 1008x288 with 3 Axes>"
            ],
            "image/png": "[encoded data removed]"
          },
          "metadata": {
            "needs_background": "light"
          }
        }
      ]
    },
    {
      "cell_type": "code",
      "source": [
        ""
      ],
      "metadata": {
        "id": "skA-ouorhctb"
      },
      "execution_count": null,
      "outputs": []
    }
  ]
}