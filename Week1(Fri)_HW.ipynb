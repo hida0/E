{
  "nbformat": 4,
  "nbformat_minor": 0,
  "metadata": {
    "colab": {
      "name": "Week1(Fri) HW",
      "provenance": [],
      "collapsed_sections": [],
      "authorship_tag": "ABX9TyMYmXtYKJ0fO9QLl39a9F5g",
      "include_colab_link": true
    },
    "kernelspec": {
      "name": "python3",
      "display_name": "Python 3"
    },
    "language_info": {
      "name": "python"
    }
  },
  "cells": [
    {
      "cell_type": "markdown",
      "metadata": {
        "id": "view-in-github",
        "colab_type": "text"
      },
      "source": [
        "<a href=\"https://colab.research.google.com/github/hida0/ESAA/blob/main/Week1(Fri)_HW.ipynb\" target=\"_parent\"><img src=\"https://colab.research.google.com/assets/colab-badge.svg\" alt=\"Open In Colab\"/></a>"
      ]
    },
    {
      "cell_type": "markdown",
      "source": [
        "#개념정리 & 개념필사\n",
        "##[넘파이 **Numpy**]\n",
        "*   **Numerical Python**의 줄임말로 파이썬에서 선형대수 기반의 프로그램을 쉽게 만들 수 있도록 지원하는 대표적인 패키지이다. 루프를 사용하지 않고 대량 데이터의 배열 연산을 가능하게 하여 빠른 배열 연산 속도를 보장하고 다양한 데이터 핸들링 기능을 제공한다.\n",
        "*   관례적으로 numpy를 import 할때, 약어인 np를 사용한다."
      ],
      "metadata": {
        "id": "sIloY3rER7rp"
      }
    },
    {
      "cell_type": "code",
      "source": [
        "import numpy as np"
      ],
      "metadata": {
        "id": "PoXFsmhIYU0a"
      },
      "execution_count": 1,
      "outputs": []
    },
    {
      "cell_type": "markdown",
      "source": [
        "##[넘파이 **ndarray**]\n",
        "*  넘파이의 기본 데이터 타입으로 다차원 배열을 쉽게 생성하고 다양한 연산이 가능하다.\n",
        "* **array()** 함수에 변환을 원하는 객체를 리스트 등의 인자로 입력하면 ndarray를 반환한다.\n",
        "* **shape** 변수를 이용하면 생성된 ndarray의 차원과 크기를 튜플 형태로 나타낸다."
      ],
      "metadata": {
        "id": "p0zS-ZoIR71Q"
      }
    },
    {
      "cell_type": "code",
      "source": [
        "array2 = np.array([[1,2,3],\n",
        "                   [4,5,6]])\n",
        "print(\"array2:\\n\", array2)\n",
        "print(\"array2 type:\", type(array2))\n",
        "print(\"array2 array 형태:\", array2.shape)"
      ],
      "metadata": {
        "colab": {
          "base_uri": "https://localhost:8080/"
        },
        "id": "3eFW68ywYf-Y",
        "outputId": "ab1aeee2-b9a5-4cdb-8c6b-6ad1299b521e"
      },
      "execution_count": 2,
      "outputs": [
        {
          "output_type": "stream",
          "name": "stdout",
          "text": [
            "array2:\n",
            " [[1 2 3]\n",
            " [4 5 6]]\n",
            "array2 type: <class 'numpy.ndarray'>\n",
            "array2 array 형태: (2, 3)\n"
          ]
        }
      ]
    },
    {
      "cell_type": "markdown",
      "source": [
        "## [ndarray의 데이터 타입]\n",
        "*   ndarray 내의 데이터값은 숫자(int, float 등), 문자열, 불 값 등 모두 가능하지만 연산의 특성상 **같은 데이터 타입만 가능**하다.\n",
        "*  **dtype** 을 통해 데이터 타입을 확인할 수 있다.\n",
        "*  **astype()** 메서드를 이용하여 ndarray 내 데이터값의 타입을 변경할 수 있다."
      ],
      "metadata": {
        "id": "2qI8P6G9R8AG"
      }
    },
    {
      "cell_type": "code",
      "source": [
        "#같은 데이터 타입의 ndarray 변환\n",
        "list1 = [1,2,3]\n",
        "array1 = np.array(list1)\n",
        "print(type(list1), type(array1))\n",
        "print(array1, array1.dtype)"
      ],
      "metadata": {
        "colab": {
          "base_uri": "https://localhost:8080/"
        },
        "id": "opOiiWXOZPnP",
        "outputId": "180ec229-ead5-4e8c-c870-43d0d2a513ba"
      },
      "execution_count": 3,
      "outputs": [
        {
          "output_type": "stream",
          "name": "stdout",
          "text": [
            "<class 'list'> <class 'numpy.ndarray'>\n",
            "[1 2 3] int64\n"
          ]
        }
      ]
    },
    {
      "cell_type": "code",
      "source": [
        "#int형과 string형 혼합 데이터 타입의 ndarray 변환 -> 모두 string형\n",
        "list2 = [1,2,'test']\n",
        "array2 = np.array(list2)\n",
        "print(type(list2), type(array2))\n",
        "print(array2, array2.dtype)"
      ],
      "metadata": {
        "colab": {
          "base_uri": "https://localhost:8080/"
        },
        "id": "BYr01UOYZU4a",
        "outputId": "68ad5606-a643-4e13-978c-009f4a294895"
      },
      "execution_count": 4,
      "outputs": [
        {
          "output_type": "stream",
          "name": "stdout",
          "text": [
            "<class 'list'> <class 'numpy.ndarray'>\n",
            "['1' '2' 'test'] <U21\n"
          ]
        }
      ]
    },
    {
      "cell_type": "code",
      "source": [
        "#int형과 float형 혼합 데이터 타입의 ndarray 변환 -> 모두 float형\n",
        "list3 = [1,2,3.0]\n",
        "array3 = np.array(list3)\n",
        "print(type(list3), type(array3))\n",
        "print(array3, array3.dtype)"
      ],
      "metadata": {
        "colab": {
          "base_uri": "https://localhost:8080/"
        },
        "id": "KfIWuvWCZZPY",
        "outputId": "54eda44c-f29c-4d30-b2c7-baf9aff65c3b"
      },
      "execution_count": 5,
      "outputs": [
        {
          "output_type": "stream",
          "name": "stdout",
          "text": [
            "<class 'list'> <class 'numpy.ndarray'>\n",
            "[1. 2. 3.] float64\n"
          ]
        }
      ]
    },
    {
      "cell_type": "markdown",
      "source": [
        "## [ndarray를 편리하게 생성하기]\n",
        "#### **arange()**\n",
        "*  파이썬 표준함수인 range()와 유사한 기능을 한다.\n",
        "*  **0부터 함수의 인자 값-1**까지 순차적으로 증가하는 데이터값을 가지는 1차원 ndarray를 만든다.\n",
        "*  default 함수 인자는 stop 값이며, start 값도 부여하여 0이 아닌 다른 값부터 시작한 연속 값을 부여할 수도 있다.\n",
        "\n",
        "#### **zeros()**\n",
        "* 함수의 인자로 튜플 형태의 shape 값을 입력하면 모든 값이 0이고, 해당 shape을 가진 ndarray를 반환한다.\n",
        "* dtype으로 데이터타입을 지정할 수 있으며, 지정하지 않으면 defalut값은 float64형이다.\n",
        "\n",
        "#### **ones()**\n",
        "* 함수의 인자로 튜플 형태의 shape 값을 입력하면 모든 값이 1이고, 해당 shape을 가진 ndarray를 반환한다.\n",
        "* dtype으로 데이터타입을 지정할 수 있으며, 지정하지 않으면 defalut값은 float64형이다.\n",
        "\n"
      ],
      "metadata": {
        "id": "wzugfUsdX4lB"
      }
    },
    {
      "cell_type": "code",
      "source": [
        "#stop값만 지정한 1차원 ndarray\n",
        "seq_array = np.arange(10)\n",
        "print(seq_array)\n",
        "print(seq_array.dtype, seq_array.shape)"
      ],
      "metadata": {
        "colab": {
          "base_uri": "https://localhost:8080/"
        },
        "id": "dHvsk2GYZdcV",
        "outputId": "41bf070d-ceda-4fd2-b1d2-bab1f59626e0"
      },
      "execution_count": 6,
      "outputs": [
        {
          "output_type": "stream",
          "name": "stdout",
          "text": [
            "[0 1 2 3 4 5 6 7 8 9]\n",
            "int64 (10,)\n"
          ]
        }
      ]
    },
    {
      "cell_type": "code",
      "source": [
        "#데이터타입을 int형으로 지정한 모든 값이 0인 ndarray\n",
        "zero_array = np.zeros((3,2), dtype='int32')\n",
        "print(zero_array)\n",
        "print(zero_array.dtype, zero_array.shape)\n",
        "\n",
        "#데이터타입을 지정하지 않은 모든 값이 1인 ndarray -> float형\n",
        "one_array = np.ones((3,2))\n",
        "print(one_array)\n",
        "print(one_array.dtype, one_array.shape)"
      ],
      "metadata": {
        "colab": {
          "base_uri": "https://localhost:8080/"
        },
        "id": "GaRovKZcZdfU",
        "outputId": "29694b56-26f2-4620-9890-5ab26a09dee2"
      },
      "execution_count": 7,
      "outputs": [
        {
          "output_type": "stream",
          "name": "stdout",
          "text": [
            "[[0 0]\n",
            " [0 0]\n",
            " [0 0]]\n",
            "int32 (3, 2)\n",
            "[[1. 1.]\n",
            " [1. 1.]\n",
            " [1. 1.]]\n",
            "float64 (3, 2)\n"
          ]
        }
      ]
    },
    {
      "cell_type": "markdown",
      "source": [
        "##[ndarray의 차원과 크기를 변경하는 **reshape()**]\n",
        "* **reshape()** 메서드에 변환을 원하는 크기를 함수 인자로 부여하면 ndarray를 특정 차원 및 크기로 변환할 수 있다.\n",
        "* 지정된 사이즈로 변경이 불가능하면 오류가 발생한다.\n",
        "* 인자로 **-1**를 사용하면 지정한 다른 인자와 함께 원래 ndarray에 호환 가능한 새로운 shape으로 변환한다.\n",
        "* **reshape(-1,1)**와 같은 형태로 자주 사용하여 원본 ndarray가 어떤 형태라도 2차원이고 여러 개의 row를 가지지만 반드시 1개의 column을 갖는 ndarray로 변환한다.\n",
        "\n"
      ],
      "metadata": {
        "id": "-BDO0p3maWlT"
      }
    },
    {
      "cell_type": "code",
      "source": [
        "#1차원 (10,)의 ndarray\n",
        "arr1 = np.arange(10)\n",
        "print('arr1:', arr1)\n",
        "\n",
        "#2차원 (2,5)의 ndarray\n",
        "arr2 = arr1.reshape(2,5)\n",
        "print('arr2:\\n', arr2)\n",
        "\n",
        "#2차원 (5,2)의 ndarray\n",
        "arr3 = arr1.reshape(5,2)\n",
        "print('arr3:\\n', arr3)"
      ],
      "metadata": {
        "colab": {
          "base_uri": "https://localhost:8080/"
        },
        "id": "sRTgAOXWZklf",
        "outputId": "9cdc3236-b15b-43f7-d03f-1676cdf3f710"
      },
      "execution_count": 8,
      "outputs": [
        {
          "output_type": "stream",
          "name": "stdout",
          "text": [
            "arr1: [0 1 2 3 4 5 6 7 8 9]\n",
            "arr2:\n",
            " [[0 1 2 3 4]\n",
            " [5 6 7 8 9]]\n",
            "arr3:\n",
            " [[0 1]\n",
            " [2 3]\n",
            " [4 5]\n",
            " [6 7]\n",
            " [8 9]]\n"
          ]
        }
      ]
    },
    {
      "cell_type": "code",
      "source": [
        "#1차원 (10,)의 ndarray\n",
        "arr1 = np.arange(10)\n",
        "print('arr1:', arr1)\n",
        "\n",
        "#2차원 (-1,5)의 ndarray\n",
        "arr2 = arr1.reshape(-1,5)\n",
        "print('arr2:', arr2.shape, '\\n', arr2)\n",
        "\n",
        "#2차원 (5,-1)의 ndarray\n",
        "arr3 = arr1.reshape(5,-1)\n",
        "print('arr3:', arr3.shape, '\\n', arr3)"
      ],
      "metadata": {
        "colab": {
          "base_uri": "https://localhost:8080/"
        },
        "id": "GaSGDk0eZtBn",
        "outputId": "15052e02-c97f-47bc-b066-a97f996032a0"
      },
      "execution_count": 9,
      "outputs": [
        {
          "output_type": "stream",
          "name": "stdout",
          "text": [
            "arr1: [0 1 2 3 4 5 6 7 8 9]\n",
            "arr2: (2, 5) \n",
            " [[0 1 2 3 4]\n",
            " [5 6 7 8 9]]\n",
            "arr3: (5, 2) \n",
            " [[0 1]\n",
            " [2 3]\n",
            " [4 5]\n",
            " [6 7]\n",
            " [8 9]]\n"
          ]
        }
      ]
    },
    {
      "cell_type": "markdown",
      "source": [
        "## [넘파이의 ndarray의 데이터 세트 선택하기 - **인덱싱(Indexing)**]\n",
        "#### 1. **특정한 데이터**만 추출\n",
        "* 1차원 데이터에서 단일 값을 추출하려면 ndarray 객체에 해당하는 위치의 인덱스 값을 [ ] 안에 입력한다.\n",
        "* 단일 인덱스를 이용하여 ndarray 내의 데이터값을 간단하게 수정할 수 있다.\n",
        "* 2차원 데이터에서 단일 값을 추출하려면 콤마(,)로 분리하여 [ , ] 안에 row와 column 위치를 입력한다.\n",
        "* 다차원 ndarray에서 **axis 0은 row 방향 축, axis 1은 column 방향 축, axis 2는 높이 방향 축**이다.\n",
        "\n",
        "#### 2. **슬라이싱(Slicing)**\n",
        "* **' : '** 기호를 이용하여 **시작 인덱스부터 종료 인덱스-1**의 위치까지 연속한 데이터를 슬라이싱해서 추출한다.\n",
        "* 슬라이싱 기호인 ' : ' 사이의 시작과 종료 인덱스는 생략이 가능하며, 생략하면 자동으로 맨 처음/맨 마지막으로 간주한다.\n",
        "* 추출된 데이터 세트는 ndarray 타입이다.\n",
        "\n",
        "#### 3. **팬시 인덱싱(Fancy Indexing)**\n",
        "* 일정한 **인덱싱 집합을 리스트나 ndarray 형태로 지**정하여 해당 위치의 인덱스에 해당하는 데이터의 ndarray를 반환한다.\n",
        "* 추출된 데이터 세트는 ndarray 타입이다.\n",
        "\n",
        "#### 4. **불린 인덱싱(Boolean Indexing)**\n",
        "* **특정 조건에 해당하는지에 대한 여부인 True/False 값** 인덱싱 집합을 기준으로 **True에 해당**하는 인덱스 위치에 있는 데이터의 ndarray를 반환한다.\n",
        "* ndarray의 인덱스를 지정하는 [ ] 내에 조건문을 그대로 기재한다.\n",
        "* 조건 필터링과 검색을 동시에 할 수 있기 때문에 자주 사용되는 방식이다.\n",
        "* 추출된 데이터 세트는 ndarray 타입이다.\n",
        "\n"
      ],
      "metadata": {
        "id": "TZluaZ67aWni"
      }
    },
    {
      "cell_type": "code",
      "source": [
        "#슬라이싱\n",
        "arr1d = np.arange(1,10)\n",
        "arr2d = arr1d.reshape(3,3)\n",
        "print(\"arr2d:\\n\", arr2d)\n",
        "\n",
        "print(\"arr2d[0:2, 0:2]\\n\", arr2d[0:2, 0:2])\n",
        "print(\"arr2d[1:3, :]\\n\", arr2d[1:3, :])\n",
        "print(\"arr2d[:2, 1:]\\n\", arr2d[:2, 1:])"
      ],
      "metadata": {
        "colab": {
          "base_uri": "https://localhost:8080/"
        },
        "id": "F3l5PDFiZm0D",
        "outputId": "9673847f-9287-41da-bb4c-2f67c93dc215"
      },
      "execution_count": 10,
      "outputs": [
        {
          "output_type": "stream",
          "name": "stdout",
          "text": [
            "arr2d:\n",
            " [[1 2 3]\n",
            " [4 5 6]\n",
            " [7 8 9]]\n",
            "arr2d[0:2, 0:2]\n",
            " [[1 2]\n",
            " [4 5]]\n",
            "arr2d[1:3, :]\n",
            " [[4 5 6]\n",
            " [7 8 9]]\n",
            "arr2d[:2, 1:]\n",
            " [[2 3]\n",
            " [5 6]]\n"
          ]
        }
      ]
    },
    {
      "cell_type": "code",
      "source": [
        "#불린 인덱싱\n",
        "arr1d = np.arange(1,10)\n",
        "print(\"arr1d:\", arr1d)\n",
        "print(\"arr1d > 5:\", arr1d > 5)\n",
        "arr2 = arr1d[arr1d > 5]\n",
        "print(\"arr1d > 5 불린 인덱싱 결과 값:\", arr2)"
      ],
      "metadata": {
        "colab": {
          "base_uri": "https://localhost:8080/"
        },
        "id": "tuSbxy7rZnEL",
        "outputId": "999d49b2-9381-497d-9b02-d14951b2005b"
      },
      "execution_count": 11,
      "outputs": [
        {
          "output_type": "stream",
          "name": "stdout",
          "text": [
            "arr1d: [1 2 3 4 5 6 7 8 9]\n",
            "arr1d > 5: [False False False False False  True  True  True  True]\n",
            "arr1d > 5 불린 인덱싱 결과 값: [6 7 8 9]\n"
          ]
        }
      ]
    },
    {
      "cell_type": "markdown",
      "source": [
        "## [행렬의 정렬 - **sort()** 와 **argsort()**]\n",
        "#### **sort()** : 행렬을 정렬한다.\n",
        "* **np.sort()** : 넘파이에서 sort()를 호출하는 방식으로 **원 행렬은 그대로 유지**한 채로 정렬된 행렬을 반환한다. \n",
        "* **ndarray.sort()** : **원 행렬 자체를 정렬한 형태로 변환**하며 반환하는 값은 None이다.\n",
        "* 내림차순으로 정렬하기 위해서는 **[::-1]** 을 적용한다.\n",
        "* 행렬이 2차원 이상일 경우에는 axis 축의 값을 설정하여 **row 방향(axis=0)** 또는 **column 방향(axi=1)**으로 정렬할 수 있다.\n",
        "\n",
        "#### **argsort()** : 원본 행렬이 정렬되었을 때, 정렬된 행렬의 원본 행렬 인덱스를 추출한다.\n",
        "* np.argsort() 는 정렬 행렬의 원본 행렬 인덱스를 ndarray 형으로 반환한다.\n",
        "* 내림차순으로 정렬하기 위해서는 **[::-1]** 을 적용한다.\n",
        "\n",
        "\n"
      ],
      "metadata": {
        "id": "IESiy3ikX4qG"
      }
    },
    {
      "cell_type": "code",
      "source": [
        "#np.sort()를 이용\n",
        "org_array = np.array([3,1,9,5])\n",
        "sort_array1 = np.sort(org_array)[::-1]\n",
        "print(\"원본 행렬:\", org_array)\n",
        "print(\"np.sort() 호출 후 반환된 정렬 행렬:\", sort_array1)"
      ],
      "metadata": {
        "colab": {
          "base_uri": "https://localhost:8080/"
        },
        "id": "1q5tHY7-aKcd",
        "outputId": "7a22ccd1-72b2-47e0-d23d-8802c6f266e7"
      },
      "execution_count": 12,
      "outputs": [
        {
          "output_type": "stream",
          "name": "stdout",
          "text": [
            "원본 행렬: [3 1 9 5]\n",
            "np.sort() 호출 후 반환된 정렬 행렬: [9 5 3 1]\n"
          ]
        }
      ]
    },
    {
      "cell_type": "code",
      "source": [
        "#ndarray.sort()를 이용\n",
        "org_array = np.array([3,1,9,5])\n",
        "sort_array2 = org_array.sort()\n",
        "print(\"org_array.sort() 호출 후 반환된 정렬 행렬:\", sort_array2)\n",
        "print(\"org_array.sort() 호출 후 원본 행렬:\", org_array)"
      ],
      "metadata": {
        "colab": {
          "base_uri": "https://localhost:8080/"
        },
        "id": "QJTD7dcEdObh",
        "outputId": "b0f3cd39-7afc-4a41-d8d4-4461ebd841e1"
      },
      "execution_count": 13,
      "outputs": [
        {
          "output_type": "stream",
          "name": "stdout",
          "text": [
            "org_array.sort() 호출 후 반환된 정렬 행렬: None\n",
            "org_array.sort() 호출 후 원본 행렬: [1 3 5 9]\n"
          ]
        }
      ]
    },
    {
      "cell_type": "code",
      "source": [
        "array2d = np.array([[8,12],\n",
        "                    [7,1]])\n",
        "print(\"array2d:\\n\", array2d)\n",
        "\n",
        "#row 방향으로 정렬\n",
        "sort_array2d_axis0 = np.sort(array2d, axis=0)\n",
        "print(\"row 방향으로 정렬:\\n\", sort_array2d_axis0)\n",
        "\n",
        "#column 방향으로 정렬\n",
        "sort_array2d_axis1 = np.sort(array2d, axis=1)\n",
        "print(\"column 방향으로 정렬:\\n\", sort_array2d_axis1)"
      ],
      "metadata": {
        "colab": {
          "base_uri": "https://localhost:8080/"
        },
        "id": "v4Ay6yu8eXf1",
        "outputId": "fc849b87-ac4e-48a1-817c-244494e0d044"
      },
      "execution_count": 14,
      "outputs": [
        {
          "output_type": "stream",
          "name": "stdout",
          "text": [
            "array2d:\n",
            " [[ 8 12]\n",
            " [ 7  1]]\n",
            "row 방향으로 정렬:\n",
            " [[ 7  1]\n",
            " [ 8 12]]\n",
            "column 방향으로 정렬:\n",
            " [[ 8 12]\n",
            " [ 1  7]]\n"
          ]
        }
      ]
    },
    {
      "cell_type": "code",
      "source": [
        "org_array = np.array([3,1,9,5])\n",
        "sort_array = np.sort(org_array)\n",
        "sort_indices = np.argsort(org_array)\n",
        "print(\"np.sort() 호출 후 정렬된 행렬:\", sort_array)\n",
        "print(\"행렬 정렬 시 원본 행렬의 인덱스:\", sort_indices)\n",
        "print(type(sort_indices))\n",
        "\n",
        "sort_array2 = np.sort(org_array)[::-1]\n",
        "sort_indices2 = np.argsort(org_array)[::-1]\n",
        "print(\"np.sort() 호출 후 내림차순으로 정렬된 행렬:\", sort_array2)\n",
        "print(\"행렬 내림차순 정렬 시 원본 행렬의 인덱스:\", sort_indices2)"
      ],
      "metadata": {
        "colab": {
          "base_uri": "https://localhost:8080/"
        },
        "id": "qjOSZHRBhDcj",
        "outputId": "a6203ca1-4d33-4d69-f089-8df2355a1a7d"
      },
      "execution_count": 15,
      "outputs": [
        {
          "output_type": "stream",
          "name": "stdout",
          "text": [
            "np.sort() 호출 후 정렬된 행렬: [1 3 5 9]\n",
            "행렬 정렬 시 원본 행렬의 인덱스: [1 0 3 2]\n",
            "<class 'numpy.ndarray'>\n",
            "np.sort() 호출 후 내림차순으로 정렬된 행렬: [9 5 3 1]\n",
            "행렬 내림차순 정렬 시 원본 행렬의 인덱스: [2 3 0 1]\n"
          ]
        }
      ]
    },
    {
      "cell_type": "markdown",
      "source": [
        "## [선형대수 연산 - 행렬 내적과 전치 행렬 구하기]\n",
        "#### 행렬 내적(행렬 곱) : **np.dot()**\n",
        "* 두 행렬 A와 B의 내적은 np.dot()을 이용해 계산한다.\n",
        "* 왼쪽 행렬의 열 개수와 오른쪽 행렬의 행 개수가 동일해야만 내적 연산이 가능하다.\n",
        "\n",
        "#### 전치 행렬 : **np.transpose()**\n",
        "* 원 행렬에서 행과 열의 위치를 교환한 원소로 구성한 행렬을 그 행렬의 전치 행렬이라고 한다."
      ],
      "metadata": {
        "id": "1yUiSrM6n1YS"
      }
    },
    {
      "cell_type": "code",
      "source": [
        "A = np.array([[1,2,3],\n",
        "              [4,5,6]])\n",
        "B = np.array([[7,8],\n",
        "              [9,10],\n",
        "              [11,12]])\n",
        "print(\"A.shape:\", A.shape, \"*\", \"B.shape:\", B.shape, \"=> (2, 2)\")\n",
        "dot_product = np.dot(A,B)\n",
        "print(\"행렬 내적 결과:\\n\", dot_product)"
      ],
      "metadata": {
        "colab": {
          "base_uri": "https://localhost:8080/"
        },
        "id": "XMfxpwgqjOuf",
        "outputId": "b32b6551-f6d7-4ad4-d345-fb1954eb0d63"
      },
      "execution_count": 16,
      "outputs": [
        {
          "output_type": "stream",
          "name": "stdout",
          "text": [
            "A.shape: (2, 3) * B.shape: (3, 2) => (2, 2)\n",
            "행렬 내적 결과:\n",
            " [[ 58  64]\n",
            " [139 154]]\n"
          ]
        }
      ]
    },
    {
      "cell_type": "code",
      "source": [
        "A = np.array([[1,2],\n",
        "              [3,4]])\n",
        "A_trans = np.transpose(A)\n",
        "print(\"원본 행렬 A:\\n\", A)\n",
        "print(\"A의 전치 행렬:\\n\", A_trans)"
      ],
      "metadata": {
        "colab": {
          "base_uri": "https://localhost:8080/"
        },
        "id": "mKVNwJVhj613",
        "outputId": "08ea0dec-74d9-4266-8363-f1288e8fcc4e"
      },
      "execution_count": 17,
      "outputs": [
        {
          "output_type": "stream",
          "name": "stdout",
          "text": [
            "원본 행렬 A:\n",
            " [[1 2]\n",
            " [3 4]]\n",
            "A의 전치 행렬:\n",
            " [[1 3]\n",
            " [2 4]]\n"
          ]
        }
      ]
    }
  ]
}