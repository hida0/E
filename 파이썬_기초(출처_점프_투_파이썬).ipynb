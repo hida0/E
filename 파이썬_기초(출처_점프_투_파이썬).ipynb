{
  "cells": [
    {
      "cell_type": "markdown",
      "metadata": {
        "id": "view-in-github",
        "colab_type": "text"
      },
      "source": [
        "<a href=\"https://colab.research.google.com/github/hida0/E/blob/practice/%ED%8C%8C%EC%9D%B4%EC%8D%AC_%EA%B8%B0%EC%B4%88(%EC%B6%9C%EC%B2%98_%EC%A0%90%ED%94%84_%ED%88%AC_%ED%8C%8C%EC%9D%B4%EC%8D%AC).ipynb\" target=\"_parent\"><img src=\"https://colab.research.google.com/assets/colab-badge.svg\" alt=\"Open In Colab\"/></a>"
      ]
    },
    {
      "cell_type": "markdown",
      "metadata": {
        "id": "fd1zwnm-j7B1"
      },
      "source": [
        "# **자료형**"
      ]
    },
    {
      "cell_type": "markdown",
      "metadata": {
        "id": "jUpWjtvlj9JV"
      },
      "source": [
        "##Q1. 다음 수의 평균을 구하세요.\n",
        "\n",
        "80, 75, 55, 95"
      ]
    },
    {
      "cell_type": "code",
      "execution_count": 4,
      "metadata": {
        "id": "YcP79wQgj3bh",
        "colab": {
          "base_uri": "https://localhost:8080/"
        },
        "outputId": "f98200c8-7b85-4e29-cec8-fc2669999703"
      },
      "outputs": [
        {
          "output_type": "execute_result",
          "data": {
            "text/plain": [
              "76.25"
            ]
          },
          "metadata": {},
          "execution_count": 4
        }
      ],
      "source": [
        "# 답을 작성해주세요\n",
        "(80+75+55+95)/4"
      ]
    },
    {
      "cell_type": "markdown",
      "metadata": {
        "id": "pHK3T87Zkcte"
      },
      "source": [
        "##Q2. 주민등록번호를 연월일(YYYYMMDD) 부분과 그 뒤의 숫자 부분으로 나누어 출력하세요.\n",
        "홍길동 씨의 주민등록번호는 881120-1068234이다."
      ]
    },
    {
      "cell_type": "code",
      "execution_count": 6,
      "metadata": {
        "id": "yZEM63Xok9xi",
        "colab": {
          "base_uri": "https://localhost:8080/"
        },
        "outputId": "e3a36370-40fa-4ad5-9e7b-3fc6d0274e19"
      },
      "outputs": [
        {
          "output_type": "stream",
          "name": "stdout",
          "text": [
            "881120\n",
            "1068234\n"
          ]
        }
      ],
      "source": [
        "# 답을 작성해주세요\n",
        "id_Hong = \"881120-1068234\"\n",
        "id_birth = id_Hong[:6]\n",
        "print(id_birth)\n",
        "id_pin = id_Hong[7:]\n",
        "print(id_pin)"
      ]
    },
    {
      "cell_type": "markdown",
      "metadata": {
        "id": "WojXUmuslVIS"
      },
      "source": [
        "##Q4. 주민등록번호에서 성별을 나타내는 숫자를 출력하세요.\n",
        "주민등록번호 뒷자리의 첫 번째 숫자는 성별을 나타낸다. "
      ]
    },
    {
      "cell_type": "code",
      "execution_count": 7,
      "metadata": {
        "id": "ZAhDqYOglqZ-",
        "colab": {
          "base_uri": "https://localhost:8080/",
          "height": 36
        },
        "outputId": "d7ceb9d5-3b8b-41e0-f128-15c43149b1fd"
      },
      "outputs": [
        {
          "output_type": "execute_result",
          "data": {
            "application/vnd.google.colaboratory.intrinsic+json": {
              "type": "string"
            },
            "text/plain": [
              "'2'"
            ]
          },
          "metadata": {},
          "execution_count": 7
        }
      ],
      "source": [
        "# 답을 작성해주세요\n",
        "id_pin = \"881120-2153468\"\n",
        "id_pin[7]"
      ]
    },
    {
      "cell_type": "markdown",
      "metadata": {
        "id": "lbWsPuOEl-y5"
      },
      "source": [
        "##Q5. [1, 3, 5, 4, 2] 리스트를 [5, 4, 3, 2, 1]로 정렬하세요"
      ]
    },
    {
      "cell_type": "code",
      "execution_count": 15,
      "metadata": {
        "id": "dI2gioTKmnVC",
        "colab": {
          "base_uri": "https://localhost:8080/"
        },
        "outputId": "eb4d63ec-5528-4791-9bf3-a658c82022e3"
      },
      "outputs": [
        {
          "output_type": "execute_result",
          "data": {
            "text/plain": [
              "[5, 4, 3, 2, 1]"
            ]
          },
          "metadata": {},
          "execution_count": 15
        }
      ],
      "source": [
        "# 답을 작성해주세요\n",
        "rand_list = [1, 3, 5, 4, 2]\n",
        "rand_list.sort(reverse=True)\n",
        "rand_list"
      ]
    },
    {
      "cell_type": "markdown",
      "metadata": {
        "id": "us3I2cpem2bz"
      },
      "source": [
        "##Q7. 다음 리스트를 Life is too short 문자열로 만들어 출력하세요"
      ]
    },
    {
      "cell_type": "code",
      "execution_count": 19,
      "metadata": {
        "id": "G38tHstZnF5s",
        "colab": {
          "base_uri": "https://localhost:8080/"
        },
        "outputId": "ab06889c-a65b-4939-ca2d-a5bec0b83430"
      },
      "outputs": [
        {
          "output_type": "stream",
          "name": "stdout",
          "text": [
            "Life is too short\n"
          ]
        }
      ],
      "source": [
        "# 답을 작성해주세요\n",
        "string_list = ['Life', 'is', 'too', 'short'] \n",
        "result = \" \".join(string_list)\n",
        "print(result)"
      ]
    },
    {
      "cell_type": "markdown",
      "metadata": {
        "id": "e4Bbr6rmdnph"
      },
      "source": [
        "# **제어문**"
      ]
    },
    {
      "cell_type": "markdown",
      "metadata": {
        "id": "sfAPtg9kd1kA"
      },
      "source": [
        "## Q1. 다음 코드의 결과는?\n",
        "\n",
        "a = \"Life is too short, you need python\""
      ]
    },
    {
      "cell_type": "markdown",
      "metadata": {
        "id": "7C41kezXeCMk"
      },
      "source": [
        "if \"wife\" in a: print(\"wife\")\n",
        "\n",
        "elif \"python\" in a and \"you\" not in a: print(\"python\")\n",
        "\n",
        "elif \"shirt\" not in a: print(\"shirt\")\n",
        "\n",
        "elif \"need\" in a: print(\"need\")\n",
        "\n",
        "else: print(\"none\")"
      ]
    },
    {
      "cell_type": "code",
      "execution_count": 20,
      "metadata": {
        "id": "coCD7rBhdgA4",
        "colab": {
          "base_uri": "https://localhost:8080/"
        },
        "outputId": "e4493d41-3957-4fde-ba24-e170be91db78"
      },
      "outputs": [
        {
          "output_type": "stream",
          "name": "stdout",
          "text": [
            "shirt\n"
          ]
        }
      ],
      "source": [
        "# 답을 작성해주세요\n",
        "a = \"Life is too short, you need python\"\n",
        "if \"wife\" in a:\n",
        "    print(\"wife\")\n",
        "elif \"python\" in a and \"you\" not in a:\n",
        "    print(\"python\")\n",
        "elif \"shirt\" not in a:\n",
        "    print(\"shirt\")\n",
        "elif \"need\" in a:\n",
        "    print(\"need\")\n",
        "else:\n",
        "    print(\"none\")"
      ]
    },
    {
      "cell_type": "markdown",
      "metadata": {
        "id": "E_lrf3dxeTM9"
      },
      "source": [
        "##Q2. while문을 사용해 1부터 1000까지의 자연수 중 3의 배수의 합을 구하세요"
      ]
    },
    {
      "cell_type": "code",
      "execution_count": null,
      "metadata": {
        "id": "FnUBJZTCedgs"
      },
      "outputs": [],
      "source": [
        "# 답을 작성해주세요"
      ]
    },
    {
      "cell_type": "markdown",
      "metadata": {
        "id": "h4XcuXk7ei0B"
      },
      "source": [
        "## Q3. while문을 사용하여 다음과 같이 별(*)을 표시하는 프로그램을 작성하세요"
      ]
    },
    {
      "cell_type": "code",
      "execution_count": null,
      "metadata": {
        "id": "3Zu5X5vnfM1k"
      },
      "outputs": [],
      "source": [
        "# 답을 작성해주세요"
      ]
    },
    {
      "cell_type": "markdown",
      "metadata": {
        "id": "uNTYJ3iQfO6c"
      },
      "source": [
        "## Q4. for문을 사용해 1부터 100까지의 숫자를 출력하세요"
      ]
    },
    {
      "cell_type": "code",
      "execution_count": null,
      "metadata": {
        "id": "haJmxZDAfWJ4"
      },
      "outputs": [],
      "source": [
        "# 답을 작성해주세요"
      ]
    },
    {
      "cell_type": "markdown",
      "metadata": {
        "id": "_qOXRe6CfYQP"
      },
      "source": [
        "##Q5. for문을 사용하여 평균을 구하세요.\n",
        "\n",
        "A 학급에 총 10명의 학생이 있다. 이 학생들의 중간고사 점수는 다음과 같다.\n",
        "\n",
        "[70, 60, 55, 75, 95, 90, 80, 80, 85, 100]"
      ]
    },
    {
      "cell_type": "code",
      "execution_count": null,
      "metadata": {
        "id": "aSsOy9dNfXpJ"
      },
      "outputs": [],
      "source": [
        "# 답을 작성해주세요"
      ]
    },
    {
      "cell_type": "markdown",
      "metadata": {
        "id": "65dpTuUffy73"
      },
      "source": [
        "##Q6. number list에서 홀수에만 2를 곱해 결과를 result에 저장한 후 출력하세요"
      ]
    },
    {
      "cell_type": "code",
      "execution_count": null,
      "metadata": {
        "id": "vxEAtDQ2fyem"
      },
      "outputs": [],
      "source": [
        "numbers = [1, 2, 3, 4, 5]\n",
        "result = []"
      ]
    },
    {
      "cell_type": "markdown",
      "metadata": {
        "id": "2cqJNh90gaLm"
      },
      "source": [
        "# **함수와 입출력**"
      ]
    },
    {
      "cell_type": "markdown",
      "metadata": {
        "id": "SqFHUlJjgn6v"
      },
      "source": [
        "##Q1. 주어진 자연수가 홀수인지 짝수인지 판별하는 함수를 작성하세요"
      ]
    },
    {
      "cell_type": "code",
      "execution_count": null,
      "metadata": {
        "id": "rWJTjYVWgZ5Z"
      },
      "outputs": [],
      "source": [
        "# 답을 작성해주세요\n",
        "def is_odd(a):\n"
      ]
    },
    {
      "cell_type": "markdown",
      "metadata": {
        "id": "8e3ezwkygx6a"
      },
      "source": [
        "##Q2. 입력으로 들어오는 모든 수의 평균을 계산해주는 함수를 작성하고 실행하세요\n",
        "(입력으로 들어오는 수의 개수는 랜덤입니다.)"
      ]
    },
    {
      "cell_type": "code",
      "execution_count": null,
      "metadata": {
        "id": "tEQJxYVBhDSz"
      },
      "outputs": [],
      "source": [
        "# 답을 작성해주세요\n",
        "def average_rand(n):\n"
      ]
    },
    {
      "cell_type": "markdown",
      "metadata": {
        "id": "3xumzArZhC65"
      },
      "source": [
        "##Q3. 다음 프로그램의 오류를 수정하고 실행하세요"
      ]
    },
    {
      "cell_type": "code",
      "execution_count": null,
      "metadata": {
        "colab": {
          "base_uri": "https://localhost:8080/"
        },
        "id": "RTPfNyQJhWfb",
        "outputId": "136252cc-74f9-4331-87fb-aa2ee8563271"
      },
      "outputs": [
        {
          "name": "stdout",
          "output_type": "stream",
          "text": [
            "첫번째 숫자를 입력하세요:3\n",
            "두번째 숫자를 입력하세요:6\n",
            "두 수의 합은 36 입니다\n"
          ]
        }
      ],
      "source": [
        "input1 = input(\"첫번째 숫자를 입력하세요:\")\n",
        "input2 = input(\"두번째 숫자를 입력하세요:\")\n",
        "\n",
        "total = input1 + input2\n",
        "print(\"두 수의 합은 %s 입니다\" % total)"
      ]
    },
    {
      "cell_type": "code",
      "execution_count": null,
      "metadata": {
        "id": "SiaUWWLGhgd9"
      },
      "outputs": [],
      "source": [
        "# 수정한 코드를 작성하고 실행하세요"
      ]
    },
    {
      "cell_type": "markdown",
      "metadata": {
        "id": "5jMWaYmLhf7S"
      },
      "source": [
        "##Q4. 다음 중 출력 결과가 다른 것 하나를 고르세요\n",
        "\n",
        "1. print(\"you\" \"need\" \"python\")\n",
        "2. print(\"you\"+\"need\"+\"python\")\n",
        "3. print(\"you\", \"need\", \"python\")\n",
        "4. print(\"\".join([\"you\", \"need\", \"python\"]))"
      ]
    },
    {
      "cell_type": "code",
      "execution_count": null,
      "metadata": {
        "id": "iYs2JHAnh92c"
      },
      "outputs": [],
      "source": [
        "# 답을 작성해주세요"
      ]
    }
  ],
  "metadata": {
    "colab": {
      "collapsed_sections": [],
      "name": "파이썬_기초(출처_점프_투_파이썬).ipynb",
      "provenance": [],
      "include_colab_link": true
    },
    "kernelspec": {
      "display_name": "Python 3",
      "language": "python",
      "name": "python3"
    },
    "language_info": {
      "codemirror_mode": {
        "name": "ipython",
        "version": 3
      },
      "file_extension": ".py",
      "mimetype": "text/x-python",
      "name": "python",
      "nbconvert_exporter": "python",
      "pygments_lexer": "ipython3",
      "version": "3.8.3"
    }
  },
  "nbformat": 4,
  "nbformat_minor": 0
}